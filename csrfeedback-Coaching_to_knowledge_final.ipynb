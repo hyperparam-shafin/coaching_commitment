{
 "cells": [
  {
   "cell_type": "code",
   "execution_count": 1,
   "metadata": {},
   "outputs": [],
   "source": [
    "import os\n",
    "import random\n",
    "os.chdir(r\"/home/xavient/koodo_survey\")\n",
    "import string\n",
    "import re\n",
    "import pandas as pd\n",
    "import numpy as np\n",
    "pd.set_option('display.max_colwidth',100)\n",
    "import matplotlib.pyplot as plt\n",
    "import spacy\n",
    "import nltk\n",
    "from nltk.tokenize import sent_tokenize, word_tokenize\n",
    "from nltk.stem import PorterStemmer\n",
    "ps = PorterStemmer()\n",
    "from textblob import Word\n",
    "stopwords = nltk.corpus.stopwords.words('english')\n",
    "seed = 42"
   ]
  },
  {
   "cell_type": "code",
   "execution_count": 2,
   "metadata": {},
   "outputs": [],
   "source": [
    "rawdata = pd.read_excel('customer_verbatim_OMNI___clean_.xlsx')"
   ]
  },
  {
   "cell_type": "code",
   "execution_count": 3,
   "metadata": {},
   "outputs": [],
   "source": [
    "data = rawdata.copy()"
   ]
  },
  {
   "cell_type": "code",
   "execution_count": 4,
   "metadata": {},
   "outputs": [
    {
     "data": {
      "text/plain": [
       "168294"
      ]
     },
     "execution_count": 4,
     "metadata": {},
     "output_type": "execute_result"
    }
   ],
   "source": [
    "len(data)"
   ]
  },
  {
   "cell_type": "code",
   "execution_count": 5,
   "metadata": {},
   "outputs": [
    {
     "data": {
      "text/html": [
       "<div>\n",
       "<style scoped>\n",
       "    .dataframe tbody tr th:only-of-type {\n",
       "        vertical-align: middle;\n",
       "    }\n",
       "\n",
       "    .dataframe tbody tr th {\n",
       "        vertical-align: top;\n",
       "    }\n",
       "\n",
       "    .dataframe thead th {\n",
       "        text-align: right;\n",
       "    }\n",
       "</style>\n",
       "<table border=\"1\" class=\"dataframe\">\n",
       "  <thead>\n",
       "    <tr style=\"text-align: right;\">\n",
       "      <th></th>\n",
       "      <th>Respondent Id</th>\n",
       "      <th>MCX_ID</th>\n",
       "      <th>Line of Business</th>\n",
       "      <th>Agent Department Code (MU)</th>\n",
       "      <th>Support level 4 (VP)</th>\n",
       "      <th>Support level 4 TID (VP)</th>\n",
       "      <th>Support level 3 (Director)</th>\n",
       "      <th>Support level 3 TID (Director)</th>\n",
       "      <th>Support level 2 (Ops Mgr)</th>\n",
       "      <th>Support level 2 TID (Ops Mgr)</th>\n",
       "      <th>...</th>\n",
       "      <th>Source label</th>\n",
       "      <th>Source date</th>\n",
       "      <th>Source ID</th>\n",
       "      <th>B7_1. Agent (CSR) Performance Regarding the last call centre representative who assisted you, how would you rate their performan</th>\n",
       "      <th>Please share any comments you have regarding AGENT_FIRST_NAME, the SURVEY_BRAND customer service/Channel Care representative who assisted you.</th>\n",
       "      <th>Communicated clearly</th>\n",
       "      <th>Were willing to help</th>\n",
       "      <th>Treated me as a valued customer</th>\n",
       "      <th>Respected my time</th>\n",
       "      <th>Had the knowledge to respond to my inquiries</th>\n",
       "    </tr>\n",
       "  </thead>\n",
       "  <tbody>\n",
       "    <tr>\n",
       "      <th>0</th>\n",
       "      <td>3524374</td>\n",
       "      <td>37364015008</td>\n",
       "      <td>Mobility</td>\n",
       "      <td>KDO_CR1_CELL300_TIE</td>\n",
       "      <td>LR</td>\n",
       "      <td>810410.0</td>\n",
       "      <td>DL</td>\n",
       "      <td>875189.0</td>\n",
       "      <td>MB</td>\n",
       "      <td>135951.0</td>\n",
       "      <td>...</td>\n",
       "      <td>INTERACTION_ID</td>\n",
       "      <td>20171229.0</td>\n",
       "      <td>706901562</td>\n",
       "      <td>Good</td>\n",
       "      <td>NaN</td>\n",
       "      <td>NaN</td>\n",
       "      <td>NaN</td>\n",
       "      <td>NaN</td>\n",
       "      <td>NaN</td>\n",
       "      <td>NaN</td>\n",
       "    </tr>\n",
       "    <tr>\n",
       "      <th>1</th>\n",
       "      <td>3524372</td>\n",
       "      <td>37364014950</td>\n",
       "      <td>Mobility</td>\n",
       "      <td>KDO_CR1_CELL300_TIE</td>\n",
       "      <td>LR</td>\n",
       "      <td>810410.0</td>\n",
       "      <td>DL</td>\n",
       "      <td>875189.0</td>\n",
       "      <td>JC</td>\n",
       "      <td>167206.0</td>\n",
       "      <td>...</td>\n",
       "      <td>INTERACTION_ID</td>\n",
       "      <td>20171229.0</td>\n",
       "      <td>706711123</td>\n",
       "      <td>Excellent</td>\n",
       "      <td>He was very helpful and polite.</td>\n",
       "      <td>NaN</td>\n",
       "      <td>NaN</td>\n",
       "      <td>NaN</td>\n",
       "      <td>NaN</td>\n",
       "      <td>NaN</td>\n",
       "    </tr>\n",
       "    <tr>\n",
       "      <th>2</th>\n",
       "      <td>3524371</td>\n",
       "      <td>37364014873</td>\n",
       "      <td>Mobility</td>\n",
       "      <td>KDO_TS_CELL300_TIE</td>\n",
       "      <td>LR</td>\n",
       "      <td>810410.0</td>\n",
       "      <td>DL</td>\n",
       "      <td>875189.0</td>\n",
       "      <td>MB</td>\n",
       "      <td>135951.0</td>\n",
       "      <td>...</td>\n",
       "      <td>INTERACTION_ID</td>\n",
       "      <td>20171229.0</td>\n",
       "      <td>706719963</td>\n",
       "      <td>Excellent</td>\n",
       "      <td>Helpful</td>\n",
       "      <td>NaN</td>\n",
       "      <td>NaN</td>\n",
       "      <td>NaN</td>\n",
       "      <td>NaN</td>\n",
       "      <td>NaN</td>\n",
       "    </tr>\n",
       "    <tr>\n",
       "      <th>3</th>\n",
       "      <td>3524367</td>\n",
       "      <td>37364014106</td>\n",
       "      <td>Mobility</td>\n",
       "      <td>KDO_CR1_CELL300_TIE</td>\n",
       "      <td>NaN</td>\n",
       "      <td>NaN</td>\n",
       "      <td>NaN</td>\n",
       "      <td>NaN</td>\n",
       "      <td>GP</td>\n",
       "      <td>146069.0</td>\n",
       "      <td>...</td>\n",
       "      <td>INTERACTION_ID</td>\n",
       "      <td>20171229.0</td>\n",
       "      <td>706835893</td>\n",
       "      <td>Very good</td>\n",
       "      <td>NaN</td>\n",
       "      <td>NaN</td>\n",
       "      <td>NaN</td>\n",
       "      <td>NaN</td>\n",
       "      <td>NaN</td>\n",
       "      <td>NaN</td>\n",
       "    </tr>\n",
       "    <tr>\n",
       "      <th>4</th>\n",
       "      <td>3524363</td>\n",
       "      <td>37364013496</td>\n",
       "      <td>Mobility</td>\n",
       "      <td>KDO_CR2_CELL300_TIE</td>\n",
       "      <td>LR</td>\n",
       "      <td>810410.0</td>\n",
       "      <td>DL</td>\n",
       "      <td>875189.0</td>\n",
       "      <td>JC</td>\n",
       "      <td>167206.0</td>\n",
       "      <td>...</td>\n",
       "      <td>INTERACTION_ID</td>\n",
       "      <td>20171229.0</td>\n",
       "      <td>706908437</td>\n",
       "      <td>Good</td>\n",
       "      <td>None.  I spent almost 2hrs on the phone to resolve an issue and all I received was a credit of $...</td>\n",
       "      <td>NaN</td>\n",
       "      <td>NaN</td>\n",
       "      <td>NaN</td>\n",
       "      <td>NaN</td>\n",
       "      <td>NaN</td>\n",
       "    </tr>\n",
       "  </tbody>\n",
       "</table>\n",
       "<p>5 rows × 29 columns</p>\n",
       "</div>"
      ],
      "text/plain": [
       "   Respondent Id       MCX_ID Line of Business Agent Department Code (MU)  \\\n",
       "0        3524374  37364015008         Mobility        KDO_CR1_CELL300_TIE   \n",
       "1        3524372  37364014950         Mobility        KDO_CR1_CELL300_TIE   \n",
       "2        3524371  37364014873         Mobility         KDO_TS_CELL300_TIE   \n",
       "3        3524367  37364014106         Mobility        KDO_CR1_CELL300_TIE   \n",
       "4        3524363  37364013496         Mobility        KDO_CR2_CELL300_TIE   \n",
       "\n",
       "  Support level 4 (VP)  Support level 4 TID (VP) Support level 3 (Director)  \\\n",
       "0                   LR                  810410.0                         DL   \n",
       "1                   LR                  810410.0                         DL   \n",
       "2                   LR                  810410.0                         DL   \n",
       "3                  NaN                       NaN                        NaN   \n",
       "4                   LR                  810410.0                         DL   \n",
       "\n",
       "   Support level 3 TID (Director) Support level 2 (Ops Mgr)  \\\n",
       "0                        875189.0                        MB   \n",
       "1                        875189.0                        JC   \n",
       "2                        875189.0                        MB   \n",
       "3                             NaN                        GP   \n",
       "4                        875189.0                        JC   \n",
       "\n",
       "   Support level 2 TID (Ops Mgr)                     ...                       \\\n",
       "0                       135951.0                     ...                        \n",
       "1                       167206.0                     ...                        \n",
       "2                       135951.0                     ...                        \n",
       "3                       146069.0                     ...                        \n",
       "4                       167206.0                     ...                        \n",
       "\n",
       "     Source label  Source date  Source ID  \\\n",
       "0  INTERACTION_ID   20171229.0  706901562   \n",
       "1  INTERACTION_ID   20171229.0  706711123   \n",
       "2  INTERACTION_ID   20171229.0  706719963   \n",
       "3  INTERACTION_ID   20171229.0  706835893   \n",
       "4  INTERACTION_ID   20171229.0  706908437   \n",
       "\n",
       "   B7_1. Agent (CSR) Performance Regarding the last call centre representative who assisted you, how would you rate their performan  \\\n",
       "0                                                                                                 Good                                \n",
       "1                                                                                            Excellent                                \n",
       "2                                                                                            Excellent                                \n",
       "3                                                                                            Very good                                \n",
       "4                                                                                                 Good                                \n",
       "\n",
       "  Please share any comments you have regarding AGENT_FIRST_NAME, the SURVEY_BRAND customer service/Channel Care representative who assisted you.  \\\n",
       "0                                                                                                  NaN                                             \n",
       "1                                                                      He was very helpful and polite.                                             \n",
       "2                                                                                              Helpful                                             \n",
       "3                                                                                                  NaN                                             \n",
       "4  None.  I spent almost 2hrs on the phone to resolve an issue and all I received was a credit of $...                                             \n",
       "\n",
       "  Communicated clearly Were willing to help Treated me as a valued customer  \\\n",
       "0                  NaN                  NaN                             NaN   \n",
       "1                  NaN                  NaN                             NaN   \n",
       "2                  NaN                  NaN                             NaN   \n",
       "3                  NaN                  NaN                             NaN   \n",
       "4                  NaN                  NaN                             NaN   \n",
       "\n",
       "  Respected my time Had the knowledge to respond to my inquiries  \n",
       "0               NaN                                          NaN  \n",
       "1               NaN                                          NaN  \n",
       "2               NaN                                          NaN  \n",
       "3               NaN                                          NaN  \n",
       "4               NaN                                          NaN  \n",
       "\n",
       "[5 rows x 29 columns]"
      ]
     },
     "execution_count": 5,
     "metadata": {},
     "output_type": "execute_result"
    }
   ],
   "source": [
    "data.head()"
   ]
  },
  {
   "cell_type": "code",
   "execution_count": 6,
   "metadata": {},
   "outputs": [
    {
     "data": {
      "text/plain": [
       "(168294, 29)"
      ]
     },
     "execution_count": 6,
     "metadata": {},
     "output_type": "execute_result"
    }
   ],
   "source": [
    "data.shape"
   ]
  },
  {
   "cell_type": "code",
   "execution_count": 7,
   "metadata": {},
   "outputs": [],
   "source": [
    "data.columns=['Respondent_Id', 'MCX_ID', 'Line_of_Business',\n",
    "       'Agent_Department_Code_MU', 'Support_level_4_VP',\n",
    "       'Support_level_4_TID_VP', 'Support_level_3_Director',\n",
    "       'Support_level_3_TID_Director', 'Support_level_2_Ops_Mgr',\n",
    "       'Support_level_2_TID_Ops_Mgr', 'Support_level_1_Team_Mgr',\n",
    "       'Support_level_1_TID_Team_Mgr', 'Agent_Full_Name', 'Agent_ID',\n",
    "       'Survey_Medium', 'Survey_Integrity_Hidden', 'COMPLETED_DATE',\n",
    "       'Completed_Date', 'Source_database', 'Source_label', 'Source_date',\n",
    "       'Source_ID','B7_1_Agent_CSR','Feedback',\n",
    "       'Communicated_clearly', 'Were_willing_to_help',\n",
    "       'Treated_me_as_a_valued_customer', 'Respected_my_time',\n",
    "       'Had_the_knowledge_to_respond_to_my_inquiries']"
   ]
  },
  {
   "cell_type": "code",
   "execution_count": 8,
   "metadata": {},
   "outputs": [],
   "source": [
    "object_columns = data.columns"
   ]
  },
  {
   "cell_type": "code",
   "execution_count": 9,
   "metadata": {},
   "outputs": [
    {
     "name": "stdout",
     "output_type": "stream",
     "text": [
      "<class 'pandas.core.frame.DataFrame'>\n",
      "RangeIndex: 168294 entries, 0 to 168293\n",
      "Data columns (total 29 columns):\n",
      "Respondent_Id                                   168294 non-null int64\n",
      "MCX_ID                                          168294 non-null int64\n",
      "Line_of_Business                                168290 non-null object\n",
      "Agent_Department_Code_MU                        168294 non-null object\n",
      "Support_level_4_VP                              165450 non-null object\n",
      "Support_level_4_TID_VP                          165450 non-null float64\n",
      "Support_level_3_Director                        165450 non-null object\n",
      "Support_level_3_TID_Director                    165501 non-null float64\n",
      "Support_level_2_Ops_Mgr                         167459 non-null object\n",
      "Support_level_2_TID_Ops_Mgr                     168270 non-null float64\n",
      "Support_level_1_Team_Mgr                        168141 non-null object\n",
      "Support_level_1_TID_Team_Mgr                    168294 non-null int64\n",
      "Agent_Full_Name                                 168294 non-null object\n",
      "Agent_ID                                        168294 non-null int64\n",
      "Survey_Medium                                   168294 non-null object\n",
      "Survey_Integrity_Hidden                         168294 non-null object\n",
      "COMPLETED_DATE                                  36 non-null datetime64[ns]\n",
      "Completed_Date                                  168294 non-null datetime64[ns]\n",
      "Source_database                                 168290 non-null object\n",
      "Source_label                                    168290 non-null object\n",
      "Source_date                                     111131 non-null float64\n",
      "Source_ID                                       168294 non-null int64\n",
      "B7_1_Agent_CSR                                  166832 non-null object\n",
      "Feedback                                        134554 non-null object\n",
      "Communicated_clearly                            33431 non-null object\n",
      "Were_willing_to_help                            33293 non-null object\n",
      "Treated_me_as_a_valued_customer                 33422 non-null object\n",
      "Respected_my_time                               33265 non-null object\n",
      "Had_the_knowledge_to_respond_to_my_inquiries    33140 non-null object\n",
      "dtypes: datetime64[ns](2), float64(4), int64(5), object(18)\n",
      "memory usage: 37.2+ MB\n"
     ]
    }
   ],
   "source": [
    "data.info()"
   ]
  },
  {
   "cell_type": "code",
   "execution_count": 10,
   "metadata": {},
   "outputs": [],
   "source": [
    "# type casting to object\n",
    "for column in object_columns:\n",
    "    if data[column].dtypes==\"int64\":\n",
    "        data[column] = data[column].astype('str')\n",
    "    elif data[column].dtypes==\"float64\":\n",
    "        data[column] = data[column].astype('str')"
   ]
  },
  {
   "cell_type": "code",
   "execution_count": 11,
   "metadata": {},
   "outputs": [
    {
     "name": "stdout",
     "output_type": "stream",
     "text": [
      "168294\n",
      "168294\n",
      "168294\n"
     ]
    }
   ],
   "source": [
    "# select unique identifier\n",
    "print(data.shape[0])\n",
    "print(len(data['Respondent_Id'].unique()))\n",
    "print(len(data['MCX_ID'].unique()))"
   ]
  },
  {
   "cell_type": "code",
   "execution_count": 12,
   "metadata": {},
   "outputs": [],
   "source": [
    "# set index for customer identification code\n",
    "data = data.drop(['MCX_ID'],axis=1)\n",
    "object_columns = data.columns"
   ]
  },
  {
   "cell_type": "code",
   "execution_count": 13,
   "metadata": {},
   "outputs": [
    {
     "data": {
      "text/plain": [
       "Index(['Respondent_Id', 'Line_of_Business', 'Agent_Department_Code_MU',\n",
       "       'Support_level_4_VP', 'Support_level_4_TID_VP',\n",
       "       'Support_level_3_Director', 'Support_level_3_TID_Director',\n",
       "       'Support_level_2_Ops_Mgr', 'Support_level_2_TID_Ops_Mgr',\n",
       "       'Support_level_1_Team_Mgr', 'Support_level_1_TID_Team_Mgr',\n",
       "       'Agent_Full_Name', 'Agent_ID', 'Survey_Medium',\n",
       "       'Survey_Integrity_Hidden', 'COMPLETED_DATE', 'Completed_Date',\n",
       "       'Source_database', 'Source_label', 'Source_date', 'Source_ID',\n",
       "       'B7_1_Agent_CSR', 'Feedback', 'Communicated_clearly',\n",
       "       'Were_willing_to_help', 'Treated_me_as_a_valued_customer',\n",
       "       'Respected_my_time', 'Had_the_knowledge_to_respond_to_my_inquiries'],\n",
       "      dtype='object')"
      ]
     },
     "execution_count": 13,
     "metadata": {},
     "output_type": "execute_result"
    }
   ],
   "source": [
    "object_columns"
   ]
  },
  {
   "cell_type": "code",
   "execution_count": 14,
   "metadata": {},
   "outputs": [],
   "source": [
    "data = data.drop(['Line_of_Business','Agent_Full_Name','Agent_ID','COMPLETED_DATE','Completed_Date','Source_date','Source_ID',\n",
    "                        'Source_label','Source_database','Survey_Integrity_Hidden','Support_level_4_TID_VP',\n",
    "                        'Support_level_3_TID_Director','Support_level_2_TID_Ops_Mgr','Support_level_1_TID_Team_Mgr'],axis=1)"
   ]
  },
  {
   "cell_type": "code",
   "execution_count": 15,
   "metadata": {},
   "outputs": [],
   "source": [
    "data = data[data['Feedback'].str.len() > 1] ## this also includes spaces"
   ]
  },
  {
   "cell_type": "code",
   "execution_count": 16,
   "metadata": {},
   "outputs": [],
   "source": [
    "data = data[data['B7_1_Agent_CSR']!='Excellent'] ## this also includes spaces\n",
    "#data = data[data['Communicated_clearly']!='Excellent'] ## this also includes spaces\n",
    "#data = data[data['Were_willing_to_help']!='Excellent'] ## this also includes spaces\n",
    "#data = data[data['Treated_me_as_a_valued_customer']!='Excellent'] ## this also includes spaces\n",
    "#data = data[data['Respected_my_time']!='Excellent'] ## this also includes spaces\n",
    "data = data[data['Had_the_knowledge_to_respond_to_my_inquiries']!='Excellent'] ## this also includes spaces"
   ]
  },
  {
   "cell_type": "code",
   "execution_count": 17,
   "metadata": {},
   "outputs": [
    {
     "data": {
      "text/plain": [
       "(42368, 14)"
      ]
     },
     "execution_count": 17,
     "metadata": {},
     "output_type": "execute_result"
    }
   ],
   "source": [
    "data.shape"
   ]
  },
  {
   "cell_type": "code",
   "execution_count": 18,
   "metadata": {},
   "outputs": [
    {
     "name": "stdout",
     "output_type": "stream",
     "text": [
      "Respondent_Id\n",
      "['3524363' '3524290' '3524253' ... '1708641' '1708640' '1708635']\n",
      "Agent_Department_Code_MU\n",
      "['KDO_CR2_CELL300_TIE' 'KDO_CR1_CELL300_TIE' 'KDO_TS_CELL300_TIE'\n",
      " 'MOB_KDPRE_CARE_ENG_TIE' 'MOB_PMTECHENG_TIE' 'MOB_PMCARENG_TIE'\n",
      " 'MOB_KDPRE_CARE_FRE_TIE' 'MOB_PMCARFRE_TIE' 'MOB_KDATMENG_TIE'\n",
      " 'MOB_KDCART_TIE' 'MOB_KDCARENG_TIE' 'MOB_KDCARFRE_TIE']\n",
      "Support_level_4_VP\n",
      "['LR' nan 'KS']\n",
      "Support_level_3_Director\n",
      "['DL' nan 'KI']\n",
      "Support_level_2_Ops_Mgr\n",
      "['JC' 'MB' 'JB' 'JL' 'GP' 'BC' 'NM' 'AM' 'JA' 'AA' 'CM' 'SN' 'GB' nan 'IM'\n",
      " 'AG' 'JCA']\n",
      "Support_level_1_Team_Mgr\n",
      "['JFCM' 'RA' 'ER' 'JAVT' 'MMG' 'GIPR' 'JSLM' 'EL' 'GERA' 'RHSS' 'CRAC'\n",
      " 'TL' 'ERLE' 'JAA' 'GGRR' 'CGMG' 'DEMT' 'KMHP' 'MAHR' 'LAGH' 'AEZC' 'FC'\n",
      " 'LMCC' 'LAA' 'AEFV' 'NEMR' 'AN' 'MJSS' 'LBRP' 'ROAH' 'MLME' 'MAJS' nan\n",
      " 'JJMD' 'JM' 'JL' 'MJ' 'FdCCV' 'AJNM' 'GR' 'NM' 'CV' 'MI' 'MV' 'AB' 'AD'\n",
      " 'MAN' 'LD' 'GI' 'AS' 'ABG' 'EC' 'IMS' 'IC' 'DLC' 'AG' 'NMMO' 'GB' 'AEMT'\n",
      " 'DA']\n",
      "Survey_Medium\n",
      "['SMS' 'Email_short' 'Email_long']\n",
      "B7_1_Agent_CSR\n",
      "['Good' 'Very good' 'Poor' 'Fair' nan]\n",
      "Feedback\n",
      "[\"None.  I spent almost 2hrs on the phone to resolve an issue and all I received was a credit of $85 off my daughter's tab.  I've been trying to do the best I can but I feel that Koodo is letting me down  I understand that call volumes can be extensive at times but spending over 1hr in que is a little much  The first person I spoke with wasn't listening to what I was saying...i asked to speak to accounting dept about the payment I made...he put me back into the calling que and there I sat for another 30min...not good. I'm ready just to cancel service and move on to a different provider\"\n",
      " 'The rep was pleasant and helpful' 'Thanking her for the 100 mb.' ...\n",
      " 'My phone is locked with Koodo and I dont know how to unlock this. I tried with apple and they said that Telus has put a special lock on this'\n",
      " 'He was very helpful with all my questions' 'Was to. Call at six did not']\n",
      "Communicated_clearly\n",
      "[nan 'Fair' 'Very good' 'Good' 'Poor' 'Excellent']\n",
      "Were_willing_to_help\n",
      "[nan 'Good' 'Very good' 'Fair' 'Poor' 'Excellent']\n",
      "Treated_me_as_a_valued_customer\n",
      "[nan 'Very good' 'Fair' 'Good' 'Poor' 'Excellent']\n",
      "Respected_my_time\n",
      "[nan 'Very good' 'Good' 'Fair' 'Poor' 'Excellent']\n",
      "Had_the_knowledge_to_respond_to_my_inquiries\n",
      "[nan 'Poor' 'Very good' 'Good' 'Fair']\n"
     ]
    }
   ],
   "source": [
    "# view levels per columns in the non-continious variable\n",
    "object_columns = data.columns\n",
    "for column in object_columns:\n",
    "    print(column)\n",
    "    print(data[column].unique())"
   ]
  },
  {
   "cell_type": "code",
   "execution_count": 19,
   "metadata": {},
   "outputs": [
    {
     "name": "stdout",
     "output_type": "stream",
     "text": [
      "<class 'pandas.core.frame.DataFrame'>\n",
      "Int64Index: 42368 entries, 4 to 168284\n",
      "Data columns (total 14 columns):\n",
      "Respondent_Id                                   42368 non-null object\n",
      "Agent_Department_Code_MU                        42368 non-null object\n",
      "Support_level_4_VP                              41629 non-null object\n",
      "Support_level_3_Director                        41629 non-null object\n",
      "Support_level_2_Ops_Mgr                         42150 non-null object\n",
      "Support_level_1_Team_Mgr                        42316 non-null object\n",
      "Survey_Medium                                   42368 non-null object\n",
      "B7_1_Agent_CSR                                  42366 non-null object\n",
      "Feedback                                        42368 non-null object\n",
      "Communicated_clearly                            11023 non-null object\n",
      "Were_willing_to_help                            10894 non-null object\n",
      "Treated_me_as_a_valued_customer                 10981 non-null object\n",
      "Respected_my_time                               10963 non-null object\n",
      "Had_the_knowledge_to_respond_to_my_inquiries    10456 non-null object\n",
      "dtypes: object(14)\n",
      "memory usage: 4.8+ MB\n"
     ]
    }
   ],
   "source": [
    "data.info()"
   ]
  },
  {
   "cell_type": "code",
   "execution_count": 20,
   "metadata": {},
   "outputs": [
    {
     "name": "stdout",
     "output_type": "stream",
     "text": [
      "<class 'pandas.core.frame.DataFrame'>\n",
      "Int64Index: 42368 entries, 4 to 168284\n",
      "Data columns (total 14 columns):\n",
      "Respondent_Id                                   42368 non-null object\n",
      "Agent_Department_Code_MU                        42368 non-null object\n",
      "Support_level_4_VP                              41629 non-null object\n",
      "Support_level_3_Director                        41629 non-null object\n",
      "Support_level_2_Ops_Mgr                         42150 non-null object\n",
      "Support_level_1_Team_Mgr                        42316 non-null object\n",
      "Survey_Medium                                   42368 non-null object\n",
      "B7_1_Agent_CSR                                  42366 non-null object\n",
      "Feedback                                        42368 non-null object\n",
      "Communicated_clearly                            11023 non-null object\n",
      "Were_willing_to_help                            10894 non-null object\n",
      "Treated_me_as_a_valued_customer                 10981 non-null object\n",
      "Respected_my_time                               10963 non-null object\n",
      "Had_the_knowledge_to_respond_to_my_inquiries    10456 non-null object\n",
      "dtypes: object(14)\n",
      "memory usage: 4.8+ MB\n"
     ]
    }
   ],
   "source": [
    "checkdata = data[data['Feedback'].notnull()]\n",
    "checkdata.info()"
   ]
  },
  {
   "cell_type": "code",
   "execution_count": 21,
   "metadata": {},
   "outputs": [
    {
     "data": {
      "text/html": [
       "<div>\n",
       "<style scoped>\n",
       "    .dataframe tbody tr th:only-of-type {\n",
       "        vertical-align: middle;\n",
       "    }\n",
       "\n",
       "    .dataframe tbody tr th {\n",
       "        vertical-align: top;\n",
       "    }\n",
       "\n",
       "    .dataframe thead th {\n",
       "        text-align: right;\n",
       "    }\n",
       "</style>\n",
       "<table border=\"1\" class=\"dataframe\">\n",
       "  <thead>\n",
       "    <tr style=\"text-align: right;\">\n",
       "      <th></th>\n",
       "      <th>Respondent_Id</th>\n",
       "      <th>Agent_Department_Code_MU</th>\n",
       "      <th>Support_level_4_VP</th>\n",
       "      <th>Support_level_3_Director</th>\n",
       "      <th>Support_level_2_Ops_Mgr</th>\n",
       "      <th>Support_level_1_Team_Mgr</th>\n",
       "      <th>Survey_Medium</th>\n",
       "      <th>B7_1_Agent_CSR</th>\n",
       "      <th>Feedback</th>\n",
       "      <th>Communicated_clearly</th>\n",
       "      <th>Were_willing_to_help</th>\n",
       "      <th>Treated_me_as_a_valued_customer</th>\n",
       "      <th>Respected_my_time</th>\n",
       "      <th>Had_the_knowledge_to_respond_to_my_inquiries</th>\n",
       "    </tr>\n",
       "  </thead>\n",
       "  <tbody>\n",
       "    <tr>\n",
       "      <th>4</th>\n",
       "      <td>3524363</td>\n",
       "      <td>KDO_CR2_CELL300_TIE</td>\n",
       "      <td>LR</td>\n",
       "      <td>DL</td>\n",
       "      <td>JC</td>\n",
       "      <td>JFCM</td>\n",
       "      <td>SMS</td>\n",
       "      <td>Good</td>\n",
       "      <td>None.  I spent almost 2hrs on the phone to resolve an issue and all I received was a credit of $...</td>\n",
       "      <td>NaN</td>\n",
       "      <td>NaN</td>\n",
       "      <td>NaN</td>\n",
       "      <td>NaN</td>\n",
       "      <td>NaN</td>\n",
       "    </tr>\n",
       "    <tr>\n",
       "      <th>12</th>\n",
       "      <td>3524290</td>\n",
       "      <td>KDO_CR1_CELL300_TIE</td>\n",
       "      <td>LR</td>\n",
       "      <td>DL</td>\n",
       "      <td>MB</td>\n",
       "      <td>RA</td>\n",
       "      <td>SMS</td>\n",
       "      <td>Very good</td>\n",
       "      <td>The rep was pleasant and helpful</td>\n",
       "      <td>NaN</td>\n",
       "      <td>NaN</td>\n",
       "      <td>NaN</td>\n",
       "      <td>NaN</td>\n",
       "      <td>NaN</td>\n",
       "    </tr>\n",
       "    <tr>\n",
       "      <th>17</th>\n",
       "      <td>3524253</td>\n",
       "      <td>KDO_CR1_CELL300_TIE</td>\n",
       "      <td>LR</td>\n",
       "      <td>DL</td>\n",
       "      <td>MB</td>\n",
       "      <td>ER</td>\n",
       "      <td>SMS</td>\n",
       "      <td>Very good</td>\n",
       "      <td>Thanking her for the 100 mb.</td>\n",
       "      <td>NaN</td>\n",
       "      <td>NaN</td>\n",
       "      <td>NaN</td>\n",
       "      <td>NaN</td>\n",
       "      <td>NaN</td>\n",
       "    </tr>\n",
       "    <tr>\n",
       "      <th>23</th>\n",
       "      <td>3524187</td>\n",
       "      <td>KDO_CR1_CELL300_TIE</td>\n",
       "      <td>LR</td>\n",
       "      <td>DL</td>\n",
       "      <td>JB</td>\n",
       "      <td>JAVT</td>\n",
       "      <td>SMS</td>\n",
       "      <td>Poor</td>\n",
       "      <td>Might not been all his fault.  The system he has to work with is out of date.  Took too long on ...</td>\n",
       "      <td>NaN</td>\n",
       "      <td>NaN</td>\n",
       "      <td>NaN</td>\n",
       "      <td>NaN</td>\n",
       "      <td>NaN</td>\n",
       "    </tr>\n",
       "    <tr>\n",
       "      <th>31</th>\n",
       "      <td>3524107</td>\n",
       "      <td>KDO_CR1_CELL300_TIE</td>\n",
       "      <td>NaN</td>\n",
       "      <td>NaN</td>\n",
       "      <td>JL</td>\n",
       "      <td>MMG</td>\n",
       "      <td>SMS</td>\n",
       "      <td>Very good</td>\n",
       "      <td>sure was good.. but the wait</td>\n",
       "      <td>NaN</td>\n",
       "      <td>NaN</td>\n",
       "      <td>NaN</td>\n",
       "      <td>NaN</td>\n",
       "      <td>NaN</td>\n",
       "    </tr>\n",
       "  </tbody>\n",
       "</table>\n",
       "</div>"
      ],
      "text/plain": [
       "   Respondent_Id Agent_Department_Code_MU Support_level_4_VP  \\\n",
       "4        3524363      KDO_CR2_CELL300_TIE                 LR   \n",
       "12       3524290      KDO_CR1_CELL300_TIE                 LR   \n",
       "17       3524253      KDO_CR1_CELL300_TIE                 LR   \n",
       "23       3524187      KDO_CR1_CELL300_TIE                 LR   \n",
       "31       3524107      KDO_CR1_CELL300_TIE                NaN   \n",
       "\n",
       "   Support_level_3_Director Support_level_2_Ops_Mgr Support_level_1_Team_Mgr  \\\n",
       "4                        DL                      JC                     JFCM   \n",
       "12                       DL                      MB                       RA   \n",
       "17                       DL                      MB                       ER   \n",
       "23                       DL                      JB                     JAVT   \n",
       "31                      NaN                      JL                      MMG   \n",
       "\n",
       "   Survey_Medium B7_1_Agent_CSR  \\\n",
       "4            SMS           Good   \n",
       "12           SMS      Very good   \n",
       "17           SMS      Very good   \n",
       "23           SMS           Poor   \n",
       "31           SMS      Very good   \n",
       "\n",
       "                                                                                               Feedback  \\\n",
       "4   None.  I spent almost 2hrs on the phone to resolve an issue and all I received was a credit of $...   \n",
       "12                                                                     The rep was pleasant and helpful   \n",
       "17                                                                         Thanking her for the 100 mb.   \n",
       "23  Might not been all his fault.  The system he has to work with is out of date.  Took too long on ...   \n",
       "31                                                                         sure was good.. but the wait   \n",
       "\n",
       "   Communicated_clearly Were_willing_to_help Treated_me_as_a_valued_customer  \\\n",
       "4                   NaN                  NaN                             NaN   \n",
       "12                  NaN                  NaN                             NaN   \n",
       "17                  NaN                  NaN                             NaN   \n",
       "23                  NaN                  NaN                             NaN   \n",
       "31                  NaN                  NaN                             NaN   \n",
       "\n",
       "   Respected_my_time Had_the_knowledge_to_respond_to_my_inquiries  \n",
       "4                NaN                                          NaN  \n",
       "12               NaN                                          NaN  \n",
       "17               NaN                                          NaN  \n",
       "23               NaN                                          NaN  \n",
       "31               NaN                                          NaN  "
      ]
     },
     "execution_count": 21,
     "metadata": {},
     "output_type": "execute_result"
    }
   ],
   "source": [
    "checkdata.head()"
   ]
  },
  {
   "cell_type": "code",
   "execution_count": 22,
   "metadata": {},
   "outputs": [],
   "source": [
    "# Training\n",
    "#checkdata = checkdata[checkdata['Communicated_clearly'].notnull()]\n",
    "#checkdata = checkdata[checkdata['Treated_me_as_a_valued_customer'].notnull()]\n",
    "#checkdata = checkdata[checkdata['Were_willing_to_help'].notnull()]\n",
    "#checkdata = checkdata[checkdata['Respected_my_time'].notnull()]\n",
    "checkdata = checkdata[checkdata['Had_the_knowledge_to_respond_to_my_inquiries'].notnull()]\n",
    "checkdata = checkdata.drop(['Communicated_clearly','Treated_me_as_a_valued_customer','Were_willing_to_help',\n",
    "                            'Respected_my_time'],axis=1)"
   ]
  },
  {
   "cell_type": "code",
   "execution_count": 23,
   "metadata": {},
   "outputs": [
    {
     "data": {
      "text/plain": [
       "Very good    4699\n",
       "Good         2684\n",
       "Poor         1662\n",
       "Fair         1411\n",
       "Name: Had_the_knowledge_to_respond_to_my_inquiries, dtype: int64"
      ]
     },
     "execution_count": 23,
     "metadata": {},
     "output_type": "execute_result"
    }
   ],
   "source": [
    "# Training\n",
    "#checkdata['Communicated_clearly'].value_counts()\n",
    "#checkdata['Respected_my_time'].value_counts()\n",
    "#checkdata['Treated_me_as_a_valued_customer'].value_counts()\n",
    "#checkdata['Were_willing_to_help'].value_counts()\n",
    "checkdata['Had_the_knowledge_to_respond_to_my_inquiries'].value_counts()"
   ]
  },
  {
   "cell_type": "code",
   "execution_count": 24,
   "metadata": {},
   "outputs": [],
   "source": [
    "# Training\n",
    "\n",
    "#checkdata_verygood = checkdata[checkdata['Had_the_knowledge_to_respond_to_my_inquiries']=='Very good'].sample(1411)\n",
    "#checkdata_good = checkdata[checkdata['Had_the_knowledge_to_respond_to_my_inquiries']=='Good'].sample(1411)\n",
    "#checkdata_fair = checkdata[checkdata['Had_the_knowledge_to_respond_to_my_inquiries']=='Fair'].sample(1411)\n",
    "#checkdata_poor = checkdata[checkdata['Had_the_knowledge_to_respond_to_my_inquiries']=='Poor'].sample(1411)\n"
   ]
  },
  {
   "cell_type": "code",
   "execution_count": 25,
   "metadata": {},
   "outputs": [],
   "source": [
    "# Training\n",
    "#checkdata = pd.concat([checkdata_verygood,checkdata_good,checkdata_fair,checkdata_poor],axis=0)\n",
    "#checkdata.shape"
   ]
  },
  {
   "cell_type": "code",
   "execution_count": 26,
   "metadata": {},
   "outputs": [
    {
     "data": {
      "text/plain": [
       "Very good    5070\n",
       "Good         2526\n",
       "Poor         1537\n",
       "Fair         1321\n",
       "Name: B7_1_Agent_CSR, dtype: int64"
      ]
     },
     "execution_count": 26,
     "metadata": {},
     "output_type": "execute_result"
    }
   ],
   "source": [
    "checkdata['B7_1_Agent_CSR'].value_counts()"
   ]
  },
  {
   "cell_type": "code",
   "execution_count": 27,
   "metadata": {},
   "outputs": [
    {
     "data": {
      "text/plain": [
       "Very good    4699\n",
       "Good         2684\n",
       "Poor         1662\n",
       "Fair         1411\n",
       "Name: Had_the_knowledge_to_respond_to_my_inquiries, dtype: int64"
      ]
     },
     "execution_count": 27,
     "metadata": {},
     "output_type": "execute_result"
    }
   ],
   "source": [
    "checkdata['Had_the_knowledge_to_respond_to_my_inquiries'].value_counts()"
   ]
  },
  {
   "cell_type": "code",
   "execution_count": 28,
   "metadata": {},
   "outputs": [
    {
     "data": {
      "image/png": "[encoded data removed]",
      "text/plain": [
       "<matplotlib.figure.Figure at 0x7febeede9b70>"
      ]
     },
     "metadata": {},
     "output_type": "display_data"
    }
   ],
   "source": [
    "# Training\n",
    "checkdata['Had_the_knowledge_to_respond_to_my_inquiries'].value_counts().plot('pie')\n",
    "plt.show()"
   ]
  },
  {
   "cell_type": "code",
   "execution_count": 29,
   "metadata": {},
   "outputs": [],
   "source": [
    "#pd.crosstab(checkdata['B7_1_Agent_CSR'],checkdata['Communicated_clearly'])"
   ]
  },
  {
   "cell_type": "code",
   "execution_count": 30,
   "metadata": {},
   "outputs": [],
   "source": [
    "#pd.crosstab(checkdata['B7_1_Agent_CSR'],checkdata['Were_willing_to_help'])"
   ]
  },
  {
   "cell_type": "code",
   "execution_count": 31,
   "metadata": {},
   "outputs": [],
   "source": [
    "#pd.crosstab(checkdata['B7_1_Agent_CSR'],checkdata['Treated_me_as_a_valued_customer'])"
   ]
  },
  {
   "cell_type": "code",
   "execution_count": 32,
   "metadata": {},
   "outputs": [],
   "source": [
    "#pd.crosstab(checkdata['B7_1_Agent_CSR'],checkdata['Respected_my_time'])"
   ]
  },
  {
   "cell_type": "code",
   "execution_count": 33,
   "metadata": {},
   "outputs": [
    {
     "data": {
      "text/html": [
       "<div>\n",
       "<style scoped>\n",
       "    .dataframe tbody tr th:only-of-type {\n",
       "        vertical-align: middle;\n",
       "    }\n",
       "\n",
       "    .dataframe tbody tr th {\n",
       "        vertical-align: top;\n",
       "    }\n",
       "\n",
       "    .dataframe thead th {\n",
       "        text-align: right;\n",
       "    }\n",
       "</style>\n",
       "<table border=\"1\" class=\"dataframe\">\n",
       "  <thead>\n",
       "    <tr style=\"text-align: right;\">\n",
       "      <th>Had_the_knowledge_to_respond_to_my_inquiries</th>\n",
       "      <th>Fair</th>\n",
       "      <th>Good</th>\n",
       "      <th>Poor</th>\n",
       "      <th>Very good</th>\n",
       "    </tr>\n",
       "    <tr>\n",
       "      <th>B7_1_Agent_CSR</th>\n",
       "      <th></th>\n",
       "      <th></th>\n",
       "      <th></th>\n",
       "      <th></th>\n",
       "    </tr>\n",
       "  </thead>\n",
       "  <tbody>\n",
       "    <tr>\n",
       "      <th>Fair</th>\n",
       "      <td>567</td>\n",
       "      <td>320</td>\n",
       "      <td>331</td>\n",
       "      <td>103</td>\n",
       "    </tr>\n",
       "    <tr>\n",
       "      <th>Good</th>\n",
       "      <td>457</td>\n",
       "      <td>1298</td>\n",
       "      <td>140</td>\n",
       "      <td>631</td>\n",
       "    </tr>\n",
       "    <tr>\n",
       "      <th>Poor</th>\n",
       "      <td>230</td>\n",
       "      <td>116</td>\n",
       "      <td>1143</td>\n",
       "      <td>48</td>\n",
       "    </tr>\n",
       "    <tr>\n",
       "      <th>Very good</th>\n",
       "      <td>156</td>\n",
       "      <td>949</td>\n",
       "      <td>48</td>\n",
       "      <td>3917</td>\n",
       "    </tr>\n",
       "  </tbody>\n",
       "</table>\n",
       "</div>"
      ],
      "text/plain": [
       "Had_the_knowledge_to_respond_to_my_inquiries  Fair  Good  Poor  Very good\n",
       "B7_1_Agent_CSR                                                           \n",
       "Fair                                           567   320   331        103\n",
       "Good                                           457  1298   140        631\n",
       "Poor                                           230   116  1143         48\n",
       "Very good                                      156   949    48       3917"
      ]
     },
     "execution_count": 33,
     "metadata": {},
     "output_type": "execute_result"
    }
   ],
   "source": [
    "pd.crosstab(checkdata['B7_1_Agent_CSR'],checkdata['Had_the_knowledge_to_respond_to_my_inquiries'])\n"
   ]
  },
  {
   "cell_type": "code",
   "execution_count": 34,
   "metadata": {},
   "outputs": [],
   "source": [
    "checkdata['is_mins'] = checkdata['Feedback'].apply(lambda x: \" \".join(x.lower() for x in x.split())).str.contains('mins')\n",
    "checkdata['is_minute'] = checkdata['Feedback'].apply(lambda x: \" \".join(x.lower() for x in x.split())).str.contains('minute')\n",
    "checkdata['is_minutes'] = checkdata['Feedback'].apply(lambda x: \" \".join(x.lower() for x in x.split())).str.contains('minutes')\n",
    "checkdata['is_hour'] = checkdata['Feedback'].apply(lambda x: \" \".join(x.lower() for x in x.split())).str.contains('hour')\n",
    "checkdata['is_hours'] = checkdata['Feedback'].apply(lambda x: \" \".join(x.lower() for x in x.split())).str.contains('hours')\n",
    "checkdata['is_hrs'] = checkdata['Feedback'].apply(lambda x: \" \".join(x.lower() for x in x.split())).str.contains('hrs')\n",
    "checkdata['is_hr'] = checkdata['Feedback'].apply(lambda x: \" \".join(x.lower() for x in x.split())).str.contains('hr')"
   ]
  },
  {
   "cell_type": "code",
   "execution_count": 35,
   "metadata": {},
   "outputs": [],
   "source": [
    "checkdata['Feedback'] = checkdata['Feedback'].astype('str')"
   ]
  },
  {
   "cell_type": "code",
   "execution_count": 36,
   "metadata": {},
   "outputs": [],
   "source": [
    "checkdata['char_count'] = np.log2(checkdata['Feedback'].str.len())#**2\n"
   ]
  },
  {
   "cell_type": "code",
   "execution_count": 37,
   "metadata": {},
   "outputs": [],
   "source": [
    "checkdata['word_count'] = np.log2(checkdata['Feedback'].apply(lambda x: len((x).split(\" \"))))#**2"
   ]
  },
  {
   "cell_type": "code",
   "execution_count": 38,
   "metadata": {},
   "outputs": [],
   "source": [
    "checkdata['numerics'] = np.log2(checkdata['Feedback'].apply(lambda x: len([x for x in x.split() if x.isdigit()]))+1)#**2"
   ]
  },
  {
   "cell_type": "code",
   "execution_count": 39,
   "metadata": {},
   "outputs": [],
   "source": [
    "checkdata['upper'] = np.log2(checkdata['Feedback'].apply(lambda x: len([x for x in x.split() if x.isupper()]))+1)#**2"
   ]
  },
  {
   "cell_type": "code",
   "execution_count": 40,
   "metadata": {},
   "outputs": [],
   "source": [
    "def avg_word(text):\n",
    "  words = (text).split()\n",
    "  return (sum(len(word) for word in words)/len(words))\n",
    "\n",
    "checkdata['avg_word'] = np.log2(checkdata['Feedback'].apply(lambda x: avg_word(x)))"
   ]
  },
  {
   "cell_type": "code",
   "execution_count": 41,
   "metadata": {},
   "outputs": [],
   "source": [
    "from nltk.corpus import stopwords\n",
    "stop = stopwords.words('english')\n",
    "\n",
    "checkdata['stopwords'] = np.log2(checkdata['Feedback'].apply(lambda x: len([x for x in x.split() if x in stop]))+1)#**2"
   ]
  },
  {
   "cell_type": "code",
   "execution_count": 42,
   "metadata": {},
   "outputs": [],
   "source": [
    "import string\n",
    "def count_punct(text):\n",
    "    count = sum(1 for char in text if char in string.punctuation)\n",
    "    return round(count/(len(text)-text.count(\" \")),3)*100\n",
    "\n",
    "checkdata['punc%'] = np.log2(checkdata['Feedback'].apply(lambda x: count_punct(x))+1)#**2"
   ]
  },
  {
   "cell_type": "code",
   "execution_count": 43,
   "metadata": {},
   "outputs": [
    {
     "data": {
      "text/html": [
       "<div>\n",
       "<style scoped>\n",
       "    .dataframe tbody tr th:only-of-type {\n",
       "        vertical-align: middle;\n",
       "    }\n",
       "\n",
       "    .dataframe tbody tr th {\n",
       "        vertical-align: top;\n",
       "    }\n",
       "\n",
       "    .dataframe thead th {\n",
       "        text-align: right;\n",
       "    }\n",
       "</style>\n",
       "<table border=\"1\" class=\"dataframe\">\n",
       "  <thead>\n",
       "    <tr style=\"text-align: right;\">\n",
       "      <th></th>\n",
       "      <th>Respondent_Id</th>\n",
       "      <th>Agent_Department_Code_MU</th>\n",
       "      <th>Support_level_4_VP</th>\n",
       "      <th>Support_level_3_Director</th>\n",
       "      <th>Support_level_2_Ops_Mgr</th>\n",
       "      <th>Support_level_1_Team_Mgr</th>\n",
       "      <th>Survey_Medium</th>\n",
       "      <th>B7_1_Agent_CSR</th>\n",
       "      <th>Feedback</th>\n",
       "      <th>Had_the_knowledge_to_respond_to_my_inquiries</th>\n",
       "      <th>...</th>\n",
       "      <th>is_hours</th>\n",
       "      <th>is_hrs</th>\n",
       "      <th>is_hr</th>\n",
       "      <th>char_count</th>\n",
       "      <th>word_count</th>\n",
       "      <th>numerics</th>\n",
       "      <th>upper</th>\n",
       "      <th>avg_word</th>\n",
       "      <th>stopwords</th>\n",
       "      <th>punc%</th>\n",
       "    </tr>\n",
       "  </thead>\n",
       "  <tbody>\n",
       "    <tr>\n",
       "      <th>79</th>\n",
       "      <td>3523509</td>\n",
       "      <td>KDO_CR1_CELL300_TIE</td>\n",
       "      <td>NaN</td>\n",
       "      <td>NaN</td>\n",
       "      <td>JL</td>\n",
       "      <td>MMG</td>\n",
       "      <td>Email_short</td>\n",
       "      <td>Fair</td>\n",
       "      <td>She was polite and she tried.  I just think the fine print in the plan I was calling about is/wa...</td>\n",
       "      <td>Poor</td>\n",
       "      <td>...</td>\n",
       "      <td>False</td>\n",
       "      <td>False</td>\n",
       "      <td>False</td>\n",
       "      <td>7.936638</td>\n",
       "      <td>5.584963</td>\n",
       "      <td>0.0</td>\n",
       "      <td>2.0</td>\n",
       "      <td>2.074768</td>\n",
       "      <td>4.459432</td>\n",
       "      <td>2.321928</td>\n",
       "    </tr>\n",
       "    <tr>\n",
       "      <th>89</th>\n",
       "      <td>3523102</td>\n",
       "      <td>KDO_CR2_CELL300_TIE</td>\n",
       "      <td>LR</td>\n",
       "      <td>DL</td>\n",
       "      <td>JC</td>\n",
       "      <td>EL</td>\n",
       "      <td>Email_short</td>\n",
       "      <td>Very good</td>\n",
       "      <td>Good rep</td>\n",
       "      <td>Very good</td>\n",
       "      <td>...</td>\n",
       "      <td>False</td>\n",
       "      <td>False</td>\n",
       "      <td>False</td>\n",
       "      <td>3.000000</td>\n",
       "      <td>1.000000</td>\n",
       "      <td>0.0</td>\n",
       "      <td>0.0</td>\n",
       "      <td>1.807355</td>\n",
       "      <td>0.000000</td>\n",
       "      <td>0.000000</td>\n",
       "    </tr>\n",
       "    <tr>\n",
       "      <th>90</th>\n",
       "      <td>3523089</td>\n",
       "      <td>KDO_CR1_CELL300_TIE</td>\n",
       "      <td>LR</td>\n",
       "      <td>DL</td>\n",
       "      <td>JC</td>\n",
       "      <td>RHSS</td>\n",
       "      <td>Email_short</td>\n",
       "      <td>Very good</td>\n",
       "      <td>Friendly, helpful: a good experience</td>\n",
       "      <td>Very good</td>\n",
       "      <td>...</td>\n",
       "      <td>False</td>\n",
       "      <td>False</td>\n",
       "      <td>False</td>\n",
       "      <td>5.169925</td>\n",
       "      <td>2.321928</td>\n",
       "      <td>0.0</td>\n",
       "      <td>0.0</td>\n",
       "      <td>2.678072</td>\n",
       "      <td>1.000000</td>\n",
       "      <td>2.847997</td>\n",
       "    </tr>\n",
       "    <tr>\n",
       "      <th>91</th>\n",
       "      <td>3523082</td>\n",
       "      <td>KDO_CR1_CELL300_TIE</td>\n",
       "      <td>LR</td>\n",
       "      <td>DL</td>\n",
       "      <td>JC</td>\n",
       "      <td>CRAC</td>\n",
       "      <td>Email_short</td>\n",
       "      <td>Very good</td>\n",
       "      <td>All good.</td>\n",
       "      <td>Very good</td>\n",
       "      <td>...</td>\n",
       "      <td>False</td>\n",
       "      <td>False</td>\n",
       "      <td>False</td>\n",
       "      <td>3.169925</td>\n",
       "      <td>1.000000</td>\n",
       "      <td>0.0</td>\n",
       "      <td>0.0</td>\n",
       "      <td>2.000000</td>\n",
       "      <td>0.000000</td>\n",
       "      <td>3.754888</td>\n",
       "    </tr>\n",
       "    <tr>\n",
       "      <th>92</th>\n",
       "      <td>3523075</td>\n",
       "      <td>KDO_CR1_CELL300_TIE</td>\n",
       "      <td>NaN</td>\n",
       "      <td>NaN</td>\n",
       "      <td>GP</td>\n",
       "      <td>TL</td>\n",
       "      <td>Email_short</td>\n",
       "      <td>Very good</td>\n",
       "      <td>I appreciate Carlos' help on the customer loyalty request, however, the Tab credits were not app...</td>\n",
       "      <td>Good</td>\n",
       "      <td>...</td>\n",
       "      <td>False</td>\n",
       "      <td>False</td>\n",
       "      <td>False</td>\n",
       "      <td>7.467606</td>\n",
       "      <td>4.954196</td>\n",
       "      <td>0.0</td>\n",
       "      <td>1.0</td>\n",
       "      <td>2.245476</td>\n",
       "      <td>3.700440</td>\n",
       "      <td>2.350497</td>\n",
       "    </tr>\n",
       "  </tbody>\n",
       "</table>\n",
       "<p>5 rows × 24 columns</p>\n",
       "</div>"
      ],
      "text/plain": [
       "   Respondent_Id Agent_Department_Code_MU Support_level_4_VP  \\\n",
       "79       3523509      KDO_CR1_CELL300_TIE                NaN   \n",
       "89       3523102      KDO_CR2_CELL300_TIE                 LR   \n",
       "90       3523089      KDO_CR1_CELL300_TIE                 LR   \n",
       "91       3523082      KDO_CR1_CELL300_TIE                 LR   \n",
       "92       3523075      KDO_CR1_CELL300_TIE                NaN   \n",
       "\n",
       "   Support_level_3_Director Support_level_2_Ops_Mgr Support_level_1_Team_Mgr  \\\n",
       "79                      NaN                      JL                      MMG   \n",
       "89                       DL                      JC                       EL   \n",
       "90                       DL                      JC                     RHSS   \n",
       "91                       DL                      JC                     CRAC   \n",
       "92                      NaN                      GP                       TL   \n",
       "\n",
       "   Survey_Medium B7_1_Agent_CSR  \\\n",
       "79   Email_short           Fair   \n",
       "89   Email_short      Very good   \n",
       "90   Email_short      Very good   \n",
       "91   Email_short      Very good   \n",
       "92   Email_short      Very good   \n",
       "\n",
       "                                                                                               Feedback  \\\n",
       "79  She was polite and she tried.  I just think the fine print in the plan I was calling about is/wa...   \n",
       "89                                                                                             Good rep   \n",
       "90                                                                 Friendly, helpful: a good experience   \n",
       "91                                                                                            All good.   \n",
       "92  I appreciate Carlos' help on the customer loyalty request, however, the Tab credits were not app...   \n",
       "\n",
       "   Had_the_knowledge_to_respond_to_my_inquiries    ...     is_hours  is_hrs  \\\n",
       "79                                         Poor    ...        False   False   \n",
       "89                                    Very good    ...        False   False   \n",
       "90                                    Very good    ...        False   False   \n",
       "91                                    Very good    ...        False   False   \n",
       "92                                         Good    ...        False   False   \n",
       "\n",
       "    is_hr  char_count  word_count  numerics  upper  avg_word  stopwords  \\\n",
       "79  False    7.936638    5.584963       0.0    2.0  2.074768   4.459432   \n",
       "89  False    3.000000    1.000000       0.0    0.0  1.807355   0.000000   \n",
       "90  False    5.169925    2.321928       0.0    0.0  2.678072   1.000000   \n",
       "91  False    3.169925    1.000000       0.0    0.0  2.000000   0.000000   \n",
       "92  False    7.467606    4.954196       0.0    1.0  2.245476   3.700440   \n",
       "\n",
       "       punc%  \n",
       "79  2.321928  \n",
       "89  0.000000  \n",
       "90  2.847997  \n",
       "91  3.754888  \n",
       "92  2.350497  \n",
       "\n",
       "[5 rows x 24 columns]"
      ]
     },
     "execution_count": 43,
     "metadata": {},
     "output_type": "execute_result"
    }
   ],
   "source": [
    "checkdata.head()"
   ]
  },
  {
   "cell_type": "code",
   "execution_count": 44,
   "metadata": {},
   "outputs": [],
   "source": [
    "checkdata['Feedback1'] = checkdata['Feedback'].apply(lambda x: \" \".join(x.lower() for x in x.split()))\n",
    "checkdata['Feedback1'] = checkdata['Feedback1'].str.replace('[^\\w\\s]','')\n",
    "checkdata['Feedback1'] = checkdata['Feedback1'].apply(lambda x:''.join([x for x in x if not x.isdigit()]))\n",
    "checkdata['Feedback1'] = checkdata['Feedback1'].apply(lambda x: \" \".join(ps.stem(x) for x in x.split() if x not in stop))\n",
    "#checkdata['Feedback1'] = checkdata['Feedback1'].apply(lambda x: \" \".join([Word(word).lemmatize() for word in x.split()]))\n",
    "#[ps.stem(word) for word in token if word not in stopwords]"
   ]
  },
  {
   "cell_type": "code",
   "execution_count": 45,
   "metadata": {},
   "outputs": [
    {
     "data": {
      "text/html": [
       "<div>\n",
       "<style scoped>\n",
       "    .dataframe tbody tr th:only-of-type {\n",
       "        vertical-align: middle;\n",
       "    }\n",
       "\n",
       "    .dataframe tbody tr th {\n",
       "        vertical-align: top;\n",
       "    }\n",
       "\n",
       "    .dataframe thead th {\n",
       "        text-align: right;\n",
       "    }\n",
       "</style>\n",
       "<table border=\"1\" class=\"dataframe\">\n",
       "  <thead>\n",
       "    <tr style=\"text-align: right;\">\n",
       "      <th></th>\n",
       "      <th>Feedback</th>\n",
       "      <th>Feedback1</th>\n",
       "    </tr>\n",
       "  </thead>\n",
       "  <tbody>\n",
       "    <tr>\n",
       "      <th>168101</th>\n",
       "      <td>Good</td>\n",
       "      <td>good</td>\n",
       "    </tr>\n",
       "    <tr>\n",
       "      <th>168114</th>\n",
       "      <td>No comments</td>\n",
       "      <td>comment</td>\n",
       "    </tr>\n",
       "    <tr>\n",
       "      <th>168132</th>\n",
       "      <td>Thank u to help me with my questions</td>\n",
       "      <td>thank u help question</td>\n",
       "    </tr>\n",
       "    <tr>\n",
       "      <th>168141</th>\n",
       "      <td>He was able to help me turn my data on when it had been turned off incorrectly but could not tel...</td>\n",
       "      <td>abl help turn data turn incorrectli could tell chang screen say instead data havetold go koodo s...</td>\n",
       "    </tr>\n",
       "    <tr>\n",
       "      <th>168151</th>\n",
       "      <td>Very polite, calm and patient. Did not fully understand my complaint at first it seemed but took...</td>\n",
       "      <td>polit calm patient fulli understand complaint first seem took time go usag data explain charg</td>\n",
       "    </tr>\n",
       "    <tr>\n",
       "      <th>168152</th>\n",
       "      <td>She was nice.</td>\n",
       "      <td>nice</td>\n",
       "    </tr>\n",
       "    <tr>\n",
       "      <th>168153</th>\n",
       "      <td>He was very good. Polite under standing.</td>\n",
       "      <td>good polit stand</td>\n",
       "    </tr>\n",
       "    <tr>\n",
       "      <th>168160</th>\n",
       "      <td>Friendly and helpful</td>\n",
       "      <td>friendli help</td>\n",
       "    </tr>\n",
       "    <tr>\n",
       "      <th>168178</th>\n",
       "      <td>Resolved my issue quickly and effectively so it was good. Just took a long time before my call w...</td>\n",
       "      <td>resolv issu quickli effect good took long time call answer</td>\n",
       "    </tr>\n",
       "    <tr>\n",
       "      <th>168200</th>\n",
       "      <td>first call......was put on hold for 1/2 hour. Then said a replacement phone would be sent during...</td>\n",
       "      <td>first callwa put hold hour said replac phone would sent servic phone phone sent also disappoint ...</td>\n",
       "    </tr>\n",
       "    <tr>\n",
       "      <th>168202</th>\n",
       "      <td>The wait time shirter that is all</td>\n",
       "      <td>wait time shirter</td>\n",
       "    </tr>\n",
       "    <tr>\n",
       "      <th>168203</th>\n",
       "      <td>She was very nice and helpful</td>\n",
       "      <td>nice help</td>\n",
       "    </tr>\n",
       "    <tr>\n",
       "      <th>168205</th>\n",
       "      <td>She is patient</td>\n",
       "      <td>patient</td>\n",
       "    </tr>\n",
       "    <tr>\n",
       "      <th>168208</th>\n",
       "      <td>The customer service was ok</td>\n",
       "      <td>custom servic ok</td>\n",
       "    </tr>\n",
       "    <tr>\n",
       "      <th>168209</th>\n",
       "      <td>Very helpful</td>\n",
       "      <td>help</td>\n",
       "    </tr>\n",
       "    <tr>\n",
       "      <th>168212</th>\n",
       "      <td>they miss guide me</td>\n",
       "      <td>miss guid</td>\n",
       "    </tr>\n",
       "    <tr>\n",
       "      <th>168237</th>\n",
       "      <td>The customer service person was very friendly. However, the person named Mirella I spoke with be...</td>\n",
       "      <td>custom servic person friendli howev person name mirella spoke quit rude</td>\n",
       "    </tr>\n",
       "    <tr>\n",
       "      <th>168257</th>\n",
       "      <td>Nothing at this point in time.</td>\n",
       "      <td>noth point time</td>\n",
       "    </tr>\n",
       "    <tr>\n",
       "      <th>168262</th>\n",
       "      <td>Answered my questions, was helpful and kind</td>\n",
       "      <td>answer question help kind</td>\n",
       "    </tr>\n",
       "    <tr>\n",
       "      <th>168271</th>\n",
       "      <td>He was good</td>\n",
       "      <td>good</td>\n",
       "    </tr>\n",
       "  </tbody>\n",
       "</table>\n",
       "</div>"
      ],
      "text/plain": [
       "                                                                                                   Feedback  \\\n",
       "168101                                                                                                 Good   \n",
       "168114                                                                                          No comments   \n",
       "168132                                                                 Thank u to help me with my questions   \n",
       "168141  He was able to help me turn my data on when it had been turned off incorrectly but could not tel...   \n",
       "168151  Very polite, calm and patient. Did not fully understand my complaint at first it seemed but took...   \n",
       "168152                                                                                        She was nice.   \n",
       "168153                                                             He was very good. Polite under standing.   \n",
       "168160                                                                                 Friendly and helpful   \n",
       "168178  Resolved my issue quickly and effectively so it was good. Just took a long time before my call w...   \n",
       "168200  first call......was put on hold for 1/2 hour. Then said a replacement phone would be sent during...   \n",
       "168202                                                                    The wait time shirter that is all   \n",
       "168203                                                                        She was very nice and helpful   \n",
       "168205                                                                                       She is patient   \n",
       "168208                                                                          The customer service was ok   \n",
       "168209                                                                                         Very helpful   \n",
       "168212                                                                                   they miss guide me   \n",
       "168237  The customer service person was very friendly. However, the person named Mirella I spoke with be...   \n",
       "168257                                                                       Nothing at this point in time.   \n",
       "168262                                                          Answered my questions, was helpful and kind   \n",
       "168271                                                                                          He was good   \n",
       "\n",
       "                                                                                                  Feedback1  \n",
       "168101                                                                                                 good  \n",
       "168114                                                                                              comment  \n",
       "168132                                                                                thank u help question  \n",
       "168141  abl help turn data turn incorrectli could tell chang screen say instead data havetold go koodo s...  \n",
       "168151        polit calm patient fulli understand complaint first seem took time go usag data explain charg  \n",
       "168152                                                                                                 nice  \n",
       "168153                                                                                     good polit stand  \n",
       "168160                                                                                        friendli help  \n",
       "168178                                           resolv issu quickli effect good took long time call answer  \n",
       "168200  first callwa put hold hour said replac phone would sent servic phone phone sent also disappoint ...  \n",
       "168202                                                                                    wait time shirter  \n",
       "168203                                                                                            nice help  \n",
       "168205                                                                                              patient  \n",
       "168208                                                                                     custom servic ok  \n",
       "168209                                                                                                 help  \n",
       "168212                                                                                            miss guid  \n",
       "168237                              custom servic person friendli howev person name mirella spoke quit rude  \n",
       "168257                                                                                      noth point time  \n",
       "168262                                                                            answer question help kind  \n",
       "168271                                                                                                 good  "
      ]
     },
     "execution_count": 45,
     "metadata": {},
     "output_type": "execute_result"
    }
   ],
   "source": [
    "checkdata[['Feedback','Feedback1']].tail(20)"
   ]
  },
  {
   "cell_type": "code",
   "execution_count": 46,
   "metadata": {},
   "outputs": [],
   "source": [
    "#freq = pd.Series(' '.join(checkdata['Feedback1']).split()).value_counts()"
   ]
  },
  {
   "cell_type": "code",
   "execution_count": 47,
   "metadata": {},
   "outputs": [],
   "source": [
    "#freq = pd.DataFrame(freq).to_csv(\"freq.csv\")"
   ]
  },
  {
   "cell_type": "code",
   "execution_count": 48,
   "metadata": {},
   "outputs": [],
   "source": [
    "#freq = pd.read_csv(\"freq.csv\")\n",
    "#freq.columns = ['word','tf']"
   ]
  },
  {
   "cell_type": "code",
   "execution_count": 49,
   "metadata": {},
   "outputs": [],
   "source": [
    "tf1 = (checkdata['Feedback1']).apply(lambda x: pd.value_counts(x.split(\" \"))).sum(axis = 0).reset_index()\n",
    "tf1.columns = ['words','tf']\n"
   ]
  },
  {
   "cell_type": "code",
   "execution_count": 50,
   "metadata": {},
   "outputs": [],
   "source": [
    "for i,word in enumerate(tf1['words']):\n",
    "  tf1.loc[i, 'idf'] = np.log(checkdata.shape[0]/(len(checkdata[checkdata['Feedback1'].str.contains(word)])))"
   ]
  },
  {
   "cell_type": "code",
   "execution_count": 51,
   "metadata": {},
   "outputs": [],
   "source": [
    "tf1['tfidf'] = tf1['tf'] * tf1['idf']"
   ]
  },
  {
   "cell_type": "code",
   "execution_count": 52,
   "metadata": {},
   "outputs": [
    {
     "data": {
      "text/html": [
       "<div>\n",
       "<style scoped>\n",
       "    .dataframe tbody tr th:only-of-type {\n",
       "        vertical-align: middle;\n",
       "    }\n",
       "\n",
       "    .dataframe tbody tr th {\n",
       "        vertical-align: top;\n",
       "    }\n",
       "\n",
       "    .dataframe thead th {\n",
       "        text-align: right;\n",
       "    }\n",
       "</style>\n",
       "<table border=\"1\" class=\"dataframe\">\n",
       "  <thead>\n",
       "    <tr style=\"text-align: right;\">\n",
       "      <th></th>\n",
       "      <th>tf</th>\n",
       "      <th>idf</th>\n",
       "      <th>tfidf</th>\n",
       "    </tr>\n",
       "  </thead>\n",
       "  <tbody>\n",
       "    <tr>\n",
       "      <th>count</th>\n",
       "      <td>6821.000000</td>\n",
       "      <td>6821.000000</td>\n",
       "      <td>6821.000000</td>\n",
       "    </tr>\n",
       "    <tr>\n",
       "      <th>mean</th>\n",
       "      <td>15.618238</td>\n",
       "      <td>7.863426</td>\n",
       "      <td>65.683625</td>\n",
       "    </tr>\n",
       "    <tr>\n",
       "      <th>std</th>\n",
       "      <td>78.527605</td>\n",
       "      <td>1.855397</td>\n",
       "      <td>210.545055</td>\n",
       "    </tr>\n",
       "    <tr>\n",
       "      <th>min</th>\n",
       "      <td>1.000000</td>\n",
       "      <td>0.000000</td>\n",
       "      <td>0.000000</td>\n",
       "    </tr>\n",
       "    <tr>\n",
       "      <th>25%</th>\n",
       "      <td>1.000000</td>\n",
       "      <td>6.952346</td>\n",
       "      <td>9.254931</td>\n",
       "    </tr>\n",
       "    <tr>\n",
       "      <th>50%</th>\n",
       "      <td>1.000000</td>\n",
       "      <td>8.561784</td>\n",
       "      <td>9.254931</td>\n",
       "    </tr>\n",
       "    <tr>\n",
       "      <th>75%</th>\n",
       "      <td>4.000000</td>\n",
       "      <td>9.254931</td>\n",
       "      <td>31.474548</td>\n",
       "    </tr>\n",
       "    <tr>\n",
       "      <th>max</th>\n",
       "      <td>2431.000000</td>\n",
       "      <td>9.254931</td>\n",
       "      <td>3930.957718</td>\n",
       "    </tr>\n",
       "  </tbody>\n",
       "</table>\n",
       "</div>"
      ],
      "text/plain": [
       "                tf          idf        tfidf\n",
       "count  6821.000000  6821.000000  6821.000000\n",
       "mean     15.618238     7.863426    65.683625\n",
       "std      78.527605     1.855397   210.545055\n",
       "min       1.000000     0.000000     0.000000\n",
       "25%       1.000000     6.952346     9.254931\n",
       "50%       1.000000     8.561784     9.254931\n",
       "75%       4.000000     9.254931    31.474548\n",
       "max    2431.000000     9.254931  3930.957718"
      ]
     },
     "execution_count": 52,
     "metadata": {},
     "output_type": "execute_result"
    }
   ],
   "source": [
    "tf1.describe()"
   ]
  },
  {
   "cell_type": "code",
   "execution_count": 53,
   "metadata": {},
   "outputs": [],
   "source": [
    "#tf1['logtfidf'] = np.log(tf1['tfidf']+1)"
   ]
  },
  {
   "cell_type": "code",
   "execution_count": 54,
   "metadata": {},
   "outputs": [],
   "source": [
    "#tf1['logtfidf'].plot('kde')"
   ]
  },
  {
   "cell_type": "code",
   "execution_count": 55,
   "metadata": {},
   "outputs": [
    {
     "data": {
      "text/plain": [
       "<matplotlib.axes._subplots.AxesSubplot at 0x7febdebb0748>"
      ]
     },
     "execution_count": 55,
     "metadata": {},
     "output_type": "execute_result"
    },
    {
     "data": {
      "image/png": "[encoded data removed]",
      "text/plain": [
       "<matplotlib.figure.Figure at 0x7febdeba87f0>"
      ]
     },
     "metadata": {},
     "output_type": "display_data"
    }
   ],
   "source": [
    "tf1['tfidf'].plot('kde')"
   ]
  },
  {
   "cell_type": "code",
   "execution_count": 56,
   "metadata": {},
   "outputs": [
    {
     "data": {
      "text/html": [
       "<div>\n",
       "<style scoped>\n",
       "    .dataframe tbody tr th:only-of-type {\n",
       "        vertical-align: middle;\n",
       "    }\n",
       "\n",
       "    .dataframe tbody tr th {\n",
       "        vertical-align: top;\n",
       "    }\n",
       "\n",
       "    .dataframe thead th {\n",
       "        text-align: right;\n",
       "    }\n",
       "</style>\n",
       "<table border=\"1\" class=\"dataframe\">\n",
       "  <thead>\n",
       "    <tr style=\"text-align: right;\">\n",
       "      <th></th>\n",
       "      <th>tf</th>\n",
       "      <th>idf</th>\n",
       "      <th>tfidf</th>\n",
       "    </tr>\n",
       "  </thead>\n",
       "  <tbody>\n",
       "    <tr>\n",
       "      <th>count</th>\n",
       "      <td>3036.000000</td>\n",
       "      <td>3036.000000</td>\n",
       "      <td>3036.000000</td>\n",
       "    </tr>\n",
       "    <tr>\n",
       "      <th>mean</th>\n",
       "      <td>33.754611</td>\n",
       "      <td>6.846284</td>\n",
       "      <td>136.658344</td>\n",
       "    </tr>\n",
       "    <tr>\n",
       "      <th>std</th>\n",
       "      <td>115.156643</td>\n",
       "      <td>1.674344</td>\n",
       "      <td>300.881406</td>\n",
       "    </tr>\n",
       "    <tr>\n",
       "      <th>min</th>\n",
       "      <td>2.000000</td>\n",
       "      <td>0.264614</td>\n",
       "      <td>9.381166</td>\n",
       "    </tr>\n",
       "    <tr>\n",
       "      <th>25%</th>\n",
       "      <td>3.000000</td>\n",
       "      <td>5.789195</td>\n",
       "      <td>18.509863</td>\n",
       "    </tr>\n",
       "    <tr>\n",
       "      <th>50%</th>\n",
       "      <td>5.000000</td>\n",
       "      <td>7.309021</td>\n",
       "      <td>38.227467</td>\n",
       "    </tr>\n",
       "    <tr>\n",
       "      <th>75%</th>\n",
       "      <td>18.000000</td>\n",
       "      <td>8.156319</td>\n",
       "      <td>109.169204</td>\n",
       "    </tr>\n",
       "    <tr>\n",
       "      <th>max</th>\n",
       "      <td>2431.000000</td>\n",
       "      <td>9.254931</td>\n",
       "      <td>3930.957718</td>\n",
       "    </tr>\n",
       "  </tbody>\n",
       "</table>\n",
       "</div>"
      ],
      "text/plain": [
       "                tf          idf        tfidf\n",
       "count  3036.000000  3036.000000  3036.000000\n",
       "mean     33.754611     6.846284   136.658344\n",
       "std     115.156643     1.674344   300.881406\n",
       "min       2.000000     0.264614     9.381166\n",
       "25%       3.000000     5.789195    18.509863\n",
       "50%       5.000000     7.309021    38.227467\n",
       "75%      18.000000     8.156319   109.169204\n",
       "max    2431.000000     9.254931  3930.957718"
      ]
     },
     "execution_count": 56,
     "metadata": {},
     "output_type": "execute_result"
    }
   ],
   "source": [
    "tf1[tf1['tfidf'] > tf1['tfidf'].quantile(.25)].describe()"
   ]
  },
  {
   "cell_type": "code",
   "execution_count": 57,
   "metadata": {},
   "outputs": [
    {
     "data": {
      "text/plain": [
       "<matplotlib.axes._subplots.AxesSubplot at 0x7febdeacd748>"
      ]
     },
     "execution_count": 57,
     "metadata": {},
     "output_type": "execute_result"
    },
    {
     "data": {
      "image/png": "[encoded data removed]",
      "text/plain": [
       "<matplotlib.figure.Figure at 0x7febdeac05f8>"
      ]
     },
     "metadata": {},
     "output_type": "display_data"
    }
   ],
   "source": [
    "tf1['tfidf'][tf1['tfidf'] > tf1['tfidf'].quantile(.25)].plot('kde')"
   ]
  },
  {
   "cell_type": "code",
   "execution_count": 58,
   "metadata": {},
   "outputs": [],
   "source": [
    "tf1 = tf1[tf1['tfidf'] > tf1['tfidf'].quantile(.25)]"
   ]
  },
  {
   "cell_type": "code",
   "execution_count": 59,
   "metadata": {},
   "outputs": [
    {
     "data": {
      "text/html": [
       "<div>\n",
       "<style scoped>\n",
       "    .dataframe tbody tr th:only-of-type {\n",
       "        vertical-align: middle;\n",
       "    }\n",
       "\n",
       "    .dataframe tbody tr th {\n",
       "        vertical-align: top;\n",
       "    }\n",
       "\n",
       "    .dataframe thead th {\n",
       "        text-align: right;\n",
       "    }\n",
       "</style>\n",
       "<table border=\"1\" class=\"dataframe\">\n",
       "  <thead>\n",
       "    <tr style=\"text-align: right;\">\n",
       "      <th></th>\n",
       "      <th>tf</th>\n",
       "      <th>idf</th>\n",
       "      <th>tfidf</th>\n",
       "    </tr>\n",
       "  </thead>\n",
       "  <tbody>\n",
       "    <tr>\n",
       "      <th>count</th>\n",
       "      <td>3036.000000</td>\n",
       "      <td>3036.000000</td>\n",
       "      <td>3036.000000</td>\n",
       "    </tr>\n",
       "    <tr>\n",
       "      <th>mean</th>\n",
       "      <td>33.754611</td>\n",
       "      <td>6.846284</td>\n",
       "      <td>136.658344</td>\n",
       "    </tr>\n",
       "    <tr>\n",
       "      <th>std</th>\n",
       "      <td>115.156643</td>\n",
       "      <td>1.674344</td>\n",
       "      <td>300.881406</td>\n",
       "    </tr>\n",
       "    <tr>\n",
       "      <th>min</th>\n",
       "      <td>2.000000</td>\n",
       "      <td>0.264614</td>\n",
       "      <td>9.381166</td>\n",
       "    </tr>\n",
       "    <tr>\n",
       "      <th>25%</th>\n",
       "      <td>3.000000</td>\n",
       "      <td>5.789195</td>\n",
       "      <td>18.509863</td>\n",
       "    </tr>\n",
       "    <tr>\n",
       "      <th>50%</th>\n",
       "      <td>5.000000</td>\n",
       "      <td>7.309021</td>\n",
       "      <td>38.227467</td>\n",
       "    </tr>\n",
       "    <tr>\n",
       "      <th>75%</th>\n",
       "      <td>18.000000</td>\n",
       "      <td>8.156319</td>\n",
       "      <td>109.169204</td>\n",
       "    </tr>\n",
       "    <tr>\n",
       "      <th>max</th>\n",
       "      <td>2431.000000</td>\n",
       "      <td>9.254931</td>\n",
       "      <td>3930.957718</td>\n",
       "    </tr>\n",
       "  </tbody>\n",
       "</table>\n",
       "</div>"
      ],
      "text/plain": [
       "                tf          idf        tfidf\n",
       "count  3036.000000  3036.000000  3036.000000\n",
       "mean     33.754611     6.846284   136.658344\n",
       "std     115.156643     1.674344   300.881406\n",
       "min       2.000000     0.264614     9.381166\n",
       "25%       3.000000     5.789195    18.509863\n",
       "50%       5.000000     7.309021    38.227467\n",
       "75%      18.000000     8.156319   109.169204\n",
       "max    2431.000000     9.254931  3930.957718"
      ]
     },
     "execution_count": 59,
     "metadata": {},
     "output_type": "execute_result"
    }
   ],
   "source": [
    "tf1.describe()"
   ]
  },
  {
   "cell_type": "code",
   "execution_count": 60,
   "metadata": {},
   "outputs": [],
   "source": [
    "tf_keeplist = pd.DataFrame(list(tf1['words']))"
   ]
  },
  {
   "cell_type": "code",
   "execution_count": 61,
   "metadata": {},
   "outputs": [],
   "source": [
    "tf_keeplist.to_csv(\"keepwordlist.csv\")"
   ]
  },
  {
   "cell_type": "code",
   "execution_count": 62,
   "metadata": {},
   "outputs": [],
   "source": [
    "tf_datframe = pd.read_csv(\"keepwordlist.csv\")"
   ]
  },
  {
   "cell_type": "code",
   "execution_count": 63,
   "metadata": {},
   "outputs": [],
   "source": [
    "tf_keeplist = list(tf_datframe.iloc[:,1])"
   ]
  },
  {
   "cell_type": "code",
   "execution_count": 64,
   "metadata": {},
   "outputs": [],
   "source": [
    "checkdata['Feedback1'] = checkdata['Feedback1'].apply(lambda x: \" \".join(x for x in x.split() if x in tf_keeplist))"
   ]
  },
  {
   "cell_type": "code",
   "execution_count": 65,
   "metadata": {},
   "outputs": [
    {
     "data": {
      "text/html": [
       "<div>\n",
       "<style scoped>\n",
       "    .dataframe tbody tr th:only-of-type {\n",
       "        vertical-align: middle;\n",
       "    }\n",
       "\n",
       "    .dataframe tbody tr th {\n",
       "        vertical-align: top;\n",
       "    }\n",
       "\n",
       "    .dataframe thead th {\n",
       "        text-align: right;\n",
       "    }\n",
       "</style>\n",
       "<table border=\"1\" class=\"dataframe\">\n",
       "  <thead>\n",
       "    <tr style=\"text-align: right;\">\n",
       "      <th></th>\n",
       "      <th>Respondent_Id</th>\n",
       "      <th>Agent_Department_Code_MU</th>\n",
       "      <th>Support_level_4_VP</th>\n",
       "      <th>Support_level_3_Director</th>\n",
       "      <th>Support_level_2_Ops_Mgr</th>\n",
       "      <th>Support_level_1_Team_Mgr</th>\n",
       "      <th>Survey_Medium</th>\n",
       "      <th>B7_1_Agent_CSR</th>\n",
       "      <th>Feedback</th>\n",
       "      <th>Had_the_knowledge_to_respond_to_my_inquiries</th>\n",
       "      <th>...</th>\n",
       "      <th>is_hrs</th>\n",
       "      <th>is_hr</th>\n",
       "      <th>char_count</th>\n",
       "      <th>word_count</th>\n",
       "      <th>numerics</th>\n",
       "      <th>upper</th>\n",
       "      <th>avg_word</th>\n",
       "      <th>stopwords</th>\n",
       "      <th>punc%</th>\n",
       "      <th>Feedback1</th>\n",
       "    </tr>\n",
       "  </thead>\n",
       "  <tbody>\n",
       "    <tr>\n",
       "      <th>79</th>\n",
       "      <td>3523509</td>\n",
       "      <td>KDO_CR1_CELL300_TIE</td>\n",
       "      <td>NaN</td>\n",
       "      <td>NaN</td>\n",
       "      <td>JL</td>\n",
       "      <td>MMG</td>\n",
       "      <td>Email_short</td>\n",
       "      <td>Fair</td>\n",
       "      <td>She was polite and she tried.  I just think the fine print in the plan I was calling about is/wa...</td>\n",
       "      <td>Poor</td>\n",
       "      <td>...</td>\n",
       "      <td>False</td>\n",
       "      <td>False</td>\n",
       "      <td>7.936638</td>\n",
       "      <td>5.584963</td>\n",
       "      <td>0.0</td>\n",
       "      <td>2.0</td>\n",
       "      <td>2.074768</td>\n",
       "      <td>4.459432</td>\n",
       "      <td>2.321928</td>\n",
       "      <td>polit tri think fine print plan call confus even didnt fulli understand couldnt explain logic wa...</td>\n",
       "    </tr>\n",
       "    <tr>\n",
       "      <th>89</th>\n",
       "      <td>3523102</td>\n",
       "      <td>KDO_CR2_CELL300_TIE</td>\n",
       "      <td>LR</td>\n",
       "      <td>DL</td>\n",
       "      <td>JC</td>\n",
       "      <td>EL</td>\n",
       "      <td>Email_short</td>\n",
       "      <td>Very good</td>\n",
       "      <td>Good rep</td>\n",
       "      <td>Very good</td>\n",
       "      <td>...</td>\n",
       "      <td>False</td>\n",
       "      <td>False</td>\n",
       "      <td>3.000000</td>\n",
       "      <td>1.000000</td>\n",
       "      <td>0.0</td>\n",
       "      <td>0.0</td>\n",
       "      <td>1.807355</td>\n",
       "      <td>0.000000</td>\n",
       "      <td>0.000000</td>\n",
       "      <td>good rep</td>\n",
       "    </tr>\n",
       "    <tr>\n",
       "      <th>90</th>\n",
       "      <td>3523089</td>\n",
       "      <td>KDO_CR1_CELL300_TIE</td>\n",
       "      <td>LR</td>\n",
       "      <td>DL</td>\n",
       "      <td>JC</td>\n",
       "      <td>RHSS</td>\n",
       "      <td>Email_short</td>\n",
       "      <td>Very good</td>\n",
       "      <td>Friendly, helpful: a good experience</td>\n",
       "      <td>Very good</td>\n",
       "      <td>...</td>\n",
       "      <td>False</td>\n",
       "      <td>False</td>\n",
       "      <td>5.169925</td>\n",
       "      <td>2.321928</td>\n",
       "      <td>0.0</td>\n",
       "      <td>0.0</td>\n",
       "      <td>2.678072</td>\n",
       "      <td>1.000000</td>\n",
       "      <td>2.847997</td>\n",
       "      <td>friendli help good experi</td>\n",
       "    </tr>\n",
       "    <tr>\n",
       "      <th>91</th>\n",
       "      <td>3523082</td>\n",
       "      <td>KDO_CR1_CELL300_TIE</td>\n",
       "      <td>LR</td>\n",
       "      <td>DL</td>\n",
       "      <td>JC</td>\n",
       "      <td>CRAC</td>\n",
       "      <td>Email_short</td>\n",
       "      <td>Very good</td>\n",
       "      <td>All good.</td>\n",
       "      <td>Very good</td>\n",
       "      <td>...</td>\n",
       "      <td>False</td>\n",
       "      <td>False</td>\n",
       "      <td>3.169925</td>\n",
       "      <td>1.000000</td>\n",
       "      <td>0.0</td>\n",
       "      <td>0.0</td>\n",
       "      <td>2.000000</td>\n",
       "      <td>0.000000</td>\n",
       "      <td>3.754888</td>\n",
       "      <td>good</td>\n",
       "    </tr>\n",
       "    <tr>\n",
       "      <th>92</th>\n",
       "      <td>3523075</td>\n",
       "      <td>KDO_CR1_CELL300_TIE</td>\n",
       "      <td>NaN</td>\n",
       "      <td>NaN</td>\n",
       "      <td>GP</td>\n",
       "      <td>TL</td>\n",
       "      <td>Email_short</td>\n",
       "      <td>Very good</td>\n",
       "      <td>I appreciate Carlos' help on the customer loyalty request, however, the Tab credits were not app...</td>\n",
       "      <td>Good</td>\n",
       "      <td>...</td>\n",
       "      <td>False</td>\n",
       "      <td>False</td>\n",
       "      <td>7.467606</td>\n",
       "      <td>4.954196</td>\n",
       "      <td>0.0</td>\n",
       "      <td>1.0</td>\n",
       "      <td>2.245476</td>\n",
       "      <td>3.700440</td>\n",
       "      <td>2.350497</td>\n",
       "      <td>appreci carlo help custom loyalti request howev tab credit appli line account pleas updat get ch...</td>\n",
       "    </tr>\n",
       "  </tbody>\n",
       "</table>\n",
       "<p>5 rows × 25 columns</p>\n",
       "</div>"
      ],
      "text/plain": [
       "   Respondent_Id Agent_Department_Code_MU Support_level_4_VP  \\\n",
       "79       3523509      KDO_CR1_CELL300_TIE                NaN   \n",
       "89       3523102      KDO_CR2_CELL300_TIE                 LR   \n",
       "90       3523089      KDO_CR1_CELL300_TIE                 LR   \n",
       "91       3523082      KDO_CR1_CELL300_TIE                 LR   \n",
       "92       3523075      KDO_CR1_CELL300_TIE                NaN   \n",
       "\n",
       "   Support_level_3_Director Support_level_2_Ops_Mgr Support_level_1_Team_Mgr  \\\n",
       "79                      NaN                      JL                      MMG   \n",
       "89                       DL                      JC                       EL   \n",
       "90                       DL                      JC                     RHSS   \n",
       "91                       DL                      JC                     CRAC   \n",
       "92                      NaN                      GP                       TL   \n",
       "\n",
       "   Survey_Medium B7_1_Agent_CSR  \\\n",
       "79   Email_short           Fair   \n",
       "89   Email_short      Very good   \n",
       "90   Email_short      Very good   \n",
       "91   Email_short      Very good   \n",
       "92   Email_short      Very good   \n",
       "\n",
       "                                                                                               Feedback  \\\n",
       "79  She was polite and she tried.  I just think the fine print in the plan I was calling about is/wa...   \n",
       "89                                                                                             Good rep   \n",
       "90                                                                 Friendly, helpful: a good experience   \n",
       "91                                                                                            All good.   \n",
       "92  I appreciate Carlos' help on the customer loyalty request, however, the Tab credits were not app...   \n",
       "\n",
       "   Had_the_knowledge_to_respond_to_my_inquiries  \\\n",
       "79                                         Poor   \n",
       "89                                    Very good   \n",
       "90                                    Very good   \n",
       "91                                    Very good   \n",
       "92                                         Good   \n",
       "\n",
       "                                                   ...                                                   \\\n",
       "79                                                 ...                                                    \n",
       "89                                                 ...                                                    \n",
       "90                                                 ...                                                    \n",
       "91                                                 ...                                                    \n",
       "92                                                 ...                                                    \n",
       "\n",
       "    is_hrs  is_hr  char_count  word_count  numerics  upper  avg_word  \\\n",
       "79   False  False    7.936638    5.584963       0.0    2.0  2.074768   \n",
       "89   False  False    3.000000    1.000000       0.0    0.0  1.807355   \n",
       "90   False  False    5.169925    2.321928       0.0    0.0  2.678072   \n",
       "91   False  False    3.169925    1.000000       0.0    0.0  2.000000   \n",
       "92   False  False    7.467606    4.954196       0.0    1.0  2.245476   \n",
       "\n",
       "    stopwords     punc%  \\\n",
       "79   4.459432  2.321928   \n",
       "89   0.000000  0.000000   \n",
       "90   1.000000  2.847997   \n",
       "91   0.000000  3.754888   \n",
       "92   3.700440  2.350497   \n",
       "\n",
       "                                                                                              Feedback1  \n",
       "79  polit tri think fine print plan call confus even didnt fulli understand couldnt explain logic wa...  \n",
       "89                                                                                             good rep  \n",
       "90                                                                            friendli help good experi  \n",
       "91                                                                                                 good  \n",
       "92  appreci carlo help custom loyalti request howev tab credit appli line account pleas updat get ch...  \n",
       "\n",
       "[5 rows x 25 columns]"
      ]
     },
     "execution_count": 65,
     "metadata": {},
     "output_type": "execute_result"
    }
   ],
   "source": [
    "checkdata.head()"
   ]
  },
  {
   "cell_type": "code",
   "execution_count": 66,
   "metadata": {},
   "outputs": [],
   "source": [
    "def condition(rating):\n",
    "#    if rating == 'Excellent':\n",
    "#        return 0\n",
    "    if rating == 'Very good':\n",
    "        return 0\n",
    "    elif rating == 'Good':\n",
    "        return 0\n",
    "    elif rating == 'Fair':\n",
    "        return 1\n",
    "    elif rating == 'Poor':\n",
    "        return 1\n",
    "    else:\n",
    "        return \"missing\""
   ]
  },
  {
   "cell_type": "code",
   "execution_count": 67,
   "metadata": {},
   "outputs": [],
   "source": [
    "checkdata['target'] = checkdata['Had_the_knowledge_to_respond_to_my_inquiries'].apply(lambda x: condition(x))\n",
    "#checkdata['B7_1_Agent_CSR'] = checkdata['B7_1_Agent_CSR'].apply(lambda x: condition(x))\n",
    "checkdata = checkdata.drop(['Had_the_knowledge_to_respond_to_my_inquiries'],axis=1)"
   ]
  },
  {
   "cell_type": "code",
   "execution_count": 68,
   "metadata": {},
   "outputs": [
    {
     "data": {
      "text/plain": [
       "0    7383\n",
       "1    3073\n",
       "Name: target, dtype: int64"
      ]
     },
     "execution_count": 68,
     "metadata": {},
     "output_type": "execute_result"
    }
   ],
   "source": [
    "checkdata.target.value_counts()"
   ]
  },
  {
   "cell_type": "code",
   "execution_count": 69,
   "metadata": {},
   "outputs": [
    {
     "data": {
      "text/plain": [
       "\"\\ncheckdata['is_Excellent'] = checkdata['B7_1_Agent_CSR'].apply(lambda x: 1 if x==0 else 0)\\ncheckdata['is_Vgood'] = checkdata['B7_1_Agent_CSR'].apply(lambda x: 1 if x==1 else 0)\\ncheckdata['is_good'] = checkdata['B7_1_Agent_CSR'].apply(lambda x: 1 if x==2 else 0)\\ncheckdata['is_fair'] = checkdata['B7_1_Agent_CSR'].apply(lambda x: 1 if x==3 else 0)\\ncheckdata['is_poor'] = checkdata['B7_1_Agent_CSR'].apply(lambda x: 1 if x==4 else 0)\\ncheckdata = checkdata.drop(['B7_1_Agent_CSR'],axis=1)\\n\""
      ]
     },
     "execution_count": 69,
     "metadata": {},
     "output_type": "execute_result"
    }
   ],
   "source": [
    "'''\n",
    "checkdata['is_Excellent'] = checkdata['B7_1_Agent_CSR'].apply(lambda x: 1 if x==0 else 0)\n",
    "checkdata['is_Vgood'] = checkdata['B7_1_Agent_CSR'].apply(lambda x: 1 if x==1 else 0)\n",
    "checkdata['is_good'] = checkdata['B7_1_Agent_CSR'].apply(lambda x: 1 if x==2 else 0)\n",
    "checkdata['is_fair'] = checkdata['B7_1_Agent_CSR'].apply(lambda x: 1 if x==3 else 0)\n",
    "checkdata['is_poor'] = checkdata['B7_1_Agent_CSR'].apply(lambda x: 1 if x==4 else 0)\n",
    "checkdata = checkdata.drop(['B7_1_Agent_CSR'],axis=1)\n",
    "'''"
   ]
  },
  {
   "cell_type": "code",
   "execution_count": 70,
   "metadata": {},
   "outputs": [],
   "source": [
    "#cols = ['Feedback']  + [col for col in checkdata if col != 'Feedback']\n",
    "#checkdata = checkdata[cols]"
   ]
  },
  {
   "cell_type": "code",
   "execution_count": 71,
   "metadata": {
    "scrolled": true
   },
   "outputs": [
    {
     "data": {
      "text/plain": [
       "\"\\n# Training\\nfrom matplotlib import pyplot\\n%matplotlib inline\\nbins = np.linspace(0,200,40)\\npyplot.hist(checkdata[checkdata['target']==0]['word_count'],bins,alpha=0.5, normed=True,label='bad')\\npyplot.hist(checkdata[checkdata['target']==1]['word_count'],bins,alpha=0.5, normed=True,label='good')\\npyplot.legend(loc='upper right')\\npyplot.show()\\n\""
      ]
     },
     "execution_count": 71,
     "metadata": {},
     "output_type": "execute_result"
    }
   ],
   "source": [
    "'''\n",
    "# Training\n",
    "from matplotlib import pyplot\n",
    "%matplotlib inline\n",
    "bins = np.linspace(0,200,40)\n",
    "pyplot.hist(checkdata[checkdata['target']==0]['word_count'],bins,alpha=0.5, normed=True,label='bad')\n",
    "pyplot.hist(checkdata[checkdata['target']==1]['word_count'],bins,alpha=0.5, normed=True,label='good')\n",
    "pyplot.legend(loc='upper right')\n",
    "pyplot.show()\n",
    "'''"
   ]
  },
  {
   "cell_type": "code",
   "execution_count": 72,
   "metadata": {},
   "outputs": [
    {
     "data": {
      "text/plain": [
       "\"# Training\\nfrom matplotlib import pyplot\\n%matplotlib inline\\nbins = np.linspace(0,800,40)\\npyplot.hist(checkdata[checkdata['target']==0]['char_count'],bins,alpha=0.5, normed=True,label='bad')\\npyplot.hist(checkdata[checkdata['target']==1]['char_count'],bins,alpha=0.5, normed=True,label='good')\\npyplot.legend(loc='upper right')\\npyplot.show()\\n\""
      ]
     },
     "execution_count": 72,
     "metadata": {},
     "output_type": "execute_result"
    }
   ],
   "source": [
    "'''# Training\n",
    "from matplotlib import pyplot\n",
    "%matplotlib inline\n",
    "bins = np.linspace(0,800,40)\n",
    "pyplot.hist(checkdata[checkdata['target']==0]['char_count'],bins,alpha=0.5, normed=True,label='bad')\n",
    "pyplot.hist(checkdata[checkdata['target']==1]['char_count'],bins,alpha=0.5, normed=True,label='good')\n",
    "pyplot.legend(loc='upper right')\n",
    "pyplot.show()\n",
    "'''"
   ]
  },
  {
   "cell_type": "code",
   "execution_count": 73,
   "metadata": {},
   "outputs": [
    {
     "data": {
      "text/plain": [
       "\"# Training\\nfrom matplotlib import pyplot\\n%matplotlib inline\\nbins = np.linspace(0,10,40)\\npyplot.hist(checkdata[checkdata['target']==0]['avg_word'],bins,alpha=0.5, normed=True,label='bad')\\npyplot.hist(checkdata[checkdata['target']==1]['avg_word'],bins,alpha=0.5, normed=True,label='good')\\npyplot.legend(loc='upper right')\\npyplot.show()\\n\""
      ]
     },
     "execution_count": 73,
     "metadata": {},
     "output_type": "execute_result"
    }
   ],
   "source": [
    "'''# Training\n",
    "from matplotlib import pyplot\n",
    "%matplotlib inline\n",
    "bins = np.linspace(0,10,40)\n",
    "pyplot.hist(checkdata[checkdata['target']==0]['avg_word'],bins,alpha=0.5, normed=True,label='bad')\n",
    "pyplot.hist(checkdata[checkdata['target']==1]['avg_word'],bins,alpha=0.5, normed=True,label='good')\n",
    "pyplot.legend(loc='upper right')\n",
    "pyplot.show()\n",
    "'''"
   ]
  },
  {
   "cell_type": "code",
   "execution_count": 74,
   "metadata": {},
   "outputs": [
    {
     "data": {
      "text/plain": [
       "\"# Training\\nfrom matplotlib import pyplot\\n%matplotlib inline\\nbins = np.linspace(0,100,40)\\npyplot.hist(checkdata[checkdata['target']==0]['stopwords'],bins,alpha=0.5, normed=True,label='bad')\\npyplot.hist(checkdata[checkdata['target']==1]['stopwords'],bins,alpha=0.5, normed=True,label='good')\\npyplot.legend(loc='upper right')\\npyplot.show()\\n\""
      ]
     },
     "execution_count": 74,
     "metadata": {},
     "output_type": "execute_result"
    }
   ],
   "source": [
    "'''# Training\n",
    "from matplotlib import pyplot\n",
    "%matplotlib inline\n",
    "bins = np.linspace(0,100,40)\n",
    "pyplot.hist(checkdata[checkdata['target']==0]['stopwords'],bins,alpha=0.5, normed=True,label='bad')\n",
    "pyplot.hist(checkdata[checkdata['target']==1]['stopwords'],bins,alpha=0.5, normed=True,label='good')\n",
    "pyplot.legend(loc='upper right')\n",
    "pyplot.show()\n",
    "'''"
   ]
  },
  {
   "cell_type": "code",
   "execution_count": 75,
   "metadata": {},
   "outputs": [
    {
     "data": {
      "text/plain": [
       "\"# Training\\nfrom matplotlib import pyplot\\n%matplotlib inline\\nbins = np.linspace(0,20,40)\\npyplot.hist(checkdata[checkdata['target']==0]['punc%'],bins,alpha=0.5,normed=True,label='bad')\\npyplot.hist(checkdata[checkdata['target']==1]['punc%'],bins,alpha=0.5, normed=True,label='good')\\npyplot.legend(loc='upper right')\\npyplot.show()\\n\""
      ]
     },
     "execution_count": 75,
     "metadata": {},
     "output_type": "execute_result"
    }
   ],
   "source": [
    "'''# Training\n",
    "from matplotlib import pyplot\n",
    "%matplotlib inline\n",
    "bins = np.linspace(0,20,40)\n",
    "pyplot.hist(checkdata[checkdata['target']==0]['punc%'],bins,alpha=0.5,normed=True,label='bad')\n",
    "pyplot.hist(checkdata[checkdata['target']==1]['punc%'],bins,alpha=0.5, normed=True,label='good')\n",
    "pyplot.legend(loc='upper right')\n",
    "pyplot.show()\n",
    "'''"
   ]
  },
  {
   "cell_type": "code",
   "execution_count": 76,
   "metadata": {},
   "outputs": [
    {
     "data": {
      "text/plain": [
       "\"# Training\\nfrom matplotlib import pyplot\\n%matplotlib inline\\nbins = np.linspace(0,15,40)\\npyplot.hist(checkdata[checkdata['target']==0]['upper'],bins,alpha=0.5, normed=True,label='bad')\\npyplot.hist(checkdata[checkdata['target']==1]['upper'],bins,alpha=0.5, normed=True,label='good')\\npyplot.legend(loc='upper right')\\npyplot.show()\\n\""
      ]
     },
     "execution_count": 76,
     "metadata": {},
     "output_type": "execute_result"
    }
   ],
   "source": [
    "'''# Training\n",
    "from matplotlib import pyplot\n",
    "%matplotlib inline\n",
    "bins = np.linspace(0,15,40)\n",
    "pyplot.hist(checkdata[checkdata['target']==0]['upper'],bins,alpha=0.5, normed=True,label='bad')\n",
    "pyplot.hist(checkdata[checkdata['target']==1]['upper'],bins,alpha=0.5, normed=True,label='good')\n",
    "pyplot.legend(loc='upper right')\n",
    "pyplot.show()\n",
    "'''"
   ]
  },
  {
   "cell_type": "code",
   "execution_count": 77,
   "metadata": {},
   "outputs": [
    {
     "data": {
      "text/plain": [
       "Index(['Respondent_Id', 'Agent_Department_Code_MU', 'Support_level_4_VP',\n",
       "       'Support_level_3_Director', 'Support_level_2_Ops_Mgr',\n",
       "       'Support_level_1_Team_Mgr', 'Survey_Medium', 'B7_1_Agent_CSR',\n",
       "       'Feedback', 'is_mins', 'is_minute', 'is_minutes', 'is_hour', 'is_hours',\n",
       "       'is_hrs', 'is_hr', 'char_count', 'word_count', 'numerics', 'upper',\n",
       "       'avg_word', 'stopwords', 'punc%', 'Feedback1', 'target'],\n",
       "      dtype='object')"
      ]
     },
     "execution_count": 77,
     "metadata": {},
     "output_type": "execute_result"
    }
   ],
   "source": [
    "checkdata.columns"
   ]
  },
  {
   "cell_type": "code",
   "execution_count": 78,
   "metadata": {},
   "outputs": [],
   "source": [
    "#!python -m spacy download en_core_web_lg"
   ]
  },
  {
   "cell_type": "code",
   "execution_count": 79,
   "metadata": {},
   "outputs": [],
   "source": [
    "#import re\n",
    "#checkdata['is_wait_true'] = checkdata.Feedback.contains('wait', regex=True)"
   ]
  },
  {
   "cell_type": "code",
   "execution_count": 80,
   "metadata": {},
   "outputs": [],
   "source": [
    "checkdata = checkdata.drop(['Feedback'],axis=1)"
   ]
  },
  {
   "cell_type": "code",
   "execution_count": 81,
   "metadata": {},
   "outputs": [],
   "source": [
    "checkdata.shape\n",
    "all_obj_columns = checkdata.columns"
   ]
  },
  {
   "cell_type": "code",
   "execution_count": 82,
   "metadata": {},
   "outputs": [
    {
     "name": "stdout",
     "output_type": "stream",
     "text": [
      "<class 'pandas.core.frame.DataFrame'>\n",
      "Int64Index: 10456 entries, 79 to 168271\n",
      "Data columns (total 24 columns):\n",
      "Respondent_Id               10456 non-null object\n",
      "Agent_Department_Code_MU    10456 non-null object\n",
      "Support_level_4_VP          10295 non-null object\n",
      "Support_level_3_Director    10295 non-null object\n",
      "Support_level_2_Ops_Mgr     10376 non-null object\n",
      "Support_level_1_Team_Mgr    10435 non-null object\n",
      "Survey_Medium               10456 non-null object\n",
      "B7_1_Agent_CSR              10454 non-null object\n",
      "is_mins                     10456 non-null bool\n",
      "is_minute                   10456 non-null bool\n",
      "is_minutes                  10456 non-null bool\n",
      "is_hour                     10456 non-null bool\n",
      "is_hours                    10456 non-null bool\n",
      "is_hrs                      10456 non-null bool\n",
      "is_hr                       10456 non-null bool\n",
      "char_count                  10456 non-null float64\n",
      "word_count                  10456 non-null float64\n",
      "numerics                    10456 non-null float64\n",
      "upper                       10456 non-null float64\n",
      "avg_word                    10456 non-null float64\n",
      "stopwords                   10456 non-null float64\n",
      "punc%                       10456 non-null float64\n",
      "Feedback1                   10456 non-null object\n",
      "target                      10456 non-null int64\n",
      "dtypes: bool(7), float64(7), int64(1), object(9)\n",
      "memory usage: 1.5+ MB\n"
     ]
    }
   ],
   "source": [
    "checkdata.info()"
   ]
  },
  {
   "cell_type": "code",
   "execution_count": 83,
   "metadata": {},
   "outputs": [],
   "source": [
    "# missing value imputation strategy: create a new level called 'UNKNOWN'\n",
    "\n",
    "for column in all_obj_columns:\n",
    "    if checkdata[column].dtypes==\"object\":\n",
    "        checkdata[column] = checkdata[column].fillna(\"UKNOWN\").astype('object')"
   ]
  },
  {
   "cell_type": "code",
   "execution_count": 84,
   "metadata": {},
   "outputs": [],
   "source": [
    "checkdata_notarget = checkdata.drop(['target'],axis=1)"
   ]
  },
  {
   "cell_type": "code",
   "execution_count": 85,
   "metadata": {},
   "outputs": [
    {
     "data": {
      "text/plain": [
       "Index(['Respondent_Id', 'Agent_Department_Code_MU', 'Support_level_4_VP',\n",
       "       'Support_level_3_Director', 'Support_level_2_Ops_Mgr',\n",
       "       'Support_level_1_Team_Mgr', 'Survey_Medium', 'B7_1_Agent_CSR',\n",
       "       'is_mins', 'is_minute', 'is_minutes', 'is_hour', 'is_hours', 'is_hrs',\n",
       "       'is_hr', 'char_count', 'word_count', 'numerics', 'upper', 'avg_word',\n",
       "       'stopwords', 'punc%', 'Feedback1'],\n",
       "      dtype='object')"
      ]
     },
     "execution_count": 85,
     "metadata": {},
     "output_type": "execute_result"
    }
   ],
   "source": [
    "all_obj_columns = checkdata_notarget.columns\n",
    "all_obj_columns"
   ]
  },
  {
   "cell_type": "code",
   "execution_count": 86,
   "metadata": {},
   "outputs": [],
   "source": [
    "# scale the numerical variables to bring the numerical variables to the same scale for fault tolerance\n",
    "from sklearn.preprocessing import scale\n",
    "\n",
    "for column in all_obj_columns:\n",
    "    if checkdata[column].dtypes in [\"int64\",\"float64\"] :\n",
    "        checkdata[column] = scale(checkdata[column].astype('float64'))"
   ]
  },
  {
   "cell_type": "code",
   "execution_count": 87,
   "metadata": {},
   "outputs": [
    {
     "name": "stdout",
     "output_type": "stream",
     "text": [
      "<class 'pandas.core.frame.DataFrame'>\n",
      "Int64Index: 10456 entries, 79 to 168271\n",
      "Data columns (total 24 columns):\n",
      "Respondent_Id               10456 non-null object\n",
      "Agent_Department_Code_MU    10456 non-null object\n",
      "Support_level_4_VP          10456 non-null object\n",
      "Support_level_3_Director    10456 non-null object\n",
      "Support_level_2_Ops_Mgr     10456 non-null object\n",
      "Support_level_1_Team_Mgr    10456 non-null object\n",
      "Survey_Medium               10456 non-null object\n",
      "B7_1_Agent_CSR              10456 non-null object\n",
      "is_mins                     10456 non-null bool\n",
      "is_minute                   10456 non-null bool\n",
      "is_minutes                  10456 non-null bool\n",
      "is_hour                     10456 non-null bool\n",
      "is_hours                    10456 non-null bool\n",
      "is_hrs                      10456 non-null bool\n",
      "is_hr                       10456 non-null bool\n",
      "char_count                  10456 non-null float64\n",
      "word_count                  10456 non-null float64\n",
      "numerics                    10456 non-null float64\n",
      "upper                       10456 non-null float64\n",
      "avg_word                    10456 non-null float64\n",
      "stopwords                   10456 non-null float64\n",
      "punc%                       10456 non-null float64\n",
      "Feedback1                   10456 non-null object\n",
      "target                      10456 non-null int64\n",
      "dtypes: bool(7), float64(7), int64(1), object(9)\n",
      "memory usage: 1.5+ MB\n"
     ]
    }
   ],
   "source": [
    "checkdata.info()"
   ]
  },
  {
   "cell_type": "code",
   "execution_count": 88,
   "metadata": {},
   "outputs": [],
   "source": [
    "#from scipy import stats\n",
    "#stats.ttest_ind(checkdata['char_count'], checkdata['target'])"
   ]
  },
  {
   "cell_type": "code",
   "execution_count": 89,
   "metadata": {},
   "outputs": [
    {
     "name": "stderr",
     "output_type": "stream",
     "text": [
      "/home/xavient/anaconda3/lib/python3.6/site-packages/h5py/__init__.py:36: FutureWarning: Conversion of the second argument of issubdtype from `float` to `np.floating` is deprecated. In future, it will be treated as `np.float64 == np.dtype(float).type`.\n",
      "  from ._conv import register_converters as _register_converters\n",
      "Using TensorFlow backend.\n"
     ]
    },
    {
     "data": {
      "text/html": [
       "<script>requirejs.config({paths: { 'plotly': ['https://cdn.plot.ly/plotly-latest.min']},});if(!window.Plotly) {{require(['plotly'],function(plotly) {window.Plotly=plotly;});}}</script>"
      ],
      "text/vnd.plotly.v1+html": [
       "<script>requirejs.config({paths: { 'plotly': ['https://cdn.plot.ly/plotly-latest.min']},});if(!window.Plotly) {{require(['plotly'],function(plotly) {window.Plotly=plotly;});}}</script>"
      ]
     },
     "metadata": {},
     "output_type": "display_data"
    }
   ],
   "source": [
    "# Keras\n",
    "from keras.preprocessing.text import Tokenizer\n",
    "from keras.preprocessing.sequence import pad_sequences\n",
    "from keras.models import Sequential\n",
    "from keras.layers import Dense, Flatten, LSTM, Conv1D, MaxPooling1D, Dropout, Activation\n",
    "from keras.layers.embeddings import Embedding\n",
    "## Plotly\n",
    "import plotly.offline as py\n",
    "import plotly.graph_objs as go\n",
    "py.init_notebook_mode(connected=True)\n",
    "# Others\n",
    "import nltk\n",
    "import string\n",
    "import numpy as np\n",
    "import pandas as pd\n",
    "from nltk.corpus import stopwords\n",
    "\n",
    "from sklearn.manifold import TSNE"
   ]
  },
  {
   "cell_type": "code",
   "execution_count": 90,
   "metadata": {},
   "outputs": [],
   "source": [
    "vocabulary_size = 20000\n",
    "tokenizer = Tokenizer(num_words= vocabulary_size)\n",
    "tokenizer.fit_on_texts(checkdata['Feedback1'])"
   ]
  },
  {
   "cell_type": "code",
   "execution_count": 91,
   "metadata": {},
   "outputs": [
    {
     "data": {
      "text/plain": [
       "<keras_preprocessing.text.Tokenizer at 0x7febde825668>"
      ]
     },
     "execution_count": 91,
     "metadata": {},
     "output_type": "execute_result"
    }
   ],
   "source": [
    "tokenizer"
   ]
  },
  {
   "cell_type": "code",
   "execution_count": 92,
   "metadata": {},
   "outputs": [],
   "source": [
    "import pickle\n",
    "tokenizer_mytime1 = 'tokenizer.sav'\n",
    "pickle.dump(tokenizer, open(tokenizer_mytime1, 'wb'))"
   ]
  },
  {
   "cell_type": "code",
   "execution_count": 93,
   "metadata": {},
   "outputs": [],
   "source": [
    "tokenizer_mytime1 = pickle.load(open('tokenizer.sav', 'rb'))\n",
    "#print(\"tokenizer loaded: \")# + str(result))"
   ]
  },
  {
   "cell_type": "code",
   "execution_count": 94,
   "metadata": {},
   "outputs": [
    {
     "data": {
      "text/plain": [
       "<keras_preprocessing.text.Tokenizer at 0x7febde825208>"
      ]
     },
     "execution_count": 94,
     "metadata": {},
     "output_type": "execute_result"
    }
   ],
   "source": [
    "tokenizer_mytime1"
   ]
  },
  {
   "cell_type": "code",
   "execution_count": 95,
   "metadata": {},
   "outputs": [],
   "source": [
    "sequences = tokenizer_mytime1.texts_to_sequences(checkdata['Feedback1'])\n",
    "data = pad_sequences(sequences, maxlen=50)"
   ]
  },
  {
   "cell_type": "code",
   "execution_count": 101,
   "metadata": {},
   "outputs": [],
   "source": [
    "labels = checkdata['target']"
   ]
  },
  {
   "cell_type": "code",
   "execution_count": 102,
   "metadata": {},
   "outputs": [
    {
     "data": {
      "text/plain": [
       "(10456, 50)"
      ]
     },
     "execution_count": 102,
     "metadata": {},
     "output_type": "execute_result"
    }
   ],
   "source": [
    "data.shape"
   ]
  },
  {
   "cell_type": "code",
   "execution_count": 103,
   "metadata": {},
   "outputs": [],
   "source": [
    "model_lstm = Sequential()\n",
    "model_lstm.add(Embedding(20000, 100, input_length=50))\n",
    "model_lstm.add(Dropout(0.2))\n",
    "model_lstm.add(LSTM(100, dropout=0.2, recurrent_dropout=0.2))\n",
    "model_lstm.add(Dropout(0.2))\n",
    "model_lstm.add(Dense(1, activation='relu'))\n",
    "model_lstm.compile(loss='binary_crossentropy', optimizer='adam', metrics=['accuracy'])"
   ]
  },
  {
   "cell_type": "code",
   "execution_count": 104,
   "metadata": {},
   "outputs": [],
   "source": [
    "#model_lstm.fit(data, np.array(labels), validation_split=0.4, epochs=3)"
   ]
  },
  {
   "cell_type": "code",
   "execution_count": 105,
   "metadata": {},
   "outputs": [],
   "source": [
    "# model 4\n",
    "#from sklearn.model_selection import train_test_split\n",
    "#X_train6, X_test6, y_train6, y_test6 = train_test_split(data, labels, test_size = .3, random_state = seed)"
   ]
  },
  {
   "cell_type": "code",
   "execution_count": null,
   "metadata": {},
   "outputs": [
    {
     "data": {
      "text/plain": [
       "((8832, 50), (8832,), (4183, 50), (4183,))"
      ]
     },
     "execution_count": 106,
     "metadata": {},
     "output_type": "execute_result"
    }
   ],
   "source": [
    "from imblearn.over_sampling import SMOTE\n",
    "from sklearn.model_selection import train_test_split\n",
    "\n",
    "X_train, X_val, y_train, y_val = train_test_split(data, labels, test_size = .4, random_state=seed)\n",
    "\n",
    "# Using smote to increase the number of under-represented class\n",
    "sm = SMOTE(random_state = 12, ratio = 'minority')\n",
    "\n",
    "X_train_res, y_train_res = sm.fit_sample(X_train, y_train)\n",
    "X_train_res.shape, y_train_res.shape, X_val.shape, y_val.shape"
   ]
  },
  {
   "cell_type": "code",
   "execution_count": null,
   "metadata": {},
   "outputs": [
    {
     "name": "stdout",
     "output_type": "stream",
     "text": [
      "Train on 6182 samples, validate on 2650 samples\n",
      "Epoch 1/7\n"
     ]
    }
   ],
   "source": [
    "model_lstm.fit(X_train_res, y_train_res, validation_split=0.3, epochs=7, batch_size=32)"
   ]
  },
  {
   "cell_type": "code",
   "execution_count": null,
   "metadata": {},
   "outputs": [],
   "source": [
    "model_lstm.save('model_lstm.h5')\n",
    "pickle.dump(history, open(\"history.p\", \"wb\"))\n",
    "\n",
    "model_lstm = load_model('model_lstm.h5')\n",
    "history = pickle.load(open(\"history.p\", \"rb\"))"
   ]
  },
  {
   "cell_type": "code",
   "execution_count": null,
   "metadata": {},
   "outputs": [],
   "source": [
    "# serialize model to JSON\n",
    "model_smote_json = model_lstm.model.to_json()\n",
    "with open(\"model_json.json\", \"w\") as json_file:\n",
    "    json_file.write(model_smote_json)\n",
    "# serialize weights to HDF5\n",
    "model_lstm.model.save_weights(\"model_json.h5\")\n",
    "print(\"Saved model to disk\")"
   ]
  },
  {
   "cell_type": "code",
   "execution_count": 258,
   "metadata": {},
   "outputs": [
    {
     "ename": "NameError",
     "evalue": "name 'model_from_json' is not defined",
     "output_type": "error",
     "traceback": [
      "\u001b[0;31m---------------------------------------------------------------------------\u001b[0m",
      "\u001b[0;31mNameError\u001b[0m                                 Traceback (most recent call last)",
      "\u001b[0;32m<ipython-input-258-b4f6fb258a30>\u001b[0m in \u001b[0;36m<module>\u001b[0;34m()\u001b[0m\n\u001b[1;32m      2\u001b[0m \u001b[0mloaded_model_json\u001b[0m \u001b[0;34m=\u001b[0m \u001b[0mjson_file\u001b[0m\u001b[0;34m.\u001b[0m\u001b[0mread\u001b[0m\u001b[0;34m(\u001b[0m\u001b[0;34m)\u001b[0m\u001b[0;34m\u001b[0m\u001b[0m\n\u001b[1;32m      3\u001b[0m \u001b[0mjson_file\u001b[0m\u001b[0;34m.\u001b[0m\u001b[0mclose\u001b[0m\u001b[0;34m(\u001b[0m\u001b[0;34m)\u001b[0m\u001b[0;34m\u001b[0m\u001b[0m\n\u001b[0;32m----> 4\u001b[0;31m \u001b[0mloaded_model\u001b[0m \u001b[0;34m=\u001b[0m \u001b[0mmodel_from_json\u001b[0m\u001b[0;34m(\u001b[0m\u001b[0mloaded_model_json\u001b[0m\u001b[0;34m)\u001b[0m\u001b[0;34m\u001b[0m\u001b[0m\n\u001b[0m\u001b[1;32m      5\u001b[0m \u001b[0;31m# load weights into new model\u001b[0m\u001b[0;34m\u001b[0m\u001b[0;34m\u001b[0m\u001b[0m\n\u001b[1;32m      6\u001b[0m \u001b[0mmodel_lstm\u001b[0m\u001b[0;34m.\u001b[0m\u001b[0mload_weights\u001b[0m\u001b[0;34m(\u001b[0m\u001b[0;34m'model_json.h5'\u001b[0m\u001b[0;34m)\u001b[0m\u001b[0;34m\u001b[0m\u001b[0m\n",
      "\u001b[0;31mNameError\u001b[0m: name 'model_from_json' is not defined"
     ]
    }
   ],
   "source": [
    "json_file = open('model_json.json', 'r')\n",
    "loaded_model_json = json_file.read()\n",
    "json_file.close()\n",
    "loaded_model = model_from_json(loaded_model_json)\n",
    "# load weights into new model\n",
    "model_lstm.load_weights('model_json.h5')\n",
    "#model_lstm.compile(loss='binary_crossentropy', optimizer=sgd, metrics=['accuracy'])\n",
    "#print(\"Loaded model from disk\")"
   ]
  },
  {
   "cell_type": "code",
   "execution_count": 126,
   "metadata": {},
   "outputs": [],
   "source": [
    "# import metrics for model evaluation\n",
    "# Training\n",
    "from sklearn.metrics import recall_score,accuracy_score,confusion_matrix,classification_report,precision_score,roc_auc_score\n",
    "from sklearn.metrics import cohen_kappa_score\n",
    "from sklearn.model_selection import cross_val_score\n",
    "#sklearn.metrics.cohen_kappa_score(y1, y2, labels=None, weights=None, sample_weight=None)\n",
    "# create function to evaluate model performance\n",
    "\n",
    "def evaluate_classes(model, X_test, y_test):\n",
    "    y_pred = model.predict_classes(X_test)\n",
    "    accuracy = accuracy_score(y_test,y_pred)\n",
    "    roc = roc_auc_score(y_test,y_pred)\n",
    "    matrix = confusion_matrix(y_test, y_pred)\n",
    "    cohen_kappa = cohen_kappa_score(y_test, y_pred, sample_weight=None)\n",
    "    #tn, fp, fn, tp = confusion_matrix(y_test, y_pred).ravel()\n",
    "    #precision = precision_score(y_test,y_pred,average='micro')\n",
    "    print(\"accuracy :\" +str(accuracy))\n",
    "    print(\"cohen_kappa :\" +str(cohen_kappa))\n",
    "    print(\"roc :\" +str(roc))\n",
    "    print(\"matrix :\")\n",
    "    print(matrix)\n",
    "    #print(\"report :\")\n",
    "    #print(report)\n",
    "    return None# accuracy"
   ]
  },
  {
   "cell_type": "code",
   "execution_count": 127,
   "metadata": {},
   "outputs": [
    {
     "name": "stdout",
     "output_type": "stream",
     "text": [
      "accuracy :0.7372699019842218\n",
      "cohen_kappa :0.32680190130789244\n",
      "roc :0.6546379694179838\n",
      "matrix :\n",
      "[[2528  439]\n",
      " [ 660  556]]\n"
     ]
    }
   ],
   "source": [
    "evaluate_classes(model_lstm,X_val,y_val)"
   ]
  },
  {
   "cell_type": "code",
   "execution_count": 149,
   "metadata": {},
   "outputs": [],
   "source": [
    "def create_conv_model():\n",
    "    model_conv = Sequential()\n",
    "    model_conv.add(Embedding(vocabulary_size, 100, input_length=50))\n",
    "    model_conv.add(Dropout(0.2))\n",
    "    model_conv.add(Conv1D(32, 5, activation='relu'))\n",
    "    model_conv.add(MaxPooling1D(pool_size=4))\n",
    "    model_conv.add(LSTM(100))\n",
    "    model_conv.add(Dense(1, activation='sigmoid'))\n",
    "    model_conv.compile(loss='binary_crossentropy', optimizer='adam', metrics=['accuracy'])\n",
    "    return model_conv"
   ]
  },
  {
   "cell_type": "code",
   "execution_count": 150,
   "metadata": {},
   "outputs": [],
   "source": [
    "#model_conv = create_conv_model()\n",
    "#model_conv.fit(X_train_res, y_train_res, validation_split=0.3, epochs=5,batch_size=32)"
   ]
  },
  {
   "cell_type": "code",
   "execution_count": 151,
   "metadata": {},
   "outputs": [],
   "source": [
    "#evaluate_classes(model_conv,X_val,y_val)"
   ]
  },
  {
   "cell_type": "code",
   "execution_count": null,
   "metadata": {},
   "outputs": [],
   "source": [
    "# set index for customer identification code\n",
    "checkdatax_uniqueid = checkdata\n",
    "checkdatax_uniqueid = checkdatax_uniqueid.set_index('Respondent_Id')\n",
    "\n",
    "all_obj_columns=checkdatax_uniqueid.columns"
   ]
  },
  {
   "cell_type": "code",
   "execution_count": null,
   "metadata": {},
   "outputs": [],
   "source": [
    "# change datatype'\n",
    "\n",
    "for column in all_obj_columns:\n",
    "    if checkdata[column].dtypes==\"object\":\n",
    "        checkdata[column] = checkdata[column].astype('category')\n",
    "    elif checkdata[column].dtypes==\"bool\":\n",
    "        checkdata[column] = checkdata[column].astype('category')\n",
    "        #checkdata[column] = checkdata[column].apply(lambda x: x.cat.codes)\n",
    "# recoding categories to number with numerical and alphabatical order 0-1 and a-z, respectively\n",
    "\n",
    "#checkdata[all_obj_columns] = checkdata[all_obj_columns].apply(lambda x: x.cat.codes)"
   ]
  },
  {
   "cell_type": "code",
   "execution_count": null,
   "metadata": {},
   "outputs": [],
   "source": [
    "#checkdata = checkdata1\n",
    "# change datatype'\n",
    "\n",
    "#for column in all_obj_columns:\n",
    "#    if checkdata[column].dtypes==\"object\":\n",
    "#        checkdata[column] = checkdata[column].astype('category')"
   ]
  },
  {
   "cell_type": "code",
   "execution_count": null,
   "metadata": {},
   "outputs": [],
   "source": [
    "checkdata.info()"
   ]
  },
  {
   "cell_type": "code",
   "execution_count": null,
   "metadata": {},
   "outputs": [],
   "source": [
    "checkdata['Agent_Department_Code_MU'] = checkdata['Agent_Department_Code_MU'].cat.codes\n",
    "checkdata['Support_level_4_VP'] = checkdata['Support_level_4_VP'].cat.codes\n",
    "#checkdata['Support_level_4_TID_VP'] = checkdata['Support_level_4_TID_VP'].cat.codes\n",
    "checkdata['Support_level_3_Director'] = checkdata['Support_level_3_Director'].cat.codes\n",
    "#checkdata['Support_level_3_TID_Director'] = checkdata['Support_level_3_TID_Director'].cat.codes\n",
    "checkdata['Support_level_2_Ops_Mgr'] = checkdata['Support_level_2_Ops_Mgr'].cat.codes\n",
    "#checkdata['Support_level_2_TID_Ops_Mgr'] = checkdata['Support_level_2_TID_Ops_Mgr'].cat.codes\n",
    "checkdata['Support_level_1_Team_Mgr'] = checkdata['Support_level_1_Team_Mgr'].cat.codes\n",
    "#checkdata['Support_level_1_TID_Team_Mgr'] = checkdata['Support_level_1_TID_Team_Mgr'].cat.codes\n",
    "checkdata['Survey_Medium'] = checkdata['Survey_Medium'].cat.codes\n",
    "#checkdata['Survey_Integrity_Hidden'] = checkdata['Survey_Integrity_Hidden'].cat.codes\n",
    "#checkdata['Source_database'] = checkdata['Source_database'].cat.codes\n",
    "#checkdata['Source_label'] = checkdata['Source_label'].cat.codes\n",
    "checkdata['B7_1_Agent_CSR'] = checkdata['B7_1_Agent_CSR'].cat.codes\n",
    "checkdata['is_mins'] = checkdata['is_mins'].cat.codes\n",
    "checkdata['is_minute'] = checkdata['is_minute'].cat.codes\n",
    "checkdata['is_minutes'] = checkdata['is_minutes'].cat.codes\n",
    "checkdata['is_hour'] = checkdata['is_hour'].cat.codes\n",
    "checkdata['is_hours'] = checkdata['is_hours'].cat.codes\n",
    "checkdata['is_hrs'] = checkdata['is_hrs'].cat.codes\n",
    "checkdata['is_hr'] = checkdata['is_hr'].cat.codes\n",
    "checkdata['all_waits'] = checkdata['is_mins'].astype('int64') + checkdata['is_minute'].astype('int64')\\\n",
    "+ checkdata['is_minutes'].astype('int64') + checkdata['is_hour'].astype('int64') + checkdata['is_hours'].astype('int64')\\\n",
    "+ checkdata['is_hrs'].astype('int64') + checkdata['is_hr'].astype('int64')\n",
    "checkdata = checkdata.drop(['Feedback1'],axis=1)\n"
   ]
  },
  {
   "cell_type": "code",
   "execution_count": null,
   "metadata": {},
   "outputs": [],
   "source": [
    "checkdata = checkdata.set_index('Respondent_Id')"
   ]
  },
  {
   "cell_type": "code",
   "execution_count": null,
   "metadata": {},
   "outputs": [],
   "source": [
    "checkdata.head()"
   ]
  },
  {
   "cell_type": "code",
   "execution_count": null,
   "metadata": {},
   "outputs": [],
   "source": [
    "checkdata['all_waits'].value_counts()"
   ]
  },
  {
   "cell_type": "code",
   "execution_count": null,
   "metadata": {},
   "outputs": [],
   "source": [
    "#final = pd.merge(checkdata,tfidf_frame,left_index=True, right_index=True)"
   ]
  },
  {
   "cell_type": "code",
   "execution_count": null,
   "metadata": {},
   "outputs": [],
   "source": [
    "#checkdata['total_waits'].value_counts()"
   ]
  },
  {
   "cell_type": "code",
   "execution_count": null,
   "metadata": {},
   "outputs": [],
   "source": [
    "checkdata['any_wait'] = checkdata['all_waits'].apply(lambda x: 1 if x > 0 else 0)\n",
    "checkdata = checkdata.drop(['all_waits','is_hrs','is_hr','is_hour','is_mins','is_minute','is_minutes','is_hours'],axis=1)"
   ]
  },
  {
   "cell_type": "code",
   "execution_count": null,
   "metadata": {},
   "outputs": [],
   "source": [
    "#checkdata['any_wait'].value_counts()"
   ]
  },
  {
   "cell_type": "code",
   "execution_count": null,
   "metadata": {},
   "outputs": [],
   "source": [
    "#new.head()"
   ]
  },
  {
   "cell_type": "code",
   "execution_count": null,
   "metadata": {},
   "outputs": [],
   "source": [
    "checkdata.plot(kind='box',figsize=(20,10))"
   ]
  },
  {
   "cell_type": "code",
   "execution_count": null,
   "metadata": {},
   "outputs": [],
   "source": [
    "#cols = ['target']  + [col for col in checkdata if col != 'target']\n",
    "#checkdata = checkdata[cols]"
   ]
  },
  {
   "cell_type": "code",
   "execution_count": null,
   "metadata": {},
   "outputs": [],
   "source": [
    "#final.shape"
   ]
  },
  {
   "cell_type": "code",
   "execution_count": null,
   "metadata": {},
   "outputs": [],
   "source": [
    "'''\n",
    "from pandas.core.common import array_equivalent\n",
    "\n",
    "def duplicate_columns(frame):\n",
    "    groups = frame.columns.to_series().groupby(frame.dtypes).groups\n",
    "    dups = []\n",
    "\n",
    "    for t, v in groups.items():\n",
    "\n",
    "        cs = frame[v].columns\n",
    "        vs = frame[v]\n",
    "        lcs = len(cs)\n",
    "\n",
    "        for i in range(lcs):\n",
    "            ia = vs.iloc[:,i].values\n",
    "            for j in range(i+1, lcs):\n",
    "                ja = vs.iloc[:,j].values\n",
    "                if array_equivalent(ia, ja):\n",
    "                    dups.append(cs[i])\n",
    "                    break\n",
    "\n",
    "    return dups\n",
    "'''"
   ]
  },
  {
   "cell_type": "code",
   "execution_count": null,
   "metadata": {},
   "outputs": [],
   "source": [
    "#dups = duplicate_columns(final)\n",
    "#final_clean1 = final.drop(dups, axis=1)"
   ]
  },
  {
   "cell_type": "code",
   "execution_count": null,
   "metadata": {},
   "outputs": [],
   "source": [
    "#final_clean1 = final_clean1.iloc[:, ~final_clean1.columns.duplicated()]"
   ]
  },
  {
   "cell_type": "code",
   "execution_count": null,
   "metadata": {},
   "outputs": [],
   "source": [
    "#print(final.shape)\n",
    "#print(final_clean1.shape)"
   ]
  },
  {
   "cell_type": "code",
   "execution_count": null,
   "metadata": {},
   "outputs": [],
   "source": [
    "#final_clean1.info()"
   ]
  },
  {
   "cell_type": "code",
   "execution_count": null,
   "metadata": {},
   "outputs": [],
   "source": [
    "#final_clean1.head()"
   ]
  },
  {
   "cell_type": "code",
   "execution_count": null,
   "metadata": {},
   "outputs": [],
   "source": [
    "#col = final.columns #final_clean1.columns"
   ]
  },
  {
   "cell_type": "code",
   "execution_count": null,
   "metadata": {},
   "outputs": [],
   "source": [
    "#col"
   ]
  },
  {
   "cell_type": "code",
   "execution_count": null,
   "metadata": {},
   "outputs": [],
   "source": [
    "#X = final_clean[:,-'Had_knowledge_dummy']\n",
    "#labels = final['target']#final_clean1['target']\n",
    "#X = final #.drop(['target'],axis=1)\n",
    "#final_clean1.drop(['target'],axis=1)"
   ]
  },
  {
   "cell_type": "code",
   "execution_count": null,
   "metadata": {},
   "outputs": [],
   "source": [
    "'''# Training\n",
    "checkdata_1 = checkdata.copy()\n",
    "checkdata2 = checkdata.copy()\n",
    "checkdata3 = checkdata.copy()\n",
    "checkdata_1 = checkdata_1.set_index('Respondent_Id')\n",
    "checkdata_1 = checkdata_1.drop(['Feedback','B7_1_Agent_CSR'],axis=1)\n",
    "print(checkdata_1.shape)\n",
    "\n",
    "checkdata2 = checkdata2.set_index('Respondent_Id')\n",
    "checkdata2 = checkdata2[['target','B7_1_Agent_CSR']]\n",
    "print(checkdata2.shape)\n",
    "\n",
    "checkdata3 = checkdata3.set_index('Respondent_Id')\n",
    "checkdata3 = checkdata3.drop(['Feedback'],axis=1)\n",
    "print(checkdata3.shape)\n",
    "'''# Training\n"
   ]
  },
  {
   "cell_type": "code",
   "execution_count": null,
   "metadata": {},
   "outputs": [],
   "source": [
    "checkdata.head()"
   ]
  },
  {
   "cell_type": "code",
   "execution_count": null,
   "metadata": {},
   "outputs": [],
   "source": [
    "# Training\n",
    "\n",
    "#checkdata1 = checkdata.copy()\n",
    "checkdata2 = checkdata.copy()\n",
    "checkdata3 = checkdata.copy()\n",
    "#checkdata4 = final.copy()\n",
    "\n",
    "#checkdata1 = checkdata1.drop(['Feedback1'],axis=1)\n",
    "#print(checkdata1.shape)\n",
    "\n",
    "\n",
    "checkdata2 = checkdata2.drop(['B7_1_Agent_CSR'],axis=1)\n",
    "print(checkdata2.shape)\n",
    "\n",
    "\n",
    "checkdata3 = checkdata3[['B7_1_Agent_CSR','target']]\n",
    "print(checkdata3.shape)\n",
    "\n",
    "\n",
    "#checkdata4 = checkdata4.drop(['Feedback1','B7_1_Agent_CSR'],axis=1)\n",
    "#print(checkdata4.shape)"
   ]
  },
  {
   "cell_type": "code",
   "execution_count": null,
   "metadata": {},
   "outputs": [],
   "source": [
    "checkdata2.head()"
   ]
  },
  {
   "cell_type": "code",
   "execution_count": null,
   "metadata": {},
   "outputs": [],
   "source": [
    "# Training/Scoring\n",
    "# model1\n",
    "#labels1 = checkdata1['target'] #final_clean1['target']\n",
    "#X1 = checkdata1.drop(['target'],axis=1) #final_clean1.drop(['target'],axis=1)\n",
    "\n",
    "# Training/Scoring\n",
    "# model2\n",
    "labels2 = checkdata2['target'] #final_clean1['target']\n",
    "X2 = pd.DataFrame(checkdata2.drop(['target'],axis=1)) #final_clean1.drop(['target'],axis=1)\n",
    "\n",
    "#model3\n",
    "labels3 = checkdata3['target'] #final_clean1['target']\n",
    "X3 = pd.DataFrame(checkdata3.drop(['target'],axis=1)) #final_clean1.drop(['target'],axis=1)\n",
    "\n",
    "#model4\n",
    "#labels4 = checkdata4['target'] #final_clean1['target']\n",
    "#X4 = checkdata4.drop(['target'],axis=1) #final_clean1.drop(['target'],axis=1)"
   ]
  },
  {
   "cell_type": "code",
   "execution_count": null,
   "metadata": {},
   "outputs": [],
   "source": [
    "X2.shape, X3.shape"
   ]
  },
  {
   "cell_type": "code",
   "execution_count": null,
   "metadata": {},
   "outputs": [],
   "source": [
    "X_train2, X_val2, y_train2, y_val2 = train_test_split(X2, labels2, test_size = .4, random_state=seed)\n",
    "\n",
    "# Using smote to increase the number of under-represented class\n",
    "sm1 = SMOTE(random_state = seed, ratio = 'minority')\n",
    "\n",
    "X_train_res2, y_train_res2 = sm.fit_sample(X_train2, y_train2)\n",
    "X_train_res2.shape, y_train_res2.shape, X_val2.shape, y_val2.shape"
   ]
  },
  {
   "cell_type": "code",
   "execution_count": null,
   "metadata": {},
   "outputs": [],
   "source": [
    "X_train_res2 = pd.DataFrame(X_train_res2)\n",
    "#y_train_res2 = pd.DataFrame(y_train_res2)\n",
    "\n",
    "X_train_res2.columns = X2.columns\n",
    "#y_train_res2.columns = ['target']\n",
    "X_train_res2.shape, y_train_res2.shape"
   ]
  },
  {
   "cell_type": "code",
   "execution_count": null,
   "metadata": {},
   "outputs": [],
   "source": [
    "X_train3, X_val3, y_train3, y_val3 = train_test_split(X3, labels3, test_size = .4, random_state=seed)\n",
    "\n",
    "# Using smote to increase the number of under-represented class\n",
    "sm2 = SMOTE(random_state = seed, ratio = 'minority')\n",
    "\n",
    "X_train_res3, y_train_res3 = sm.fit_sample(X_train3, y_train3)\n",
    "X_train_res3.shape, y_train_res3.shape, X_val3.shape, y_val3.shape"
   ]
  },
  {
   "cell_type": "code",
   "execution_count": null,
   "metadata": {},
   "outputs": [],
   "source": [
    "X_train_res3 = pd.DataFrame(X_train_res3)\n",
    "#y_train_res3 = pd.DataFrame(y_train_res3)\n",
    "\n",
    "X_train_res3.columns = X3.columns\n",
    "#y_train_res3.columns = ['target']\n",
    "X_train_res3.shape, y_train_res3.shape"
   ]
  },
  {
   "cell_type": "code",
   "execution_count": null,
   "metadata": {},
   "outputs": [],
   "source": [
    "'''# Training\n",
    "from sklearn.model_selection import train_test_split\n",
    "\n",
    "# model 1\n",
    "X_train1, X_test1, y_train1, y_test1 = train_test_split(X1, labels1, test_size = .3, random_state = seed)\n",
    "\n",
    "# model 2\n",
    "X_train2, X_test2, y_train2, y_test2 = train_test_split(X2, labels2, test_size = .3, random_state = seed)\n",
    "\n",
    "# model 3\n",
    "X_train3, X_test3, y_train3, y_test3 = train_test_split(X3, labels3, test_size = .3, random_state = seed)\n",
    "\n",
    "# model 4\n",
    "#X_train4, X_test4, y_train4, y_test4 = train_test_split(X4, labels4, test_size = .3, random_state = seed)\n",
    "'''"
   ]
  },
  {
   "cell_type": "code",
   "execution_count": null,
   "metadata": {},
   "outputs": [],
   "source": [
    "#print(X_train1.shape)\n",
    "print(X_train_res2.shape)\n",
    "print(X_train_res3.shape)"
   ]
  },
  {
   "cell_type": "code",
   "execution_count": 141,
   "metadata": {},
   "outputs": [],
   "source": [
    "# import metrics for model evaluation\n",
    "# Training\n",
    "from sklearn.metrics import recall_score,accuracy_score,confusion_matrix,classification_report,precision_score\n",
    "from sklearn.metrics import cohen_kappa_score\n",
    "from sklearn.model_selection import cross_val_score\n",
    "#sklearn.metrics.cohen_kappa_score(y1, y2, labels=None, weights=None, sample_weight=None)\n",
    "# create function to evaluate model performance\n",
    "\n",
    "def evaluate(model, X_test, y_test):\n",
    "    y_pred = model.predict(X_test)\n",
    "    accuracy = accuracy_score(y_test,y_pred)\n",
    "    #recall = recall_score(y_test,y_pred,average='micro')\n",
    "    matrix = confusion_matrix(y_test, y_pred)\n",
    "    cohen_kappa = cohen_kappa_score(y_test, y_pred, sample_weight=None)\n",
    "    #tn, fp, fn, tp = confusion_matrix(y_test, y_pred).ravel()\n",
    "    #precision = precision_score(y_test,y_pred,average='micro')\n",
    "    print(\"accuracy :\" +str(accuracy))\n",
    "    print(\"cohen_kappa :\" +str(cohen_kappa))\n",
    "    #print(\"precision :\" +str(precision))\n",
    "    print(\"matrix :\")\n",
    "    print(matrix)\n",
    "    #print(\"report :\")\n",
    "    #print(report)\n",
    "    return None# accuracy"
   ]
  },
  {
   "cell_type": "code",
   "execution_count": null,
   "metadata": {},
   "outputs": [],
   "source": [
    "import keras\n",
    "from keras.models import Sequential\n",
    "from keras.layers import Dense\n",
    "from keras.layers import Dropout\n",
    "from keras.wrappers.scikit_learn import KerasClassifier\n",
    "from keras.models import Sequential\n",
    "from keras.layers import Dense,Dropout, Activation"
   ]
  },
  {
   "cell_type": "code",
   "execution_count": null,
   "metadata": {},
   "outputs": [],
   "source": [
    "\n",
    "\n",
    "# fix the input dimenstion to number of feature terms\n",
    "input_dimenation = int(X_train_res2.shape[1])\n",
    "\n",
    "# create the output dimenstion\n",
    "output = 1\n",
    "\n",
    "# create the batch size\n",
    "batch = 32\n",
    "\n",
    "# epoch\n",
    "epoch = 10\n",
    "\n",
    "\n",
    "\n",
    "# Function to create model, required for KerasClassifier\n",
    "def baseline_model():\n",
    "# create model\n",
    "    model = Sequential()\n",
    "    model.add(Dense(input_dimenation, input_dim=input_dimenation, activation='relu'))\n",
    "    model.add(Dense(output, activation='sigmoid'))\n",
    "    # Compile model\n",
    "    model.compile(loss='binary_crossentropy', optimizer='adam', metrics=['accuracy'])\n",
    "    return model"
   ]
  },
  {
   "cell_type": "code",
   "execution_count": null,
   "metadata": {},
   "outputs": [],
   "source": [
    "from sklearn.tree import DecisionTreeClassifier\n",
    "from sklearn.ensemble import RandomForestClassifier,AdaBoostClassifier,GradientBoostingClassifier\n",
    "from sklearn.linear_model import LogisticRegression\n",
    "import xgboost as xgb\n",
    "from xgboost.sklearn import XGBClassifier\n",
    "from sklearn.model_selection import KFold\n",
    "from keras.wrappers.scikit_learn import KerasClassifier\n",
    "from sklearn.svm import SVC \n",
    "from sklearn.neighbors import KNeighborsClassifier\n",
    "\n",
    "from sklearn import model_selection\n",
    "import matplotlib.pyplot as plt\n",
    "\n",
    "# generate list of models  \n",
    "models = []\n",
    "models.append(('XGB', XGBClassifier(n_estimators = 10,learning_rate=.1)))\n",
    "models.append(('RF', RandomForestClassifier(n_estimators = 10 ,random_state=21)))\n",
    "models.append(('DT', DecisionTreeClassifier(splitter='random', random_state=21)))\n",
    "models.append(('ADA', AdaBoostClassifier(n_estimators = 10,learning_rate=.1, random_state=21)))\n",
    "models.append(('SVC', SVC( random_state=21)))\n",
    "models.append(('LM', LogisticRegression()))\n",
    "models.append(('TF', KerasClassifier(build_fn=baseline_model, epochs=epoch, batch_size=batch, verbose=0))) \n",
    "\n",
    "# check model performance\n",
    "results = []\n",
    "names = []\n",
    "seed = 7\n",
    "msgall = []\n",
    "scoring='accuracy'\n",
    "for name, model in models:\n",
    "    kfold = model_selection.KFold(n_splits = 10, random_state=seed)\n",
    "    #cv_results = cross_val_score(model, X_train_res, y_train_res, cv=kfold, scoring = scoring)\n",
    "    cv_results = cross_val_score(model, X_train_res2, y_train_res2, cv=kfold, scoring = scoring)\n",
    "    results.append(cv_results)\n",
    "    names.append(name)\n",
    "    msg = (name, cv_results.mean(), cv_results.std())\n",
    "    print (msg)\n",
    "    msgall.append(msg)\n",
    "\n",
    "# compare algorithms\n",
    "fig = plt.figure()\n",
    "fig.suptitle(\"algorithm comparision\")\n",
    "ax = fig.add_subplot(111)\n",
    "plt.boxplot(results)\n",
    "ax.set_xticklabels(names)\n",
    "plt.show()\n"
   ]
  },
  {
   "cell_type": "code",
   "execution_count": null,
   "metadata": {},
   "outputs": [],
   "source": [
    "'''\n",
    "def create_conv_model():\n",
    "    model_conv = Sequential()\n",
    "    model_conv.add(Embedding(10000, 100, input_length=input_dimenation))\n",
    "    model_conv.add(Dropout(0.2))\n",
    "    model_conv.add(Conv1D(64, 5, activation='relu'))\n",
    "    model_conv.add(MaxPooling1D(pool_size=4))\n",
    "    model_conv.add(LSTM(100))\n",
    "    model_conv.add(Dense(1, activation='sigmoid'))\n",
    "    model_conv.compile(loss='binary_crossentropy', optimizer='adam',    metrics=['accuracy'])\n",
    "    return model_conv\n",
    "model_conv = create_conv_model()\n",
    "model_conv.fit(X_train_res3, y_train_res3, validation_split=0.4, epochs = 3)\n",
    "'''"
   ]
  },
  {
   "cell_type": "code",
   "execution_count": null,
   "metadata": {},
   "outputs": [],
   "source": [
    "#evaluate_classes(model_conv,X_test1,y_test1)"
   ]
  },
  {
   "cell_type": "code",
   "execution_count": null,
   "metadata": {},
   "outputs": [],
   "source": [
    "from keras.models import Sequential\n",
    "from keras.layers import Dense,Dropout, Activation\n",
    "\n",
    "# fix the input dimenstion to number of feature terms\n",
    "#input_dimenation = int(X1.shape[1])\n",
    "\n",
    "# create the output dimenstion\n",
    "output = 1\n",
    "\n",
    "# create the batch size\n",
    "#batch = int(round(X4.shape[0]/10,0))\n",
    "\n",
    "# epoch\n",
    "epoch = 10\n",
    "\n",
    "\n",
    "\n",
    "# Function to create model, required for KerasClassifier\n",
    "def baseline_model():\n",
    "# create model\n",
    "    model = Sequential()\n",
    "    model.add(Dense(input_dimenation, input_dim=input_dimenation, activation='relu'))\n",
    "    model.add(Dense(output, activation='sigmoid'))\n",
    "    # Compile model\n",
    "    model.compile(loss='binary_crossentropy', optimizer='adam', metrics=['accuracy'])\n",
    "    return model"
   ]
  },
  {
   "cell_type": "code",
   "execution_count": null,
   "metadata": {},
   "outputs": [],
   "source": [
    "# Training\n",
    "import xgboost as xgb\n",
    "from xgboost.sklearn import XGBClassifier\n",
    "import scipy.stats as st\n",
    "from sklearn.grid_search import RandomizedSearchCV,GridSearchCV\n",
    "\n",
    "# Create the random grid\n",
    "\n",
    "# First create the base model to tune\n",
    "n_estimators = [int(x) for x in np.linspace(1000, 10000, num = 10)]\n",
    "max_depth = [int(x) for x in np.linspace(1, 10, num = 10)]\n",
    "learning_rate = [int(x) for x in np.linspace(0.01, 0.1, num = 2)]\n",
    "one_to_left = st.beta(10, 1)  \n",
    "from_zero_positive = st.expon(0, 50)\n",
    "random_state=seed\n",
    "one_to_left = st.beta(10, 1)  \n",
    "from_zero_positive = st.expon(0, 50)\n",
    "\n",
    "params = {  \n",
    "    \"n_estimators\": n_estimators,\n",
    "    \"learning_rate\": learning_rate,\n",
    "    \"max_depth\": max_depth,\n",
    "    \"learning_rate\": st.uniform(0.05, 0.1),\n",
    "    \"colsample_bytree\": one_to_left,\n",
    "    \"subsample\": one_to_left,\n",
    "    \"gamma\": st.uniform(0, 10),\n",
    "    \"reg_alpha\": from_zero_positive,\n",
    "    \"min_child_weight\": from_zero_positive,\n",
    "    \"random_state\":random_state\n",
    "}\n",
    "\n",
    "#xgbclass = XGBClassifier()\n",
    "xgbclass2 = XGBClassifier(nthreads=-1)  \n",
    "xgbclass3 = XGBClassifier(nthreads=-1)  "
   ]
  },
  {
   "cell_type": "code",
   "execution_count": null,
   "metadata": {},
   "outputs": [],
   "source": [
    "#X_train1.shape,y_train1.shape"
   ]
  },
  {
   "cell_type": "code",
   "execution_count": null,
   "metadata": {},
   "outputs": [],
   "source": [
    "#X_train2.shape,y_train2.shape"
   ]
  },
  {
   "cell_type": "code",
   "execution_count": null,
   "metadata": {},
   "outputs": [],
   "source": [
    "#X_train6.shape,y_train6.shape"
   ]
  },
  {
   "cell_type": "code",
   "execution_count": null,
   "metadata": {},
   "outputs": [],
   "source": [
    "# Training\n",
    "# model 1\n",
    "#xgb1 = XGBClassifier(n_estimators=5000,learning_rate=.1, max_depth=4, min_child_weight=200) \n",
    "#xgb1.fit(X_train1,y_train1)\n",
    "\n",
    "# model 2\n",
    "#xgb2 = XGBClassifier(n_estimators=5000,learning_rate=.1, max_depth=4, min_child_weight=200) \n",
    "#xgb2.fit(X_train2,y_train2)"
   ]
  },
  {
   "cell_type": "code",
   "execution_count": null,
   "metadata": {},
   "outputs": [],
   "source": [
    "#xgbclass = XGBClassifier(n_estimators = 2000, max_depth = 3, learning_rate = 0.1)"
   ]
  },
  {
   "cell_type": "code",
   "execution_count": null,
   "metadata": {},
   "outputs": [],
   "source": [
    "#xgbclass1.fit(X_train1,y_train1) "
   ]
  },
  {
   "cell_type": "code",
   "execution_count": null,
   "metadata": {},
   "outputs": [],
   "source": [
    "xgbclass2.fit(X_train_res2,y_train_res2) "
   ]
  },
  {
   "cell_type": "code",
   "execution_count": null,
   "metadata": {},
   "outputs": [],
   "source": [
    "xgbclass3.fit(X_train_res3,y_train_res3) "
   ]
  },
  {
   "cell_type": "code",
   "execution_count": null,
   "metadata": {},
   "outputs": [],
   "source": [
    "# Training\n",
    "## Check accuracy on test set\n",
    "#print(\"xgb_accuracy1\")\n",
    "#xgb_accuracy1 = evaluate(xgbclass,X_test1,y_test1)\n",
    "#print(xgb_accuracy1)\n",
    "\n",
    "print(\"xgb_accuracy2\")\n",
    "xgb_accuracy2 = evaluate(xgbclass2,X_val2,y_val2)\n",
    "print(xgb_accuracy2)\n",
    "\n",
    "print(\"xgb_accuracy3\")\n",
    "xgb_accuracy3 = evaluate(xgbclass3,X_val3,y_val3)\n",
    "print(xgb_accuracy3)\n",
    "\n",
    "#print(\"xgb_accuracy4\")\n",
    "#xgb_accuracy4 = evaluate(xgbclass4,X_test4,y_test4)\n",
    "#print(xgb_accuracy4)\n",
    "\n",
    "#print(\"xgb_accuracy5\")\n",
    "#xgb_accuracy4 = evaluate(xgbclass,X_test6,y_test6)\n",
    "#print(xgb_accuracy4)"
   ]
  },
  {
   "cell_type": "code",
   "execution_count": null,
   "metadata": {},
   "outputs": [],
   "source": [
    "# feature importance plots\n",
    "\n",
    "print(\"XGBOOST1 feature importance\")\n",
    "feature_names = X2.columns\n",
    "feature_importance = xgbclass2.feature_importances_\n",
    "sorted_idx = np.argsort(feature_importance)\n",
    "pos = np.arange(sorted_idx.shape[0]) + .5\n",
    "plt.figure(figsize=(10,10))\n",
    "plt.barh(pos, feature_importance[sorted_idx], align='center')\n",
    "plt.yticks(pos, feature_names[sorted_idx])\n",
    "feature_names[sorted_idx]\n",
    "plt.show()"
   ]
  },
  {
   "cell_type": "code",
   "execution_count": null,
   "metadata": {},
   "outputs": [],
   "source": [
    "xgbclass.feature_importances_"
   ]
  },
  {
   "cell_type": "code",
   "execution_count": null,
   "metadata": {},
   "outputs": [],
   "source": [
    "# feature importance plots\n",
    "\n",
    "print(\"XGBOOST2 feature importance\")\n",
    "feature_names = X2.columns\n",
    "feature_importance = xgbclass2.feature_importances_\n",
    "sorted_idx = np.argsort(feature_importance)\n",
    "pos = np.arange(sorted_idx.shape[0]) + .5\n",
    "plt.figure(figsize=(10,10))\n",
    "plt.barh(pos, feature_importance[sorted_idx], align='center')\n",
    "plt.yticks(pos, feature_names[sorted_idx])\n",
    "feature_names[sorted_idx]\n",
    "plt.show()"
   ]
  },
  {
   "cell_type": "code",
   "execution_count": null,
   "metadata": {},
   "outputs": [],
   "source": [
    "# feature importance plots\n",
    "\n",
    "print(\"XGBOOST3 feature importance\")\n",
    "feature_names = X3.columns\n",
    "feature_importance = xgbclass3.feature_importances_\n",
    "sorted_idx = np.argsort(feature_importance)\n",
    "pos = np.arange(sorted_idx.shape[0]) + .5\n",
    "plt.figure(figsize=(10,10))\n",
    "plt.barh(pos, feature_importance[sorted_idx], align='center')\n",
    "plt.yticks(pos, feature_names[sorted_idx])\n",
    "feature_names[sorted_idx]\n",
    "plt.show()"
   ]
  },
  {
   "cell_type": "code",
   "execution_count": null,
   "metadata": {},
   "outputs": [],
   "source": [
    "'''# Principal Component Analysis\n",
    "from numpy import array\n",
    "from sklearn.decomposition import PCA\n",
    "# define a matrix\n",
    "A = array([[1, 2], [3, 4], [5, 6]])\n",
    "print(A)\n",
    "# create the PCA instance\n",
    "pca = PCA(2)\n",
    "# fit on data\n",
    "pca.fit(A)\n",
    "# access values and vectors\n",
    "print(pca.components_)\n",
    "print(pca.explained_variance_)\n",
    "# transform data\n",
    "B = pca.transform(A)\n",
    "print(B)\n",
    "'''"
   ]
  },
  {
   "cell_type": "code",
   "execution_count": null,
   "metadata": {},
   "outputs": [],
   "source": [
    "# First create the base model to tune\n",
    "\n",
    "rf = RandomForestClassifier()\n",
    "\n",
    "# Number of trees in random forest\n",
    "n_estimators = [int(x) for x in np.linspace(start = 200, stop = 2000, num = 10)]\n",
    "# Number of features to consider at every split\n",
    "max_features = ['auto', 'sqrt']\n",
    "# Maximum number of levels in tree\n",
    "max_depth = [int(x) for x in np.linspace(10, 110, num = 11)]\n",
    "max_depth.append(None)\n",
    "# Minimum number of samples required to split a node\n",
    "min_samples_split = [2, 5, 10]\n",
    "# Minimum number of samples required at each leaf node\n",
    "min_samples_leaf = [1, 2, 4]\n",
    "# Method of selecting samples for training each tree\n",
    "bootstrap = [True, False]\n",
    "random_state = [21]\n",
    "\n",
    "# Create the random grid\n",
    "\n",
    "random_grid = {'n_estimators': n_estimators,\n",
    "               'max_features': max_features,\n",
    "               'max_depth': max_depth,\n",
    "               'min_samples_split': min_samples_split,\n",
    "               'min_samples_leaf': min_samples_leaf,\n",
    "               'bootstrap': bootstrap,\n",
    "               'random_state':random_state}\n",
    "#pprint(random_grid)"
   ]
  },
  {
   "cell_type": "code",
   "execution_count": null,
   "metadata": {},
   "outputs": [],
   "source": [
    "# Random search of parameters, using 10 fold cross validation,\n",
    "# search across 50 different combinations, and use all available cores\n",
    "rf2 = RandomizedSearchCV(estimator = rf, param_distributions = random_grid, n_iter = 5, cv = 3, verbose=0, random_state=42, n_jobs = -1)\n",
    "# Fit the random search model\n",
    "rf2.fit(X_train_res2,y_train_res2)"
   ]
  },
  {
   "cell_type": "code",
   "execution_count": null,
   "metadata": {},
   "outputs": [],
   "source": [
    "# Random search of parameters, using 10 fold cross validation,\n",
    "# search across 50 different combinations, and use all available cores\n",
    "rf3 = RandomizedSearchCV(estimator = rf, param_distributions = random_grid, n_iter = 5, cv = 3, verbose=0, random_state=42, n_jobs = -1)\n",
    "# Fit the random search model\n",
    "rf3.fit(X_train_res3,y_train_res3)"
   ]
  },
  {
   "cell_type": "code",
   "execution_count": null,
   "metadata": {},
   "outputs": [],
   "source": [
    "# Training\n",
    "## Check accuracy on test set\n",
    "#print(\"xgb_accuracy1\")\n",
    "#xgb_accuracy1 = evaluate(xgbclass,X_test1,y_test1)\n",
    "#print(xgb_accuracy1)\n",
    "\n",
    "print(\"rf_accuracy2\")\n",
    "rf_accuracy2 = evaluate(rf2,X_val2,y_val2)\n",
    "print(xgb_accuracy2)\n",
    "\n",
    "print(\"rf_accuracy3\")\n",
    "rf_accuracy3 = evaluate(rf3,X_val3,y_val3)\n",
    "print(xgb_accuracy3)\n",
    "\n",
    "#print(\"xgb_accuracy4\")\n",
    "#xgb_accuracy4 = evaluate(xgbclass4,X_test4,y_test4)\n",
    "#print(xgb_accuracy4)\n",
    "\n",
    "#print(\"xgb_accuracy5\")\n",
    "#xgb_accuracy4 = evaluate(xgbclass,X_test6,y_test6)\n",
    "#print(xgb_accuracy4)"
   ]
  },
  {
   "cell_type": "code",
   "execution_count": null,
   "metadata": {},
   "outputs": [],
   "source": [
    "# Baseline Model on the Sonar Dataset\n",
    "#from sklearn.model_selection import GridSearchCV\n",
    "import numpy as np\n",
    "from pandas import read_csv\n",
    "from keras.models import Sequential\n",
    "from keras.layers import Dense, Dropout, Activation, Embedding, LSTM\n",
    "from keras.wrappers.scikit_learn import KerasClassifier\n",
    "from keras.optimizers import SGD\n",
    "from keras.callbacks import ModelCheckpoint\n",
    "from keras.constraints import maxnorm\n",
    "\n",
    "# fix the input dimenstion to number of feature terms\n",
    "input_dimenation = X_train_res2.shape[1]\n",
    "# INPUT: model parameters\n",
    "epochs_input = 100\n",
    "batch_size_input = 50"
   ]
  },
  {
   "cell_type": "code",
   "execution_count": null,
   "metadata": {},
   "outputs": [],
   "source": [
    "# RandomizedSearchCV to pick hyperparamenters\n",
    "sgd = SGD(lr=0.1, momentum=0.9, decay=0.0, nesterov=False)\n",
    "\n",
    "# create model\n",
    "def create_model():\n",
    "    model = Sequential()\n",
    "    model.add(Dropout(0.2, input_shape=(input_dimenation,)))\n",
    "    model.add(Dense(input_dimenation, input_dim=input_dimenation, kernel_initializer='uniform', activation='relu',kernel_constraint=maxnorm(3)))\n",
    "    #model.add(Dropout(0.2))\n",
    "    #model.add(Dense(input_dimenation, input_dim=input_dimenation, kernel_initializer='uniform', activation='relu',kernel_constraint=maxnorm(3)))\n",
    "    #model.add(Dropout(0.2))\n",
    "    model.add(Dense(1, kernel_initializer='uniform', activation='sigmoid'))\n",
    "    # Compile model\n",
    "    model.compile(loss='binary_crossentropy', optimizer='adam', metrics=['accuracy'])\n",
    "    return model"
   ]
  },
  {
   "cell_type": "code",
   "execution_count": null,
   "metadata": {
    "scrolled": true
   },
   "outputs": [],
   "source": [
    "# create model\n",
    "model_mlp = KerasClassifier(build_fn = create_model, epochs = epochs_input, batch_size = batch_size_input, validation_split=0.4)\n",
    "# Fit the model\n",
    "model_mlp.fit(X_train_res2, y_train_res2)"
   ]
  },
  {
   "cell_type": "code",
   "execution_count": null,
   "metadata": {},
   "outputs": [],
   "source": [
    "# Check accuracy on test set\n",
    "\n",
    "tf_accuracy = evaluate(model_mlp,X_val2,y_val2)"
   ]
  },
  {
   "cell_type": "code",
   "execution_count": null,
   "metadata": {},
   "outputs": [],
   "source": [
    "# import pickle\n",
    "import pickle\n",
    "################XGBoost model save\n",
    "# save XGB_smote model to disk\n",
    "respected_mytime1 = 'respected_mytime1.sav'\n",
    "pickle.dump(xgbclass1, open(respected_mytime1, 'wb'))\n",
    "\n",
    "################XGBoost model save\n",
    "# save XGB_smote model to disk\n",
    "respected_mytime2 = 'respected_mytime2.sav'\n",
    "pickle.dump(xgbclass2, open(respected_mytime2, 'wb'))\n",
    "\n",
    "################XGBoost model save\n",
    "# save XGB_smote model to disk\n",
    "respected_mytime2 = 'respected_mytime3.sav'\n",
    "pickle.dump(xgbclass2, open(respected_mytime2, 'wb'))"
   ]
  },
  {
   "cell_type": "code",
   "execution_count": null,
   "metadata": {},
   "outputs": [],
   "source": [
    "# import pickle\n",
    "import pickle\n",
    "################XGBoost model save\n",
    "# save XGB_smote model to disk\n",
    "xgbclass1 = pickle.load(open('respected_mytime1.sav', 'rb'))\n",
    "print(\"xgb1 loaded: \")# + str(result))\n",
    "\n",
    "################XGBoost model save\n",
    "# save XGB_smote model to disk\n",
    "xgbclass2 = pickle.load(open('respected_mytime2.sav', 'rb'))\n",
    "print(\"xgb2 loaded: \")# + str(result))\n",
    "\n",
    "################XGBoost model save\n",
    "# save XGB_smote model to disk\n",
    "xgbclass3 = pickle.load(open('respected_mytime3.sav', 'rb'))\n",
    "print(\"xgb3 loaded: \")# + str(result))"
   ]
  },
  {
   "cell_type": "code",
   "execution_count": null,
   "metadata": {},
   "outputs": [],
   "source": [
    "#xgb.best_estimator_"
   ]
  },
  {
   "cell_type": "code",
   "execution_count": null,
   "metadata": {},
   "outputs": [],
   "source": [
    "#pred = xgbclass.predict(final)"
   ]
  },
  {
   "cell_type": "code",
   "execution_count": null,
   "metadata": {},
   "outputs": [],
   "source": [
    "#pred = pd.DataFrame(pred,index=checkdata1['Respondent_Id'])\n",
    "#final_result=pd.concat([X,pred],axis=1)"
   ]
  },
  {
   "cell_type": "code",
   "execution_count": null,
   "metadata": {},
   "outputs": [],
   "source": [
    "def uncondition(rating):\n",
    "    if rating == 0:\n",
    "        return 'Excellent'\n",
    "    elif rating == 1:\n",
    "        return 'Very good'\n",
    "    elif rating == 2:\n",
    "        return 'Good' \n",
    "    elif rating == 3:\n",
    "        return 'Fair'\n",
    "    elif rating == 4:\n",
    "        return 'Poor'\n",
    "    else:\n",
    "        return \"missing\""
   ]
  },
  {
   "cell_type": "code",
   "execution_count": null,
   "metadata": {},
   "outputs": [],
   "source": [
    "#final_result.columns = ['Agent_Department_Code_MU','Support_level_4_VP','Support_level_3_Director','Support_level_2_Ops_Mgr',\n",
    "#                        'Support_level_1_Team_Mgr','Survey_Medium','word_count','char_count','numerics','upper','avg_word',\n",
    "#                        'stopwords','punc%','is_Excellent','is_Vgood','is_good','is_fair','is_poor','any_wait','prediction']"
   ]
  },
  {
   "cell_type": "code",
   "execution_count": null,
   "metadata": {},
   "outputs": [],
   "source": [
    "#final_result['prediction_verbose'] = final_result['prediction'].apply(lambda x: uncondition(x))"
   ]
  },
  {
   "cell_type": "code",
   "execution_count": null,
   "metadata": {},
   "outputs": [],
   "source": [
    "#final_result.to_csv(\"Had_knowledgeonehot.csv\")"
   ]
  },
  {
   "cell_type": "code",
   "execution_count": null,
   "metadata": {},
   "outputs": [],
   "source": [
    "#Scoring 1\n",
    "#'''\n",
    "pred1 = xgbclass1.predict_proba(X1)\n",
    "pred1 = pd.DataFrame(pred1,index=checkdatax['Respondent_Id'])\n",
    "pred1.columns = ['prediction0','prediction1']\n",
    "##final_result=pd.concat([X,pred],axis=1)\\\n",
    "#pred['prediction_verbose'] = pred['prediction'].apply(lambda x: uncondition(x))\n",
    "#pred1['prediction1'].to_csv(\"respectedmytime_noexcellent1.csv\")\n",
    "#'''"
   ]
  },
  {
   "cell_type": "code",
   "execution_count": null,
   "metadata": {},
   "outputs": [],
   "source": [
    "#Scoring 2\n",
    "#'''\n",
    "pred2 = xgbclass2.predict_proba(X2)\n",
    "pred2 = pd.DataFrame(pred2,index=checkdatax['Respondent_Id'])\n",
    "pred2.columns = ['prediction0','prediction1']\n",
    "##final_result=pd.concat([X,pred],axis=1)\\\n",
    "#pred['prediction_verbose'] = pred['prediction'].apply(lambda x: uncondition(x))\n",
    "#pred2['prediction1'].to_csv(\"respectedmytime_noexcellent2.csv\")\n",
    "#'''"
   ]
  },
  {
   "cell_type": "code",
   "execution_count": null,
   "metadata": {},
   "outputs": [],
   "source": [
    "#Scoring 3\n",
    "#'''\n",
    "pred3 = xgbclass3.predict_proba(X2)\n",
    "pred3 = pd.DataFrame(pred3,index=checkdatax['Respondent_Id'])\n",
    "pred3.columns = ['prediction0','prediction1']\n",
    "##final_result=pd.concat([X,pred],axis=1)\\\n",
    "#pred['prediction_verbose'] = pred['prediction'].apply(lambda x: uncondition(x))\n",
    "#pred3['prediction1'].to_csv(\"respectedmytime_noexcellent3.csv\")\n",
    "#'''"
   ]
  },
  {
   "cell_type": "code",
   "execution_count": null,
   "metadata": {},
   "outputs": [],
   "source": []
  }
 ],
 "metadata": {
  "kernelspec": {
   "display_name": "Python 3",
   "language": "python",
   "name": "python3"
  },
  "language_info": {
   "codemirror_mode": {
    "name": "ipython",
    "version": 3
   },
   "file_extension": ".py",
   "mimetype": "text/x-python",
   "name": "python",
   "nbconvert_exporter": "python",
   "pygments_lexer": "ipython3",
   "version": "3.6.4"
  }
 },
 "nbformat": 4,
 "nbformat_minor": 2
}
