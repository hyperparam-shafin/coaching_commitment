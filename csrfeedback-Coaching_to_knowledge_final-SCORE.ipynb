{
 "cells": [
  {
   "cell_type": "code",
   "execution_count": 1,
   "metadata": {},
   "outputs": [],
   "source": [
    "import os\n",
    "import random\n",
    "os.chdir(r\"/home/xavient/koodo_survey\")\n",
    "import string\n",
    "import re\n",
    "import pandas as pd\n",
    "import numpy as np\n",
    "pd.set_option('display.max_colwidth',100)\n",
    "import matplotlib.pyplot as plt\n",
    "import spacy\n",
    "import nltk\n",
    "from nltk.tokenize import sent_tokenize, word_tokenize\n",
    "from nltk.stem import PorterStemmer\n",
    "ps = PorterStemmer()\n",
    "from textblob import Word\n",
    "stopwords = nltk.corpus.stopwords.words('english')\n",
    "seed = 42"
   ]
  },
  {
   "cell_type": "code",
   "execution_count": 2,
   "metadata": {},
   "outputs": [],
   "source": [
    "rawdata = pd.read_excel('customer_verbatim_OMNI___clean_.xlsx')"
   ]
  },
  {
   "cell_type": "code",
   "execution_count": 17,
   "metadata": {},
   "outputs": [],
   "source": [
    "data = rawdata.copy()"
   ]
  },
  {
   "cell_type": "code",
   "execution_count": 18,
   "metadata": {},
   "outputs": [
    {
     "data": {
      "text/plain": [
       "168294"
      ]
     },
     "execution_count": 18,
     "metadata": {},
     "output_type": "execute_result"
    }
   ],
   "source": [
    "len(data)"
   ]
  },
  {
   "cell_type": "code",
   "execution_count": 19,
   "metadata": {},
   "outputs": [
    {
     "data": {
      "text/html": [
       "<div>\n",
       "<style scoped>\n",
       "    .dataframe tbody tr th:only-of-type {\n",
       "        vertical-align: middle;\n",
       "    }\n",
       "\n",
       "    .dataframe tbody tr th {\n",
       "        vertical-align: top;\n",
       "    }\n",
       "\n",
       "    .dataframe thead th {\n",
       "        text-align: right;\n",
       "    }\n",
       "</style>\n",
       "<table border=\"1\" class=\"dataframe\">\n",
       "  <thead>\n",
       "    <tr style=\"text-align: right;\">\n",
       "      <th></th>\n",
       "      <th>Respondent Id</th>\n",
       "      <th>MCX_ID</th>\n",
       "      <th>Line of Business</th>\n",
       "      <th>Agent Department Code (MU)</th>\n",
       "      <th>Support level 4 (VP)</th>\n",
       "      <th>Support level 4 TID (VP)</th>\n",
       "      <th>Support level 3 (Director)</th>\n",
       "      <th>Support level 3 TID (Director)</th>\n",
       "      <th>Support level 2 (Ops Mgr)</th>\n",
       "      <th>Support level 2 TID (Ops Mgr)</th>\n",
       "      <th>...</th>\n",
       "      <th>Source label</th>\n",
       "      <th>Source date</th>\n",
       "      <th>Source ID</th>\n",
       "      <th>B7_1. Agent (CSR) Performance Regarding the last call centre representative who assisted you, how would you rate their performan</th>\n",
       "      <th>Please share any comments you have regarding AGENT_FIRST_NAME, the SURVEY_BRAND customer service/Channel Care representative who assisted you.</th>\n",
       "      <th>Communicated clearly</th>\n",
       "      <th>Were willing to help</th>\n",
       "      <th>Treated me as a valued customer</th>\n",
       "      <th>Respected my time</th>\n",
       "      <th>Had the knowledge to respond to my inquiries</th>\n",
       "    </tr>\n",
       "  </thead>\n",
       "  <tbody>\n",
       "    <tr>\n",
       "      <th>0</th>\n",
       "      <td>3524374</td>\n",
       "      <td>37364015008</td>\n",
       "      <td>Mobility</td>\n",
       "      <td>KDO_CR1_CELL300_TIE</td>\n",
       "      <td>LR</td>\n",
       "      <td>810410.0</td>\n",
       "      <td>DL</td>\n",
       "      <td>875189.0</td>\n",
       "      <td>MB</td>\n",
       "      <td>135951.0</td>\n",
       "      <td>...</td>\n",
       "      <td>INTERACTION_ID</td>\n",
       "      <td>20171229.0</td>\n",
       "      <td>706901562</td>\n",
       "      <td>Good</td>\n",
       "      <td>NaN</td>\n",
       "      <td>NaN</td>\n",
       "      <td>NaN</td>\n",
       "      <td>NaN</td>\n",
       "      <td>NaN</td>\n",
       "      <td>NaN</td>\n",
       "    </tr>\n",
       "    <tr>\n",
       "      <th>1</th>\n",
       "      <td>3524372</td>\n",
       "      <td>37364014950</td>\n",
       "      <td>Mobility</td>\n",
       "      <td>KDO_CR1_CELL300_TIE</td>\n",
       "      <td>LR</td>\n",
       "      <td>810410.0</td>\n",
       "      <td>DL</td>\n",
       "      <td>875189.0</td>\n",
       "      <td>JC</td>\n",
       "      <td>167206.0</td>\n",
       "      <td>...</td>\n",
       "      <td>INTERACTION_ID</td>\n",
       "      <td>20171229.0</td>\n",
       "      <td>706711123</td>\n",
       "      <td>Excellent</td>\n",
       "      <td>He was very helpful and polite.</td>\n",
       "      <td>NaN</td>\n",
       "      <td>NaN</td>\n",
       "      <td>NaN</td>\n",
       "      <td>NaN</td>\n",
       "      <td>NaN</td>\n",
       "    </tr>\n",
       "    <tr>\n",
       "      <th>2</th>\n",
       "      <td>3524371</td>\n",
       "      <td>37364014873</td>\n",
       "      <td>Mobility</td>\n",
       "      <td>KDO_TS_CELL300_TIE</td>\n",
       "      <td>LR</td>\n",
       "      <td>810410.0</td>\n",
       "      <td>DL</td>\n",
       "      <td>875189.0</td>\n",
       "      <td>MB</td>\n",
       "      <td>135951.0</td>\n",
       "      <td>...</td>\n",
       "      <td>INTERACTION_ID</td>\n",
       "      <td>20171229.0</td>\n",
       "      <td>706719963</td>\n",
       "      <td>Excellent</td>\n",
       "      <td>Helpful</td>\n",
       "      <td>NaN</td>\n",
       "      <td>NaN</td>\n",
       "      <td>NaN</td>\n",
       "      <td>NaN</td>\n",
       "      <td>NaN</td>\n",
       "    </tr>\n",
       "    <tr>\n",
       "      <th>3</th>\n",
       "      <td>3524367</td>\n",
       "      <td>37364014106</td>\n",
       "      <td>Mobility</td>\n",
       "      <td>KDO_CR1_CELL300_TIE</td>\n",
       "      <td>NaN</td>\n",
       "      <td>NaN</td>\n",
       "      <td>NaN</td>\n",
       "      <td>NaN</td>\n",
       "      <td>GP</td>\n",
       "      <td>146069.0</td>\n",
       "      <td>...</td>\n",
       "      <td>INTERACTION_ID</td>\n",
       "      <td>20171229.0</td>\n",
       "      <td>706835893</td>\n",
       "      <td>Very good</td>\n",
       "      <td>NaN</td>\n",
       "      <td>NaN</td>\n",
       "      <td>NaN</td>\n",
       "      <td>NaN</td>\n",
       "      <td>NaN</td>\n",
       "      <td>NaN</td>\n",
       "    </tr>\n",
       "    <tr>\n",
       "      <th>4</th>\n",
       "      <td>3524363</td>\n",
       "      <td>37364013496</td>\n",
       "      <td>Mobility</td>\n",
       "      <td>KDO_CR2_CELL300_TIE</td>\n",
       "      <td>LR</td>\n",
       "      <td>810410.0</td>\n",
       "      <td>DL</td>\n",
       "      <td>875189.0</td>\n",
       "      <td>JC</td>\n",
       "      <td>167206.0</td>\n",
       "      <td>...</td>\n",
       "      <td>INTERACTION_ID</td>\n",
       "      <td>20171229.0</td>\n",
       "      <td>706908437</td>\n",
       "      <td>Good</td>\n",
       "      <td>None.  I spent almost 2hrs on the phone to resolve an issue and all I received was a credit of $...</td>\n",
       "      <td>NaN</td>\n",
       "      <td>NaN</td>\n",
       "      <td>NaN</td>\n",
       "      <td>NaN</td>\n",
       "      <td>NaN</td>\n",
       "    </tr>\n",
       "  </tbody>\n",
       "</table>\n",
       "<p>5 rows × 29 columns</p>\n",
       "</div>"
      ],
      "text/plain": [
       "   Respondent Id       MCX_ID Line of Business Agent Department Code (MU)  \\\n",
       "0        3524374  37364015008         Mobility        KDO_CR1_CELL300_TIE   \n",
       "1        3524372  37364014950         Mobility        KDO_CR1_CELL300_TIE   \n",
       "2        3524371  37364014873         Mobility         KDO_TS_CELL300_TIE   \n",
       "3        3524367  37364014106         Mobility        KDO_CR1_CELL300_TIE   \n",
       "4        3524363  37364013496         Mobility        KDO_CR2_CELL300_TIE   \n",
       "\n",
       "  Support level 4 (VP)  Support level 4 TID (VP) Support level 3 (Director)  \\\n",
       "0                   LR                  810410.0                         DL   \n",
       "1                   LR                  810410.0                         DL   \n",
       "2                   LR                  810410.0                         DL   \n",
       "3                  NaN                       NaN                        NaN   \n",
       "4                   LR                  810410.0                         DL   \n",
       "\n",
       "   Support level 3 TID (Director) Support level 2 (Ops Mgr)  \\\n",
       "0                        875189.0                        MB   \n",
       "1                        875189.0                        JC   \n",
       "2                        875189.0                        MB   \n",
       "3                             NaN                        GP   \n",
       "4                        875189.0                        JC   \n",
       "\n",
       "   Support level 2 TID (Ops Mgr)                     ...                       \\\n",
       "0                       135951.0                     ...                        \n",
       "1                       167206.0                     ...                        \n",
       "2                       135951.0                     ...                        \n",
       "3                       146069.0                     ...                        \n",
       "4                       167206.0                     ...                        \n",
       "\n",
       "     Source label  Source date  Source ID  \\\n",
       "0  INTERACTION_ID   20171229.0  706901562   \n",
       "1  INTERACTION_ID   20171229.0  706711123   \n",
       "2  INTERACTION_ID   20171229.0  706719963   \n",
       "3  INTERACTION_ID   20171229.0  706835893   \n",
       "4  INTERACTION_ID   20171229.0  706908437   \n",
       "\n",
       "   B7_1. Agent (CSR) Performance Regarding the last call centre representative who assisted you, how would you rate their performan  \\\n",
       "0                                                                                                 Good                                \n",
       "1                                                                                            Excellent                                \n",
       "2                                                                                            Excellent                                \n",
       "3                                                                                            Very good                                \n",
       "4                                                                                                 Good                                \n",
       "\n",
       "  Please share any comments you have regarding AGENT_FIRST_NAME, the SURVEY_BRAND customer service/Channel Care representative who assisted you.  \\\n",
       "0                                                                                                  NaN                                             \n",
       "1                                                                      He was very helpful and polite.                                             \n",
       "2                                                                                              Helpful                                             \n",
       "3                                                                                                  NaN                                             \n",
       "4  None.  I spent almost 2hrs on the phone to resolve an issue and all I received was a credit of $...                                             \n",
       "\n",
       "  Communicated clearly Were willing to help Treated me as a valued customer  \\\n",
       "0                  NaN                  NaN                             NaN   \n",
       "1                  NaN                  NaN                             NaN   \n",
       "2                  NaN                  NaN                             NaN   \n",
       "3                  NaN                  NaN                             NaN   \n",
       "4                  NaN                  NaN                             NaN   \n",
       "\n",
       "  Respected my time Had the knowledge to respond to my inquiries  \n",
       "0               NaN                                          NaN  \n",
       "1               NaN                                          NaN  \n",
       "2               NaN                                          NaN  \n",
       "3               NaN                                          NaN  \n",
       "4               NaN                                          NaN  \n",
       "\n",
       "[5 rows x 29 columns]"
      ]
     },
     "execution_count": 19,
     "metadata": {},
     "output_type": "execute_result"
    }
   ],
   "source": [
    "data.head()"
   ]
  },
  {
   "cell_type": "code",
   "execution_count": 20,
   "metadata": {},
   "outputs": [
    {
     "data": {
      "text/plain": [
       "(168294, 29)"
      ]
     },
     "execution_count": 20,
     "metadata": {},
     "output_type": "execute_result"
    }
   ],
   "source": [
    "data.shape"
   ]
  },
  {
   "cell_type": "code",
   "execution_count": 21,
   "metadata": {},
   "outputs": [],
   "source": [
    "data.columns=['Respondent_Id', 'MCX_ID', 'Line_of_Business',\n",
    "       'Agent_Department_Code_MU', 'Support_level_4_VP',\n",
    "       'Support_level_4_TID_VP', 'Support_level_3_Director',\n",
    "       'Support_level_3_TID_Director', 'Support_level_2_Ops_Mgr',\n",
    "       'Support_level_2_TID_Ops_Mgr', 'Support_level_1_Team_Mgr',\n",
    "       'Support_level_1_TID_Team_Mgr', 'Agent_Full_Name', 'Agent_ID',\n",
    "       'Survey_Medium', 'Survey_Integrity_Hidden', 'COMPLETED_DATE',\n",
    "       'Completed_Date', 'Source_database', 'Source_label', 'Source_date',\n",
    "       'Source_ID','B7_1_Agent_CSR','Feedback',\n",
    "       'Communicated_clearly', 'Were_willing_to_help',\n",
    "       'Treated_me_as_a_valued_customer', 'Respected_my_time',\n",
    "       'Had_the_knowledge_to_respond_to_my_inquiries']"
   ]
  },
  {
   "cell_type": "code",
   "execution_count": 22,
   "metadata": {},
   "outputs": [],
   "source": [
    "object_columns = data.columns"
   ]
  },
  {
   "cell_type": "code",
   "execution_count": 23,
   "metadata": {},
   "outputs": [
    {
     "name": "stdout",
     "output_type": "stream",
     "text": [
      "<class 'pandas.core.frame.DataFrame'>\n",
      "RangeIndex: 168294 entries, 0 to 168293\n",
      "Data columns (total 29 columns):\n",
      "Respondent_Id                                   168294 non-null int64\n",
      "MCX_ID                                          168294 non-null int64\n",
      "Line_of_Business                                168290 non-null object\n",
      "Agent_Department_Code_MU                        168294 non-null object\n",
      "Support_level_4_VP                              165450 non-null object\n",
      "Support_level_4_TID_VP                          165450 non-null float64\n",
      "Support_level_3_Director                        165450 non-null object\n",
      "Support_level_3_TID_Director                    165501 non-null float64\n",
      "Support_level_2_Ops_Mgr                         167459 non-null object\n",
      "Support_level_2_TID_Ops_Mgr                     168270 non-null float64\n",
      "Support_level_1_Team_Mgr                        168141 non-null object\n",
      "Support_level_1_TID_Team_Mgr                    168294 non-null int64\n",
      "Agent_Full_Name                                 168294 non-null object\n",
      "Agent_ID                                        168294 non-null int64\n",
      "Survey_Medium                                   168294 non-null object\n",
      "Survey_Integrity_Hidden                         168294 non-null object\n",
      "COMPLETED_DATE                                  36 non-null datetime64[ns]\n",
      "Completed_Date                                  168294 non-null datetime64[ns]\n",
      "Source_database                                 168290 non-null object\n",
      "Source_label                                    168290 non-null object\n",
      "Source_date                                     111131 non-null float64\n",
      "Source_ID                                       168294 non-null int64\n",
      "B7_1_Agent_CSR                                  166832 non-null object\n",
      "Feedback                                        134554 non-null object\n",
      "Communicated_clearly                            33431 non-null object\n",
      "Were_willing_to_help                            33293 non-null object\n",
      "Treated_me_as_a_valued_customer                 33422 non-null object\n",
      "Respected_my_time                               33265 non-null object\n",
      "Had_the_knowledge_to_respond_to_my_inquiries    33140 non-null object\n",
      "dtypes: datetime64[ns](2), float64(4), int64(5), object(18)\n",
      "memory usage: 37.2+ MB\n"
     ]
    }
   ],
   "source": [
    "data.info()"
   ]
  },
  {
   "cell_type": "code",
   "execution_count": 24,
   "metadata": {},
   "outputs": [],
   "source": [
    "# type casting to object\n",
    "for column in object_columns:\n",
    "    if data[column].dtypes==\"int64\":\n",
    "        data[column] = data[column].astype('str')\n",
    "    elif data[column].dtypes==\"float64\":\n",
    "        data[column] = data[column].astype('str')"
   ]
  },
  {
   "cell_type": "code",
   "execution_count": 25,
   "metadata": {},
   "outputs": [
    {
     "name": "stdout",
     "output_type": "stream",
     "text": [
      "168294\n",
      "168294\n",
      "168294\n"
     ]
    }
   ],
   "source": [
    "# select unique identifier\n",
    "print(data.shape[0])\n",
    "print(len(data['Respondent_Id'].unique()))\n",
    "print(len(data['MCX_ID'].unique()))"
   ]
  },
  {
   "cell_type": "code",
   "execution_count": 26,
   "metadata": {},
   "outputs": [],
   "source": [
    "# set index for customer identification code\n",
    "#rawdata = rawdata.set_index('Respondent_Id')\n",
    "data = data.drop(['MCX_ID'],axis=1)\n",
    "object_columns = data.columns"
   ]
  },
  {
   "cell_type": "code",
   "execution_count": 27,
   "metadata": {},
   "outputs": [
    {
     "data": {
      "text/plain": [
       "Index(['Respondent_Id', 'Line_of_Business', 'Agent_Department_Code_MU',\n",
       "       'Support_level_4_VP', 'Support_level_4_TID_VP',\n",
       "       'Support_level_3_Director', 'Support_level_3_TID_Director',\n",
       "       'Support_level_2_Ops_Mgr', 'Support_level_2_TID_Ops_Mgr',\n",
       "       'Support_level_1_Team_Mgr', 'Support_level_1_TID_Team_Mgr',\n",
       "       'Agent_Full_Name', 'Agent_ID', 'Survey_Medium',\n",
       "       'Survey_Integrity_Hidden', 'COMPLETED_DATE', 'Completed_Date',\n",
       "       'Source_database', 'Source_label', 'Source_date', 'Source_ID',\n",
       "       'B7_1_Agent_CSR', 'Feedback', 'Communicated_clearly',\n",
       "       'Were_willing_to_help', 'Treated_me_as_a_valued_customer',\n",
       "       'Respected_my_time', 'Had_the_knowledge_to_respond_to_my_inquiries'],\n",
       "      dtype='object')"
      ]
     },
     "execution_count": 27,
     "metadata": {},
     "output_type": "execute_result"
    }
   ],
   "source": [
    "object_columns"
   ]
  },
  {
   "cell_type": "code",
   "execution_count": 28,
   "metadata": {},
   "outputs": [],
   "source": [
    "data = data.drop(['Line_of_Business','Agent_Full_Name','Agent_ID','COMPLETED_DATE','Completed_Date','Source_date','Source_ID',\n",
    "                        'Source_label','Source_database','Survey_Integrity_Hidden','Support_level_4_TID_VP',\n",
    "                        'Support_level_3_TID_Director','Support_level_2_TID_Ops_Mgr','Support_level_1_TID_Team_Mgr'],axis=1)"
   ]
  },
  {
   "cell_type": "code",
   "execution_count": 29,
   "metadata": {},
   "outputs": [],
   "source": [
    "data = data[data['Feedback'].str.len() > 1] ## this also includes spaces"
   ]
  },
  {
   "cell_type": "code",
   "execution_count": 38,
   "metadata": {},
   "outputs": [],
   "source": [
    "data1 = data[data['B7_1_Agent_CSR']=='Excellent'] ## this also includes spaces\n",
    "#data = data[data['Communicated_clearly']!='Excellent'] ## this also includes spaces\n",
    "#data = data[data['Were_willing_to_help']!='Excellent'] ## this also includes spaces\n",
    "#data = data[data['Treated_me_as_a_valued_customer']!='Excellent'] ## this also includes spaces\n",
    "#data = data[data['Respected_my_time']!='Excellent'] ## this also includes spaces\n",
    "#data = data[data['Had_the_knowledge_to_respond_to_my_inquiries']=='Excellent'] ## this also includes spaces\n",
    "data1.to_csv(\"data_excellent.csv\")"
   ]
  },
  {
   "cell_type": "code",
   "execution_count": 39,
   "metadata": {},
   "outputs": [],
   "source": [
    "data = data[data['B7_1_Agent_CSR']!='Excellent'] ## this also includes spaces\n",
    "#data = data[data['Communicated_clearly']!='Excellent'] ## this also includes spaces\n",
    "#data = data[data['Were_willing_to_help']!='Excellent'] ## this also includes spaces\n",
    "#data = data[data['Treated_me_as_a_valued_customer']!='Excellent'] ## this also includes spaces\n",
    "#data = data[data['Respected_my_time']!='Excellent'] ## this also includes spaces\n",
    "data = data[data['Had_the_knowledge_to_respond_to_my_inquiries']!='Excellent'] ## this also includes spaces"
   ]
  },
  {
   "cell_type": "code",
   "execution_count": 40,
   "metadata": {},
   "outputs": [
    {
     "data": {
      "text/plain": [
       "(42368, 14)"
      ]
     },
     "execution_count": 40,
     "metadata": {},
     "output_type": "execute_result"
    }
   ],
   "source": [
    "data.shape"
   ]
  },
  {
   "cell_type": "code",
   "execution_count": 41,
   "metadata": {},
   "outputs": [
    {
     "name": "stdout",
     "output_type": "stream",
     "text": [
      "Respondent_Id\n",
      "['3524363' '3524290' '3524253' ... '1708641' '1708640' '1708635']\n",
      "Agent_Department_Code_MU\n",
      "['KDO_CR2_CELL300_TIE' 'KDO_CR1_CELL300_TIE' 'KDO_TS_CELL300_TIE'\n",
      " 'MOB_KDPRE_CARE_ENG_TIE' 'MOB_PMTECHENG_TIE' 'MOB_PMCARENG_TIE'\n",
      " 'MOB_KDPRE_CARE_FRE_TIE' 'MOB_PMCARFRE_TIE' 'MOB_KDATMENG_TIE'\n",
      " 'MOB_KDCART_TIE' 'MOB_KDCARENG_TIE' 'MOB_KDCARFRE_TIE']\n",
      "Support_level_4_VP\n",
      "['LR' nan 'KS']\n",
      "Support_level_3_Director\n",
      "['DL' nan 'KI']\n",
      "Support_level_2_Ops_Mgr\n",
      "['JC' 'MB' 'JB' 'JL' 'GP' 'BC' 'NM' 'AM' 'JA' 'AA' 'CM' 'SN' 'GB' nan 'IM'\n",
      " 'AG' 'JCA']\n",
      "Support_level_1_Team_Mgr\n",
      "['JFCM' 'RA' 'ER' 'JAVT' 'MMG' 'GIPR' 'JSLM' 'EL' 'GERA' 'RHSS' 'CRAC'\n",
      " 'TL' 'ERLE' 'JAA' 'GGRR' 'CGMG' 'DEMT' 'KMHP' 'MAHR' 'LAGH' 'AEZC' 'FC'\n",
      " 'LMCC' 'LAA' 'AEFV' 'NEMR' 'AN' 'MJSS' 'LBRP' 'ROAH' 'MLME' 'MAJS' nan\n",
      " 'JJMD' 'JM' 'JL' 'MJ' 'FdCCV' 'AJNM' 'GR' 'NM' 'CV' 'MI' 'MV' 'AB' 'AD'\n",
      " 'MAN' 'LD' 'GI' 'AS' 'ABG' 'EC' 'IMS' 'IC' 'DLC' 'AG' 'NMMO' 'GB' 'AEMT'\n",
      " 'DA']\n",
      "Survey_Medium\n",
      "['SMS' 'Email_short' 'Email_long']\n",
      "B7_1_Agent_CSR\n",
      "['Good' 'Very good' 'Poor' 'Fair' nan]\n",
      "Feedback\n",
      "[\"None.  I spent almost 2hrs on the phone to resolve an issue and all I received was a credit of $85 off my daughter's tab.  I've been trying to do the best I can but I feel that Koodo is letting me down  I understand that call volumes can be extensive at times but spending over 1hr in que is a little much  The first person I spoke with wasn't listening to what I was saying...i asked to speak to accounting dept about the payment I made...he put me back into the calling que and there I sat for another 30min...not good. I'm ready just to cancel service and move on to a different provider\"\n",
      " 'The rep was pleasant and helpful' 'Thanking her for the 100 mb.' ...\n",
      " 'My phone is locked with Koodo and I dont know how to unlock this. I tried with apple and they said that Telus has put a special lock on this'\n",
      " 'He was very helpful with all my questions' 'Was to. Call at six did not']\n",
      "Communicated_clearly\n",
      "[nan 'Fair' 'Very good' 'Good' 'Poor' 'Excellent']\n",
      "Were_willing_to_help\n",
      "[nan 'Good' 'Very good' 'Fair' 'Poor' 'Excellent']\n",
      "Treated_me_as_a_valued_customer\n",
      "[nan 'Very good' 'Fair' 'Good' 'Poor' 'Excellent']\n",
      "Respected_my_time\n",
      "[nan 'Very good' 'Good' 'Fair' 'Poor' 'Excellent']\n",
      "Had_the_knowledge_to_respond_to_my_inquiries\n",
      "[nan 'Poor' 'Very good' 'Good' 'Fair']\n"
     ]
    }
   ],
   "source": [
    "# view levels per columns in the non-continious variable\n",
    "object_columns = data.columns\n",
    "for column in object_columns:\n",
    "    print(column)\n",
    "    print(data[column].unique())"
   ]
  },
  {
   "cell_type": "code",
   "execution_count": 42,
   "metadata": {},
   "outputs": [
    {
     "name": "stdout",
     "output_type": "stream",
     "text": [
      "<class 'pandas.core.frame.DataFrame'>\n",
      "Int64Index: 42368 entries, 4 to 168284\n",
      "Data columns (total 14 columns):\n",
      "Respondent_Id                                   42368 non-null object\n",
      "Agent_Department_Code_MU                        42368 non-null object\n",
      "Support_level_4_VP                              41629 non-null object\n",
      "Support_level_3_Director                        41629 non-null object\n",
      "Support_level_2_Ops_Mgr                         42150 non-null object\n",
      "Support_level_1_Team_Mgr                        42316 non-null object\n",
      "Survey_Medium                                   42368 non-null object\n",
      "B7_1_Agent_CSR                                  42366 non-null object\n",
      "Feedback                                        42368 non-null object\n",
      "Communicated_clearly                            11023 non-null object\n",
      "Were_willing_to_help                            10894 non-null object\n",
      "Treated_me_as_a_valued_customer                 10981 non-null object\n",
      "Respected_my_time                               10963 non-null object\n",
      "Had_the_knowledge_to_respond_to_my_inquiries    10456 non-null object\n",
      "dtypes: object(14)\n",
      "memory usage: 4.8+ MB\n"
     ]
    }
   ],
   "source": [
    "data.info()"
   ]
  },
  {
   "cell_type": "code",
   "execution_count": 47,
   "metadata": {},
   "outputs": [
    {
     "name": "stdout",
     "output_type": "stream",
     "text": [
      "<class 'pandas.core.frame.DataFrame'>\n",
      "Int64Index: 42368 entries, 4 to 168284\n",
      "Data columns (total 14 columns):\n",
      "Respondent_Id                                   42368 non-null object\n",
      "Agent_Department_Code_MU                        42368 non-null object\n",
      "Support_level_4_VP                              41629 non-null object\n",
      "Support_level_3_Director                        41629 non-null object\n",
      "Support_level_2_Ops_Mgr                         42150 non-null object\n",
      "Support_level_1_Team_Mgr                        42316 non-null object\n",
      "Survey_Medium                                   42368 non-null object\n",
      "B7_1_Agent_CSR                                  42366 non-null object\n",
      "Feedback                                        42368 non-null object\n",
      "Communicated_clearly                            11023 non-null object\n",
      "Were_willing_to_help                            10894 non-null object\n",
      "Treated_me_as_a_valued_customer                 10981 non-null object\n",
      "Respected_my_time                               10963 non-null object\n",
      "Had_the_knowledge_to_respond_to_my_inquiries    10456 non-null object\n",
      "dtypes: object(14)\n",
      "memory usage: 4.8+ MB\n"
     ]
    }
   ],
   "source": [
    "checkdata = data[data['Feedback'].notnull()]\n",
    "checkdata.info()"
   ]
  },
  {
   "cell_type": "code",
   "execution_count": 52,
   "metadata": {},
   "outputs": [
    {
     "data": {
      "text/html": [
       "<div>\n",
       "<style scoped>\n",
       "    .dataframe tbody tr th:only-of-type {\n",
       "        vertical-align: middle;\n",
       "    }\n",
       "\n",
       "    .dataframe tbody tr th {\n",
       "        vertical-align: top;\n",
       "    }\n",
       "\n",
       "    .dataframe thead th {\n",
       "        text-align: right;\n",
       "    }\n",
       "</style>\n",
       "<table border=\"1\" class=\"dataframe\">\n",
       "  <thead>\n",
       "    <tr style=\"text-align: right;\">\n",
       "      <th></th>\n",
       "      <th>Respondent_Id</th>\n",
       "      <th>Agent_Department_Code_MU</th>\n",
       "      <th>Support_level_4_VP</th>\n",
       "      <th>Support_level_3_Director</th>\n",
       "      <th>Support_level_2_Ops_Mgr</th>\n",
       "      <th>Support_level_1_Team_Mgr</th>\n",
       "      <th>Survey_Medium</th>\n",
       "      <th>B7_1_Agent_CSR</th>\n",
       "      <th>Feedback</th>\n",
       "      <th>Had_the_knowledge_to_respond_to_my_inquiries</th>\n",
       "    </tr>\n",
       "  </thead>\n",
       "  <tbody>\n",
       "    <tr>\n",
       "      <th>4</th>\n",
       "      <td>3524363</td>\n",
       "      <td>KDO_CR2_CELL300_TIE</td>\n",
       "      <td>LR</td>\n",
       "      <td>DL</td>\n",
       "      <td>JC</td>\n",
       "      <td>JFCM</td>\n",
       "      <td>SMS</td>\n",
       "      <td>Good</td>\n",
       "      <td>None.  I spent almost 2hrs on the phone to resolve an issue and all I received was a credit of $...</td>\n",
       "      <td>NaN</td>\n",
       "    </tr>\n",
       "    <tr>\n",
       "      <th>12</th>\n",
       "      <td>3524290</td>\n",
       "      <td>KDO_CR1_CELL300_TIE</td>\n",
       "      <td>LR</td>\n",
       "      <td>DL</td>\n",
       "      <td>MB</td>\n",
       "      <td>RA</td>\n",
       "      <td>SMS</td>\n",
       "      <td>Very good</td>\n",
       "      <td>The rep was pleasant and helpful</td>\n",
       "      <td>NaN</td>\n",
       "    </tr>\n",
       "    <tr>\n",
       "      <th>17</th>\n",
       "      <td>3524253</td>\n",
       "      <td>KDO_CR1_CELL300_TIE</td>\n",
       "      <td>LR</td>\n",
       "      <td>DL</td>\n",
       "      <td>MB</td>\n",
       "      <td>ER</td>\n",
       "      <td>SMS</td>\n",
       "      <td>Very good</td>\n",
       "      <td>Thanking her for the 100 mb.</td>\n",
       "      <td>NaN</td>\n",
       "    </tr>\n",
       "    <tr>\n",
       "      <th>23</th>\n",
       "      <td>3524187</td>\n",
       "      <td>KDO_CR1_CELL300_TIE</td>\n",
       "      <td>LR</td>\n",
       "      <td>DL</td>\n",
       "      <td>JB</td>\n",
       "      <td>JAVT</td>\n",
       "      <td>SMS</td>\n",
       "      <td>Poor</td>\n",
       "      <td>Might not been all his fault.  The system he has to work with is out of date.  Took too long on ...</td>\n",
       "      <td>NaN</td>\n",
       "    </tr>\n",
       "    <tr>\n",
       "      <th>31</th>\n",
       "      <td>3524107</td>\n",
       "      <td>KDO_CR1_CELL300_TIE</td>\n",
       "      <td>NaN</td>\n",
       "      <td>NaN</td>\n",
       "      <td>JL</td>\n",
       "      <td>MMG</td>\n",
       "      <td>SMS</td>\n",
       "      <td>Very good</td>\n",
       "      <td>sure was good.. but the wait</td>\n",
       "      <td>NaN</td>\n",
       "    </tr>\n",
       "  </tbody>\n",
       "</table>\n",
       "</div>"
      ],
      "text/plain": [
       "   Respondent_Id Agent_Department_Code_MU Support_level_4_VP  \\\n",
       "4        3524363      KDO_CR2_CELL300_TIE                 LR   \n",
       "12       3524290      KDO_CR1_CELL300_TIE                 LR   \n",
       "17       3524253      KDO_CR1_CELL300_TIE                 LR   \n",
       "23       3524187      KDO_CR1_CELL300_TIE                 LR   \n",
       "31       3524107      KDO_CR1_CELL300_TIE                NaN   \n",
       "\n",
       "   Support_level_3_Director Support_level_2_Ops_Mgr Support_level_1_Team_Mgr  \\\n",
       "4                        DL                      JC                     JFCM   \n",
       "12                       DL                      MB                       RA   \n",
       "17                       DL                      MB                       ER   \n",
       "23                       DL                      JB                     JAVT   \n",
       "31                      NaN                      JL                      MMG   \n",
       "\n",
       "   Survey_Medium B7_1_Agent_CSR  \\\n",
       "4            SMS           Good   \n",
       "12           SMS      Very good   \n",
       "17           SMS      Very good   \n",
       "23           SMS           Poor   \n",
       "31           SMS      Very good   \n",
       "\n",
       "                                                                                               Feedback  \\\n",
       "4   None.  I spent almost 2hrs on the phone to resolve an issue and all I received was a credit of $...   \n",
       "12                                                                     The rep was pleasant and helpful   \n",
       "17                                                                         Thanking her for the 100 mb.   \n",
       "23  Might not been all his fault.  The system he has to work with is out of date.  Took too long on ...   \n",
       "31                                                                         sure was good.. but the wait   \n",
       "\n",
       "   Had_the_knowledge_to_respond_to_my_inquiries  \n",
       "4                                           NaN  \n",
       "12                                          NaN  \n",
       "17                                          NaN  \n",
       "23                                          NaN  \n",
       "31                                          NaN  "
      ]
     },
     "execution_count": 52,
     "metadata": {},
     "output_type": "execute_result"
    }
   ],
   "source": [
    "checkdata.head()"
   ]
  },
  {
   "cell_type": "code",
   "execution_count": 49,
   "metadata": {},
   "outputs": [],
   "source": [
    "# Training\n",
    "#checkdata = checkdata[checkdata['Communicated_clearly'].notnull()]\n",
    "#checkdata = checkdata[checkdata['Treated_me_as_a_valued_customer'].notnull()]\n",
    "#checkdata = checkdata[checkdata['Were_willing_to_help'].notnull()]\n",
    "#checkdata = checkdata[checkdata['Respected_my_time'].notnull()]\n",
    "checkdata = checkdata[checkdata['Had_the_knowledge_to_respond_to_my_inquiries'].isnull()]\n",
    "checkdata = checkdata.drop(['Communicated_clearly','Treated_me_as_a_valued_customer','Were_willing_to_help',\n",
    "                            'Respected_my_time'],axis=1)"
   ]
  },
  {
   "cell_type": "code",
   "execution_count": 53,
   "metadata": {},
   "outputs": [
    {
     "data": {
      "text/html": [
       "<div>\n",
       "<style scoped>\n",
       "    .dataframe tbody tr th:only-of-type {\n",
       "        vertical-align: middle;\n",
       "    }\n",
       "\n",
       "    .dataframe tbody tr th {\n",
       "        vertical-align: top;\n",
       "    }\n",
       "\n",
       "    .dataframe thead th {\n",
       "        text-align: right;\n",
       "    }\n",
       "</style>\n",
       "<table border=\"1\" class=\"dataframe\">\n",
       "  <thead>\n",
       "    <tr style=\"text-align: right;\">\n",
       "      <th></th>\n",
       "      <th>Respondent_Id</th>\n",
       "      <th>Agent_Department_Code_MU</th>\n",
       "      <th>Support_level_4_VP</th>\n",
       "      <th>Support_level_3_Director</th>\n",
       "      <th>Support_level_2_Ops_Mgr</th>\n",
       "      <th>Support_level_1_Team_Mgr</th>\n",
       "      <th>Survey_Medium</th>\n",
       "      <th>B7_1_Agent_CSR</th>\n",
       "      <th>Feedback</th>\n",
       "      <th>Had_the_knowledge_to_respond_to_my_inquiries</th>\n",
       "    </tr>\n",
       "  </thead>\n",
       "  <tbody>\n",
       "    <tr>\n",
       "      <th>count</th>\n",
       "      <td>31912</td>\n",
       "      <td>31912</td>\n",
       "      <td>31334</td>\n",
       "      <td>31334</td>\n",
       "      <td>31774</td>\n",
       "      <td>31881</td>\n",
       "      <td>31912</td>\n",
       "      <td>31912</td>\n",
       "      <td>31912</td>\n",
       "      <td>0.0</td>\n",
       "    </tr>\n",
       "    <tr>\n",
       "      <th>unique</th>\n",
       "      <td>31912</td>\n",
       "      <td>12</td>\n",
       "      <td>2</td>\n",
       "      <td>2</td>\n",
       "      <td>16</td>\n",
       "      <td>59</td>\n",
       "      <td>3</td>\n",
       "      <td>4</td>\n",
       "      <td>25227</td>\n",
       "      <td>0.0</td>\n",
       "    </tr>\n",
       "    <tr>\n",
       "      <th>top</th>\n",
       "      <td>733578</td>\n",
       "      <td>KDO_CR1_CELL300_TIE</td>\n",
       "      <td>LR</td>\n",
       "      <td>DL</td>\n",
       "      <td>JB</td>\n",
       "      <td>RHSS</td>\n",
       "      <td>SMS</td>\n",
       "      <td>Very good</td>\n",
       "      <td>None</td>\n",
       "      <td>NaN</td>\n",
       "    </tr>\n",
       "    <tr>\n",
       "      <th>freq</th>\n",
       "      <td>1</td>\n",
       "      <td>18496</td>\n",
       "      <td>31328</td>\n",
       "      <td>31328</td>\n",
       "      <td>8728</td>\n",
       "      <td>2173</td>\n",
       "      <td>31842</td>\n",
       "      <td>18444</td>\n",
       "      <td>447</td>\n",
       "      <td>NaN</td>\n",
       "    </tr>\n",
       "  </tbody>\n",
       "</table>\n",
       "</div>"
      ],
      "text/plain": [
       "       Respondent_Id Agent_Department_Code_MU Support_level_4_VP  \\\n",
       "count          31912                    31912              31334   \n",
       "unique         31912                       12                  2   \n",
       "top           733578      KDO_CR1_CELL300_TIE                 LR   \n",
       "freq               1                    18496              31328   \n",
       "\n",
       "       Support_level_3_Director Support_level_2_Ops_Mgr  \\\n",
       "count                     31334                   31774   \n",
       "unique                        2                      16   \n",
       "top                          DL                      JB   \n",
       "freq                      31328                    8728   \n",
       "\n",
       "       Support_level_1_Team_Mgr Survey_Medium B7_1_Agent_CSR Feedback  \\\n",
       "count                     31881         31912          31912    31912   \n",
       "unique                       59             3              4    25227   \n",
       "top                        RHSS           SMS      Very good     None   \n",
       "freq                       2173         31842          18444      447   \n",
       "\n",
       "        Had_the_knowledge_to_respond_to_my_inquiries  \n",
       "count                                            0.0  \n",
       "unique                                           0.0  \n",
       "top                                              NaN  \n",
       "freq                                             NaN  "
      ]
     },
     "execution_count": 53,
     "metadata": {},
     "output_type": "execute_result"
    }
   ],
   "source": [
    "checkdata.describe()"
   ]
  },
  {
   "cell_type": "code",
   "execution_count": 54,
   "metadata": {},
   "outputs": [],
   "source": [
    "# Training\n",
    "#checkdata['Communicated_clearly'].value_counts()\n",
    "#checkdata['Respected_my_time'].value_counts()\n",
    "#checkdata['Treated_me_as_a_valued_customer'].value_counts()\n",
    "#checkdata['Were_willing_to_help'].value_counts()\n",
    "#checkdata['Had_the_knowledge_to_respond_to_my_inquiries'].value_counts()"
   ]
  },
  {
   "cell_type": "code",
   "execution_count": 55,
   "metadata": {},
   "outputs": [
    {
     "data": {
      "text/plain": [
       "\"\\ncheckdata_verygood = checkdata[checkdata['Had_the_knowledge_to_respond_to_my_inquiries']=='Very good'].sample(1411)\\ncheckdata_good = checkdata[checkdata['Had_the_knowledge_to_respond_to_my_inquiries']=='Good'].sample(1411)\\ncheckdata_fair = checkdata[checkdata['Had_the_knowledge_to_respond_to_my_inquiries']=='Fair'].sample(1411)\\ncheckdata_poor = checkdata[checkdata['Had_the_knowledge_to_respond_to_my_inquiries']=='Poor'].sample(1411)\\n\""
      ]
     },
     "execution_count": 55,
     "metadata": {},
     "output_type": "execute_result"
    }
   ],
   "source": [
    "# Training\n",
    "'''\n",
    "checkdata_verygood = checkdata[checkdata['Had_the_knowledge_to_respond_to_my_inquiries']=='Very good'].sample(1411)\n",
    "checkdata_good = checkdata[checkdata['Had_the_knowledge_to_respond_to_my_inquiries']=='Good'].sample(1411)\n",
    "checkdata_fair = checkdata[checkdata['Had_the_knowledge_to_respond_to_my_inquiries']=='Fair'].sample(1411)\n",
    "checkdata_poor = checkdata[checkdata['Had_the_knowledge_to_respond_to_my_inquiries']=='Poor'].sample(1411)\n",
    "'''"
   ]
  },
  {
   "cell_type": "code",
   "execution_count": 56,
   "metadata": {},
   "outputs": [],
   "source": [
    "# Training\n",
    "#checkdata = pd.concat([checkdata_verygood,checkdata_good,checkdata_fair,checkdata_poor],axis=0)\n",
    "#checkdata.shape"
   ]
  },
  {
   "cell_type": "code",
   "execution_count": 59,
   "metadata": {},
   "outputs": [
    {
     "data": {
      "text/plain": [
       "Very good    18444\n",
       "Good          6360\n",
       "Poor          4175\n",
       "Fair          2933\n",
       "Name: B7_1_Agent_CSR, dtype: int64"
      ]
     },
     "execution_count": 59,
     "metadata": {},
     "output_type": "execute_result"
    }
   ],
   "source": [
    "checkdata['B7_1_Agent_CSR'].value_counts()"
   ]
  },
  {
   "cell_type": "code",
   "execution_count": 60,
   "metadata": {},
   "outputs": [],
   "source": [
    "#checkdata['Had_the_knowledge_to_respond_to_my_inquiries'].value_counts()"
   ]
  },
  {
   "cell_type": "code",
   "execution_count": 61,
   "metadata": {},
   "outputs": [],
   "source": [
    "# Training\n",
    "#checkdata['Had_the_knowledge_to_respond_to_my_inquiries'].value_counts().plot('pie')\n",
    "#plt.show()"
   ]
  },
  {
   "cell_type": "code",
   "execution_count": 62,
   "metadata": {},
   "outputs": [],
   "source": [
    "#pd.crosstab(checkdata['B7_1_Agent_CSR'],checkdata['Communicated_clearly'])"
   ]
  },
  {
   "cell_type": "code",
   "execution_count": 63,
   "metadata": {},
   "outputs": [],
   "source": [
    "#pd.crosstab(checkdata['B7_1_Agent_CSR'],checkdata['Were_willing_to_help'])"
   ]
  },
  {
   "cell_type": "code",
   "execution_count": 64,
   "metadata": {},
   "outputs": [],
   "source": [
    "#pd.crosstab(checkdata['B7_1_Agent_CSR'],checkdata['Treated_me_as_a_valued_customer'])"
   ]
  },
  {
   "cell_type": "code",
   "execution_count": 65,
   "metadata": {},
   "outputs": [],
   "source": [
    "#pd.crosstab(checkdata['B7_1_Agent_CSR'],checkdata['Respected_my_time'])"
   ]
  },
  {
   "cell_type": "code",
   "execution_count": 67,
   "metadata": {},
   "outputs": [],
   "source": [
    "#pd.crosstab(checkdata['B7_1_Agent_CSR'],checkdata['Had_the_knowledge_to_respond_to_my_inquiries'])\n"
   ]
  },
  {
   "cell_type": "code",
   "execution_count": 68,
   "metadata": {},
   "outputs": [],
   "source": [
    "checkdata['is_mins'] = checkdata['Feedback'].apply(lambda x: \" \".join(x.lower() for x in x.split())).str.contains('mins')\n",
    "checkdata['is_minute'] = checkdata['Feedback'].apply(lambda x: \" \".join(x.lower() for x in x.split())).str.contains('minute')\n",
    "checkdata['is_minutes'] = checkdata['Feedback'].apply(lambda x: \" \".join(x.lower() for x in x.split())).str.contains('minutes')\n",
    "checkdata['is_hour'] = checkdata['Feedback'].apply(lambda x: \" \".join(x.lower() for x in x.split())).str.contains('hour')\n",
    "checkdata['is_hours'] = checkdata['Feedback'].apply(lambda x: \" \".join(x.lower() for x in x.split())).str.contains('hours')\n",
    "checkdata['is_hrs'] = checkdata['Feedback'].apply(lambda x: \" \".join(x.lower() for x in x.split())).str.contains('hrs')\n",
    "checkdata['is_hr'] = checkdata['Feedback'].apply(lambda x: \" \".join(x.lower() for x in x.split())).str.contains('hr')"
   ]
  },
  {
   "cell_type": "code",
   "execution_count": 69,
   "metadata": {},
   "outputs": [],
   "source": [
    "checkdata['Feedback'] = checkdata['Feedback'].astype('str')"
   ]
  },
  {
   "cell_type": "code",
   "execution_count": 70,
   "metadata": {},
   "outputs": [],
   "source": [
    "checkdata['char_count'] = np.log2(checkdata['Feedback'].str.len())#**2"
   ]
  },
  {
   "cell_type": "code",
   "execution_count": 71,
   "metadata": {},
   "outputs": [],
   "source": [
    "checkdata['word_count'] = np.log2(checkdata['Feedback'].apply(lambda x: len((x).split(\" \"))))#**2"
   ]
  },
  {
   "cell_type": "code",
   "execution_count": 72,
   "metadata": {},
   "outputs": [],
   "source": [
    "checkdata['numerics'] = np.log2(checkdata['Feedback'].apply(lambda x: len([x for x in x.split() if x.isdigit()]))+1)#**2"
   ]
  },
  {
   "cell_type": "code",
   "execution_count": 73,
   "metadata": {},
   "outputs": [],
   "source": [
    "checkdata['upper'] = np.log2(checkdata['Feedback'].apply(lambda x: len([x for x in x.split() if x.isupper()]))+1)#**2"
   ]
  },
  {
   "cell_type": "code",
   "execution_count": 74,
   "metadata": {},
   "outputs": [],
   "source": [
    "def avg_word(text):\n",
    "  words = (text).split()\n",
    "  return (sum(len(word) for word in words)/len(words))\n",
    "\n",
    "checkdata['avg_word'] = np.log2(checkdata['Feedback'].apply(lambda x: avg_word(x)))"
   ]
  },
  {
   "cell_type": "code",
   "execution_count": 75,
   "metadata": {},
   "outputs": [],
   "source": [
    "from nltk.corpus import stopwords\n",
    "stop = stopwords.words('english')\n",
    "\n",
    "checkdata['stopwords'] = np.log2(checkdata['Feedback'].apply(lambda x: len([x for x in x.split() if x in stop]))+1)#**2"
   ]
  },
  {
   "cell_type": "code",
   "execution_count": 76,
   "metadata": {},
   "outputs": [],
   "source": [
    "import string\n",
    "def count_punct(text):\n",
    "    count = sum(1 for char in text if char in string.punctuation)\n",
    "    return round(count/(len(text)-text.count(\" \")),3)*100\n",
    "\n",
    "checkdata['punc%'] = np.log2(checkdata['Feedback'].apply(lambda x: count_punct(x))+1)#**2"
   ]
  },
  {
   "cell_type": "code",
   "execution_count": 77,
   "metadata": {},
   "outputs": [
    {
     "data": {
      "text/html": [
       "<div>\n",
       "<style scoped>\n",
       "    .dataframe tbody tr th:only-of-type {\n",
       "        vertical-align: middle;\n",
       "    }\n",
       "\n",
       "    .dataframe tbody tr th {\n",
       "        vertical-align: top;\n",
       "    }\n",
       "\n",
       "    .dataframe thead th {\n",
       "        text-align: right;\n",
       "    }\n",
       "</style>\n",
       "<table border=\"1\" class=\"dataframe\">\n",
       "  <thead>\n",
       "    <tr style=\"text-align: right;\">\n",
       "      <th></th>\n",
       "      <th>Respondent_Id</th>\n",
       "      <th>Agent_Department_Code_MU</th>\n",
       "      <th>Support_level_4_VP</th>\n",
       "      <th>Support_level_3_Director</th>\n",
       "      <th>Support_level_2_Ops_Mgr</th>\n",
       "      <th>Support_level_1_Team_Mgr</th>\n",
       "      <th>Survey_Medium</th>\n",
       "      <th>B7_1_Agent_CSR</th>\n",
       "      <th>Feedback</th>\n",
       "      <th>Had_the_knowledge_to_respond_to_my_inquiries</th>\n",
       "      <th>...</th>\n",
       "      <th>is_hours</th>\n",
       "      <th>is_hrs</th>\n",
       "      <th>is_hr</th>\n",
       "      <th>char_count</th>\n",
       "      <th>word_count</th>\n",
       "      <th>numerics</th>\n",
       "      <th>upper</th>\n",
       "      <th>avg_word</th>\n",
       "      <th>stopwords</th>\n",
       "      <th>punc%</th>\n",
       "    </tr>\n",
       "  </thead>\n",
       "  <tbody>\n",
       "    <tr>\n",
       "      <th>4</th>\n",
       "      <td>3524363</td>\n",
       "      <td>KDO_CR2_CELL300_TIE</td>\n",
       "      <td>LR</td>\n",
       "      <td>DL</td>\n",
       "      <td>JC</td>\n",
       "      <td>JFCM</td>\n",
       "      <td>SMS</td>\n",
       "      <td>Good</td>\n",
       "      <td>None.  I spent almost 2hrs on the phone to resolve an issue and all I received was a credit of $...</td>\n",
       "      <td>NaN</td>\n",
       "      <td>...</td>\n",
       "      <td>False</td>\n",
       "      <td>True</td>\n",
       "      <td>True</td>\n",
       "      <td>9.204571</td>\n",
       "      <td>6.894818</td>\n",
       "      <td>0.0</td>\n",
       "      <td>3.321928</td>\n",
       "      <td>2.037153</td>\n",
       "      <td>5.700440</td>\n",
       "      <td>2.201634</td>\n",
       "    </tr>\n",
       "    <tr>\n",
       "      <th>12</th>\n",
       "      <td>3524290</td>\n",
       "      <td>KDO_CR1_CELL300_TIE</td>\n",
       "      <td>LR</td>\n",
       "      <td>DL</td>\n",
       "      <td>MB</td>\n",
       "      <td>RA</td>\n",
       "      <td>SMS</td>\n",
       "      <td>Very good</td>\n",
       "      <td>The rep was pleasant and helpful</td>\n",
       "      <td>NaN</td>\n",
       "      <td>...</td>\n",
       "      <td>False</td>\n",
       "      <td>False</td>\n",
       "      <td>False</td>\n",
       "      <td>5.000000</td>\n",
       "      <td>2.584963</td>\n",
       "      <td>0.0</td>\n",
       "      <td>0.000000</td>\n",
       "      <td>2.169925</td>\n",
       "      <td>1.584963</td>\n",
       "      <td>0.000000</td>\n",
       "    </tr>\n",
       "    <tr>\n",
       "      <th>17</th>\n",
       "      <td>3524253</td>\n",
       "      <td>KDO_CR1_CELL300_TIE</td>\n",
       "      <td>LR</td>\n",
       "      <td>DL</td>\n",
       "      <td>MB</td>\n",
       "      <td>ER</td>\n",
       "      <td>SMS</td>\n",
       "      <td>Very good</td>\n",
       "      <td>Thanking her for the 100 mb.</td>\n",
       "      <td>NaN</td>\n",
       "      <td>...</td>\n",
       "      <td>False</td>\n",
       "      <td>False</td>\n",
       "      <td>False</td>\n",
       "      <td>4.807355</td>\n",
       "      <td>2.584963</td>\n",
       "      <td>1.0</td>\n",
       "      <td>0.000000</td>\n",
       "      <td>1.938599</td>\n",
       "      <td>2.000000</td>\n",
       "      <td>2.405992</td>\n",
       "    </tr>\n",
       "    <tr>\n",
       "      <th>23</th>\n",
       "      <td>3524187</td>\n",
       "      <td>KDO_CR1_CELL300_TIE</td>\n",
       "      <td>LR</td>\n",
       "      <td>DL</td>\n",
       "      <td>JB</td>\n",
       "      <td>JAVT</td>\n",
       "      <td>SMS</td>\n",
       "      <td>Poor</td>\n",
       "      <td>Might not been all his fault.  The system he has to work with is out of date.  Took too long on ...</td>\n",
       "      <td>NaN</td>\n",
       "      <td>...</td>\n",
       "      <td>False</td>\n",
       "      <td>False</td>\n",
       "      <td>False</td>\n",
       "      <td>7.129283</td>\n",
       "      <td>5.044394</td>\n",
       "      <td>0.0</td>\n",
       "      <td>0.000000</td>\n",
       "      <td>1.847997</td>\n",
       "      <td>4.321928</td>\n",
       "      <td>2.232661</td>\n",
       "    </tr>\n",
       "    <tr>\n",
       "      <th>31</th>\n",
       "      <td>3524107</td>\n",
       "      <td>KDO_CR1_CELL300_TIE</td>\n",
       "      <td>NaN</td>\n",
       "      <td>NaN</td>\n",
       "      <td>JL</td>\n",
       "      <td>MMG</td>\n",
       "      <td>SMS</td>\n",
       "      <td>Very good</td>\n",
       "      <td>sure was good.. but the wait</td>\n",
       "      <td>NaN</td>\n",
       "      <td>...</td>\n",
       "      <td>False</td>\n",
       "      <td>False</td>\n",
       "      <td>False</td>\n",
       "      <td>4.807355</td>\n",
       "      <td>2.584963</td>\n",
       "      <td>0.0</td>\n",
       "      <td>0.000000</td>\n",
       "      <td>1.938599</td>\n",
       "      <td>2.000000</td>\n",
       "      <td>3.277985</td>\n",
       "    </tr>\n",
       "  </tbody>\n",
       "</table>\n",
       "<p>5 rows × 24 columns</p>\n",
       "</div>"
      ],
      "text/plain": [
       "   Respondent_Id Agent_Department_Code_MU Support_level_4_VP  \\\n",
       "4        3524363      KDO_CR2_CELL300_TIE                 LR   \n",
       "12       3524290      KDO_CR1_CELL300_TIE                 LR   \n",
       "17       3524253      KDO_CR1_CELL300_TIE                 LR   \n",
       "23       3524187      KDO_CR1_CELL300_TIE                 LR   \n",
       "31       3524107      KDO_CR1_CELL300_TIE                NaN   \n",
       "\n",
       "   Support_level_3_Director Support_level_2_Ops_Mgr Support_level_1_Team_Mgr  \\\n",
       "4                        DL                      JC                     JFCM   \n",
       "12                       DL                      MB                       RA   \n",
       "17                       DL                      MB                       ER   \n",
       "23                       DL                      JB                     JAVT   \n",
       "31                      NaN                      JL                      MMG   \n",
       "\n",
       "   Survey_Medium B7_1_Agent_CSR  \\\n",
       "4            SMS           Good   \n",
       "12           SMS      Very good   \n",
       "17           SMS      Very good   \n",
       "23           SMS           Poor   \n",
       "31           SMS      Very good   \n",
       "\n",
       "                                                                                               Feedback  \\\n",
       "4   None.  I spent almost 2hrs on the phone to resolve an issue and all I received was a credit of $...   \n",
       "12                                                                     The rep was pleasant and helpful   \n",
       "17                                                                         Thanking her for the 100 mb.   \n",
       "23  Might not been all his fault.  The system he has to work with is out of date.  Took too long on ...   \n",
       "31                                                                         sure was good.. but the wait   \n",
       "\n",
       "   Had_the_knowledge_to_respond_to_my_inquiries    ...     is_hours  is_hrs  \\\n",
       "4                                           NaN    ...        False    True   \n",
       "12                                          NaN    ...        False   False   \n",
       "17                                          NaN    ...        False   False   \n",
       "23                                          NaN    ...        False   False   \n",
       "31                                          NaN    ...        False   False   \n",
       "\n",
       "    is_hr  char_count  word_count  numerics     upper  avg_word  stopwords  \\\n",
       "4    True    9.204571    6.894818       0.0  3.321928  2.037153   5.700440   \n",
       "12  False    5.000000    2.584963       0.0  0.000000  2.169925   1.584963   \n",
       "17  False    4.807355    2.584963       1.0  0.000000  1.938599   2.000000   \n",
       "23  False    7.129283    5.044394       0.0  0.000000  1.847997   4.321928   \n",
       "31  False    4.807355    2.584963       0.0  0.000000  1.938599   2.000000   \n",
       "\n",
       "       punc%  \n",
       "4   2.201634  \n",
       "12  0.000000  \n",
       "17  2.405992  \n",
       "23  2.232661  \n",
       "31  3.277985  \n",
       "\n",
       "[5 rows x 24 columns]"
      ]
     },
     "execution_count": 77,
     "metadata": {},
     "output_type": "execute_result"
    }
   ],
   "source": [
    "checkdata.head()"
   ]
  },
  {
   "cell_type": "code",
   "execution_count": 78,
   "metadata": {},
   "outputs": [],
   "source": [
    "checkdata['Feedback1'] = checkdata['Feedback'].apply(lambda x: \" \".join(x.lower() for x in x.split()))\n",
    "checkdata['Feedback1'] = checkdata['Feedback1'].str.replace('[^\\w\\s]','')\n",
    "checkdata['Feedback1'] = checkdata['Feedback1'].apply(lambda x:''.join([x for x in x if not x.isdigit()]))\n",
    "checkdata['Feedback1'] = checkdata['Feedback1'].apply(lambda x: \" \".join(ps.stem(x) for x in x.split() if x not in stop))\n",
    "#checkdata['Feedback1'] = checkdata['Feedback1'].apply(lambda x: \" \".join([Word(word).lemmatize() for word in x.split()]))\n",
    "#[ps.stem(word) for word in token if word not in stopwords]"
   ]
  },
  {
   "cell_type": "code",
   "execution_count": 79,
   "metadata": {},
   "outputs": [
    {
     "data": {
      "text/html": [
       "<div>\n",
       "<style scoped>\n",
       "    .dataframe tbody tr th:only-of-type {\n",
       "        vertical-align: middle;\n",
       "    }\n",
       "\n",
       "    .dataframe tbody tr th {\n",
       "        vertical-align: top;\n",
       "    }\n",
       "\n",
       "    .dataframe thead th {\n",
       "        text-align: right;\n",
       "    }\n",
       "</style>\n",
       "<table border=\"1\" class=\"dataframe\">\n",
       "  <thead>\n",
       "    <tr style=\"text-align: right;\">\n",
       "      <th></th>\n",
       "      <th>Feedback</th>\n",
       "      <th>Feedback1</th>\n",
       "    </tr>\n",
       "  </thead>\n",
       "  <tbody>\n",
       "    <tr>\n",
       "      <th>168189</th>\n",
       "      <td>No comments</td>\n",
       "      <td>comment</td>\n",
       "    </tr>\n",
       "    <tr>\n",
       "      <th>168192</th>\n",
       "      <td>I meant to reply with 5 to the answer it was treated fairly not 1. The first rep I talked too to...</td>\n",
       "      <td>meant repli answer treat fairli first rep talk told deal said set week later noth chang call bac...</td>\n",
       "    </tr>\n",
       "    <tr>\n",
       "      <th>168198</th>\n",
       "      <td>She was very helpful.</td>\n",
       "      <td>help</td>\n",
       "    </tr>\n",
       "    <tr>\n",
       "      <th>168204</th>\n",
       "      <td>he was good</td>\n",
       "      <td>good</td>\n",
       "    </tr>\n",
       "    <tr>\n",
       "      <th>168206</th>\n",
       "      <td>She was good, however your system wouldnt take our payment</td>\n",
       "      <td>good howev system wouldnt take payment</td>\n",
       "    </tr>\n",
       "    <tr>\n",
       "      <th>168224</th>\n",
       "      <td>He helped very well.  Politely and courtesy .</td>\n",
       "      <td>help well polit courtesi</td>\n",
       "    </tr>\n",
       "    <tr>\n",
       "      <th>168236</th>\n",
       "      <td>She was nice but could not help me.</td>\n",
       "      <td>nice could help</td>\n",
       "    </tr>\n",
       "    <tr>\n",
       "      <th>168240</th>\n",
       "      <td>Very nice</td>\n",
       "      <td>nice</td>\n",
       "    </tr>\n",
       "    <tr>\n",
       "      <th>168241</th>\n",
       "      <td>My rep was clear and quickly found the information I needed. Thank you</td>\n",
       "      <td>rep clear quickli found inform need thank</td>\n",
       "    </tr>\n",
       "    <tr>\n",
       "      <th>168244</th>\n",
       "      <td>When I asked him a question I got the impression that he was ready to argue with me even though ...</td>\n",
       "      <td>ask question got impress readi argu even though new didnt understand bill friendli becam clear n...</td>\n",
       "    </tr>\n",
       "    <tr>\n",
       "      <th>168249</th>\n",
       "      <td>Just ok</td>\n",
       "      <td>ok</td>\n",
       "    </tr>\n",
       "    <tr>\n",
       "      <th>168254</th>\n",
       "      <td>I meant to say yes for able to resolve my inquiry. He was flexible and understanding of my error...</td>\n",
       "      <td>meant say ye abl resolv inquiri flexibl understand error lack knowledg incorrect inform help red...</td>\n",
       "    </tr>\n",
       "    <tr>\n",
       "      <th>168259</th>\n",
       "      <td>Rep was fine but wait time to speak to a rep was ridiculous (1.5 hours!)</td>\n",
       "      <td>rep fine wait time speak rep ridicul hour</td>\n",
       "    </tr>\n",
       "    <tr>\n",
       "      <th>168263</th>\n",
       "      <td>She was helpful and informative</td>\n",
       "      <td>help inform</td>\n",
       "    </tr>\n",
       "    <tr>\n",
       "      <th>168264</th>\n",
       "      <td>No further comments</td>\n",
       "      <td>comment</td>\n",
       "    </tr>\n",
       "    <tr>\n",
       "      <th>168265</th>\n",
       "      <td>Very nice and pleasant</td>\n",
       "      <td>nice pleasant</td>\n",
       "    </tr>\n",
       "    <tr>\n",
       "      <th>168272</th>\n",
       "      <td>My phone is locked with Koodo and I dont know how to unlock this. I tried with apple and they sa...</td>\n",
       "      <td>phone lock koodo dont know unlock tri appl said telu put special lock</td>\n",
       "    </tr>\n",
       "    <tr>\n",
       "      <th>168279</th>\n",
       "      <td>He was very helpful with all my questions</td>\n",
       "      <td>help question</td>\n",
       "    </tr>\n",
       "    <tr>\n",
       "      <th>168280</th>\n",
       "      <td>Was to. Call at six did not</td>\n",
       "      <td>call six</td>\n",
       "    </tr>\n",
       "    <tr>\n",
       "      <th>168284</th>\n",
       "      <td>No comments</td>\n",
       "      <td>comment</td>\n",
       "    </tr>\n",
       "  </tbody>\n",
       "</table>\n",
       "</div>"
      ],
      "text/plain": [
       "                                                                                                   Feedback  \\\n",
       "168189                                                                                          No comments   \n",
       "168192  I meant to reply with 5 to the answer it was treated fairly not 1. The first rep I talked too to...   \n",
       "168198                                                                                She was very helpful.   \n",
       "168204                                                                                          he was good   \n",
       "168206                                           She was good, however your system wouldnt take our payment   \n",
       "168224                                                        He helped very well.  Politely and courtesy .   \n",
       "168236                                                                  She was nice but could not help me.   \n",
       "168240                                                                                            Very nice   \n",
       "168241                               My rep was clear and quickly found the information I needed. Thank you   \n",
       "168244  When I asked him a question I got the impression that he was ready to argue with me even though ...   \n",
       "168249                                                                                              Just ok   \n",
       "168254  I meant to say yes for able to resolve my inquiry. He was flexible and understanding of my error...   \n",
       "168259                             Rep was fine but wait time to speak to a rep was ridiculous (1.5 hours!)   \n",
       "168263                                                                      She was helpful and informative   \n",
       "168264                                                                                  No further comments   \n",
       "168265                                                                               Very nice and pleasant   \n",
       "168272  My phone is locked with Koodo and I dont know how to unlock this. I tried with apple and they sa...   \n",
       "168279                                                            He was very helpful with all my questions   \n",
       "168280                                                                          Was to. Call at six did not   \n",
       "168284                                                                                          No comments   \n",
       "\n",
       "                                                                                                  Feedback1  \n",
       "168189                                                                                              comment  \n",
       "168192  meant repli answer treat fairli first rep talk told deal said set week later noth chang call bac...  \n",
       "168198                                                                                                 help  \n",
       "168204                                                                                                 good  \n",
       "168206                                                               good howev system wouldnt take payment  \n",
       "168224                                                                             help well polit courtesi  \n",
       "168236                                                                                      nice could help  \n",
       "168240                                                                                                 nice  \n",
       "168241                                                            rep clear quickli found inform need thank  \n",
       "168244  ask question got impress readi argu even though new didnt understand bill friendli becam clear n...  \n",
       "168249                                                                                                   ok  \n",
       "168254  meant say ye abl resolv inquiri flexibl understand error lack knowledg incorrect inform help red...  \n",
       "168259                                                            rep fine wait time speak rep ridicul hour  \n",
       "168263                                                                                          help inform  \n",
       "168264                                                                                              comment  \n",
       "168265                                                                                        nice pleasant  \n",
       "168272                                phone lock koodo dont know unlock tri appl said telu put special lock  \n",
       "168279                                                                                        help question  \n",
       "168280                                                                                             call six  \n",
       "168284                                                                                              comment  "
      ]
     },
     "execution_count": 79,
     "metadata": {},
     "output_type": "execute_result"
    }
   ],
   "source": [
    "checkdata[['Feedback','Feedback1']].tail(20)"
   ]
  },
  {
   "cell_type": "code",
   "execution_count": 80,
   "metadata": {},
   "outputs": [],
   "source": [
    "#freq = pd.Series(' '.join(checkdata['Feedback1']).split()).value_counts()"
   ]
  },
  {
   "cell_type": "code",
   "execution_count": 81,
   "metadata": {},
   "outputs": [],
   "source": [
    "#freq = pd.DataFrame(freq).to_csv(\"freq.csv\")"
   ]
  },
  {
   "cell_type": "code",
   "execution_count": 82,
   "metadata": {},
   "outputs": [],
   "source": [
    "#freq = pd.read_csv(\"freq.csv\")\n",
    "#freq.columns = ['word','tf']"
   ]
  },
  {
   "cell_type": "code",
   "execution_count": 83,
   "metadata": {},
   "outputs": [],
   "source": [
    "#tf1 = (checkdata['Feedback1']).apply(lambda x: pd.value_counts(x.split(\" \"))).sum(axis = 0).reset_index()\n",
    "#tf1.columns = ['words','tf']\n"
   ]
  },
  {
   "cell_type": "code",
   "execution_count": 84,
   "metadata": {},
   "outputs": [],
   "source": [
    "#for i,word in enumerate(tf1['words']):\n",
    "#  tf1.loc[i, 'idf'] = np.log(checkdata.shape[0]/(len(checkdata[checkdata['Feedback1'].str.contains(word)])))"
   ]
  },
  {
   "cell_type": "code",
   "execution_count": 85,
   "metadata": {},
   "outputs": [],
   "source": [
    "#tf1['tfidf'] = tf1['tf'] * tf1['idf']"
   ]
  },
  {
   "cell_type": "code",
   "execution_count": 86,
   "metadata": {},
   "outputs": [
    {
     "data": {
      "text/html": [
       "<div>\n",
       "<style scoped>\n",
       "    .dataframe tbody tr th:only-of-type {\n",
       "        vertical-align: middle;\n",
       "    }\n",
       "\n",
       "    .dataframe tbody tr th {\n",
       "        vertical-align: top;\n",
       "    }\n",
       "\n",
       "    .dataframe thead th {\n",
       "        text-align: right;\n",
       "    }\n",
       "</style>\n",
       "<table border=\"1\" class=\"dataframe\">\n",
       "  <thead>\n",
       "    <tr style=\"text-align: right;\">\n",
       "      <th></th>\n",
       "      <th>tf</th>\n",
       "      <th>idf</th>\n",
       "      <th>tfidf</th>\n",
       "    </tr>\n",
       "  </thead>\n",
       "  <tbody>\n",
       "    <tr>\n",
       "      <th>count</th>\n",
       "      <td>9518.000000</td>\n",
       "      <td>9518.000000</td>\n",
       "      <td>9518.000000</td>\n",
       "    </tr>\n",
       "    <tr>\n",
       "      <th>mean</th>\n",
       "      <td>22.647195</td>\n",
       "      <td>8.829047</td>\n",
       "      <td>99.852415</td>\n",
       "    </tr>\n",
       "    <tr>\n",
       "      <th>std</th>\n",
       "      <td>153.943759</td>\n",
       "      <td>2.076739</td>\n",
       "      <td>421.492594</td>\n",
       "    </tr>\n",
       "    <tr>\n",
       "      <th>min</th>\n",
       "      <td>1.000000</td>\n",
       "      <td>0.000000</td>\n",
       "      <td>0.000000</td>\n",
       "    </tr>\n",
       "    <tr>\n",
       "      <th>25%</th>\n",
       "      <td>1.000000</td>\n",
       "      <td>7.885831</td>\n",
       "      <td>10.370737</td>\n",
       "    </tr>\n",
       "    <tr>\n",
       "      <th>50%</th>\n",
       "      <td>1.000000</td>\n",
       "      <td>9.677590</td>\n",
       "      <td>10.370737</td>\n",
       "    </tr>\n",
       "    <tr>\n",
       "      <th>75%</th>\n",
       "      <td>4.000000</td>\n",
       "      <td>10.370737</td>\n",
       "      <td>35.937772</td>\n",
       "    </tr>\n",
       "    <tr>\n",
       "      <th>max</th>\n",
       "      <td>7908.000000</td>\n",
       "      <td>10.370737</td>\n",
       "      <td>11220.730132</td>\n",
       "    </tr>\n",
       "  </tbody>\n",
       "</table>\n",
       "</div>"
      ],
      "text/plain": [
       "                tf          idf         tfidf\n",
       "count  9518.000000  9518.000000   9518.000000\n",
       "mean     22.647195     8.829047     99.852415\n",
       "std     153.943759     2.076739    421.492594\n",
       "min       1.000000     0.000000      0.000000\n",
       "25%       1.000000     7.885831     10.370737\n",
       "50%       1.000000     9.677590     10.370737\n",
       "75%       4.000000    10.370737     35.937772\n",
       "max    7908.000000    10.370737  11220.730132"
      ]
     },
     "execution_count": 86,
     "metadata": {},
     "output_type": "execute_result"
    }
   ],
   "source": [
    "#tf1.describe()"
   ]
  },
  {
   "cell_type": "code",
   "execution_count": 53,
   "metadata": {},
   "outputs": [],
   "source": [
    "#tf1['logtfidf'] = np.log(tf1['tfidf']+1)"
   ]
  },
  {
   "cell_type": "code",
   "execution_count": 54,
   "metadata": {},
   "outputs": [],
   "source": [
    "#tf1['logtfidf'].plot('kde')"
   ]
  },
  {
   "cell_type": "code",
   "execution_count": 55,
   "metadata": {},
   "outputs": [
    {
     "data": {
      "text/plain": [
       "<matplotlib.axes._subplots.AxesSubplot at 0x7f0f78a90eb8>"
      ]
     },
     "execution_count": 55,
     "metadata": {},
     "output_type": "execute_result"
    },
    {
     "data": {
      "image/png": "[encoded data removed]",
      "text/plain": [
       "<matplotlib.figure.Figure at 0x7f0f78b09cc0>"
      ]
     },
     "metadata": {},
     "output_type": "display_data"
    }
   ],
   "source": [
    "#tf1['tfidf'].plot('kde')"
   ]
  },
  {
   "cell_type": "code",
   "execution_count": 56,
   "metadata": {},
   "outputs": [
    {
     "data": {
      "text/html": [
       "<div>\n",
       "<style scoped>\n",
       "    .dataframe tbody tr th:only-of-type {\n",
       "        vertical-align: middle;\n",
       "    }\n",
       "\n",
       "    .dataframe tbody tr th {\n",
       "        vertical-align: top;\n",
       "    }\n",
       "\n",
       "    .dataframe thead th {\n",
       "        text-align: right;\n",
       "    }\n",
       "</style>\n",
       "<table border=\"1\" class=\"dataframe\">\n",
       "  <thead>\n",
       "    <tr style=\"text-align: right;\">\n",
       "      <th></th>\n",
       "      <th>tf</th>\n",
       "      <th>idf</th>\n",
       "      <th>tfidf</th>\n",
       "    </tr>\n",
       "  </thead>\n",
       "  <tbody>\n",
       "    <tr>\n",
       "      <th>count</th>\n",
       "      <td>3036.000000</td>\n",
       "      <td>3036.000000</td>\n",
       "      <td>3036.000000</td>\n",
       "    </tr>\n",
       "    <tr>\n",
       "      <th>mean</th>\n",
       "      <td>33.754611</td>\n",
       "      <td>6.846284</td>\n",
       "      <td>136.658344</td>\n",
       "    </tr>\n",
       "    <tr>\n",
       "      <th>std</th>\n",
       "      <td>115.156643</td>\n",
       "      <td>1.674344</td>\n",
       "      <td>300.881406</td>\n",
       "    </tr>\n",
       "    <tr>\n",
       "      <th>min</th>\n",
       "      <td>2.000000</td>\n",
       "      <td>0.264614</td>\n",
       "      <td>9.381166</td>\n",
       "    </tr>\n",
       "    <tr>\n",
       "      <th>25%</th>\n",
       "      <td>3.000000</td>\n",
       "      <td>5.789195</td>\n",
       "      <td>18.509863</td>\n",
       "    </tr>\n",
       "    <tr>\n",
       "      <th>50%</th>\n",
       "      <td>5.000000</td>\n",
       "      <td>7.309021</td>\n",
       "      <td>38.227467</td>\n",
       "    </tr>\n",
       "    <tr>\n",
       "      <th>75%</th>\n",
       "      <td>18.000000</td>\n",
       "      <td>8.156319</td>\n",
       "      <td>109.169204</td>\n",
       "    </tr>\n",
       "    <tr>\n",
       "      <th>max</th>\n",
       "      <td>2431.000000</td>\n",
       "      <td>9.254931</td>\n",
       "      <td>3930.957718</td>\n",
       "    </tr>\n",
       "  </tbody>\n",
       "</table>\n",
       "</div>"
      ],
      "text/plain": [
       "                tf          idf        tfidf\n",
       "count  3036.000000  3036.000000  3036.000000\n",
       "mean     33.754611     6.846284   136.658344\n",
       "std     115.156643     1.674344   300.881406\n",
       "min       2.000000     0.264614     9.381166\n",
       "25%       3.000000     5.789195    18.509863\n",
       "50%       5.000000     7.309021    38.227467\n",
       "75%      18.000000     8.156319   109.169204\n",
       "max    2431.000000     9.254931  3930.957718"
      ]
     },
     "execution_count": 56,
     "metadata": {},
     "output_type": "execute_result"
    }
   ],
   "source": [
    "#tf1[tf1['tfidf'] > tf1['tfidf'].quantile(.5)].describe()"
   ]
  },
  {
   "cell_type": "code",
   "execution_count": 57,
   "metadata": {},
   "outputs": [
    {
     "data": {
      "text/plain": [
       "<matplotlib.axes._subplots.AxesSubplot at 0x7f0f78a2ddd8>"
      ]
     },
     "execution_count": 57,
     "metadata": {},
     "output_type": "execute_result"
    },
    {
     "data": {
      "image/png": "[encoded data removed]",
      "text/plain": [
       "<matplotlib.figure.Figure at 0x7f0f78a23f60>"
      ]
     },
     "metadata": {},
     "output_type": "display_data"
    }
   ],
   "source": [
    "#tf1['tfidf'][tf1['tfidf'] > tf1['tfidf'].quantile(.5)].plot('kde')"
   ]
  },
  {
   "cell_type": "code",
   "execution_count": 58,
   "metadata": {},
   "outputs": [],
   "source": [
    "#tf1 = tf1[tf1['tfidf'] > tf1['tfidf'].quantile(.5)]"
   ]
  },
  {
   "cell_type": "code",
   "execution_count": 59,
   "metadata": {},
   "outputs": [
    {
     "data": {
      "text/html": [
       "<div>\n",
       "<style scoped>\n",
       "    .dataframe tbody tr th:only-of-type {\n",
       "        vertical-align: middle;\n",
       "    }\n",
       "\n",
       "    .dataframe tbody tr th {\n",
       "        vertical-align: top;\n",
       "    }\n",
       "\n",
       "    .dataframe thead th {\n",
       "        text-align: right;\n",
       "    }\n",
       "</style>\n",
       "<table border=\"1\" class=\"dataframe\">\n",
       "  <thead>\n",
       "    <tr style=\"text-align: right;\">\n",
       "      <th></th>\n",
       "      <th>tf</th>\n",
       "      <th>idf</th>\n",
       "      <th>tfidf</th>\n",
       "    </tr>\n",
       "  </thead>\n",
       "  <tbody>\n",
       "    <tr>\n",
       "      <th>count</th>\n",
       "      <td>3036.000000</td>\n",
       "      <td>3036.000000</td>\n",
       "      <td>3036.000000</td>\n",
       "    </tr>\n",
       "    <tr>\n",
       "      <th>mean</th>\n",
       "      <td>33.754611</td>\n",
       "      <td>6.846284</td>\n",
       "      <td>136.658344</td>\n",
       "    </tr>\n",
       "    <tr>\n",
       "      <th>std</th>\n",
       "      <td>115.156643</td>\n",
       "      <td>1.674344</td>\n",
       "      <td>300.881406</td>\n",
       "    </tr>\n",
       "    <tr>\n",
       "      <th>min</th>\n",
       "      <td>2.000000</td>\n",
       "      <td>0.264614</td>\n",
       "      <td>9.381166</td>\n",
       "    </tr>\n",
       "    <tr>\n",
       "      <th>25%</th>\n",
       "      <td>3.000000</td>\n",
       "      <td>5.789195</td>\n",
       "      <td>18.509863</td>\n",
       "    </tr>\n",
       "    <tr>\n",
       "      <th>50%</th>\n",
       "      <td>5.000000</td>\n",
       "      <td>7.309021</td>\n",
       "      <td>38.227467</td>\n",
       "    </tr>\n",
       "    <tr>\n",
       "      <th>75%</th>\n",
       "      <td>18.000000</td>\n",
       "      <td>8.156319</td>\n",
       "      <td>109.169204</td>\n",
       "    </tr>\n",
       "    <tr>\n",
       "      <th>max</th>\n",
       "      <td>2431.000000</td>\n",
       "      <td>9.254931</td>\n",
       "      <td>3930.957718</td>\n",
       "    </tr>\n",
       "  </tbody>\n",
       "</table>\n",
       "</div>"
      ],
      "text/plain": [
       "                tf          idf        tfidf\n",
       "count  3036.000000  3036.000000  3036.000000\n",
       "mean     33.754611     6.846284   136.658344\n",
       "std     115.156643     1.674344   300.881406\n",
       "min       2.000000     0.264614     9.381166\n",
       "25%       3.000000     5.789195    18.509863\n",
       "50%       5.000000     7.309021    38.227467\n",
       "75%      18.000000     8.156319   109.169204\n",
       "max    2431.000000     9.254931  3930.957718"
      ]
     },
     "execution_count": 59,
     "metadata": {},
     "output_type": "execute_result"
    }
   ],
   "source": [
    "#tf1.describe()"
   ]
  },
  {
   "cell_type": "code",
   "execution_count": 60,
   "metadata": {},
   "outputs": [],
   "source": [
    "#tf_keeplist = list(tf1['words'])"
   ]
  },
  {
   "cell_type": "code",
   "execution_count": null,
   "metadata": {},
   "outputs": [],
   "source": [
    "tf_keeplist = pickle.load(open('tf_keeplist.sav', 'rb'))"
   ]
  },
  {
   "cell_type": "code",
   "execution_count": 61,
   "metadata": {},
   "outputs": [
    {
     "data": {
      "text/plain": [
       "3036"
      ]
     },
     "execution_count": 61,
     "metadata": {},
     "output_type": "execute_result"
    }
   ],
   "source": [
    "len(tf_keeplist)"
   ]
  },
  {
   "cell_type": "code",
   "execution_count": 62,
   "metadata": {},
   "outputs": [],
   "source": [
    "checkdata['Feedback1'] = checkdata['Feedback1'].apply(lambda x: \" \".join(x for x in x.split() if x in tf_keeplist))"
   ]
  },
  {
   "cell_type": "code",
   "execution_count": 63,
   "metadata": {},
   "outputs": [
    {
     "data": {
      "text/html": [
       "<div>\n",
       "<style scoped>\n",
       "    .dataframe tbody tr th:only-of-type {\n",
       "        vertical-align: middle;\n",
       "    }\n",
       "\n",
       "    .dataframe tbody tr th {\n",
       "        vertical-align: top;\n",
       "    }\n",
       "\n",
       "    .dataframe thead th {\n",
       "        text-align: right;\n",
       "    }\n",
       "</style>\n",
       "<table border=\"1\" class=\"dataframe\">\n",
       "  <thead>\n",
       "    <tr style=\"text-align: right;\">\n",
       "      <th></th>\n",
       "      <th>Respondent_Id</th>\n",
       "      <th>Agent_Department_Code_MU</th>\n",
       "      <th>Support_level_4_VP</th>\n",
       "      <th>Support_level_3_Director</th>\n",
       "      <th>Support_level_2_Ops_Mgr</th>\n",
       "      <th>Support_level_1_Team_Mgr</th>\n",
       "      <th>Survey_Medium</th>\n",
       "      <th>B7_1_Agent_CSR</th>\n",
       "      <th>Feedback</th>\n",
       "      <th>Had_the_knowledge_to_respond_to_my_inquiries</th>\n",
       "      <th>...</th>\n",
       "      <th>is_hrs</th>\n",
       "      <th>is_hr</th>\n",
       "      <th>char_count</th>\n",
       "      <th>word_count</th>\n",
       "      <th>numerics</th>\n",
       "      <th>upper</th>\n",
       "      <th>avg_word</th>\n",
       "      <th>stopwords</th>\n",
       "      <th>punc%</th>\n",
       "      <th>Feedback1</th>\n",
       "    </tr>\n",
       "  </thead>\n",
       "  <tbody>\n",
       "    <tr>\n",
       "      <th>79</th>\n",
       "      <td>3523509</td>\n",
       "      <td>KDO_CR1_CELL300_TIE</td>\n",
       "      <td>NaN</td>\n",
       "      <td>NaN</td>\n",
       "      <td>JL</td>\n",
       "      <td>MMG</td>\n",
       "      <td>Email_short</td>\n",
       "      <td>Fair</td>\n",
       "      <td>She was polite and she tried.  I just think the fine print in the plan I was calling about is/wa...</td>\n",
       "      <td>Poor</td>\n",
       "      <td>...</td>\n",
       "      <td>False</td>\n",
       "      <td>False</td>\n",
       "      <td>7.936638</td>\n",
       "      <td>5.584963</td>\n",
       "      <td>0.0</td>\n",
       "      <td>2.0</td>\n",
       "      <td>2.074768</td>\n",
       "      <td>4.459432</td>\n",
       "      <td>2.321928</td>\n",
       "      <td>polit tri think fine print plan call confus even didnt fulli understand couldnt explain logic wa...</td>\n",
       "    </tr>\n",
       "    <tr>\n",
       "      <th>89</th>\n",
       "      <td>3523102</td>\n",
       "      <td>KDO_CR2_CELL300_TIE</td>\n",
       "      <td>LR</td>\n",
       "      <td>DL</td>\n",
       "      <td>JC</td>\n",
       "      <td>EL</td>\n",
       "      <td>Email_short</td>\n",
       "      <td>Very good</td>\n",
       "      <td>Good rep</td>\n",
       "      <td>Very good</td>\n",
       "      <td>...</td>\n",
       "      <td>False</td>\n",
       "      <td>False</td>\n",
       "      <td>3.000000</td>\n",
       "      <td>1.000000</td>\n",
       "      <td>0.0</td>\n",
       "      <td>0.0</td>\n",
       "      <td>1.807355</td>\n",
       "      <td>0.000000</td>\n",
       "      <td>0.000000</td>\n",
       "      <td>good rep</td>\n",
       "    </tr>\n",
       "    <tr>\n",
       "      <th>90</th>\n",
       "      <td>3523089</td>\n",
       "      <td>KDO_CR1_CELL300_TIE</td>\n",
       "      <td>LR</td>\n",
       "      <td>DL</td>\n",
       "      <td>JC</td>\n",
       "      <td>RHSS</td>\n",
       "      <td>Email_short</td>\n",
       "      <td>Very good</td>\n",
       "      <td>Friendly, helpful: a good experience</td>\n",
       "      <td>Very good</td>\n",
       "      <td>...</td>\n",
       "      <td>False</td>\n",
       "      <td>False</td>\n",
       "      <td>5.169925</td>\n",
       "      <td>2.321928</td>\n",
       "      <td>0.0</td>\n",
       "      <td>0.0</td>\n",
       "      <td>2.678072</td>\n",
       "      <td>1.000000</td>\n",
       "      <td>2.847997</td>\n",
       "      <td>friendli help good experi</td>\n",
       "    </tr>\n",
       "    <tr>\n",
       "      <th>91</th>\n",
       "      <td>3523082</td>\n",
       "      <td>KDO_CR1_CELL300_TIE</td>\n",
       "      <td>LR</td>\n",
       "      <td>DL</td>\n",
       "      <td>JC</td>\n",
       "      <td>CRAC</td>\n",
       "      <td>Email_short</td>\n",
       "      <td>Very good</td>\n",
       "      <td>All good.</td>\n",
       "      <td>Very good</td>\n",
       "      <td>...</td>\n",
       "      <td>False</td>\n",
       "      <td>False</td>\n",
       "      <td>3.169925</td>\n",
       "      <td>1.000000</td>\n",
       "      <td>0.0</td>\n",
       "      <td>0.0</td>\n",
       "      <td>2.000000</td>\n",
       "      <td>0.000000</td>\n",
       "      <td>3.754888</td>\n",
       "      <td>good</td>\n",
       "    </tr>\n",
       "    <tr>\n",
       "      <th>92</th>\n",
       "      <td>3523075</td>\n",
       "      <td>KDO_CR1_CELL300_TIE</td>\n",
       "      <td>NaN</td>\n",
       "      <td>NaN</td>\n",
       "      <td>GP</td>\n",
       "      <td>TL</td>\n",
       "      <td>Email_short</td>\n",
       "      <td>Very good</td>\n",
       "      <td>I appreciate Carlos' help on the customer loyalty request, however, the Tab credits were not app...</td>\n",
       "      <td>Good</td>\n",
       "      <td>...</td>\n",
       "      <td>False</td>\n",
       "      <td>False</td>\n",
       "      <td>7.467606</td>\n",
       "      <td>4.954196</td>\n",
       "      <td>0.0</td>\n",
       "      <td>1.0</td>\n",
       "      <td>2.245476</td>\n",
       "      <td>3.700440</td>\n",
       "      <td>2.350497</td>\n",
       "      <td>appreci carlo help custom loyalti request howev tab credit appli line account pleas updat get ch...</td>\n",
       "    </tr>\n",
       "  </tbody>\n",
       "</table>\n",
       "<p>5 rows × 25 columns</p>\n",
       "</div>"
      ],
      "text/plain": [
       "   Respondent_Id Agent_Department_Code_MU Support_level_4_VP  \\\n",
       "79       3523509      KDO_CR1_CELL300_TIE                NaN   \n",
       "89       3523102      KDO_CR2_CELL300_TIE                 LR   \n",
       "90       3523089      KDO_CR1_CELL300_TIE                 LR   \n",
       "91       3523082      KDO_CR1_CELL300_TIE                 LR   \n",
       "92       3523075      KDO_CR1_CELL300_TIE                NaN   \n",
       "\n",
       "   Support_level_3_Director Support_level_2_Ops_Mgr Support_level_1_Team_Mgr  \\\n",
       "79                      NaN                      JL                      MMG   \n",
       "89                       DL                      JC                       EL   \n",
       "90                       DL                      JC                     RHSS   \n",
       "91                       DL                      JC                     CRAC   \n",
       "92                      NaN                      GP                       TL   \n",
       "\n",
       "   Survey_Medium B7_1_Agent_CSR  \\\n",
       "79   Email_short           Fair   \n",
       "89   Email_short      Very good   \n",
       "90   Email_short      Very good   \n",
       "91   Email_short      Very good   \n",
       "92   Email_short      Very good   \n",
       "\n",
       "                                                                                               Feedback  \\\n",
       "79  She was polite and she tried.  I just think the fine print in the plan I was calling about is/wa...   \n",
       "89                                                                                             Good rep   \n",
       "90                                                                 Friendly, helpful: a good experience   \n",
       "91                                                                                            All good.   \n",
       "92  I appreciate Carlos' help on the customer loyalty request, however, the Tab credits were not app...   \n",
       "\n",
       "   Had_the_knowledge_to_respond_to_my_inquiries  \\\n",
       "79                                         Poor   \n",
       "89                                    Very good   \n",
       "90                                    Very good   \n",
       "91                                    Very good   \n",
       "92                                         Good   \n",
       "\n",
       "                                                   ...                                                   \\\n",
       "79                                                 ...                                                    \n",
       "89                                                 ...                                                    \n",
       "90                                                 ...                                                    \n",
       "91                                                 ...                                                    \n",
       "92                                                 ...                                                    \n",
       "\n",
       "    is_hrs  is_hr  char_count  word_count  numerics  upper  avg_word  \\\n",
       "79   False  False    7.936638    5.584963       0.0    2.0  2.074768   \n",
       "89   False  False    3.000000    1.000000       0.0    0.0  1.807355   \n",
       "90   False  False    5.169925    2.321928       0.0    0.0  2.678072   \n",
       "91   False  False    3.169925    1.000000       0.0    0.0  2.000000   \n",
       "92   False  False    7.467606    4.954196       0.0    1.0  2.245476   \n",
       "\n",
       "    stopwords     punc%  \\\n",
       "79   4.459432  2.321928   \n",
       "89   0.000000  0.000000   \n",
       "90   1.000000  2.847997   \n",
       "91   0.000000  3.754888   \n",
       "92   3.700440  2.350497   \n",
       "\n",
       "                                                                                              Feedback1  \n",
       "79  polit tri think fine print plan call confus even didnt fulli understand couldnt explain logic wa...  \n",
       "89                                                                                             good rep  \n",
       "90                                                                            friendli help good experi  \n",
       "91                                                                                                 good  \n",
       "92  appreci carlo help custom loyalti request howev tab credit appli line account pleas updat get ch...  \n",
       "\n",
       "[5 rows x 25 columns]"
      ]
     },
     "execution_count": 63,
     "metadata": {},
     "output_type": "execute_result"
    }
   ],
   "source": [
    "checkdata.head()"
   ]
  },
  {
   "cell_type": "code",
   "execution_count": 64,
   "metadata": {},
   "outputs": [],
   "source": [
    "#freq['count'].median()"
   ]
  },
  {
   "cell_type": "code",
   "execution_count": 65,
   "metadata": {},
   "outputs": [],
   "source": [
    "#remove_column_list = list(freq[freq['count']== 1.0]['word'])\n",
    "#checkdata = checkdata.drop(['Feedback1'],axis=1)"
   ]
  },
  {
   "cell_type": "code",
   "execution_count": 66,
   "metadata": {},
   "outputs": [],
   "source": [
    "def condition(rating):\n",
    "#    if rating == 'Excellent':\n",
    "#        return 0\n",
    "    if rating == 'Very good':\n",
    "        return 0\n",
    "    elif rating == 'Good':\n",
    "        return 0\n",
    "    elif rating == 'Fair':\n",
    "        return 1\n",
    "    elif rating == 'Poor':\n",
    "        return 1\n",
    "    else:\n",
    "        return \"missing\""
   ]
  },
  {
   "cell_type": "code",
   "execution_count": 67,
   "metadata": {},
   "outputs": [],
   "source": [
    "checkdata['target'] = checkdata['Had_the_knowledge_to_respond_to_my_inquiries'].apply(lambda x: condition(x))\n",
    "#checkdata['B7_1_Agent_CSR'] = checkdata['B7_1_Agent_CSR'].apply(lambda x: condition(x))\n",
    "checkdata = checkdata.drop(['Had_the_knowledge_to_respond_to_my_inquiries'],axis=1)"
   ]
  },
  {
   "cell_type": "code",
   "execution_count": 68,
   "metadata": {},
   "outputs": [
    {
     "data": {
      "text/plain": [
       "0    7383\n",
       "1    3073\n",
       "Name: target, dtype: int64"
      ]
     },
     "execution_count": 68,
     "metadata": {},
     "output_type": "execute_result"
    }
   ],
   "source": [
    "checkdata.target.value_counts()"
   ]
  },
  {
   "cell_type": "code",
   "execution_count": 69,
   "metadata": {},
   "outputs": [
    {
     "data": {
      "text/plain": [
       "\"\\ncheckdata['is_Excellent'] = checkdata['B7_1_Agent_CSR'].apply(lambda x: 1 if x==0 else 0)\\ncheckdata['is_Vgood'] = checkdata['B7_1_Agent_CSR'].apply(lambda x: 1 if x==1 else 0)\\ncheckdata['is_good'] = checkdata['B7_1_Agent_CSR'].apply(lambda x: 1 if x==2 else 0)\\ncheckdata['is_fair'] = checkdata['B7_1_Agent_CSR'].apply(lambda x: 1 if x==3 else 0)\\ncheckdata['is_poor'] = checkdata['B7_1_Agent_CSR'].apply(lambda x: 1 if x==4 else 0)\\ncheckdata = checkdata.drop(['B7_1_Agent_CSR'],axis=1)\\n\""
      ]
     },
     "execution_count": 69,
     "metadata": {},
     "output_type": "execute_result"
    }
   ],
   "source": [
    "'''\n",
    "checkdata['is_Excellent'] = checkdata['B7_1_Agent_CSR'].apply(lambda x: 1 if x==0 else 0)\n",
    "checkdata['is_Vgood'] = checkdata['B7_1_Agent_CSR'].apply(lambda x: 1 if x==1 else 0)\n",
    "checkdata['is_good'] = checkdata['B7_1_Agent_CSR'].apply(lambda x: 1 if x==2 else 0)\n",
    "checkdata['is_fair'] = checkdata['B7_1_Agent_CSR'].apply(lambda x: 1 if x==3 else 0)\n",
    "checkdata['is_poor'] = checkdata['B7_1_Agent_CSR'].apply(lambda x: 1 if x==4 else 0)\n",
    "checkdata = checkdata.drop(['B7_1_Agent_CSR'],axis=1)\n",
    "'''"
   ]
  },
  {
   "cell_type": "code",
   "execution_count": 70,
   "metadata": {},
   "outputs": [],
   "source": [
    "#cols = ['Feedback']  + [col for col in checkdata if col != 'Feedback']\n",
    "#checkdata = checkdata[cols]"
   ]
  },
  {
   "cell_type": "code",
   "execution_count": 71,
   "metadata": {
    "scrolled": true
   },
   "outputs": [
    {
     "data": {
      "text/plain": [
       "\"\\n# Training\\nfrom matplotlib import pyplot\\n%matplotlib inline\\nbins = np.linspace(0,200,40)\\npyplot.hist(checkdata[checkdata['target']==0]['word_count'],bins,alpha=0.5, normed=True,label='bad')\\npyplot.hist(checkdata[checkdata['target']==1]['word_count'],bins,alpha=0.5, normed=True,label='good')\\npyplot.legend(loc='upper right')\\npyplot.show()\\n\""
      ]
     },
     "execution_count": 71,
     "metadata": {},
     "output_type": "execute_result"
    }
   ],
   "source": [
    "'''\n",
    "# Training\n",
    "from matplotlib import pyplot\n",
    "%matplotlib inline\n",
    "bins = np.linspace(0,200,40)\n",
    "pyplot.hist(checkdata[checkdata['target']==0]['word_count'],bins,alpha=0.5, normed=True,label='bad')\n",
    "pyplot.hist(checkdata[checkdata['target']==1]['word_count'],bins,alpha=0.5, normed=True,label='good')\n",
    "pyplot.legend(loc='upper right')\n",
    "pyplot.show()\n",
    "'''"
   ]
  },
  {
   "cell_type": "code",
   "execution_count": 72,
   "metadata": {},
   "outputs": [
    {
     "data": {
      "text/plain": [
       "\"# Training\\nfrom matplotlib import pyplot\\n%matplotlib inline\\nbins = np.linspace(0,800,40)\\npyplot.hist(checkdata[checkdata['target']==0]['char_count'],bins,alpha=0.5, normed=True,label='bad')\\npyplot.hist(checkdata[checkdata['target']==1]['char_count'],bins,alpha=0.5, normed=True,label='good')\\npyplot.legend(loc='upper right')\\npyplot.show()\\n\""
      ]
     },
     "execution_count": 72,
     "metadata": {},
     "output_type": "execute_result"
    }
   ],
   "source": [
    "'''# Training\n",
    "from matplotlib import pyplot\n",
    "%matplotlib inline\n",
    "bins = np.linspace(0,800,40)\n",
    "pyplot.hist(checkdata[checkdata['target']==0]['char_count'],bins,alpha=0.5, normed=True,label='bad')\n",
    "pyplot.hist(checkdata[checkdata['target']==1]['char_count'],bins,alpha=0.5, normed=True,label='good')\n",
    "pyplot.legend(loc='upper right')\n",
    "pyplot.show()\n",
    "'''"
   ]
  },
  {
   "cell_type": "code",
   "execution_count": 73,
   "metadata": {},
   "outputs": [
    {
     "data": {
      "text/plain": [
       "\"# Training\\nfrom matplotlib import pyplot\\n%matplotlib inline\\nbins = np.linspace(0,10,40)\\npyplot.hist(checkdata[checkdata['target']==0]['avg_word'],bins,alpha=0.5, normed=True,label='bad')\\npyplot.hist(checkdata[checkdata['target']==1]['avg_word'],bins,alpha=0.5, normed=True,label='good')\\npyplot.legend(loc='upper right')\\npyplot.show()\\n\""
      ]
     },
     "execution_count": 73,
     "metadata": {},
     "output_type": "execute_result"
    }
   ],
   "source": [
    "'''# Training\n",
    "from matplotlib import pyplot\n",
    "%matplotlib inline\n",
    "bins = np.linspace(0,10,40)\n",
    "pyplot.hist(checkdata[checkdata['target']==0]['avg_word'],bins,alpha=0.5, normed=True,label='bad')\n",
    "pyplot.hist(checkdata[checkdata['target']==1]['avg_word'],bins,alpha=0.5, normed=True,label='good')\n",
    "pyplot.legend(loc='upper right')\n",
    "pyplot.show()\n",
    "'''"
   ]
  },
  {
   "cell_type": "code",
   "execution_count": 74,
   "metadata": {},
   "outputs": [
    {
     "data": {
      "text/plain": [
       "\"# Training\\nfrom matplotlib import pyplot\\n%matplotlib inline\\nbins = np.linspace(0,100,40)\\npyplot.hist(checkdata[checkdata['target']==0]['stopwords'],bins,alpha=0.5, normed=True,label='bad')\\npyplot.hist(checkdata[checkdata['target']==1]['stopwords'],bins,alpha=0.5, normed=True,label='good')\\npyplot.legend(loc='upper right')\\npyplot.show()\\n\""
      ]
     },
     "execution_count": 74,
     "metadata": {},
     "output_type": "execute_result"
    }
   ],
   "source": [
    "'''# Training\n",
    "from matplotlib import pyplot\n",
    "%matplotlib inline\n",
    "bins = np.linspace(0,100,40)\n",
    "pyplot.hist(checkdata[checkdata['target']==0]['stopwords'],bins,alpha=0.5, normed=True,label='bad')\n",
    "pyplot.hist(checkdata[checkdata['target']==1]['stopwords'],bins,alpha=0.5, normed=True,label='good')\n",
    "pyplot.legend(loc='upper right')\n",
    "pyplot.show()\n",
    "'''"
   ]
  },
  {
   "cell_type": "code",
   "execution_count": 75,
   "metadata": {},
   "outputs": [
    {
     "data": {
      "text/plain": [
       "\"# Training\\nfrom matplotlib import pyplot\\n%matplotlib inline\\nbins = np.linspace(0,20,40)\\npyplot.hist(checkdata[checkdata['target']==0]['punc%'],bins,alpha=0.5,normed=True,label='bad')\\npyplot.hist(checkdata[checkdata['target']==1]['punc%'],bins,alpha=0.5, normed=True,label='good')\\npyplot.legend(loc='upper right')\\npyplot.show()\\n\""
      ]
     },
     "execution_count": 75,
     "metadata": {},
     "output_type": "execute_result"
    }
   ],
   "source": [
    "'''# Training\n",
    "from matplotlib import pyplot\n",
    "%matplotlib inline\n",
    "bins = np.linspace(0,20,40)\n",
    "pyplot.hist(checkdata[checkdata['target']==0]['punc%'],bins,alpha=0.5,normed=True,label='bad')\n",
    "pyplot.hist(checkdata[checkdata['target']==1]['punc%'],bins,alpha=0.5, normed=True,label='good')\n",
    "pyplot.legend(loc='upper right')\n",
    "pyplot.show()\n",
    "'''"
   ]
  },
  {
   "cell_type": "code",
   "execution_count": 76,
   "metadata": {},
   "outputs": [
    {
     "data": {
      "text/plain": [
       "\"# Training\\nfrom matplotlib import pyplot\\n%matplotlib inline\\nbins = np.linspace(0,15,40)\\npyplot.hist(checkdata[checkdata['target']==0]['upper'],bins,alpha=0.5, normed=True,label='bad')\\npyplot.hist(checkdata[checkdata['target']==1]['upper'],bins,alpha=0.5, normed=True,label='good')\\npyplot.legend(loc='upper right')\\npyplot.show()\\n\""
      ]
     },
     "execution_count": 76,
     "metadata": {},
     "output_type": "execute_result"
    }
   ],
   "source": [
    "'''# Training\n",
    "from matplotlib import pyplot\n",
    "%matplotlib inline\n",
    "bins = np.linspace(0,15,40)\n",
    "pyplot.hist(checkdata[checkdata['target']==0]['upper'],bins,alpha=0.5, normed=True,label='bad')\n",
    "pyplot.hist(checkdata[checkdata['target']==1]['upper'],bins,alpha=0.5, normed=True,label='good')\n",
    "pyplot.legend(loc='upper right')\n",
    "pyplot.show()\n",
    "'''"
   ]
  },
  {
   "cell_type": "code",
   "execution_count": 77,
   "metadata": {},
   "outputs": [
    {
     "data": {
      "text/plain": [
       "Index(['Respondent_Id', 'Agent_Department_Code_MU', 'Support_level_4_VP',\n",
       "       'Support_level_3_Director', 'Support_level_2_Ops_Mgr',\n",
       "       'Support_level_1_Team_Mgr', 'Survey_Medium', 'B7_1_Agent_CSR',\n",
       "       'Feedback', 'is_mins', 'is_minute', 'is_minutes', 'is_hour', 'is_hours',\n",
       "       'is_hrs', 'is_hr', 'char_count', 'word_count', 'numerics', 'upper',\n",
       "       'avg_word', 'stopwords', 'punc%', 'Feedback1', 'target'],\n",
       "      dtype='object')"
      ]
     },
     "execution_count": 77,
     "metadata": {},
     "output_type": "execute_result"
    }
   ],
   "source": [
    "checkdata.columns"
   ]
  },
  {
   "cell_type": "code",
   "execution_count": 78,
   "metadata": {},
   "outputs": [],
   "source": [
    "#!python -m spacy download en_core_web_lg"
   ]
  },
  {
   "cell_type": "code",
   "execution_count": 79,
   "metadata": {},
   "outputs": [],
   "source": [
    "#import re\n",
    "#checkdata['is_wait_true'] = checkdata.Feedback.contains('wait', regex=True)"
   ]
  },
  {
   "cell_type": "code",
   "execution_count": 80,
   "metadata": {},
   "outputs": [],
   "source": [
    "checkdata = checkdata.drop(['Feedback'],axis=1)"
   ]
  },
  {
   "cell_type": "code",
   "execution_count": 81,
   "metadata": {},
   "outputs": [],
   "source": [
    "checkdata.shape\n",
    "all_obj_columns = checkdata.columns"
   ]
  },
  {
   "cell_type": "code",
   "execution_count": 82,
   "metadata": {},
   "outputs": [
    {
     "name": "stdout",
     "output_type": "stream",
     "text": [
      "<class 'pandas.core.frame.DataFrame'>\n",
      "Int64Index: 10456 entries, 79 to 168271\n",
      "Data columns (total 24 columns):\n",
      "Respondent_Id               10456 non-null object\n",
      "Agent_Department_Code_MU    10456 non-null object\n",
      "Support_level_4_VP          10295 non-null object\n",
      "Support_level_3_Director    10295 non-null object\n",
      "Support_level_2_Ops_Mgr     10376 non-null object\n",
      "Support_level_1_Team_Mgr    10435 non-null object\n",
      "Survey_Medium               10456 non-null object\n",
      "B7_1_Agent_CSR              10454 non-null object\n",
      "is_mins                     10456 non-null bool\n",
      "is_minute                   10456 non-null bool\n",
      "is_minutes                  10456 non-null bool\n",
      "is_hour                     10456 non-null bool\n",
      "is_hours                    10456 non-null bool\n",
      "is_hrs                      10456 non-null bool\n",
      "is_hr                       10456 non-null bool\n",
      "char_count                  10456 non-null float64\n",
      "word_count                  10456 non-null float64\n",
      "numerics                    10456 non-null float64\n",
      "upper                       10456 non-null float64\n",
      "avg_word                    10456 non-null float64\n",
      "stopwords                   10456 non-null float64\n",
      "punc%                       10456 non-null float64\n",
      "Feedback1                   10456 non-null object\n",
      "target                      10456 non-null int64\n",
      "dtypes: bool(7), float64(7), int64(1), object(9)\n",
      "memory usage: 1.5+ MB\n"
     ]
    }
   ],
   "source": [
    "checkdata.info()"
   ]
  },
  {
   "cell_type": "code",
   "execution_count": 83,
   "metadata": {},
   "outputs": [],
   "source": [
    "# missing value imputation strategy: create a new level called 'UNKNOWN'\n",
    "\n",
    "for column in all_obj_columns:\n",
    "    if checkdata[column].dtypes==\"object\":\n",
    "        checkdata[column] = checkdata[column].fillna(\"UKNOWN\").astype('object')"
   ]
  },
  {
   "cell_type": "code",
   "execution_count": 84,
   "metadata": {},
   "outputs": [],
   "source": [
    "checkdata_notarget = checkdata.drop(['target'],axis=1)"
   ]
  },
  {
   "cell_type": "code",
   "execution_count": 85,
   "metadata": {},
   "outputs": [
    {
     "data": {
      "text/plain": [
       "Index(['Respondent_Id', 'Agent_Department_Code_MU', 'Support_level_4_VP',\n",
       "       'Support_level_3_Director', 'Support_level_2_Ops_Mgr',\n",
       "       'Support_level_1_Team_Mgr', 'Survey_Medium', 'B7_1_Agent_CSR',\n",
       "       'is_mins', 'is_minute', 'is_minutes', 'is_hour', 'is_hours', 'is_hrs',\n",
       "       'is_hr', 'char_count', 'word_count', 'numerics', 'upper', 'avg_word',\n",
       "       'stopwords', 'punc%', 'Feedback1'],\n",
       "      dtype='object')"
      ]
     },
     "execution_count": 85,
     "metadata": {},
     "output_type": "execute_result"
    }
   ],
   "source": [
    "all_obj_columns = checkdata_notarget.columns\n",
    "all_obj_columns"
   ]
  },
  {
   "cell_type": "code",
   "execution_count": 86,
   "metadata": {},
   "outputs": [],
   "source": [
    "# scale the numerical variables to bring the numerical variables to the same scale for fault tolerance\n",
    "from sklearn.preprocessing import scale\n",
    "\n",
    "for column in all_obj_columns:\n",
    "    if checkdata[column].dtypes in [\"int64\",\"float64\"] :\n",
    "        checkdata[column] = scale(checkdata[column].astype('float64'))"
   ]
  },
  {
   "cell_type": "code",
   "execution_count": 87,
   "metadata": {},
   "outputs": [
    {
     "name": "stdout",
     "output_type": "stream",
     "text": [
      "<class 'pandas.core.frame.DataFrame'>\n",
      "Int64Index: 10456 entries, 79 to 168271\n",
      "Data columns (total 24 columns):\n",
      "Respondent_Id               10456 non-null object\n",
      "Agent_Department_Code_MU    10456 non-null object\n",
      "Support_level_4_VP          10456 non-null object\n",
      "Support_level_3_Director    10456 non-null object\n",
      "Support_level_2_Ops_Mgr     10456 non-null object\n",
      "Support_level_1_Team_Mgr    10456 non-null object\n",
      "Survey_Medium               10456 non-null object\n",
      "B7_1_Agent_CSR              10456 non-null object\n",
      "is_mins                     10456 non-null bool\n",
      "is_minute                   10456 non-null bool\n",
      "is_minutes                  10456 non-null bool\n",
      "is_hour                     10456 non-null bool\n",
      "is_hours                    10456 non-null bool\n",
      "is_hrs                      10456 non-null bool\n",
      "is_hr                       10456 non-null bool\n",
      "char_count                  10456 non-null float64\n",
      "word_count                  10456 non-null float64\n",
      "numerics                    10456 non-null float64\n",
      "upper                       10456 non-null float64\n",
      "avg_word                    10456 non-null float64\n",
      "stopwords                   10456 non-null float64\n",
      "punc%                       10456 non-null float64\n",
      "Feedback1                   10456 non-null object\n",
      "target                      10456 non-null int64\n",
      "dtypes: bool(7), float64(7), int64(1), object(9)\n",
      "memory usage: 1.5+ MB\n"
     ]
    }
   ],
   "source": [
    "checkdata.info()"
   ]
  },
  {
   "cell_type": "code",
   "execution_count": 88,
   "metadata": {},
   "outputs": [],
   "source": [
    "#from scipy import stats\n",
    "#stats.ttest_ind(checkdata['char_count'], checkdata['target'])"
   ]
  },
  {
   "cell_type": "code",
   "execution_count": 89,
   "metadata": {},
   "outputs": [
    {
     "name": "stderr",
     "output_type": "stream",
     "text": [
      "/home/xavient/anaconda3/lib/python3.6/site-packages/h5py/__init__.py:36: FutureWarning: Conversion of the second argument of issubdtype from `float` to `np.floating` is deprecated. In future, it will be treated as `np.float64 == np.dtype(float).type`.\n",
      "  from ._conv import register_converters as _register_converters\n",
      "Using TensorFlow backend.\n"
     ]
    },
    {
     "data": {
      "text/html": [
       "<script>requirejs.config({paths: { 'plotly': ['https://cdn.plot.ly/plotly-latest.min']},});if(!window.Plotly) {{require(['plotly'],function(plotly) {window.Plotly=plotly;});}}</script>"
      ],
      "text/vnd.plotly.v1+html": [
       "<script>requirejs.config({paths: { 'plotly': ['https://cdn.plot.ly/plotly-latest.min']},});if(!window.Plotly) {{require(['plotly'],function(plotly) {window.Plotly=plotly;});}}</script>"
      ]
     },
     "metadata": {},
     "output_type": "display_data"
    }
   ],
   "source": [
    "# Keras\n",
    "from keras.preprocessing.text import Tokenizer\n",
    "from keras.preprocessing.sequence import pad_sequences\n",
    "from keras.models import Sequential\n",
    "from keras.layers import Dense, Flatten, LSTM, Conv1D, MaxPooling1D, Dropout, Activation\n",
    "from keras.layers.embeddings import Embedding\n",
    "## Plotly\n",
    "import plotly.offline as py\n",
    "import plotly.graph_objs as go\n",
    "py.init_notebook_mode(connected=True)\n",
    "# Others\n",
    "import nltk\n",
    "import string\n",
    "import numpy as np\n",
    "import pandas as pd\n",
    "from nltk.corpus import stopwords\n",
    "\n",
    "from sklearn.manifold import TSNE"
   ]
  },
  {
   "cell_type": "code",
   "execution_count": 90,
   "metadata": {},
   "outputs": [],
   "source": [
    "vocabulary_size = 20000\n",
    "tokenizer = Tokenizer(num_words= vocabulary_size)\n",
    "tokenizer.fit_on_texts(checkdata['Feedback1'])"
   ]
  },
  {
   "cell_type": "code",
   "execution_count": 91,
   "metadata": {},
   "outputs": [
    {
     "data": {
      "text/plain": [
       "<keras_preprocessing.text.Tokenizer at 0x7f0f78750978>"
      ]
     },
     "execution_count": 91,
     "metadata": {},
     "output_type": "execute_result"
    }
   ],
   "source": [
    "tokenizer"
   ]
  },
  {
   "cell_type": "code",
   "execution_count": 92,
   "metadata": {},
   "outputs": [],
   "source": [
    "import pickle\n",
    "tokenizer_mytime1 = 'tokenizer.sav'\n",
    "pickle.dump(tokenizer, open(tokenizer_mytime1, 'wb'))"
   ]
  },
  {
   "cell_type": "code",
   "execution_count": 93,
   "metadata": {},
   "outputs": [],
   "source": [
    "tokenizer_mytime1 = pickle.load(open('tokenizer.sav', 'rb'))\n",
    "#print(\"tokenizer loaded: \")# + str(result))"
   ]
  },
  {
   "cell_type": "code",
   "execution_count": 94,
   "metadata": {},
   "outputs": [
    {
     "data": {
      "text/plain": [
       "<keras_preprocessing.text.Tokenizer at 0x7f0f78783320>"
      ]
     },
     "execution_count": 94,
     "metadata": {},
     "output_type": "execute_result"
    }
   ],
   "source": [
    "tokenizer_mytime1"
   ]
  },
  {
   "cell_type": "code",
   "execution_count": 95,
   "metadata": {},
   "outputs": [],
   "source": [
    "sequences = tokenizer_mytime1.texts_to_sequences(checkdata['Feedback1'])\n",
    "data = pad_sequences(sequences, maxlen=50)"
   ]
  },
  {
   "cell_type": "code",
   "execution_count": 96,
   "metadata": {},
   "outputs": [],
   "source": [
    "labels = checkdata['target']"
   ]
  },
  {
   "cell_type": "code",
   "execution_count": 97,
   "metadata": {},
   "outputs": [
    {
     "data": {
      "text/plain": [
       "(10456, 50)"
      ]
     },
     "execution_count": 97,
     "metadata": {},
     "output_type": "execute_result"
    }
   ],
   "source": [
    "data.shape"
   ]
  },
  {
   "cell_type": "code",
   "execution_count": 98,
   "metadata": {},
   "outputs": [],
   "source": [
    "model_lstm = Sequential()\n",
    "model_lstm.add(Embedding(20000, 100, input_length=50))\n",
    "model_lstm.add(Dropout(0.2))\n",
    "model_lstm.add(LSTM(100, dropout=0.2, recurrent_dropout=0.2))\n",
    "model_lstm.add(Dropout(0.2))\n",
    "model_lstm.add(Dense(1, activation='sigmoid'))\n",
    "model_lstm.compile(loss='binary_crossentropy', optimizer='adam', metrics=['accuracy'])"
   ]
  },
  {
   "cell_type": "code",
   "execution_count": 99,
   "metadata": {},
   "outputs": [],
   "source": [
    "#model_lstm.fit(data, np.array(labels), validation_split=0.4, epochs=3)"
   ]
  },
  {
   "cell_type": "code",
   "execution_count": 100,
   "metadata": {},
   "outputs": [],
   "source": [
    "# model 4\n",
    "#from sklearn.model_selection import train_test_split\n",
    "#X_train6, X_test6, y_train6, y_test6 = train_test_split(data, labels, test_size = .3, random_state = seed)"
   ]
  },
  {
   "cell_type": "code",
   "execution_count": 101,
   "metadata": {},
   "outputs": [
    {
     "data": {
      "text/plain": [
       "((8832, 50), (8832,), (4183, 50), (4183,))"
      ]
     },
     "execution_count": 101,
     "metadata": {},
     "output_type": "execute_result"
    }
   ],
   "source": [
    "from imblearn.over_sampling import SMOTE\n",
    "from sklearn.model_selection import train_test_split\n",
    "\n",
    "X_train, X_val, y_train, y_val = train_test_split(data, labels, test_size = .4, random_state=seed)\n",
    "\n",
    "# Using smote to increase the number of under-represented class\n",
    "sm = SMOTE(random_state = 12, ratio = 'minority')\n",
    "\n",
    "X_train_res, y_train_res = sm.fit_sample(X_train, y_train)\n",
    "X_train_res.shape, y_train_res.shape, X_val.shape, y_val.shape"
   ]
  },
  {
   "cell_type": "code",
   "execution_count": 102,
   "metadata": {},
   "outputs": [
    {
     "name": "stdout",
     "output_type": "stream",
     "text": [
      "Train on 6182 samples, validate on 2650 samples\n",
      "Epoch 1/7\n",
      "6182/6182 [==============================] - 25s 4ms/step - loss: 0.5546 - acc: 0.7166 - val_loss: 1.3172 - val_acc: 0.1879\n",
      "Epoch 2/7\n",
      "6182/6182 [==============================] - 24s 4ms/step - loss: 0.4754 - acc: 0.7679 - val_loss: 1.1523 - val_acc: 0.3358\n",
      "Epoch 3/7\n",
      "6182/6182 [==============================] - 24s 4ms/step - loss: 0.4239 - acc: 0.8112 - val_loss: 1.0294 - val_acc: 0.3875\n",
      "Epoch 4/7\n",
      "6182/6182 [==============================] - 23s 4ms/step - loss: 0.3963 - acc: 0.8217 - val_loss: 1.3911 - val_acc: 0.3189\n",
      "Epoch 5/7\n",
      "6182/6182 [==============================] - 23s 4ms/step - loss: 0.3579 - acc: 0.8483 - val_loss: 1.4181 - val_acc: 0.3860\n",
      "Epoch 6/7\n",
      "6182/6182 [==============================] - 23s 4ms/step - loss: 0.3246 - acc: 0.8643 - val_loss: 1.6003 - val_acc: 0.3875\n",
      "Epoch 7/7\n",
      "6182/6182 [==============================] - 23s 4ms/step - loss: 0.2962 - acc: 0.8806 - val_loss: 1.8744 - val_acc: 0.3525\n"
     ]
    },
    {
     "data": {
      "text/plain": [
       "<keras.callbacks.History at 0x7f0f787bb390>"
      ]
     },
     "execution_count": 102,
     "metadata": {},
     "output_type": "execute_result"
    }
   ],
   "source": [
    "model_lstm.fit(X_train_res, y_train_res, validation_split=0.3, epochs=7, batch_size=32)"
   ]
  },
  {
   "cell_type": "code",
   "execution_count": 103,
   "metadata": {},
   "outputs": [],
   "source": [
    "# import metrics for model evaluation\n",
    "# Training\n",
    "from sklearn.metrics import recall_score,accuracy_score,confusion_matrix,classification_report,precision_score,roc_auc_score\n",
    "from sklearn.metrics import cohen_kappa_score\n",
    "from sklearn.model_selection import cross_val_score\n",
    "#sklearn.metrics.cohen_kappa_score(y1, y2, labels=None, weights=None, sample_weight=None)\n",
    "# create function to evaluate model performance\n",
    "\n",
    "def evaluate_classes(model, X_test, y_test):\n",
    "    y_pred = model.predict_classes(X_test)\n",
    "    accuracy = accuracy_score(y_test,y_pred)\n",
    "    roc = roc_auc_score(y_test,y_pred)\n",
    "    matrix = confusion_matrix(y_test, y_pred)\n",
    "    cohen_kappa = cohen_kappa_score(y_test, y_pred, sample_weight=None)\n",
    "    #tn, fp, fn, tp = confusion_matrix(y_test, y_pred).ravel()\n",
    "    #precision = precision_score(y_test,y_pred,average='micro')\n",
    "    print(\"accuracy :\" +str(accuracy))\n",
    "    print(\"cohen_kappa :\" +str(cohen_kappa))\n",
    "    print(\"roc :\" +str(roc))\n",
    "    print(\"matrix :\")\n",
    "    print(matrix)\n",
    "    #print(\"report :\")\n",
    "    #print(report)\n",
    "    return None# accuracy"
   ]
  },
  {
   "cell_type": "code",
   "execution_count": 104,
   "metadata": {},
   "outputs": [
    {
     "name": "stdout",
     "output_type": "stream",
     "text": [
      "accuracy :0.7403777193401865\n",
      "cohen_kappa :0.3231367381384903\n",
      "roc :0.6502768113724655\n",
      "matrix :\n",
      "[[2568  399]\n",
      " [ 687  529]]\n"
     ]
    }
   ],
   "source": [
    "evaluate_classes(model_lstm,X_val,y_val)"
   ]
  },
  {
   "cell_type": "code",
   "execution_count": 894,
   "metadata": {},
   "outputs": [],
   "source": [
    "#xgbclass.fit(X_train6, y_train6) "
   ]
  },
  {
   "cell_type": "code",
   "execution_count": 895,
   "metadata": {},
   "outputs": [],
   "source": [
    "def create_conv_model():\n",
    "    model_conv = Sequential()\n",
    "    model_conv.add(Embedding(vocabulary_size, 100, input_length=50))\n",
    "    model_conv.add(Dropout(0.2))\n",
    "    model_conv.add(Conv1D(32, 5, activation='relu'))\n",
    "    model_conv.add(MaxPooling1D(pool_size=4))\n",
    "    model_conv.add(LSTM(100))\n",
    "    model_conv.add(Dense(1, activation='sigmoid'))\n",
    "    model_conv.compile(loss='binary_crossentropy', optimizer='adam', metrics=['accuracy'])\n",
    "    return model_conv"
   ]
  },
  {
   "cell_type": "code",
   "execution_count": 896,
   "metadata": {},
   "outputs": [
    {
     "name": "stdout",
     "output_type": "stream",
     "text": [
      "Train on 6182 samples, validate on 2650 samples\n",
      "Epoch 1/5\n",
      "6182/6182 [==============================] - 8s 1ms/step - loss: 0.5684 - acc: 0.7126 - val_loss: 0.9850 - val_acc: 0.2340\n",
      "Epoch 2/5\n",
      "6182/6182 [==============================] - 6s 949us/step - loss: 0.4997 - acc: 0.7722 - val_loss: 1.1828 - val_acc: 0.2868\n",
      "Epoch 3/5\n",
      "6182/6182 [==============================] - 6s 909us/step - loss: 0.4202 - acc: 0.8235 - val_loss: 1.2994 - val_acc: 0.3419\n",
      "Epoch 4/5\n",
      "6182/6182 [==============================] - 6s 943us/step - loss: 0.3500 - acc: 0.8627 - val_loss: 2.4319 - val_acc: 0.2000\n",
      "Epoch 5/5\n",
      "6182/6182 [==============================] - 5s 883us/step - loss: 0.2970 - acc: 0.8834 - val_loss: 2.0512 - val_acc: 0.3049\n"
     ]
    },
    {
     "data": {
      "text/plain": [
       "<keras.callbacks.History at 0x7fcc652e9668>"
      ]
     },
     "execution_count": 896,
     "metadata": {},
     "output_type": "execute_result"
    }
   ],
   "source": [
    "model_conv = create_conv_model()\n",
    "model_conv.fit(X_train_res, y_train_res, validation_split=0.3, epochs=5,batch_size=32)"
   ]
  },
  {
   "cell_type": "code",
   "execution_count": 897,
   "metadata": {},
   "outputs": [
    {
     "name": "stdout",
     "output_type": "stream",
     "text": [
      "accuracy :0.7425292852020081\n",
      "cohen_kappa :0.32646168690953525\n",
      "roc :0.6513081672520532\n",
      "matrix :\n",
      "[[2579  388]\n",
      " [ 689  527]]\n"
     ]
    }
   ],
   "source": [
    "evaluate_classes(model_conv,X_val,y_val)"
   ]
  },
  {
   "cell_type": "code",
   "execution_count": 1061,
   "metadata": {},
   "outputs": [
    {
     "data": {
      "text/plain": [
       "\"\\nembeddings_index = dict()\\nf = open('glove.6B.100d.txt')\\nfor line in f:\\n    values = line.split()\\n    word = values[0]\\n    coefs = np.asarray(values[1:], dtype='float32')\\n    embeddings_index[word] = coefs\\nf.close()\\nprint('Loaded %s word vectors.' % len(embeddings_index))\\n\""
      ]
     },
     "execution_count": 1061,
     "metadata": {},
     "output_type": "execute_result"
    }
   ],
   "source": [
    "'''\n",
    "embeddings_index = dict()\n",
    "f = open('glove.6B.100d.txt')\n",
    "for line in f:\n",
    "    values = line.split()\n",
    "    word = values[0]\n",
    "    coefs = np.asarray(values[1:], dtype='float32')\n",
    "    embeddings_index[word] = coefs\n",
    "f.close()\n",
    "print('Loaded %s word vectors.' % len(embeddings_index))\n",
    "'''"
   ]
  },
  {
   "cell_type": "code",
   "execution_count": 1062,
   "metadata": {},
   "outputs": [
    {
     "data": {
      "text/plain": [
       "'# create a weight matrix for words in training docs\\nembedding_matrix = np.zeros((vocabulary_size, 100))\\nfor word, index in tokenizer.word_index.items():\\n    if index > vocabulary_size - 1:\\n        break\\n    else:\\n        embedding_vector = embeddings_index.get(word)\\n        if embedding_vector is not None:\\n            embedding_matrix[index] = embedding_vector\\n'"
      ]
     },
     "execution_count": 1062,
     "metadata": {},
     "output_type": "execute_result"
    }
   ],
   "source": [
    "'''# create a weight matrix for words in training docs\n",
    "embedding_matrix = np.zeros((vocabulary_size, 100))\n",
    "for word, index in tokenizer.word_index.items():\n",
    "    if index > vocabulary_size - 1:\n",
    "        break\n",
    "    else:\n",
    "        embedding_vector = embeddings_index.get(word)\n",
    "        if embedding_vector is not None:\n",
    "            embedding_matrix[index] = embedding_vector\n",
    "'''"
   ]
  },
  {
   "cell_type": "code",
   "execution_count": 1063,
   "metadata": {},
   "outputs": [
    {
     "data": {
      "text/plain": [
       "\"\\nmodel_glove = Sequential()\\nmodel_glove.add(Embedding(vocabulary_size, 100, input_length=50, weights=[embedding_matrix], trainable=False))\\nmodel_glove.add(Dropout(0.2))\\nmodel_glove.add(Conv1D(64, 5, activation='relu'))\\nmodel_glove.add(MaxPooling1D(pool_size=4))\\nmodel_glove.add(LSTM(100))\\nmodel_glove.add(Dense(1, activation='sigmoid'))\\nmodel_glove.compile(loss='binary_crossentropy', optimizer='adam', metrics=['accuracy'])\\n\""
      ]
     },
     "execution_count": 1063,
     "metadata": {},
     "output_type": "execute_result"
    }
   ],
   "source": [
    "'''\n",
    "model_glove = Sequential()\n",
    "model_glove.add(Embedding(vocabulary_size, 100, input_length=50, weights=[embedding_matrix], trainable=False))\n",
    "model_glove.add(Dropout(0.2))\n",
    "model_glove.add(Conv1D(64, 5, activation='relu'))\n",
    "model_glove.add(MaxPooling1D(pool_size=4))\n",
    "model_glove.add(LSTM(100))\n",
    "model_glove.add(Dense(1, activation='sigmoid'))\n",
    "model_glove.compile(loss='binary_crossentropy', optimizer='adam', metrics=['accuracy'])\n",
    "'''"
   ]
  },
  {
   "cell_type": "code",
   "execution_count": 1064,
   "metadata": {},
   "outputs": [],
   "source": [
    "#model_glove.fit(data, np.array(labels), validation_split=0.4, epochs = 3)"
   ]
  },
  {
   "cell_type": "code",
   "execution_count": 1065,
   "metadata": {},
   "outputs": [],
   "source": [
    "#model_glove.fit(X_train6, y_train6, validation_split=0.4, epochs = 3)"
   ]
  },
  {
   "cell_type": "code",
   "execution_count": 1066,
   "metadata": {},
   "outputs": [],
   "source": [
    "#evaluate_classes(model_glove,X_test6,y_test6)"
   ]
  },
  {
   "cell_type": "code",
   "execution_count": 1067,
   "metadata": {},
   "outputs": [],
   "source": [
    "#lstm_embds = model_lstm.layers[0].get_weights()[0]"
   ]
  },
  {
   "cell_type": "code",
   "execution_count": 1068,
   "metadata": {},
   "outputs": [],
   "source": [
    "#conv_embds = model_conv.layers[0].get_weights()[0]"
   ]
  },
  {
   "cell_type": "code",
   "execution_count": 1069,
   "metadata": {},
   "outputs": [],
   "source": [
    "#glove_emds = model_glove.layers[0].get_weights()[0]"
   ]
  },
  {
   "cell_type": "code",
   "execution_count": 1070,
   "metadata": {},
   "outputs": [],
   "source": [
    "#word_list = []\n",
    "#for word, i in tokenizer.word_index.items():\n",
    "#    word_list.append(word)"
   ]
  },
  {
   "cell_type": "code",
   "execution_count": 1071,
   "metadata": {},
   "outputs": [],
   "source": [
    "#len(word_list)"
   ]
  },
  {
   "cell_type": "code",
   "execution_count": 1072,
   "metadata": {},
   "outputs": [
    {
     "data": {
      "text/plain": [
       "\"\\ndef plot_words(data, start, stop, step):\\n    trace = go.Scatter(\\n        x = data[start:stop:step,0], \\n        y = data[start:stop:step, 1],\\n        mode = 'markers',\\n        text= word_list[start:stop:step]\\n    )\\n    layout = dict(title= 't-SNE 1 vs t-SNE 2',\\n                  yaxis = dict(title='t-SNE 2'),\\n                  xaxis = dict(title='t-SNE 1'),\\n                  hovermode= 'closest')\\n    fig = dict(data = [trace], layout= layout)\\n    py.iplot(fig)\\n\""
      ]
     },
     "execution_count": 1072,
     "metadata": {},
     "output_type": "execute_result"
    }
   ],
   "source": [
    "'''\n",
    "def plot_words(data, start, stop, step):\n",
    "    trace = go.Scatter(\n",
    "        x = data[start:stop:step,0], \n",
    "        y = data[start:stop:step, 1],\n",
    "        mode = 'markers',\n",
    "        text= word_list[start:stop:step]\n",
    "    )\n",
    "    layout = dict(title= 't-SNE 1 vs t-SNE 2',\n",
    "                  yaxis = dict(title='t-SNE 2'),\n",
    "                  xaxis = dict(title='t-SNE 1'),\n",
    "                  hovermode= 'closest')\n",
    "    fig = dict(data = [trace], layout= layout)\n",
    "    py.iplot(fig)\n",
    "'''"
   ]
  },
  {
   "cell_type": "code",
   "execution_count": 1073,
   "metadata": {},
   "outputs": [],
   "source": [
    "#lstm_tsne_embds = TSNE(n_components=2).fit_transform(lstm_embds)"
   ]
  },
  {
   "cell_type": "code",
   "execution_count": 1074,
   "metadata": {},
   "outputs": [],
   "source": [
    "#plot_words(lstm_tsne_embds, 0, 2000, 1)"
   ]
  },
  {
   "cell_type": "code",
   "execution_count": 1075,
   "metadata": {},
   "outputs": [],
   "source": [
    "#conv_tsne_embds = TSNE(n_components=2).fit_transform(conv_embds)"
   ]
  },
  {
   "cell_type": "code",
   "execution_count": 1076,
   "metadata": {},
   "outputs": [],
   "source": [
    "#plot_words(conv_tsne_embds, 0, 2000, 1)"
   ]
  },
  {
   "cell_type": "code",
   "execution_count": 1077,
   "metadata": {},
   "outputs": [],
   "source": [
    "#glove_tsne_embds = TSNE(n_components=2).fit_transform(glove_emds)"
   ]
  },
  {
   "cell_type": "code",
   "execution_count": 1078,
   "metadata": {},
   "outputs": [],
   "source": [
    "#plot_words(glove_tsne_embds, 0, 2000, 1)"
   ]
  },
  {
   "cell_type": "code",
   "execution_count": 1079,
   "metadata": {},
   "outputs": [],
   "source": [
    "#from gensim.models import Word2Vec\n",
    "#import nltk\n",
    "#nltk.download('punkt')"
   ]
  },
  {
   "cell_type": "code",
   "execution_count": 1080,
   "metadata": {},
   "outputs": [],
   "source": [
    "#checkdata['tokenized'] = checkdata.apply(lambda row : nltk.word_tokenize(row['Feedback1']), axis=1)"
   ]
  },
  {
   "cell_type": "code",
   "execution_count": 1081,
   "metadata": {},
   "outputs": [],
   "source": [
    "#model_w2v = Word2Vec(checkdata['tokenized'], size=100)"
   ]
  },
  {
   "cell_type": "code",
   "execution_count": 1082,
   "metadata": {},
   "outputs": [],
   "source": [
    "#X = model_w2v[model_w2v.wv.vocab]"
   ]
  },
  {
   "cell_type": "code",
   "execution_count": 1083,
   "metadata": {},
   "outputs": [],
   "source": [
    "#from sklearn.decomposition import TruncatedSVD"
   ]
  },
  {
   "cell_type": "code",
   "execution_count": 1084,
   "metadata": {},
   "outputs": [],
   "source": [
    "#Tokenizer"
   ]
  },
  {
   "cell_type": "code",
   "execution_count": 1085,
   "metadata": {},
   "outputs": [],
   "source": [
    "#from sklearn.decomposition import TruncatedSVD\n",
    "\n",
    "#tsvd = TruncatedSVD(n_components=5, n_iter=10)\n",
    "#result = tsvd.fit_transform(X)\n",
    "\n",
    "#result.shape"
   ]
  },
  {
   "cell_type": "code",
   "execution_count": 1086,
   "metadata": {},
   "outputs": [
    {
     "data": {
      "text/plain": [
       "\"\\n\\ntsvd_word_list = []\\nwords = list(model_w2v.wv.vocab)\\nfor i, word in enumerate(words):\\n    tsvd_word_list.append(word)\\nnumber_of_words=50\\ntrace = go.Scatter(\\n    x = result[0:number_of_words, 0], \\n    y = result[0:number_of_words, 1],\\n    mode = 'markers',\\n    text= tsvd_word_list[0:number_of_words]\\n)\\n\\nlayout = dict(title= 'SVD 1 vs SVD 2',\\n              yaxis = dict(title='SVD 2'),\\n              xaxis = dict(title='SVD 1'),\\n              hovermode= 'closest')\\n\\nfig = dict(data = [trace], layout= layout)\\npy.iplot(fig)\\n\""
      ]
     },
     "execution_count": 1086,
     "metadata": {},
     "output_type": "execute_result"
    }
   ],
   "source": [
    "'''\n",
    "\n",
    "tsvd_word_list = []\n",
    "words = list(model_w2v.wv.vocab)\n",
    "for i, word in enumerate(words):\n",
    "    tsvd_word_list.append(word)\n",
    "number_of_words=50\n",
    "trace = go.Scatter(\n",
    "    x = result[0:number_of_words, 0], \n",
    "    y = result[0:number_of_words, 1],\n",
    "    mode = 'markers',\n",
    "    text= tsvd_word_list[0:number_of_words]\n",
    ")\n",
    "\n",
    "layout = dict(title= 'SVD 1 vs SVD 2',\n",
    "              yaxis = dict(title='SVD 2'),\n",
    "              xaxis = dict(title='SVD 1'),\n",
    "              hovermode= 'closest')\n",
    "\n",
    "fig = dict(data = [trace], layout= layout)\n",
    "py.iplot(fig)\n",
    "'''"
   ]
  },
  {
   "cell_type": "code",
   "execution_count": 1087,
   "metadata": {},
   "outputs": [
    {
     "data": {
      "text/plain": [
       "'\\nfrom nltk.tokenize import sent_tokenize, word_tokenize\\nfrom nltk.stem import PorterStemmer\\nstopwords = nltk.corpus.stopwords.words(\\'english\\')\\nps = PorterStemmer()\\ndef clean_text(text):\\n    no_punct = \"\".join([char for char in text if char not in string.punctuation])\\n    token = re.split(\\'\\\\W+\\',no_punct)\\n    nostop = ([ps.stem(word) for word in token if word not in stopwords])\\n    return nostop\\n'"
      ]
     },
     "execution_count": 1087,
     "metadata": {},
     "output_type": "execute_result"
    }
   ],
   "source": [
    "'''\n",
    "from nltk.tokenize import sent_tokenize, word_tokenize\n",
    "from nltk.stem import PorterStemmer\n",
    "stopwords = nltk.corpus.stopwords.words('english')\n",
    "ps = PorterStemmer()\n",
    "def clean_text(text):\n",
    "    no_punct = \"\".join([char for char in text if char not in string.punctuation])\n",
    "    token = re.split('\\W+',no_punct)\n",
    "    nostop = ([ps.stem(word) for word in token if word not in stopwords])\n",
    "    return nostop\n",
    "'''"
   ]
  },
  {
   "cell_type": "code",
   "execution_count": 1088,
   "metadata": {},
   "outputs": [
    {
     "data": {
      "text/plain": [
       "\"\\nfrom sklearn.feature_extraction.text import TfidfVectorizer\\n\\ntfidf_vect = TfidfVectorizer()\\nX_tfidf_counts = tfidf_vect.fit_transform(checkdata['Feedback1'])\\n\\n\""
      ]
     },
     "execution_count": 1088,
     "metadata": {},
     "output_type": "execute_result"
    }
   ],
   "source": [
    "'''\n",
    "from sklearn.feature_extraction.text import TfidfVectorizer\n",
    "\n",
    "tfidf_vect = TfidfVectorizer()\n",
    "X_tfidf_counts = tfidf_vect.fit_transform(checkdata['Feedback1'])\n",
    "\n",
    "'''"
   ]
  },
  {
   "cell_type": "code",
   "execution_count": 1089,
   "metadata": {},
   "outputs": [],
   "source": [
    "#print(X_tfidf_counts.shape)\n",
    "#print(tfidf_vect.get_feature_names())"
   ]
  },
  {
   "cell_type": "code",
   "execution_count": 1090,
   "metadata": {},
   "outputs": [],
   "source": [
    "#import pickle\n",
    "# save RF model to disk\n",
    "#filename2 = 'tfidf_vect.sav'\n",
    "#pickle.dump(tfidf_vect, open(filename2, 'wb'))"
   ]
  },
  {
   "cell_type": "code",
   "execution_count": 1091,
   "metadata": {},
   "outputs": [],
   "source": [
    "#tfidf_frame = pd.DataFrame(X_tfidf_counts.toarray(),index=checkdata['Respondent_Id'])"
   ]
  },
  {
   "cell_type": "code",
   "execution_count": 1092,
   "metadata": {},
   "outputs": [],
   "source": [
    "#tfidf_frame.columns = tfidf_vect.get_feature_names()"
   ]
  },
  {
   "cell_type": "code",
   "execution_count": 1093,
   "metadata": {},
   "outputs": [],
   "source": [
    "#tfidf_frame.head()"
   ]
  },
  {
   "cell_type": "code",
   "execution_count": 1094,
   "metadata": {},
   "outputs": [],
   "source": [
    "#checkdata1 =checkdata"
   ]
  },
  {
   "cell_type": "code",
   "execution_count": 1095,
   "metadata": {},
   "outputs": [],
   "source": [
    "#checkdata = checkdata.drop(['tokenized'],axis=1)"
   ]
  },
  {
   "cell_type": "code",
   "execution_count": 105,
   "metadata": {},
   "outputs": [],
   "source": [
    "# set index for customer identification code\n",
    "checkdatax_uniqueid = checkdata\n",
    "checkdatax_uniqueid = checkdatax_uniqueid.set_index('Respondent_Id')\n",
    "\n",
    "all_obj_columns=checkdatax_uniqueid.columns"
   ]
  },
  {
   "cell_type": "code",
   "execution_count": 106,
   "metadata": {},
   "outputs": [],
   "source": [
    "# change datatype'\n",
    "\n",
    "for column in all_obj_columns:\n",
    "    if checkdata[column].dtypes==\"object\":\n",
    "        checkdata[column] = checkdata[column].astype('category')\n",
    "    elif checkdata[column].dtypes==\"bool\":\n",
    "        checkdata[column] = checkdata[column].astype('category')\n",
    "        #checkdata[column] = checkdata[column].apply(lambda x: x.cat.codes)\n",
    "# recoding categories to number with numerical and alphabatical order 0-1 and a-z, respectively\n",
    "\n",
    "#checkdata[all_obj_columns] = checkdata[all_obj_columns].apply(lambda x: x.cat.codes)"
   ]
  },
  {
   "cell_type": "code",
   "execution_count": 107,
   "metadata": {},
   "outputs": [],
   "source": [
    "#checkdata = checkdata1\n",
    "# change datatype'\n",
    "\n",
    "#for column in all_obj_columns:\n",
    "#    if checkdata[column].dtypes==\"object\":\n",
    "#        checkdata[column] = checkdata[column].astype('category')"
   ]
  },
  {
   "cell_type": "code",
   "execution_count": 108,
   "metadata": {},
   "outputs": [
    {
     "name": "stdout",
     "output_type": "stream",
     "text": [
      "<class 'pandas.core.frame.DataFrame'>\n",
      "Int64Index: 10456 entries, 79 to 168271\n",
      "Data columns (total 24 columns):\n",
      "Respondent_Id               10456 non-null object\n",
      "Agent_Department_Code_MU    10456 non-null category\n",
      "Support_level_4_VP          10456 non-null category\n",
      "Support_level_3_Director    10456 non-null category\n",
      "Support_level_2_Ops_Mgr     10456 non-null category\n",
      "Support_level_1_Team_Mgr    10456 non-null category\n",
      "Survey_Medium               10456 non-null category\n",
      "B7_1_Agent_CSR              10456 non-null category\n",
      "is_mins                     10456 non-null category\n",
      "is_minute                   10456 non-null category\n",
      "is_minutes                  10456 non-null category\n",
      "is_hour                     10456 non-null category\n",
      "is_hours                    10456 non-null category\n",
      "is_hrs                      10456 non-null category\n",
      "is_hr                       10456 non-null category\n",
      "char_count                  10456 non-null float64\n",
      "word_count                  10456 non-null float64\n",
      "numerics                    10456 non-null float64\n",
      "upper                       10456 non-null float64\n",
      "avg_word                    10456 non-null float64\n",
      "stopwords                   10456 non-null float64\n",
      "punc%                       10456 non-null float64\n",
      "Feedback1                   10456 non-null category\n",
      "target                      10456 non-null int64\n",
      "dtypes: category(15), float64(7), int64(1), object(1)\n",
      "memory usage: 1.6+ MB\n"
     ]
    }
   ],
   "source": [
    "checkdata.info()"
   ]
  },
  {
   "cell_type": "code",
   "execution_count": 109,
   "metadata": {},
   "outputs": [],
   "source": [
    "checkdata['Agent_Department_Code_MU'] = checkdata['Agent_Department_Code_MU'].cat.codes\n",
    "checkdata['Support_level_4_VP'] = checkdata['Support_level_4_VP'].cat.codes\n",
    "#checkdata['Support_level_4_TID_VP'] = checkdata['Support_level_4_TID_VP'].cat.codes\n",
    "checkdata['Support_level_3_Director'] = checkdata['Support_level_3_Director'].cat.codes\n",
    "#checkdata['Support_level_3_TID_Director'] = checkdata['Support_level_3_TID_Director'].cat.codes\n",
    "checkdata['Support_level_2_Ops_Mgr'] = checkdata['Support_level_2_Ops_Mgr'].cat.codes\n",
    "#checkdata['Support_level_2_TID_Ops_Mgr'] = checkdata['Support_level_2_TID_Ops_Mgr'].cat.codes\n",
    "checkdata['Support_level_1_Team_Mgr'] = checkdata['Support_level_1_Team_Mgr'].cat.codes\n",
    "#checkdata['Support_level_1_TID_Team_Mgr'] = checkdata['Support_level_1_TID_Team_Mgr'].cat.codes\n",
    "checkdata['Survey_Medium'] = checkdata['Survey_Medium'].cat.codes\n",
    "#checkdata['Survey_Integrity_Hidden'] = checkdata['Survey_Integrity_Hidden'].cat.codes\n",
    "#checkdata['Source_database'] = checkdata['Source_database'].cat.codes\n",
    "#checkdata['Source_label'] = checkdata['Source_label'].cat.codes\n",
    "checkdata['B7_1_Agent_CSR'] = checkdata['B7_1_Agent_CSR'].cat.codes\n",
    "checkdata['is_mins'] = checkdata['is_mins'].cat.codes\n",
    "checkdata['is_minute'] = checkdata['is_minute'].cat.codes\n",
    "checkdata['is_minutes'] = checkdata['is_minutes'].cat.codes\n",
    "checkdata['is_hour'] = checkdata['is_hour'].cat.codes\n",
    "checkdata['is_hours'] = checkdata['is_hours'].cat.codes\n",
    "checkdata['is_hrs'] = checkdata['is_hrs'].cat.codes\n",
    "checkdata['is_hr'] = checkdata['is_hr'].cat.codes\n",
    "checkdata['all_waits'] = checkdata['is_mins'].astype('int64') + checkdata['is_minute'].astype('int64')\\\n",
    "+ checkdata['is_minutes'].astype('int64') + checkdata['is_hour'].astype('int64') + checkdata['is_hours'].astype('int64')\\\n",
    "+ checkdata['is_hrs'].astype('int64') + checkdata['is_hr'].astype('int64')\n",
    "checkdata = checkdata.drop(['Feedback1'],axis=1)\n"
   ]
  },
  {
   "cell_type": "code",
   "execution_count": 110,
   "metadata": {},
   "outputs": [],
   "source": [
    "checkdata = checkdata.set_index('Respondent_Id')"
   ]
  },
  {
   "cell_type": "code",
   "execution_count": 111,
   "metadata": {},
   "outputs": [
    {
     "data": {
      "text/html": [
       "<div>\n",
       "<style scoped>\n",
       "    .dataframe tbody tr th:only-of-type {\n",
       "        vertical-align: middle;\n",
       "    }\n",
       "\n",
       "    .dataframe tbody tr th {\n",
       "        vertical-align: top;\n",
       "    }\n",
       "\n",
       "    .dataframe thead th {\n",
       "        text-align: right;\n",
       "    }\n",
       "</style>\n",
       "<table border=\"1\" class=\"dataframe\">\n",
       "  <thead>\n",
       "    <tr style=\"text-align: right;\">\n",
       "      <th></th>\n",
       "      <th>Agent_Department_Code_MU</th>\n",
       "      <th>Support_level_4_VP</th>\n",
       "      <th>Support_level_3_Director</th>\n",
       "      <th>Support_level_2_Ops_Mgr</th>\n",
       "      <th>Support_level_1_Team_Mgr</th>\n",
       "      <th>Survey_Medium</th>\n",
       "      <th>B7_1_Agent_CSR</th>\n",
       "      <th>is_mins</th>\n",
       "      <th>is_minute</th>\n",
       "      <th>is_minutes</th>\n",
       "      <th>...</th>\n",
       "      <th>is_hr</th>\n",
       "      <th>char_count</th>\n",
       "      <th>word_count</th>\n",
       "      <th>numerics</th>\n",
       "      <th>upper</th>\n",
       "      <th>avg_word</th>\n",
       "      <th>stopwords</th>\n",
       "      <th>punc%</th>\n",
       "      <th>target</th>\n",
       "      <th>all_waits</th>\n",
       "    </tr>\n",
       "    <tr>\n",
       "      <th>Respondent_Id</th>\n",
       "      <th></th>\n",
       "      <th></th>\n",
       "      <th></th>\n",
       "      <th></th>\n",
       "      <th></th>\n",
       "      <th></th>\n",
       "      <th></th>\n",
       "      <th></th>\n",
       "      <th></th>\n",
       "      <th></th>\n",
       "      <th></th>\n",
       "      <th></th>\n",
       "      <th></th>\n",
       "      <th></th>\n",
       "      <th></th>\n",
       "      <th></th>\n",
       "      <th></th>\n",
       "      <th></th>\n",
       "      <th></th>\n",
       "      <th></th>\n",
       "      <th></th>\n",
       "    </tr>\n",
       "  </thead>\n",
       "  <tbody>\n",
       "    <tr>\n",
       "      <th>3523509</th>\n",
       "      <td>0</td>\n",
       "      <td>2</td>\n",
       "      <td>2</td>\n",
       "      <td>12</td>\n",
       "      <td>50</td>\n",
       "      <td>1</td>\n",
       "      <td>0</td>\n",
       "      <td>0</td>\n",
       "      <td>0</td>\n",
       "      <td>0</td>\n",
       "      <td>...</td>\n",
       "      <td>0</td>\n",
       "      <td>1.191368</td>\n",
       "      <td>1.234117</td>\n",
       "      <td>-0.280065</td>\n",
       "      <td>1.608161</td>\n",
       "      <td>-0.228992</td>\n",
       "      <td>1.281582</td>\n",
       "      <td>0.938176</td>\n",
       "      <td>1</td>\n",
       "      <td>0</td>\n",
       "    </tr>\n",
       "    <tr>\n",
       "      <th>3523102</th>\n",
       "      <td>1</td>\n",
       "      <td>1</td>\n",
       "      <td>0</td>\n",
       "      <td>10</td>\n",
       "      <td>17</td>\n",
       "      <td>1</td>\n",
       "      <td>4</td>\n",
       "      <td>0</td>\n",
       "      <td>0</td>\n",
       "      <td>0</td>\n",
       "      <td>...</td>\n",
       "      <td>0</td>\n",
       "      <td>-1.441205</td>\n",
       "      <td>-1.265481</td>\n",
       "      <td>-0.280065</td>\n",
       "      <td>-0.604802</td>\n",
       "      <td>-1.002406</td>\n",
       "      <td>-1.394193</td>\n",
       "      <td>-1.019599</td>\n",
       "      <td>0</td>\n",
       "      <td>0</td>\n",
       "    </tr>\n",
       "    <tr>\n",
       "      <th>3523089</th>\n",
       "      <td>0</td>\n",
       "      <td>1</td>\n",
       "      <td>0</td>\n",
       "      <td>10</td>\n",
       "      <td>55</td>\n",
       "      <td>1</td>\n",
       "      <td>4</td>\n",
       "      <td>0</td>\n",
       "      <td>0</td>\n",
       "      <td>0</td>\n",
       "      <td>...</td>\n",
       "      <td>0</td>\n",
       "      <td>-0.284043</td>\n",
       "      <td>-0.544802</td>\n",
       "      <td>-0.280065</td>\n",
       "      <td>-0.604802</td>\n",
       "      <td>1.515891</td>\n",
       "      <td>-0.794167</td>\n",
       "      <td>1.381740</td>\n",
       "      <td>0</td>\n",
       "      <td>0</td>\n",
       "    </tr>\n",
       "    <tr>\n",
       "      <th>3523082</th>\n",
       "      <td>0</td>\n",
       "      <td>1</td>\n",
       "      <td>0</td>\n",
       "      <td>10</td>\n",
       "      <td>11</td>\n",
       "      <td>1</td>\n",
       "      <td>4</td>\n",
       "      <td>0</td>\n",
       "      <td>0</td>\n",
       "      <td>0</td>\n",
       "      <td>...</td>\n",
       "      <td>0</td>\n",
       "      <td>-1.350588</td>\n",
       "      <td>-1.265481</td>\n",
       "      <td>-0.280065</td>\n",
       "      <td>-0.604802</td>\n",
       "      <td>-0.445236</td>\n",
       "      <td>-1.394193</td>\n",
       "      <td>2.146401</td>\n",
       "      <td>0</td>\n",
       "      <td>0</td>\n",
       "    </tr>\n",
       "    <tr>\n",
       "      <th>3523075</th>\n",
       "      <td>0</td>\n",
       "      <td>2</td>\n",
       "      <td>2</td>\n",
       "      <td>6</td>\n",
       "      <td>57</td>\n",
       "      <td>1</td>\n",
       "      <td>4</td>\n",
       "      <td>0</td>\n",
       "      <td>0</td>\n",
       "      <td>0</td>\n",
       "      <td>...</td>\n",
       "      <td>0</td>\n",
       "      <td>0.941246</td>\n",
       "      <td>0.890240</td>\n",
       "      <td>-0.280065</td>\n",
       "      <td>0.501679</td>\n",
       "      <td>0.264732</td>\n",
       "      <td>0.826167</td>\n",
       "      <td>0.962264</td>\n",
       "      <td>0</td>\n",
       "      <td>0</td>\n",
       "    </tr>\n",
       "  </tbody>\n",
       "</table>\n",
       "<p>5 rows × 23 columns</p>\n",
       "</div>"
      ],
      "text/plain": [
       "               Agent_Department_Code_MU  Support_level_4_VP  \\\n",
       "Respondent_Id                                                 \n",
       "3523509                               0                   2   \n",
       "3523102                               1                   1   \n",
       "3523089                               0                   1   \n",
       "3523082                               0                   1   \n",
       "3523075                               0                   2   \n",
       "\n",
       "               Support_level_3_Director  Support_level_2_Ops_Mgr  \\\n",
       "Respondent_Id                                                      \n",
       "3523509                               2                       12   \n",
       "3523102                               0                       10   \n",
       "3523089                               0                       10   \n",
       "3523082                               0                       10   \n",
       "3523075                               2                        6   \n",
       "\n",
       "               Support_level_1_Team_Mgr  Survey_Medium  B7_1_Agent_CSR  \\\n",
       "Respondent_Id                                                            \n",
       "3523509                              50              1               0   \n",
       "3523102                              17              1               4   \n",
       "3523089                              55              1               4   \n",
       "3523082                              11              1               4   \n",
       "3523075                              57              1               4   \n",
       "\n",
       "               is_mins  is_minute  is_minutes    ...      is_hr  char_count  \\\n",
       "Respondent_Id                                    ...                          \n",
       "3523509              0          0           0    ...          0    1.191368   \n",
       "3523102              0          0           0    ...          0   -1.441205   \n",
       "3523089              0          0           0    ...          0   -0.284043   \n",
       "3523082              0          0           0    ...          0   -1.350588   \n",
       "3523075              0          0           0    ...          0    0.941246   \n",
       "\n",
       "               word_count  numerics     upper  avg_word  stopwords     punc%  \\\n",
       "Respondent_Id                                                                  \n",
       "3523509          1.234117 -0.280065  1.608161 -0.228992   1.281582  0.938176   \n",
       "3523102         -1.265481 -0.280065 -0.604802 -1.002406  -1.394193 -1.019599   \n",
       "3523089         -0.544802 -0.280065 -0.604802  1.515891  -0.794167  1.381740   \n",
       "3523082         -1.265481 -0.280065 -0.604802 -0.445236  -1.394193  2.146401   \n",
       "3523075          0.890240 -0.280065  0.501679  0.264732   0.826167  0.962264   \n",
       "\n",
       "               target  all_waits  \n",
       "Respondent_Id                     \n",
       "3523509             1          0  \n",
       "3523102             0          0  \n",
       "3523089             0          0  \n",
       "3523082             0          0  \n",
       "3523075             0          0  \n",
       "\n",
       "[5 rows x 23 columns]"
      ]
     },
     "execution_count": 111,
     "metadata": {},
     "output_type": "execute_result"
    }
   ],
   "source": [
    "checkdata.head()"
   ]
  },
  {
   "cell_type": "code",
   "execution_count": 112,
   "metadata": {},
   "outputs": [
    {
     "data": {
      "text/plain": [
       "0    9702\n",
       "1     359\n",
       "2     315\n",
       "3      59\n",
       "4      17\n",
       "5       3\n",
       "7       1\n",
       "Name: all_waits, dtype: int64"
      ]
     },
     "execution_count": 112,
     "metadata": {},
     "output_type": "execute_result"
    }
   ],
   "source": [
    "checkdata['all_waits'].value_counts()"
   ]
  },
  {
   "cell_type": "code",
   "execution_count": 113,
   "metadata": {},
   "outputs": [],
   "source": [
    "#final = pd.merge(checkdata,tfidf_frame,left_index=True, right_index=True)"
   ]
  },
  {
   "cell_type": "code",
   "execution_count": 114,
   "metadata": {},
   "outputs": [],
   "source": [
    "#checkdata['total_waits'].value_counts()"
   ]
  },
  {
   "cell_type": "code",
   "execution_count": 115,
   "metadata": {},
   "outputs": [],
   "source": [
    "checkdata['any_wait'] = checkdata['all_waits'].apply(lambda x: 1 if x > 0 else 0)\n",
    "checkdata = checkdata.drop(['all_waits','is_hrs','is_hr','is_hour','is_mins','is_minute','is_minutes','is_hours'],axis=1)"
   ]
  },
  {
   "cell_type": "code",
   "execution_count": 116,
   "metadata": {},
   "outputs": [],
   "source": [
    "#checkdata['any_wait'].value_counts()"
   ]
  },
  {
   "cell_type": "code",
   "execution_count": 117,
   "metadata": {},
   "outputs": [],
   "source": [
    "#new.head()"
   ]
  },
  {
   "cell_type": "code",
   "execution_count": 118,
   "metadata": {},
   "outputs": [
    {
     "data": {
      "text/plain": [
       "<matplotlib.axes._subplots.AxesSubplot at 0x7f0f7859f668>"
      ]
     },
     "execution_count": 118,
     "metadata": {},
     "output_type": "execute_result"
    },
    {
     "data": {
      "image/png": "[encoded data removed]",
      "text/plain": [
       "<matplotlib.figure.Figure at 0x7f0f78ae27f0>"
      ]
     },
     "metadata": {},
     "output_type": "display_data"
    }
   ],
   "source": [
    "checkdata.plot(kind='box',figsize=(20,10))"
   ]
  },
  {
   "cell_type": "code",
   "execution_count": 1110,
   "metadata": {},
   "outputs": [],
   "source": [
    "#cols = ['target']  + [col for col in checkdata if col != 'target']\n",
    "#checkdata = checkdata[cols]"
   ]
  },
  {
   "cell_type": "code",
   "execution_count": 1111,
   "metadata": {},
   "outputs": [],
   "source": [
    "#final.shape"
   ]
  },
  {
   "cell_type": "code",
   "execution_count": 1112,
   "metadata": {},
   "outputs": [
    {
     "data": {
      "text/plain": [
       "'\\nfrom pandas.core.common import array_equivalent\\n\\ndef duplicate_columns(frame):\\n    groups = frame.columns.to_series().groupby(frame.dtypes).groups\\n    dups = []\\n\\n    for t, v in groups.items():\\n\\n        cs = frame[v].columns\\n        vs = frame[v]\\n        lcs = len(cs)\\n\\n        for i in range(lcs):\\n            ia = vs.iloc[:,i].values\\n            for j in range(i+1, lcs):\\n                ja = vs.iloc[:,j].values\\n                if array_equivalent(ia, ja):\\n                    dups.append(cs[i])\\n                    break\\n\\n    return dups\\n'"
      ]
     },
     "execution_count": 1112,
     "metadata": {},
     "output_type": "execute_result"
    }
   ],
   "source": [
    "'''\n",
    "from pandas.core.common import array_equivalent\n",
    "\n",
    "def duplicate_columns(frame):\n",
    "    groups = frame.columns.to_series().groupby(frame.dtypes).groups\n",
    "    dups = []\n",
    "\n",
    "    for t, v in groups.items():\n",
    "\n",
    "        cs = frame[v].columns\n",
    "        vs = frame[v]\n",
    "        lcs = len(cs)\n",
    "\n",
    "        for i in range(lcs):\n",
    "            ia = vs.iloc[:,i].values\n",
    "            for j in range(i+1, lcs):\n",
    "                ja = vs.iloc[:,j].values\n",
    "                if array_equivalent(ia, ja):\n",
    "                    dups.append(cs[i])\n",
    "                    break\n",
    "\n",
    "    return dups\n",
    "'''"
   ]
  },
  {
   "cell_type": "code",
   "execution_count": 1113,
   "metadata": {},
   "outputs": [],
   "source": [
    "#dups = duplicate_columns(final)\n",
    "#final_clean1 = final.drop(dups, axis=1)"
   ]
  },
  {
   "cell_type": "code",
   "execution_count": 1114,
   "metadata": {},
   "outputs": [],
   "source": [
    "#final_clean1 = final_clean1.iloc[:, ~final_clean1.columns.duplicated()]"
   ]
  },
  {
   "cell_type": "code",
   "execution_count": 1115,
   "metadata": {},
   "outputs": [],
   "source": [
    "#print(final.shape)\n",
    "#print(final_clean1.shape)"
   ]
  },
  {
   "cell_type": "code",
   "execution_count": 1116,
   "metadata": {},
   "outputs": [],
   "source": [
    "#final_clean1.info()"
   ]
  },
  {
   "cell_type": "code",
   "execution_count": 1117,
   "metadata": {},
   "outputs": [],
   "source": [
    "#final_clean1.head()"
   ]
  },
  {
   "cell_type": "code",
   "execution_count": 1118,
   "metadata": {},
   "outputs": [],
   "source": [
    "#col = final.columns #final_clean1.columns"
   ]
  },
  {
   "cell_type": "code",
   "execution_count": 1119,
   "metadata": {},
   "outputs": [],
   "source": [
    "#col"
   ]
  },
  {
   "cell_type": "code",
   "execution_count": 1120,
   "metadata": {},
   "outputs": [],
   "source": [
    "#X = final_clean[:,-'Had_knowledge_dummy']\n",
    "#labels = final['target']#final_clean1['target']\n",
    "#X = final #.drop(['target'],axis=1)\n",
    "#final_clean1.drop(['target'],axis=1)"
   ]
  },
  {
   "cell_type": "code",
   "execution_count": 1121,
   "metadata": {},
   "outputs": [
    {
     "data": {
      "text/plain": [
       "\"# Training\\ncheckdata_1 = checkdata.copy()\\ncheckdata2 = checkdata.copy()\\ncheckdata3 = checkdata.copy()\\ncheckdata_1 = checkdata_1.set_index('Respondent_Id')\\ncheckdata_1 = checkdata_1.drop(['Feedback','B7_1_Agent_CSR'],axis=1)\\nprint(checkdata_1.shape)\\n\\ncheckdata2 = checkdata2.set_index('Respondent_Id')\\ncheckdata2 = checkdata2[['target','B7_1_Agent_CSR']]\\nprint(checkdata2.shape)\\n\\ncheckdata3 = checkdata3.set_index('Respondent_Id')\\ncheckdata3 = checkdata3.drop(['Feedback'],axis=1)\\nprint(checkdata3.shape)\\n\""
      ]
     },
     "execution_count": 1121,
     "metadata": {},
     "output_type": "execute_result"
    }
   ],
   "source": [
    "'''# Training\n",
    "checkdata_1 = checkdata.copy()\n",
    "checkdata2 = checkdata.copy()\n",
    "checkdata3 = checkdata.copy()\n",
    "checkdata_1 = checkdata_1.set_index('Respondent_Id')\n",
    "checkdata_1 = checkdata_1.drop(['Feedback','B7_1_Agent_CSR'],axis=1)\n",
    "print(checkdata_1.shape)\n",
    "\n",
    "checkdata2 = checkdata2.set_index('Respondent_Id')\n",
    "checkdata2 = checkdata2[['target','B7_1_Agent_CSR']]\n",
    "print(checkdata2.shape)\n",
    "\n",
    "checkdata3 = checkdata3.set_index('Respondent_Id')\n",
    "checkdata3 = checkdata3.drop(['Feedback'],axis=1)\n",
    "print(checkdata3.shape)\n",
    "'''# Training\n"
   ]
  },
  {
   "cell_type": "code",
   "execution_count": 1122,
   "metadata": {},
   "outputs": [
    {
     "data": {
      "text/html": [
       "<div>\n",
       "<style scoped>\n",
       "    .dataframe tbody tr th:only-of-type {\n",
       "        vertical-align: middle;\n",
       "    }\n",
       "\n",
       "    .dataframe tbody tr th {\n",
       "        vertical-align: top;\n",
       "    }\n",
       "\n",
       "    .dataframe thead th {\n",
       "        text-align: right;\n",
       "    }\n",
       "</style>\n",
       "<table border=\"1\" class=\"dataframe\">\n",
       "  <thead>\n",
       "    <tr style=\"text-align: right;\">\n",
       "      <th></th>\n",
       "      <th>Agent_Department_Code_MU</th>\n",
       "      <th>Support_level_4_VP</th>\n",
       "      <th>Support_level_3_Director</th>\n",
       "      <th>Support_level_2_Ops_Mgr</th>\n",
       "      <th>Support_level_1_Team_Mgr</th>\n",
       "      <th>Survey_Medium</th>\n",
       "      <th>B7_1_Agent_CSR</th>\n",
       "      <th>char_count</th>\n",
       "      <th>word_count</th>\n",
       "      <th>numerics</th>\n",
       "      <th>upper</th>\n",
       "      <th>avg_word</th>\n",
       "      <th>stopwords</th>\n",
       "      <th>punc%</th>\n",
       "      <th>target</th>\n",
       "      <th>any_wait</th>\n",
       "    </tr>\n",
       "    <tr>\n",
       "      <th>Respondent_Id</th>\n",
       "      <th></th>\n",
       "      <th></th>\n",
       "      <th></th>\n",
       "      <th></th>\n",
       "      <th></th>\n",
       "      <th></th>\n",
       "      <th></th>\n",
       "      <th></th>\n",
       "      <th></th>\n",
       "      <th></th>\n",
       "      <th></th>\n",
       "      <th></th>\n",
       "      <th></th>\n",
       "      <th></th>\n",
       "      <th></th>\n",
       "      <th></th>\n",
       "    </tr>\n",
       "  </thead>\n",
       "  <tbody>\n",
       "    <tr>\n",
       "      <th>3523509</th>\n",
       "      <td>0</td>\n",
       "      <td>2</td>\n",
       "      <td>2</td>\n",
       "      <td>12</td>\n",
       "      <td>50</td>\n",
       "      <td>1</td>\n",
       "      <td>0</td>\n",
       "      <td>0.810023</td>\n",
       "      <td>0.813953</td>\n",
       "      <td>-0.241527</td>\n",
       "      <td>0.680326</td>\n",
       "      <td>-0.281190</td>\n",
       "      <td>0.830269</td>\n",
       "      <td>0.250435</td>\n",
       "      <td>1</td>\n",
       "      <td>0</td>\n",
       "    </tr>\n",
       "    <tr>\n",
       "      <th>3523102</th>\n",
       "      <td>1</td>\n",
       "      <td>1</td>\n",
       "      <td>0</td>\n",
       "      <td>10</td>\n",
       "      <td>17</td>\n",
       "      <td>1</td>\n",
       "      <td>4</td>\n",
       "      <td>-0.626084</td>\n",
       "      <td>-0.599104</td>\n",
       "      <td>-0.241527</td>\n",
       "      <td>-0.318946</td>\n",
       "      <td>-0.807520</td>\n",
       "      <td>-0.610997</td>\n",
       "      <td>-0.415379</td>\n",
       "      <td>0</td>\n",
       "      <td>0</td>\n",
       "    </tr>\n",
       "    <tr>\n",
       "      <th>3523089</th>\n",
       "      <td>0</td>\n",
       "      <td>1</td>\n",
       "      <td>0</td>\n",
       "      <td>10</td>\n",
       "      <td>55</td>\n",
       "      <td>1</td>\n",
       "      <td>4</td>\n",
       "      <td>-0.456417</td>\n",
       "      <td>-0.506948</td>\n",
       "      <td>-0.241527</td>\n",
       "      <td>-0.318946</td>\n",
       "      <td>1.342276</td>\n",
       "      <td>-0.542365</td>\n",
       "      <td>0.616632</td>\n",
       "      <td>0</td>\n",
       "      <td>0</td>\n",
       "    </tr>\n",
       "    <tr>\n",
       "      <th>3523082</th>\n",
       "      <td>0</td>\n",
       "      <td>1</td>\n",
       "      <td>0</td>\n",
       "      <td>10</td>\n",
       "      <td>11</td>\n",
       "      <td>1</td>\n",
       "      <td>4</td>\n",
       "      <td>-0.620024</td>\n",
       "      <td>-0.599104</td>\n",
       "      <td>-0.241527</td>\n",
       "      <td>-0.318946</td>\n",
       "      <td>-0.436865</td>\n",
       "      <td>-0.610997</td>\n",
       "      <td>1.665289</td>\n",
       "      <td>0</td>\n",
       "      <td>0</td>\n",
       "    </tr>\n",
       "    <tr>\n",
       "      <th>3523075</th>\n",
       "      <td>0</td>\n",
       "      <td>2</td>\n",
       "      <td>2</td>\n",
       "      <td>6</td>\n",
       "      <td>57</td>\n",
       "      <td>1</td>\n",
       "      <td>4</td>\n",
       "      <td>0.397975</td>\n",
       "      <td>0.291736</td>\n",
       "      <td>-0.241527</td>\n",
       "      <td>0.014144</td>\n",
       "      <td>0.111703</td>\n",
       "      <td>0.212584</td>\n",
       "      <td>0.267080</td>\n",
       "      <td>0</td>\n",
       "      <td>0</td>\n",
       "    </tr>\n",
       "  </tbody>\n",
       "</table>\n",
       "</div>"
      ],
      "text/plain": [
       "               Agent_Department_Code_MU  Support_level_4_VP  \\\n",
       "Respondent_Id                                                 \n",
       "3523509                               0                   2   \n",
       "3523102                               1                   1   \n",
       "3523089                               0                   1   \n",
       "3523082                               0                   1   \n",
       "3523075                               0                   2   \n",
       "\n",
       "               Support_level_3_Director  Support_level_2_Ops_Mgr  \\\n",
       "Respondent_Id                                                      \n",
       "3523509                               2                       12   \n",
       "3523102                               0                       10   \n",
       "3523089                               0                       10   \n",
       "3523082                               0                       10   \n",
       "3523075                               2                        6   \n",
       "\n",
       "               Support_level_1_Team_Mgr  Survey_Medium  B7_1_Agent_CSR  \\\n",
       "Respondent_Id                                                            \n",
       "3523509                              50              1               0   \n",
       "3523102                              17              1               4   \n",
       "3523089                              55              1               4   \n",
       "3523082                              11              1               4   \n",
       "3523075                              57              1               4   \n",
       "\n",
       "               char_count  word_count  numerics     upper  avg_word  \\\n",
       "Respondent_Id                                                         \n",
       "3523509          0.810023    0.813953 -0.241527  0.680326 -0.281190   \n",
       "3523102         -0.626084   -0.599104 -0.241527 -0.318946 -0.807520   \n",
       "3523089         -0.456417   -0.506948 -0.241527 -0.318946  1.342276   \n",
       "3523082         -0.620024   -0.599104 -0.241527 -0.318946 -0.436865   \n",
       "3523075          0.397975    0.291736 -0.241527  0.014144  0.111703   \n",
       "\n",
       "               stopwords     punc%  target  any_wait  \n",
       "Respondent_Id                                         \n",
       "3523509         0.830269  0.250435       1         0  \n",
       "3523102        -0.610997 -0.415379       0         0  \n",
       "3523089        -0.542365  0.616632       0         0  \n",
       "3523082        -0.610997  1.665289       0         0  \n",
       "3523075         0.212584  0.267080       0         0  "
      ]
     },
     "execution_count": 1122,
     "metadata": {},
     "output_type": "execute_result"
    }
   ],
   "source": [
    "checkdata.head()"
   ]
  },
  {
   "cell_type": "code",
   "execution_count": 119,
   "metadata": {},
   "outputs": [
    {
     "name": "stdout",
     "output_type": "stream",
     "text": [
      "(10456, 15)\n",
      "(10456, 2)\n"
     ]
    }
   ],
   "source": [
    "# Training\n",
    "\n",
    "#checkdata1 = checkdata.copy()\n",
    "checkdata2 = checkdata.copy()\n",
    "checkdata3 = checkdata.copy()\n",
    "#checkdata4 = final.copy()\n",
    "\n",
    "#checkdata1 = checkdata1.drop(['Feedback1'],axis=1)\n",
    "#print(checkdata1.shape)\n",
    "\n",
    "\n",
    "checkdata2 = checkdata2.drop(['B7_1_Agent_CSR'],axis=1)\n",
    "print(checkdata2.shape)\n",
    "\n",
    "\n",
    "checkdata3 = checkdata3[['B7_1_Agent_CSR','target']]\n",
    "print(checkdata3.shape)\n",
    "\n",
    "\n",
    "#checkdata4 = checkdata4.drop(['Feedback1','B7_1_Agent_CSR'],axis=1)\n",
    "#print(checkdata4.shape)"
   ]
  },
  {
   "cell_type": "code",
   "execution_count": 120,
   "metadata": {},
   "outputs": [
    {
     "data": {
      "text/html": [
       "<div>\n",
       "<style scoped>\n",
       "    .dataframe tbody tr th:only-of-type {\n",
       "        vertical-align: middle;\n",
       "    }\n",
       "\n",
       "    .dataframe tbody tr th {\n",
       "        vertical-align: top;\n",
       "    }\n",
       "\n",
       "    .dataframe thead th {\n",
       "        text-align: right;\n",
       "    }\n",
       "</style>\n",
       "<table border=\"1\" class=\"dataframe\">\n",
       "  <thead>\n",
       "    <tr style=\"text-align: right;\">\n",
       "      <th></th>\n",
       "      <th>Agent_Department_Code_MU</th>\n",
       "      <th>Support_level_4_VP</th>\n",
       "      <th>Support_level_3_Director</th>\n",
       "      <th>Support_level_2_Ops_Mgr</th>\n",
       "      <th>Support_level_1_Team_Mgr</th>\n",
       "      <th>Survey_Medium</th>\n",
       "      <th>char_count</th>\n",
       "      <th>word_count</th>\n",
       "      <th>numerics</th>\n",
       "      <th>upper</th>\n",
       "      <th>avg_word</th>\n",
       "      <th>stopwords</th>\n",
       "      <th>punc%</th>\n",
       "      <th>target</th>\n",
       "      <th>any_wait</th>\n",
       "    </tr>\n",
       "    <tr>\n",
       "      <th>Respondent_Id</th>\n",
       "      <th></th>\n",
       "      <th></th>\n",
       "      <th></th>\n",
       "      <th></th>\n",
       "      <th></th>\n",
       "      <th></th>\n",
       "      <th></th>\n",
       "      <th></th>\n",
       "      <th></th>\n",
       "      <th></th>\n",
       "      <th></th>\n",
       "      <th></th>\n",
       "      <th></th>\n",
       "      <th></th>\n",
       "      <th></th>\n",
       "    </tr>\n",
       "  </thead>\n",
       "  <tbody>\n",
       "    <tr>\n",
       "      <th>3523509</th>\n",
       "      <td>0</td>\n",
       "      <td>2</td>\n",
       "      <td>2</td>\n",
       "      <td>12</td>\n",
       "      <td>50</td>\n",
       "      <td>1</td>\n",
       "      <td>1.191368</td>\n",
       "      <td>1.234117</td>\n",
       "      <td>-0.280065</td>\n",
       "      <td>1.608161</td>\n",
       "      <td>-0.228992</td>\n",
       "      <td>1.281582</td>\n",
       "      <td>0.938176</td>\n",
       "      <td>1</td>\n",
       "      <td>0</td>\n",
       "    </tr>\n",
       "    <tr>\n",
       "      <th>3523102</th>\n",
       "      <td>1</td>\n",
       "      <td>1</td>\n",
       "      <td>0</td>\n",
       "      <td>10</td>\n",
       "      <td>17</td>\n",
       "      <td>1</td>\n",
       "      <td>-1.441205</td>\n",
       "      <td>-1.265481</td>\n",
       "      <td>-0.280065</td>\n",
       "      <td>-0.604802</td>\n",
       "      <td>-1.002406</td>\n",
       "      <td>-1.394193</td>\n",
       "      <td>-1.019599</td>\n",
       "      <td>0</td>\n",
       "      <td>0</td>\n",
       "    </tr>\n",
       "    <tr>\n",
       "      <th>3523089</th>\n",
       "      <td>0</td>\n",
       "      <td>1</td>\n",
       "      <td>0</td>\n",
       "      <td>10</td>\n",
       "      <td>55</td>\n",
       "      <td>1</td>\n",
       "      <td>-0.284043</td>\n",
       "      <td>-0.544802</td>\n",
       "      <td>-0.280065</td>\n",
       "      <td>-0.604802</td>\n",
       "      <td>1.515891</td>\n",
       "      <td>-0.794167</td>\n",
       "      <td>1.381740</td>\n",
       "      <td>0</td>\n",
       "      <td>0</td>\n",
       "    </tr>\n",
       "    <tr>\n",
       "      <th>3523082</th>\n",
       "      <td>0</td>\n",
       "      <td>1</td>\n",
       "      <td>0</td>\n",
       "      <td>10</td>\n",
       "      <td>11</td>\n",
       "      <td>1</td>\n",
       "      <td>-1.350588</td>\n",
       "      <td>-1.265481</td>\n",
       "      <td>-0.280065</td>\n",
       "      <td>-0.604802</td>\n",
       "      <td>-0.445236</td>\n",
       "      <td>-1.394193</td>\n",
       "      <td>2.146401</td>\n",
       "      <td>0</td>\n",
       "      <td>0</td>\n",
       "    </tr>\n",
       "    <tr>\n",
       "      <th>3523075</th>\n",
       "      <td>0</td>\n",
       "      <td>2</td>\n",
       "      <td>2</td>\n",
       "      <td>6</td>\n",
       "      <td>57</td>\n",
       "      <td>1</td>\n",
       "      <td>0.941246</td>\n",
       "      <td>0.890240</td>\n",
       "      <td>-0.280065</td>\n",
       "      <td>0.501679</td>\n",
       "      <td>0.264732</td>\n",
       "      <td>0.826167</td>\n",
       "      <td>0.962264</td>\n",
       "      <td>0</td>\n",
       "      <td>0</td>\n",
       "    </tr>\n",
       "  </tbody>\n",
       "</table>\n",
       "</div>"
      ],
      "text/plain": [
       "               Agent_Department_Code_MU  Support_level_4_VP  \\\n",
       "Respondent_Id                                                 \n",
       "3523509                               0                   2   \n",
       "3523102                               1                   1   \n",
       "3523089                               0                   1   \n",
       "3523082                               0                   1   \n",
       "3523075                               0                   2   \n",
       "\n",
       "               Support_level_3_Director  Support_level_2_Ops_Mgr  \\\n",
       "Respondent_Id                                                      \n",
       "3523509                               2                       12   \n",
       "3523102                               0                       10   \n",
       "3523089                               0                       10   \n",
       "3523082                               0                       10   \n",
       "3523075                               2                        6   \n",
       "\n",
       "               Support_level_1_Team_Mgr  Survey_Medium  char_count  \\\n",
       "Respondent_Id                                                        \n",
       "3523509                              50              1    1.191368   \n",
       "3523102                              17              1   -1.441205   \n",
       "3523089                              55              1   -0.284043   \n",
       "3523082                              11              1   -1.350588   \n",
       "3523075                              57              1    0.941246   \n",
       "\n",
       "               word_count  numerics     upper  avg_word  stopwords     punc%  \\\n",
       "Respondent_Id                                                                  \n",
       "3523509          1.234117 -0.280065  1.608161 -0.228992   1.281582  0.938176   \n",
       "3523102         -1.265481 -0.280065 -0.604802 -1.002406  -1.394193 -1.019599   \n",
       "3523089         -0.544802 -0.280065 -0.604802  1.515891  -0.794167  1.381740   \n",
       "3523082         -1.265481 -0.280065 -0.604802 -0.445236  -1.394193  2.146401   \n",
       "3523075          0.890240 -0.280065  0.501679  0.264732   0.826167  0.962264   \n",
       "\n",
       "               target  any_wait  \n",
       "Respondent_Id                    \n",
       "3523509             1         0  \n",
       "3523102             0         0  \n",
       "3523089             0         0  \n",
       "3523082             0         0  \n",
       "3523075             0         0  "
      ]
     },
     "execution_count": 120,
     "metadata": {},
     "output_type": "execute_result"
    }
   ],
   "source": [
    "checkdata2.head()"
   ]
  },
  {
   "cell_type": "code",
   "execution_count": 121,
   "metadata": {},
   "outputs": [],
   "source": [
    "# Training/Scoring\n",
    "# model1\n",
    "#labels1 = checkdata1['target'] #final_clean1['target']\n",
    "#X1 = checkdata1.drop(['target'],axis=1) #final_clean1.drop(['target'],axis=1)\n",
    "\n",
    "# Training/Scoring\n",
    "# model2\n",
    "labels2 = checkdata2['target'] #final_clean1['target']\n",
    "X2 = pd.DataFrame(checkdata2.drop(['target'],axis=1)) #final_clean1.drop(['target'],axis=1)\n",
    "\n",
    "#model3\n",
    "labels3 = checkdata3['target'] #final_clean1['target']\n",
    "X3 = pd.DataFrame(checkdata3.drop(['target'],axis=1)) #final_clean1.drop(['target'],axis=1)\n",
    "\n",
    "#model4\n",
    "#labels4 = checkdata4['target'] #final_clean1['target']\n",
    "#X4 = checkdata4.drop(['target'],axis=1) #final_clean1.drop(['target'],axis=1)"
   ]
  },
  {
   "cell_type": "code",
   "execution_count": 122,
   "metadata": {},
   "outputs": [
    {
     "data": {
      "text/plain": [
       "((10456, 14), (10456, 1))"
      ]
     },
     "execution_count": 122,
     "metadata": {},
     "output_type": "execute_result"
    }
   ],
   "source": [
    "X2.shape, X3.shape"
   ]
  },
  {
   "cell_type": "code",
   "execution_count": 123,
   "metadata": {},
   "outputs": [
    {
     "data": {
      "text/plain": [
       "((8832, 14), (8832,), (4183, 14), (4183,))"
      ]
     },
     "execution_count": 123,
     "metadata": {},
     "output_type": "execute_result"
    }
   ],
   "source": [
    "X_train2, X_val2, y_train2, y_val2 = train_test_split(X2, labels2, test_size = .4, random_state=seed)\n",
    "\n",
    "# Using smote to increase the number of under-represented class\n",
    "sm1 = SMOTE(random_state = seed, ratio = 'minority')\n",
    "\n",
    "X_train_res2, y_train_res2 = sm.fit_sample(X_train2, y_train2)\n",
    "X_train_res2.shape, y_train_res2.shape, X_val2.shape, y_val2.shape"
   ]
  },
  {
   "cell_type": "code",
   "execution_count": 124,
   "metadata": {},
   "outputs": [
    {
     "data": {
      "text/plain": [
       "((8832, 14), (8832,))"
      ]
     },
     "execution_count": 124,
     "metadata": {},
     "output_type": "execute_result"
    }
   ],
   "source": [
    "X_train_res2 = pd.DataFrame(X_train_res2)\n",
    "#y_train_res2 = pd.DataFrame(y_train_res2)\n",
    "\n",
    "X_train_res2.columns = X2.columns\n",
    "#y_train_res2.columns = ['target']\n",
    "X_train_res2.shape, y_train_res2.shape"
   ]
  },
  {
   "cell_type": "code",
   "execution_count": 125,
   "metadata": {},
   "outputs": [
    {
     "data": {
      "text/plain": [
       "((8832, 1), (8832,), (4183, 1), (4183,))"
      ]
     },
     "execution_count": 125,
     "metadata": {},
     "output_type": "execute_result"
    }
   ],
   "source": [
    "X_train3, X_val3, y_train3, y_val3 = train_test_split(X3, labels3, test_size = .4, random_state=seed)\n",
    "\n",
    "# Using smote to increase the number of under-represented class\n",
    "sm2 = SMOTE(random_state = seed, ratio = 'minority')\n",
    "\n",
    "X_train_res3, y_train_res3 = sm.fit_sample(X_train3, y_train3)\n",
    "X_train_res3.shape, y_train_res3.shape, X_val3.shape, y_val3.shape"
   ]
  },
  {
   "cell_type": "code",
   "execution_count": 126,
   "metadata": {},
   "outputs": [
    {
     "data": {
      "text/plain": [
       "((8832, 1), (8832,))"
      ]
     },
     "execution_count": 126,
     "metadata": {},
     "output_type": "execute_result"
    }
   ],
   "source": [
    "X_train_res3 = pd.DataFrame(X_train_res3)\n",
    "#y_train_res3 = pd.DataFrame(y_train_res3)\n",
    "\n",
    "X_train_res3.columns = X3.columns\n",
    "#y_train_res3.columns = ['target']\n",
    "X_train_res3.shape, y_train_res3.shape"
   ]
  },
  {
   "cell_type": "code",
   "execution_count": 127,
   "metadata": {},
   "outputs": [
    {
     "data": {
      "text/plain": [
       "'# Training\\nfrom sklearn.model_selection import train_test_split\\n\\n# model 1\\nX_train1, X_test1, y_train1, y_test1 = train_test_split(X1, labels1, test_size = .3, random_state = seed)\\n\\n# model 2\\nX_train2, X_test2, y_train2, y_test2 = train_test_split(X2, labels2, test_size = .3, random_state = seed)\\n\\n# model 3\\nX_train3, X_test3, y_train3, y_test3 = train_test_split(X3, labels3, test_size = .3, random_state = seed)\\n\\n# model 4\\n#X_train4, X_test4, y_train4, y_test4 = train_test_split(X4, labels4, test_size = .3, random_state = seed)\\n'"
      ]
     },
     "execution_count": 127,
     "metadata": {},
     "output_type": "execute_result"
    }
   ],
   "source": [
    "'''# Training\n",
    "from sklearn.model_selection import train_test_split\n",
    "\n",
    "# model 1\n",
    "X_train1, X_test1, y_train1, y_test1 = train_test_split(X1, labels1, test_size = .3, random_state = seed)\n",
    "\n",
    "# model 2\n",
    "X_train2, X_test2, y_train2, y_test2 = train_test_split(X2, labels2, test_size = .3, random_state = seed)\n",
    "\n",
    "# model 3\n",
    "X_train3, X_test3, y_train3, y_test3 = train_test_split(X3, labels3, test_size = .3, random_state = seed)\n",
    "\n",
    "# model 4\n",
    "#X_train4, X_test4, y_train4, y_test4 = train_test_split(X4, labels4, test_size = .3, random_state = seed)\n",
    "'''"
   ]
  },
  {
   "cell_type": "code",
   "execution_count": 128,
   "metadata": {},
   "outputs": [
    {
     "name": "stdout",
     "output_type": "stream",
     "text": [
      "(8832, 14)\n",
      "(8832, 1)\n"
     ]
    }
   ],
   "source": [
    "#print(X_train1.shape)\n",
    "print(X_train_res2.shape)\n",
    "print(X_train_res3.shape)"
   ]
  },
  {
   "cell_type": "code",
   "execution_count": 129,
   "metadata": {},
   "outputs": [],
   "source": [
    "# import metrics for model evaluation\n",
    "# Training\n",
    "from sklearn.metrics import recall_score,accuracy_score,confusion_matrix,classification_report,precision_score\n",
    "from sklearn.metrics import cohen_kappa_score\n",
    "from sklearn.model_selection import cross_val_score\n",
    "#sklearn.metrics.cohen_kappa_score(y1, y2, labels=None, weights=None, sample_weight=None)\n",
    "# create function to evaluate model performance\n",
    "\n",
    "def evaluate(model, X_test, y_test):\n",
    "    y_pred = model.predict(X_test)\n",
    "    accuracy = accuracy_score(y_test,y_pred)\n",
    "    #recall = recall_score(y_test,y_pred,average='micro')\n",
    "    matrix = confusion_matrix(y_test, y_pred)\n",
    "    cohen_kappa = cohen_kappa_score(y_test, y_pred, sample_weight=None)\n",
    "    #tn, fp, fn, tp = confusion_matrix(y_test, y_pred).ravel()\n",
    "    #precision = precision_score(y_test,y_pred,average='micro')\n",
    "    print(\"accuracy :\" +str(accuracy))\n",
    "    print(\"cohen_kappa :\" +str(cohen_kappa))\n",
    "    #print(\"precision :\" +str(precision))\n",
    "    print(\"matrix :\")\n",
    "    print(matrix)\n",
    "    #print(\"report :\")\n",
    "    #print(report)\n",
    "    return None# accuracy"
   ]
  },
  {
   "cell_type": "code",
   "execution_count": 130,
   "metadata": {},
   "outputs": [],
   "source": [
    "import keras\n",
    "from keras.models import Sequential\n",
    "from keras.layers import Dense\n",
    "from keras.layers import Dropout\n",
    "from keras.wrappers.scikit_learn import KerasClassifier\n",
    "from keras.models import Sequential\n",
    "from keras.layers import Dense,Dropout, Activation"
   ]
  },
  {
   "cell_type": "code",
   "execution_count": 137,
   "metadata": {},
   "outputs": [],
   "source": [
    "\n",
    "\n",
    "# fix the input dimenstion to number of feature terms\n",
    "input_dimenation = int(X_train_res2.shape[1])\n",
    "\n",
    "# create the output dimenstion\n",
    "output = 1\n",
    "\n",
    "# create the batch size\n",
    "batch = 32\n",
    "\n",
    "# epoch\n",
    "epoch = 10\n",
    "\n",
    "\n",
    "\n",
    "# Function to create model, required for KerasClassifier\n",
    "def baseline_model():\n",
    "# create model\n",
    "    model = Sequential()\n",
    "    model.add(Dense(input_dimenation, input_dim=input_dimenation, activation='relu'))\n",
    "    model.add(Dense(output, activation='sigmoid'))\n",
    "    # Compile model\n",
    "    model.compile(loss='binary_crossentropy', optimizer='adam', metrics=['accuracy'])\n",
    "    return model"
   ]
  },
  {
   "cell_type": "code",
   "execution_count": 138,
   "metadata": {},
   "outputs": [
    {
     "name": "stderr",
     "output_type": "stream",
     "text": [
      "/home/xavient/anaconda3/lib/python3.6/site-packages/sklearn/preprocessing/label.py:151: DeprecationWarning:\n",
      "\n",
      "The truth value of an empty array is ambiguous. Returning False, but in future this will result in an error. Use `array.size > 0` to check that an array is not empty.\n",
      "\n",
      "/home/xavient/anaconda3/lib/python3.6/site-packages/sklearn/preprocessing/label.py:151: DeprecationWarning:\n",
      "\n",
      "The truth value of an empty array is ambiguous. Returning False, but in future this will result in an error. Use `array.size > 0` to check that an array is not empty.\n",
      "\n",
      "/home/xavient/anaconda3/lib/python3.6/site-packages/sklearn/preprocessing/label.py:151: DeprecationWarning:\n",
      "\n",
      "The truth value of an empty array is ambiguous. Returning False, but in future this will result in an error. Use `array.size > 0` to check that an array is not empty.\n",
      "\n",
      "/home/xavient/anaconda3/lib/python3.6/site-packages/sklearn/preprocessing/label.py:151: DeprecationWarning:\n",
      "\n",
      "The truth value of an empty array is ambiguous. Returning False, but in future this will result in an error. Use `array.size > 0` to check that an array is not empty.\n",
      "\n",
      "/home/xavient/anaconda3/lib/python3.6/site-packages/sklearn/preprocessing/label.py:151: DeprecationWarning:\n",
      "\n",
      "The truth value of an empty array is ambiguous. Returning False, but in future this will result in an error. Use `array.size > 0` to check that an array is not empty.\n",
      "\n",
      "/home/xavient/anaconda3/lib/python3.6/site-packages/sklearn/preprocessing/label.py:151: DeprecationWarning:\n",
      "\n",
      "The truth value of an empty array is ambiguous. Returning False, but in future this will result in an error. Use `array.size > 0` to check that an array is not empty.\n",
      "\n",
      "/home/xavient/anaconda3/lib/python3.6/site-packages/sklearn/preprocessing/label.py:151: DeprecationWarning:\n",
      "\n",
      "The truth value of an empty array is ambiguous. Returning False, but in future this will result in an error. Use `array.size > 0` to check that an array is not empty.\n",
      "\n",
      "/home/xavient/anaconda3/lib/python3.6/site-packages/sklearn/preprocessing/label.py:151: DeprecationWarning:\n",
      "\n",
      "The truth value of an empty array is ambiguous. Returning False, but in future this will result in an error. Use `array.size > 0` to check that an array is not empty.\n",
      "\n",
      "/home/xavient/anaconda3/lib/python3.6/site-packages/sklearn/preprocessing/label.py:151: DeprecationWarning:\n",
      "\n",
      "The truth value of an empty array is ambiguous. Returning False, but in future this will result in an error. Use `array.size > 0` to check that an array is not empty.\n",
      "\n",
      "/home/xavient/anaconda3/lib/python3.6/site-packages/sklearn/preprocessing/label.py:151: DeprecationWarning:\n",
      "\n",
      "The truth value of an empty array is ambiguous. Returning False, but in future this will result in an error. Use `array.size > 0` to check that an array is not empty.\n",
      "\n"
     ]
    },
    {
     "name": "stdout",
     "output_type": "stream",
     "text": [
      "('XGB', 0.6710854347837227, 0.03891224920315576)\n",
      "('RF', 0.7540831595291657, 0.077784439536048)\n",
      "('DT', 0.6995130494047954, 0.08321417615961113)\n",
      "('ADA', 0.602798844949601, 0.04029544898995999)\n",
      "('SVC', 0.6354146702674448, 0.026116824013876983)\n",
      "('LM', 0.6044992646418268, 0.04237417481269454)\n",
      "('TF', 0.6075552287297008, 0.040791013144925205)\n"
     ]
    },
    {
     "data": {
      "image/png": "[encoded data removed]",
      "text/plain": [
       "<matplotlib.figure.Figure at 0x7f0e888202b0>"
      ]
     },
     "metadata": {},
     "output_type": "display_data"
    }
   ],
   "source": [
    "from sklearn.tree import DecisionTreeClassifier\n",
    "from sklearn.ensemble import RandomForestClassifier,AdaBoostClassifier,GradientBoostingClassifier\n",
    "from sklearn.linear_model import LogisticRegression\n",
    "import xgboost as xgb\n",
    "from xgboost.sklearn import XGBClassifier\n",
    "from sklearn.model_selection import KFold\n",
    "from keras.wrappers.scikit_learn import KerasClassifier\n",
    "from sklearn.svm import SVC \n",
    "from sklearn.neighbors import KNeighborsClassifier\n",
    "\n",
    "from sklearn import model_selection\n",
    "import matplotlib.pyplot as plt\n",
    "\n",
    "# generate list of models  \n",
    "models = []\n",
    "models.append(('XGB', XGBClassifier(n_estimators = 10,learning_rate=.1)))\n",
    "models.append(('RF', RandomForestClassifier(n_estimators = 10 ,random_state=21)))\n",
    "models.append(('DT', DecisionTreeClassifier(splitter='random', random_state=21)))\n",
    "models.append(('ADA', AdaBoostClassifier(n_estimators = 10,learning_rate=.1, random_state=21)))\n",
    "models.append(('SVC', SVC( random_state=21)))\n",
    "models.append(('LM', LogisticRegression()))\n",
    "models.append(('TF', KerasClassifier(build_fn=baseline_model, epochs=epoch, batch_size=batch, verbose=0))) \n",
    "\n",
    "# check model performance\n",
    "results = []\n",
    "names = []\n",
    "seed = 7\n",
    "msgall = []\n",
    "scoring='accuracy'\n",
    "for name, model in models:\n",
    "    kfold = model_selection.KFold(n_splits = 10, random_state=seed)\n",
    "    #cv_results = cross_val_score(model, X_train_res, y_train_res, cv=kfold, scoring = scoring)\n",
    "    cv_results = cross_val_score(model, X_train_res2, y_train_res2, cv=kfold, scoring = scoring)\n",
    "    results.append(cv_results)\n",
    "    names.append(name)\n",
    "    msg = (name, cv_results.mean(), cv_results.std())\n",
    "    print (msg)\n",
    "    msgall.append(msg)\n",
    "\n",
    "# compare algorithms\n",
    "fig = plt.figure()\n",
    "fig.suptitle(\"algorithm comparision\")\n",
    "ax = fig.add_subplot(111)\n",
    "plt.boxplot(results)\n",
    "ax.set_xticklabels(names)\n",
    "plt.show()\n"
   ]
  },
  {
   "cell_type": "code",
   "execution_count": 140,
   "metadata": {},
   "outputs": [
    {
     "data": {
      "text/plain": [
       "\"\\ndef create_conv_model():\\n    model_conv = Sequential()\\n    model_conv.add(Embedding(10000, 100, input_length=input_dimenation))\\n    model_conv.add(Dropout(0.2))\\n    model_conv.add(Conv1D(64, 5, activation='relu'))\\n    model_conv.add(MaxPooling1D(pool_size=4))\\n    model_conv.add(LSTM(100))\\n    model_conv.add(Dense(1, activation='sigmoid'))\\n    model_conv.compile(loss='binary_crossentropy', optimizer='adam',    metrics=['accuracy'])\\n    return model_conv\\nmodel_conv = create_conv_model()\\nmodel_conv.fit(X_train_res3, y_train_res3, validation_split=0.4, epochs = 3)\\n\""
      ]
     },
     "execution_count": 140,
     "metadata": {},
     "output_type": "execute_result"
    }
   ],
   "source": [
    "'''\n",
    "def create_conv_model():\n",
    "    model_conv = Sequential()\n",
    "    model_conv.add(Embedding(10000, 100, input_length=input_dimenation))\n",
    "    model_conv.add(Dropout(0.2))\n",
    "    model_conv.add(Conv1D(64, 5, activation='relu'))\n",
    "    model_conv.add(MaxPooling1D(pool_size=4))\n",
    "    model_conv.add(LSTM(100))\n",
    "    model_conv.add(Dense(1, activation='sigmoid'))\n",
    "    model_conv.compile(loss='binary_crossentropy', optimizer='adam',    metrics=['accuracy'])\n",
    "    return model_conv\n",
    "model_conv = create_conv_model()\n",
    "model_conv.fit(X_train_res3, y_train_res3, validation_split=0.4, epochs = 3)\n",
    "'''"
   ]
  },
  {
   "cell_type": "code",
   "execution_count": 141,
   "metadata": {},
   "outputs": [],
   "source": [
    "#evaluate_classes(model_conv,X_test1,y_test1)"
   ]
  },
  {
   "cell_type": "code",
   "execution_count": 203,
   "metadata": {},
   "outputs": [],
   "source": [
    "from keras.models import Sequential\n",
    "from keras.layers import Dense,Dropout, Activation\n",
    "\n",
    "# fix the input dimenstion to number of feature terms\n",
    "#input_dimenation = int(X1.shape[1])\n",
    "\n",
    "# create the output dimenstion\n",
    "output = 1\n",
    "\n",
    "# create the batch size\n",
    "#batch = int(round(X4.shape[0]/10,0))\n",
    "\n",
    "# epoch\n",
    "epoch = 10\n",
    "\n",
    "\n",
    "\n",
    "# Function to create model, required for KerasClassifier\n",
    "def baseline_model():\n",
    "# create model\n",
    "    model = Sequential()\n",
    "    model.add(Dense(input_dimenation, input_dim=input_dimenation, activation='relu'))\n",
    "    model.add(Dense(output, activation='sigmoid'))\n",
    "    # Compile model\n",
    "    model.compile(loss='binary_crossentropy', optimizer='adam', metrics=['accuracy'])\n",
    "    return model"
   ]
  },
  {
   "cell_type": "code",
   "execution_count": 142,
   "metadata": {},
   "outputs": [
    {
     "name": "stderr",
     "output_type": "stream",
     "text": [
      "/home/xavient/anaconda3/lib/python3.6/site-packages/sklearn/cross_validation.py:41: DeprecationWarning:\n",
      "\n",
      "This module was deprecated in version 0.18 in favor of the model_selection module into which all the refactored classes and functions are moved. Also note that the interface of the new CV iterators are different from that of this module. This module will be removed in 0.20.\n",
      "\n",
      "/home/xavient/anaconda3/lib/python3.6/site-packages/sklearn/grid_search.py:42: DeprecationWarning:\n",
      "\n",
      "This module was deprecated in version 0.18 in favor of the model_selection module into which all the refactored classes and functions are moved. This module will be removed in 0.20.\n",
      "\n"
     ]
    }
   ],
   "source": [
    "# Training\n",
    "import xgboost as xgb\n",
    "from xgboost.sklearn import XGBClassifier\n",
    "import scipy.stats as st\n",
    "from sklearn.grid_search import RandomizedSearchCV,GridSearchCV\n",
    "\n",
    "# Create the random grid\n",
    "\n",
    "# First create the base model to tune\n",
    "n_estimators = [int(x) for x in np.linspace(1000, 10000, num = 10)]\n",
    "max_depth = [int(x) for x in np.linspace(1, 10, num = 10)]\n",
    "learning_rate = [int(x) for x in np.linspace(0.01, 0.1, num = 2)]\n",
    "one_to_left = st.beta(10, 1)  \n",
    "from_zero_positive = st.expon(0, 50)\n",
    "random_state=seed\n",
    "one_to_left = st.beta(10, 1)  \n",
    "from_zero_positive = st.expon(0, 50)\n",
    "\n",
    "params = {  \n",
    "    \"n_estimators\": n_estimators,\n",
    "    \"learning_rate\": learning_rate,\n",
    "    \"max_depth\": max_depth,\n",
    "    \"learning_rate\": st.uniform(0.05, 0.1),\n",
    "    \"colsample_bytree\": one_to_left,\n",
    "    \"subsample\": one_to_left,\n",
    "    \"gamma\": st.uniform(0, 10),\n",
    "    \"reg_alpha\": from_zero_positive,\n",
    "    \"min_child_weight\": from_zero_positive,\n",
    "    \"random_state\":random_state\n",
    "}\n",
    "\n",
    "#xgbclass = XGBClassifier()\n",
    "xgbclass2 = XGBClassifier(nthreads=-1)  \n",
    "xgbclass3 = XGBClassifier(nthreads=-1)  "
   ]
  },
  {
   "cell_type": "code",
   "execution_count": 1188,
   "metadata": {},
   "outputs": [],
   "source": [
    "#X_train1.shape,y_train1.shape"
   ]
  },
  {
   "cell_type": "code",
   "execution_count": 1189,
   "metadata": {},
   "outputs": [],
   "source": [
    "#X_train2.shape,y_train2.shape"
   ]
  },
  {
   "cell_type": "code",
   "execution_count": 1190,
   "metadata": {},
   "outputs": [],
   "source": [
    "#X_train6.shape,y_train6.shape"
   ]
  },
  {
   "cell_type": "code",
   "execution_count": 1191,
   "metadata": {},
   "outputs": [],
   "source": [
    "# Training\n",
    "# model 1\n",
    "#xgb1 = XGBClassifier(n_estimators=5000,learning_rate=.1, max_depth=4, min_child_weight=200) \n",
    "#xgb1.fit(X_train1,y_train1)\n",
    "\n",
    "# model 2\n",
    "#xgb2 = XGBClassifier(n_estimators=5000,learning_rate=.1, max_depth=4, min_child_weight=200) \n",
    "#xgb2.fit(X_train2,y_train2)"
   ]
  },
  {
   "cell_type": "code",
   "execution_count": 1192,
   "metadata": {},
   "outputs": [],
   "source": [
    "#xgbclass = XGBClassifier(n_estimators = 2000, max_depth = 3, learning_rate = 0.1)"
   ]
  },
  {
   "cell_type": "code",
   "execution_count": 1193,
   "metadata": {},
   "outputs": [],
   "source": [
    "#xgbclass1.fit(X_train1,y_train1) "
   ]
  },
  {
   "cell_type": "code",
   "execution_count": 143,
   "metadata": {},
   "outputs": [
    {
     "data": {
      "text/plain": [
       "XGBClassifier(base_score=0.5, booster='gbtree', colsample_bylevel=1,\n",
       "       colsample_bytree=1, gamma=0, learning_rate=0.1, max_delta_step=0,\n",
       "       max_depth=3, min_child_weight=1, missing=None, n_estimators=100,\n",
       "       n_jobs=1, nthread=None, nthreads=-1, objective='binary:logistic',\n",
       "       random_state=0, reg_alpha=0, reg_lambda=1, scale_pos_weight=1,\n",
       "       seed=None, silent=True, subsample=1)"
      ]
     },
     "execution_count": 143,
     "metadata": {},
     "output_type": "execute_result"
    }
   ],
   "source": [
    "xgbclass2.fit(X_train_res2,y_train_res2) "
   ]
  },
  {
   "cell_type": "code",
   "execution_count": 144,
   "metadata": {},
   "outputs": [
    {
     "data": {
      "text/plain": [
       "XGBClassifier(base_score=0.5, booster='gbtree', colsample_bylevel=1,\n",
       "       colsample_bytree=1, gamma=0, learning_rate=0.1, max_delta_step=0,\n",
       "       max_depth=3, min_child_weight=1, missing=None, n_estimators=100,\n",
       "       n_jobs=1, nthread=None, nthreads=-1, objective='binary:logistic',\n",
       "       random_state=0, reg_alpha=0, reg_lambda=1, scale_pos_weight=1,\n",
       "       seed=None, silent=True, subsample=1)"
      ]
     },
     "execution_count": 144,
     "metadata": {},
     "output_type": "execute_result"
    }
   ],
   "source": [
    "xgbclass3.fit(X_train_res3,y_train_res3) "
   ]
  },
  {
   "cell_type": "code",
   "execution_count": 145,
   "metadata": {},
   "outputs": [
    {
     "name": "stdout",
     "output_type": "stream",
     "text": [
      "xgb_accuracy2\n",
      "accuracy :0.7021276595744681\n",
      "cohen_kappa :0.27096547504715907\n",
      "matrix :\n",
      "[[2363  604]\n",
      " [ 642  574]]\n",
      "None\n",
      "xgb_accuracy3\n",
      "accuracy :0.8711451111642362\n",
      "cohen_kappa :0.6815896867594974\n",
      "matrix :\n",
      "[[2736  231]\n",
      " [ 308  908]]\n",
      "None\n"
     ]
    },
    {
     "name": "stderr",
     "output_type": "stream",
     "text": [
      "/home/xavient/anaconda3/lib/python3.6/site-packages/sklearn/preprocessing/label.py:151: DeprecationWarning:\n",
      "\n",
      "The truth value of an empty array is ambiguous. Returning False, but in future this will result in an error. Use `array.size > 0` to check that an array is not empty.\n",
      "\n",
      "/home/xavient/anaconda3/lib/python3.6/site-packages/sklearn/preprocessing/label.py:151: DeprecationWarning:\n",
      "\n",
      "The truth value of an empty array is ambiguous. Returning False, but in future this will result in an error. Use `array.size > 0` to check that an array is not empty.\n",
      "\n"
     ]
    }
   ],
   "source": [
    "# Training\n",
    "## Check accuracy on test set\n",
    "#print(\"xgb_accuracy1\")\n",
    "#xgb_accuracy1 = evaluate(xgbclass,X_test1,y_test1)\n",
    "#print(xgb_accuracy1)\n",
    "\n",
    "print(\"xgb_accuracy2\")\n",
    "xgb_accuracy2 = evaluate(xgbclass2,X_val2,y_val2)\n",
    "print(xgb_accuracy2)\n",
    "\n",
    "print(\"xgb_accuracy3\")\n",
    "xgb_accuracy3 = evaluate(xgbclass3,X_val3,y_val3)\n",
    "print(xgb_accuracy3)\n",
    "\n",
    "#print(\"xgb_accuracy4\")\n",
    "#xgb_accuracy4 = evaluate(xgbclass4,X_test4,y_test4)\n",
    "#print(xgb_accuracy4)\n",
    "\n",
    "#print(\"xgb_accuracy5\")\n",
    "#xgb_accuracy4 = evaluate(xgbclass,X_test6,y_test6)\n",
    "#print(xgb_accuracy4)"
   ]
  },
  {
   "cell_type": "code",
   "execution_count": 1198,
   "metadata": {},
   "outputs": [
    {
     "name": "stdout",
     "output_type": "stream",
     "text": [
      "XGBOOST1 feature importance\n"
     ]
    },
    {
     "data": {
      "image/png": "[encoded data removed]",
      "text/plain": [
       "<matplotlib.figure.Figure at 0x7fcc64fb4ef0>"
      ]
     },
     "metadata": {},
     "output_type": "display_data"
    }
   ],
   "source": [
    "# feature importance plots\n",
    "\n",
    "print(\"XGBOOST1 feature importance\")\n",
    "feature_names = X2.columns\n",
    "feature_importance = xgbclass2.feature_importances_\n",
    "sorted_idx = np.argsort(feature_importance)\n",
    "pos = np.arange(sorted_idx.shape[0]) + .5\n",
    "plt.figure(figsize=(10,10))\n",
    "plt.barh(pos, feature_importance[sorted_idx], align='center')\n",
    "plt.yticks(pos, feature_names[sorted_idx])\n",
    "feature_names[sorted_idx]\n",
    "plt.show()"
   ]
  },
  {
   "cell_type": "code",
   "execution_count": null,
   "metadata": {},
   "outputs": [],
   "source": [
    "xgbclass.feature_importances_"
   ]
  },
  {
   "cell_type": "code",
   "execution_count": null,
   "metadata": {},
   "outputs": [],
   "source": [
    "# feature importance plots\n",
    "\n",
    "print(\"XGBOOST2 feature importance\")\n",
    "feature_names = X2.columns\n",
    "feature_importance = xgbclass2.feature_importances_\n",
    "sorted_idx = np.argsort(feature_importance)\n",
    "pos = np.arange(sorted_idx.shape[0]) + .5\n",
    "plt.figure(figsize=(10,10))\n",
    "plt.barh(pos, feature_importance[sorted_idx], align='center')\n",
    "plt.yticks(pos, feature_names[sorted_idx])\n",
    "feature_names[sorted_idx]\n",
    "plt.show()"
   ]
  },
  {
   "cell_type": "code",
   "execution_count": null,
   "metadata": {},
   "outputs": [],
   "source": [
    "# feature importance plots\n",
    "\n",
    "print(\"XGBOOST3 feature importance\")\n",
    "feature_names = X3.columns\n",
    "feature_importance = xgbclass3.feature_importances_\n",
    "sorted_idx = np.argsort(feature_importance)\n",
    "pos = np.arange(sorted_idx.shape[0]) + .5\n",
    "plt.figure(figsize=(10,10))\n",
    "plt.barh(pos, feature_importance[sorted_idx], align='center')\n",
    "plt.yticks(pos, feature_names[sorted_idx])\n",
    "feature_names[sorted_idx]\n",
    "plt.show()"
   ]
  },
  {
   "cell_type": "code",
   "execution_count": null,
   "metadata": {},
   "outputs": [],
   "source": [
    "'''# Principal Component Analysis\n",
    "from numpy import array\n",
    "from sklearn.decomposition import PCA\n",
    "# define a matrix\n",
    "A = array([[1, 2], [3, 4], [5, 6]])\n",
    "print(A)\n",
    "# create the PCA instance\n",
    "pca = PCA(2)\n",
    "# fit on data\n",
    "pca.fit(A)\n",
    "# access values and vectors\n",
    "print(pca.components_)\n",
    "print(pca.explained_variance_)\n",
    "# transform data\n",
    "B = pca.transform(A)\n",
    "print(B)\n",
    "'''"
   ]
  },
  {
   "cell_type": "code",
   "execution_count": 146,
   "metadata": {},
   "outputs": [],
   "source": [
    "# First create the base model to tune\n",
    "\n",
    "rf = RandomForestClassifier()\n",
    "\n",
    "# Number of trees in random forest\n",
    "n_estimators = [int(x) for x in np.linspace(start = 200, stop = 2000, num = 10)]\n",
    "# Number of features to consider at every split\n",
    "max_features = ['auto', 'sqrt']\n",
    "# Maximum number of levels in tree\n",
    "max_depth = [int(x) for x in np.linspace(10, 110, num = 11)]\n",
    "max_depth.append(None)\n",
    "# Minimum number of samples required to split a node\n",
    "min_samples_split = [2, 5, 10]\n",
    "# Minimum number of samples required at each leaf node\n",
    "min_samples_leaf = [1, 2, 4]\n",
    "# Method of selecting samples for training each tree\n",
    "bootstrap = [True, False]\n",
    "random_state = [21]\n",
    "\n",
    "# Create the random grid\n",
    "\n",
    "random_grid = {'n_estimators': n_estimators,\n",
    "               'max_features': max_features,\n",
    "               'max_depth': max_depth,\n",
    "               'min_samples_split': min_samples_split,\n",
    "               'min_samples_leaf': min_samples_leaf,\n",
    "               'bootstrap': bootstrap,\n",
    "               'random_state':random_state}\n",
    "#pprint(random_grid)"
   ]
  },
  {
   "cell_type": "code",
   "execution_count": 147,
   "metadata": {},
   "outputs": [
    {
     "data": {
      "text/plain": [
       "RandomizedSearchCV(cv=3, error_score='raise',\n",
       "          estimator=RandomForestClassifier(bootstrap=True, class_weight=None, criterion='gini',\n",
       "            max_depth=None, max_features='auto', max_leaf_nodes=None,\n",
       "            min_impurity_decrease=0.0, min_impurity_split=None,\n",
       "            min_samples_leaf=1, min_samples_split=2,\n",
       "            min_weight_fraction_leaf=0.0, n_estimators=10, n_jobs=1,\n",
       "            oob_score=False, random_state=None, verbose=0,\n",
       "            warm_start=False),\n",
       "          fit_params={}, iid=True, n_iter=5, n_jobs=-1,\n",
       "          param_distributions={'n_estimators': [200, 400, 600, 800, 1000, 1200, 1400, 1600, 1800, 2000], 'max_features': ['auto', 'sqrt'], 'max_depth': [10, 20, 30, 40, 50, 60, 70, 80, 90, 100, 110, None], 'min_samples_split': [2, 5, 10], 'min_samples_leaf': [1, 2, 4], 'bootstrap': [True, False], 'random_state': [21]},\n",
       "          pre_dispatch='2*n_jobs', random_state=42, refit=True,\n",
       "          scoring=None, verbose=0)"
      ]
     },
     "execution_count": 147,
     "metadata": {},
     "output_type": "execute_result"
    }
   ],
   "source": [
    "# Random search of parameters, using 10 fold cross validation,\n",
    "# search across 50 different combinations, and use all available cores\n",
    "rf2 = RandomizedSearchCV(estimator = rf, param_distributions = random_grid, n_iter = 5, cv = 3, verbose=0, random_state=42, n_jobs = -1)\n",
    "# Fit the random search model\n",
    "rf2.fit(X_train_res2,y_train_res2)"
   ]
  },
  {
   "cell_type": "code",
   "execution_count": 148,
   "metadata": {},
   "outputs": [
    {
     "data": {
      "text/plain": [
       "RandomizedSearchCV(cv=3, error_score='raise',\n",
       "          estimator=RandomForestClassifier(bootstrap=True, class_weight=None, criterion='gini',\n",
       "            max_depth=None, max_features='auto', max_leaf_nodes=None,\n",
       "            min_impurity_decrease=0.0, min_impurity_split=None,\n",
       "            min_samples_leaf=1, min_samples_split=2,\n",
       "            min_weight_fraction_leaf=0.0, n_estimators=10, n_jobs=1,\n",
       "            oob_score=False, random_state=None, verbose=0,\n",
       "            warm_start=False),\n",
       "          fit_params={}, iid=True, n_iter=5, n_jobs=-1,\n",
       "          param_distributions={'n_estimators': [200, 400, 600, 800, 1000, 1200, 1400, 1600, 1800, 2000], 'max_features': ['auto', 'sqrt'], 'max_depth': [10, 20, 30, 40, 50, 60, 70, 80, 90, 100, 110, None], 'min_samples_split': [2, 5, 10], 'min_samples_leaf': [1, 2, 4], 'bootstrap': [True, False], 'random_state': [21]},\n",
       "          pre_dispatch='2*n_jobs', random_state=42, refit=True,\n",
       "          scoring=None, verbose=0)"
      ]
     },
     "execution_count": 148,
     "metadata": {},
     "output_type": "execute_result"
    }
   ],
   "source": [
    "# Random search of parameters, using 10 fold cross validation,\n",
    "# search across 50 different combinations, and use all available cores\n",
    "rf3 = RandomizedSearchCV(estimator = rf, param_distributions = random_grid, n_iter = 5, cv = 3, verbose=0, random_state=42, n_jobs = -1)\n",
    "# Fit the random search model\n",
    "rf3.fit(X_train_res3,y_train_res3)"
   ]
  },
  {
   "cell_type": "code",
   "execution_count": 149,
   "metadata": {},
   "outputs": [
    {
     "name": "stdout",
     "output_type": "stream",
     "text": [
      "rf_accuracy2\n",
      "accuracy :0.6930432703801099\n",
      "cohen_kappa :0.21888700634812142\n",
      "matrix :\n",
      "[[2422  545]\n",
      " [ 739  477]]\n",
      "None\n",
      "rf_accuracy3\n",
      "accuracy :0.8711451111642362\n",
      "cohen_kappa :0.6815896867594974\n",
      "matrix :\n",
      "[[2736  231]\n",
      " [ 308  908]]\n",
      "None\n"
     ]
    }
   ],
   "source": [
    "# Training\n",
    "## Check accuracy on test set\n",
    "#print(\"xgb_accuracy1\")\n",
    "#xgb_accuracy1 = evaluate(xgbclass,X_test1,y_test1)\n",
    "#print(xgb_accuracy1)\n",
    "\n",
    "print(\"rf_accuracy2\")\n",
    "rf_accuracy2 = evaluate(rf2,X_val2,y_val2)\n",
    "print(xgb_accuracy2)\n",
    "\n",
    "print(\"rf_accuracy3\")\n",
    "rf_accuracy3 = evaluate(rf3,X_val3,y_val3)\n",
    "print(xgb_accuracy3)\n",
    "\n",
    "#print(\"xgb_accuracy4\")\n",
    "#xgb_accuracy4 = evaluate(xgbclass4,X_test4,y_test4)\n",
    "#print(xgb_accuracy4)\n",
    "\n",
    "#print(\"xgb_accuracy5\")\n",
    "#xgb_accuracy4 = evaluate(xgbclass,X_test6,y_test6)\n",
    "#print(xgb_accuracy4)"
   ]
  },
  {
   "cell_type": "code",
   "execution_count": 150,
   "metadata": {},
   "outputs": [],
   "source": [
    "# Baseline Model on the Sonar Dataset\n",
    "#from sklearn.model_selection import GridSearchCV\n",
    "import numpy as np\n",
    "from pandas import read_csv\n",
    "from keras.models import Sequential\n",
    "from keras.layers import Dense, Dropout, Activation, Embedding, LSTM\n",
    "from keras.wrappers.scikit_learn import KerasClassifier\n",
    "from keras.optimizers import SGD\n",
    "from keras.callbacks import ModelCheckpoint\n",
    "from keras.constraints import maxnorm\n",
    "\n",
    "# fix the input dimenstion to number of feature terms\n",
    "input_dimenation = X_train_res2.shape[1]\n",
    "# INPUT: model parameters\n",
    "epochs_input = 100\n",
    "batch_size_input = 50"
   ]
  },
  {
   "cell_type": "code",
   "execution_count": 151,
   "metadata": {},
   "outputs": [],
   "source": [
    "# RandomizedSearchCV to pick hyperparamenters\n",
    "sgd = SGD(lr=0.1, momentum=0.9, decay=0.0, nesterov=False)\n",
    "\n",
    "# create model\n",
    "def create_model():\n",
    "    model = Sequential()\n",
    "    model.add(Dropout(0.2, input_shape=(input_dimenation,)))\n",
    "    model.add(Dense(input_dimenation, input_dim=input_dimenation, kernel_initializer='uniform', activation='relu',kernel_constraint=maxnorm(3)))\n",
    "    #model.add(Dropout(0.2))\n",
    "    #model.add(Dense(input_dimenation, input_dim=input_dimenation, kernel_initializer='uniform', activation='relu',kernel_constraint=maxnorm(3)))\n",
    "    #model.add(Dropout(0.2))\n",
    "    model.add(Dense(1, kernel_initializer='uniform', activation='sigmoid'))\n",
    "    # Compile model\n",
    "    model.compile(loss='binary_crossentropy', optimizer='adam', metrics=['accuracy'])\n",
    "    return model"
   ]
  },
  {
   "cell_type": "code",
   "execution_count": 152,
   "metadata": {
    "scrolled": true
   },
   "outputs": [
    {
     "name": "stdout",
     "output_type": "stream",
     "text": [
      "Train on 5299 samples, validate on 3533 samples\n",
      "Epoch 1/100\n",
      "5299/5299 [==============================] - 2s 289us/step - loss: 0.6148 - acc: 0.7035 - val_loss: 0.9144 - val_acc: 0.2080\n",
      "Epoch 2/100\n",
      "5299/5299 [==============================] - 0s 91us/step - loss: 0.5761 - acc: 0.7154 - val_loss: 0.8640 - val_acc: 0.3765\n",
      "Epoch 3/100\n",
      "5299/5299 [==============================] - 0s 90us/step - loss: 0.5675 - acc: 0.7154 - val_loss: 0.9235 - val_acc: 0.3631\n",
      "Epoch 4/100\n",
      "5299/5299 [==============================] - 0s 86us/step - loss: 0.5658 - acc: 0.7190 - val_loss: 0.8782 - val_acc: 0.4019\n",
      "Epoch 5/100\n",
      "5299/5299 [==============================] - 1s 103us/step - loss: 0.5638 - acc: 0.7203 - val_loss: 0.9188 - val_acc: 0.3691\n",
      "Epoch 6/100\n",
      "5299/5299 [==============================] - 1s 97us/step - loss: 0.5644 - acc: 0.7207 - val_loss: 0.9084 - val_acc: 0.3598\n",
      "Epoch 7/100\n",
      "5299/5299 [==============================] - 0s 87us/step - loss: 0.5638 - acc: 0.7186 - val_loss: 0.9570 - val_acc: 0.3450\n",
      "Epoch 8/100\n",
      "5299/5299 [==============================] - 1s 112us/step - loss: 0.5646 - acc: 0.7190 - val_loss: 0.9505 - val_acc: 0.3450\n",
      "Epoch 9/100\n",
      "5299/5299 [==============================] - 1s 104us/step - loss: 0.5640 - acc: 0.7207 - val_loss: 0.9421 - val_acc: 0.3453\n",
      "Epoch 10/100\n",
      "5299/5299 [==============================] - 1s 106us/step - loss: 0.5610 - acc: 0.7169 - val_loss: 0.9242 - val_acc: 0.3697\n",
      "Epoch 11/100\n",
      "5299/5299 [==============================] - 1s 113us/step - loss: 0.5654 - acc: 0.7220 - val_loss: 0.9431 - val_acc: 0.3377\n",
      "Epoch 12/100\n",
      "5299/5299 [==============================] - 0s 89us/step - loss: 0.5656 - acc: 0.7156 - val_loss: 0.8684 - val_acc: 0.3861\n",
      "Epoch 13/100\n",
      "5299/5299 [==============================] - 0s 86us/step - loss: 0.5622 - acc: 0.7166 - val_loss: 0.9171 - val_acc: 0.3716\n",
      "Epoch 14/100\n",
      "5299/5299 [==============================] - 1s 97us/step - loss: 0.5636 - acc: 0.7211 - val_loss: 0.8856 - val_acc: 0.3674\n",
      "Epoch 15/100\n",
      "5299/5299 [==============================] - 1s 102us/step - loss: 0.5626 - acc: 0.7201 - val_loss: 0.9343 - val_acc: 0.3456\n",
      "Epoch 16/100\n",
      "5299/5299 [==============================] - 1s 95us/step - loss: 0.5628 - acc: 0.7209 - val_loss: 0.8908 - val_acc: 0.3558\n",
      "Epoch 17/100\n",
      "5299/5299 [==============================] - 0s 88us/step - loss: 0.5620 - acc: 0.7203 - val_loss: 0.8936 - val_acc: 0.3756\n",
      "Epoch 18/100\n",
      "5299/5299 [==============================] - 1s 101us/step - loss: 0.5617 - acc: 0.7171 - val_loss: 0.8969 - val_acc: 0.3801\n",
      "Epoch 19/100\n",
      "5299/5299 [==============================] - 0s 90us/step - loss: 0.5622 - acc: 0.7167 - val_loss: 0.9198 - val_acc: 0.3614\n",
      "Epoch 20/100\n",
      "5299/5299 [==============================] - 0s 92us/step - loss: 0.5635 - acc: 0.7192 - val_loss: 0.9144 - val_acc: 0.3592\n",
      "Epoch 21/100\n",
      "5299/5299 [==============================] - 0s 91us/step - loss: 0.5609 - acc: 0.7190 - val_loss: 0.8773 - val_acc: 0.3762\n",
      "Epoch 22/100\n",
      "5299/5299 [==============================] - 0s 81us/step - loss: 0.5629 - acc: 0.7186 - val_loss: 0.8472 - val_acc: 0.4090\n",
      "Epoch 23/100\n",
      "5299/5299 [==============================] - 0s 85us/step - loss: 0.5624 - acc: 0.7133 - val_loss: 0.9119 - val_acc: 0.3530\n",
      "Epoch 24/100\n",
      "5299/5299 [==============================] - 0s 94us/step - loss: 0.5629 - acc: 0.7207 - val_loss: 0.8927 - val_acc: 0.3722\n",
      "Epoch 25/100\n",
      "5299/5299 [==============================] - 1s 95us/step - loss: 0.5629 - acc: 0.7201 - val_loss: 0.8502 - val_acc: 0.3934\n",
      "Epoch 26/100\n",
      "5299/5299 [==============================] - 1s 100us/step - loss: 0.5622 - acc: 0.7186 - val_loss: 0.9081 - val_acc: 0.3691\n",
      "Epoch 27/100\n",
      "5299/5299 [==============================] - 1s 103us/step - loss: 0.5606 - acc: 0.7209 - val_loss: 0.9741 - val_acc: 0.3504\n",
      "Epoch 28/100\n",
      "5299/5299 [==============================] - 1s 101us/step - loss: 0.5606 - acc: 0.7215 - val_loss: 0.9387 - val_acc: 0.3490\n",
      "Epoch 29/100\n",
      "5299/5299 [==============================] - 1s 97us/step - loss: 0.5637 - acc: 0.7194 - val_loss: 0.9341 - val_acc: 0.3439\n",
      "Epoch 30/100\n",
      "5299/5299 [==============================] - 1s 104us/step - loss: 0.5635 - acc: 0.7145 - val_loss: 0.9375 - val_acc: 0.3518\n",
      "Epoch 31/100\n",
      "5299/5299 [==============================] - 1s 96us/step - loss: 0.5615 - acc: 0.7201 - val_loss: 0.8898 - val_acc: 0.3818\n",
      "Epoch 32/100\n",
      "5299/5299 [==============================] - 1s 102us/step - loss: 0.5613 - acc: 0.7199 - val_loss: 0.8664 - val_acc: 0.3790\n",
      "Epoch 33/100\n",
      "5299/5299 [==============================] - 1s 96us/step - loss: 0.5611 - acc: 0.7166 - val_loss: 0.8701 - val_acc: 0.3849\n",
      "Epoch 34/100\n",
      "5299/5299 [==============================] - 0s 83us/step - loss: 0.5630 - acc: 0.7201 - val_loss: 0.9192 - val_acc: 0.3498\n",
      "Epoch 35/100\n",
      "5299/5299 [==============================] - 0s 91us/step - loss: 0.5597 - acc: 0.7226 - val_loss: 0.8787 - val_acc: 0.3660\n",
      "Epoch 36/100\n",
      "5299/5299 [==============================] - 1s 95us/step - loss: 0.5619 - acc: 0.7179 - val_loss: 0.8998 - val_acc: 0.3586\n",
      "Epoch 37/100\n",
      "5299/5299 [==============================] - 1s 99us/step - loss: 0.5617 - acc: 0.7230 - val_loss: 0.9296 - val_acc: 0.3665\n",
      "Epoch 38/100\n",
      "5299/5299 [==============================] - 1s 95us/step - loss: 0.5613 - acc: 0.7213 - val_loss: 0.8919 - val_acc: 0.3501\n",
      "Epoch 39/100\n",
      "5299/5299 [==============================] - 0s 90us/step - loss: 0.5597 - acc: 0.7228 - val_loss: 0.8969 - val_acc: 0.3912\n",
      "Epoch 40/100\n",
      "5299/5299 [==============================] - 0s 94us/step - loss: 0.5601 - acc: 0.7194 - val_loss: 0.9410 - val_acc: 0.3555\n",
      "Epoch 41/100\n",
      "5299/5299 [==============================] - 0s 89us/step - loss: 0.5601 - acc: 0.7218 - val_loss: 0.9041 - val_acc: 0.3569\n",
      "Epoch 42/100\n",
      "5299/5299 [==============================] - 1s 97us/step - loss: 0.5611 - acc: 0.7211 - val_loss: 0.8923 - val_acc: 0.3705\n",
      "Epoch 43/100\n",
      "5299/5299 [==============================] - 0s 90us/step - loss: 0.5618 - acc: 0.7213 - val_loss: 0.9260 - val_acc: 0.3643\n",
      "Epoch 44/100\n",
      "5299/5299 [==============================] - 0s 83us/step - loss: 0.5635 - acc: 0.7209 - val_loss: 0.9207 - val_acc: 0.3530\n",
      "Epoch 45/100\n",
      "5299/5299 [==============================] - 1s 96us/step - loss: 0.5615 - acc: 0.7205 - val_loss: 0.9395 - val_acc: 0.3682\n",
      "Epoch 46/100\n",
      "5299/5299 [==============================] - 1s 106us/step - loss: 0.5635 - acc: 0.7158 - val_loss: 0.8991 - val_acc: 0.3688\n",
      "Epoch 47/100\n",
      "5299/5299 [==============================] - 1s 103us/step - loss: 0.5597 - acc: 0.7215 - val_loss: 0.9346 - val_acc: 0.3388\n",
      "Epoch 48/100\n",
      "5299/5299 [==============================] - 0s 89us/step - loss: 0.5621 - acc: 0.7190 - val_loss: 0.8952 - val_acc: 0.3790\n",
      "Epoch 49/100\n",
      "5299/5299 [==============================] - 0s 85us/step - loss: 0.5596 - acc: 0.7232 - val_loss: 0.9188 - val_acc: 0.3464\n",
      "Epoch 50/100\n",
      "5299/5299 [==============================] - 0s 86us/step - loss: 0.5593 - acc: 0.7226 - val_loss: 0.8900 - val_acc: 0.3643\n",
      "Epoch 51/100\n",
      "5299/5299 [==============================] - 0s 81us/step - loss: 0.5604 - acc: 0.7198 - val_loss: 0.8978 - val_acc: 0.3515\n",
      "Epoch 52/100\n",
      "5299/5299 [==============================] - 0s 88us/step - loss: 0.5585 - acc: 0.7245 - val_loss: 0.8662 - val_acc: 0.3781\n",
      "Epoch 53/100\n",
      "5299/5299 [==============================] - 0s 91us/step - loss: 0.5616 - acc: 0.7228 - val_loss: 0.8885 - val_acc: 0.3815\n",
      "Epoch 54/100\n",
      "5299/5299 [==============================] - 0s 91us/step - loss: 0.5628 - acc: 0.7209 - val_loss: 0.8941 - val_acc: 0.3671\n",
      "Epoch 55/100\n",
      "5299/5299 [==============================] - 0s 93us/step - loss: 0.5623 - acc: 0.7201 - val_loss: 0.8938 - val_acc: 0.3535\n",
      "Epoch 56/100\n",
      "5299/5299 [==============================] - 0s 85us/step - loss: 0.5617 - acc: 0.7201 - val_loss: 0.9341 - val_acc: 0.3467\n",
      "Epoch 57/100\n",
      "5299/5299 [==============================] - 1s 101us/step - loss: 0.5584 - acc: 0.7232 - val_loss: 0.9563 - val_acc: 0.3442\n",
      "Epoch 58/100\n",
      "5299/5299 [==============================] - 1s 97us/step - loss: 0.5606 - acc: 0.7207 - val_loss: 0.8673 - val_acc: 0.3951\n",
      "Epoch 59/100\n",
      "5299/5299 [==============================] - 0s 87us/step - loss: 0.5611 - acc: 0.7179 - val_loss: 0.9140 - val_acc: 0.3603\n",
      "Epoch 60/100\n",
      "5299/5299 [==============================] - 0s 87us/step - loss: 0.5603 - acc: 0.7247 - val_loss: 0.9525 - val_acc: 0.3323\n",
      "Epoch 61/100\n",
      "5299/5299 [==============================] - 0s 94us/step - loss: 0.5607 - acc: 0.7177 - val_loss: 0.9266 - val_acc: 0.3365\n",
      "Epoch 62/100\n",
      "5299/5299 [==============================] - 1s 103us/step - loss: 0.5613 - acc: 0.7224 - val_loss: 0.9252 - val_acc: 0.3470\n",
      "Epoch 63/100\n",
      "5299/5299 [==============================] - 0s 86us/step - loss: 0.5586 - acc: 0.7205 - val_loss: 0.9218 - val_acc: 0.3614\n",
      "Epoch 64/100\n",
      "5299/5299 [==============================] - 0s 89us/step - loss: 0.5625 - acc: 0.7182 - val_loss: 0.8847 - val_acc: 0.3677\n",
      "Epoch 65/100\n",
      "5299/5299 [==============================] - 0s 93us/step - loss: 0.5630 - acc: 0.7173 - val_loss: 0.9242 - val_acc: 0.3617\n",
      "Epoch 66/100\n",
      "5299/5299 [==============================] - 0s 81us/step - loss: 0.5610 - acc: 0.7215 - val_loss: 0.9276 - val_acc: 0.3453\n",
      "Epoch 67/100\n",
      "5299/5299 [==============================] - 0s 91us/step - loss: 0.5617 - acc: 0.7177 - val_loss: 0.8966 - val_acc: 0.3634\n",
      "Epoch 68/100\n",
      "5299/5299 [==============================] - 1s 107us/step - loss: 0.5614 - acc: 0.7182 - val_loss: 0.9514 - val_acc: 0.3380\n",
      "Epoch 69/100\n",
      "5299/5299 [==============================] - 1s 99us/step - loss: 0.5599 - acc: 0.7199 - val_loss: 0.8717 - val_acc: 0.3787\n",
      "Epoch 70/100\n",
      "5299/5299 [==============================] - 0s 90us/step - loss: 0.5595 - acc: 0.7192 - val_loss: 0.9136 - val_acc: 0.3665\n",
      "Epoch 71/100\n",
      "5299/5299 [==============================] - 0s 84us/step - loss: 0.5606 - acc: 0.7233 - val_loss: 0.8917 - val_acc: 0.3527\n",
      "Epoch 72/100\n",
      "5299/5299 [==============================] - 0s 94us/step - loss: 0.5607 - acc: 0.7233 - val_loss: 0.8748 - val_acc: 0.3824\n",
      "Epoch 73/100\n",
      "5299/5299 [==============================] - 1s 101us/step - loss: 0.5627 - acc: 0.7179 - val_loss: 0.8850 - val_acc: 0.3714\n",
      "Epoch 74/100\n",
      "5299/5299 [==============================] - 0s 91us/step - loss: 0.5625 - acc: 0.7192 - val_loss: 0.8880 - val_acc: 0.3600\n",
      "Epoch 75/100\n",
      "5299/5299 [==============================] - 0s 82us/step - loss: 0.5619 - acc: 0.7201 - val_loss: 0.9274 - val_acc: 0.3374\n",
      "Epoch 76/100\n",
      "5299/5299 [==============================] - 0s 86us/step - loss: 0.5589 - acc: 0.7235 - val_loss: 0.9400 - val_acc: 0.3447\n",
      "Epoch 77/100\n",
      "5299/5299 [==============================] - 1s 107us/step - loss: 0.5619 - acc: 0.7192 - val_loss: 0.8985 - val_acc: 0.3603\n",
      "Epoch 78/100\n",
      "5299/5299 [==============================] - 0s 85us/step - loss: 0.5601 - acc: 0.7254 - val_loss: 0.8747 - val_acc: 0.3818\n",
      "Epoch 79/100\n",
      "5299/5299 [==============================] - 1s 108us/step - loss: 0.5596 - acc: 0.7216 - val_loss: 0.8931 - val_acc: 0.3719\n",
      "Epoch 80/100\n",
      "5299/5299 [==============================] - 1s 106us/step - loss: 0.5595 - acc: 0.7213 - val_loss: 0.9538 - val_acc: 0.3272\n",
      "Epoch 81/100\n",
      "5299/5299 [==============================] - 1s 106us/step - loss: 0.5592 - acc: 0.7207 - val_loss: 0.9302 - val_acc: 0.3598\n",
      "Epoch 82/100\n",
      "5299/5299 [==============================] - 1s 100us/step - loss: 0.5608 - acc: 0.7211 - val_loss: 0.8836 - val_acc: 0.3699\n",
      "Epoch 83/100\n",
      "5299/5299 [==============================] - 1s 97us/step - loss: 0.5584 - acc: 0.7222 - val_loss: 0.9141 - val_acc: 0.3796\n",
      "Epoch 84/100\n",
      "5299/5299 [==============================] - 1s 101us/step - loss: 0.5603 - acc: 0.7215 - val_loss: 0.8757 - val_acc: 0.3926\n",
      "Epoch 85/100\n",
      "5299/5299 [==============================] - 1s 98us/step - loss: 0.5618 - acc: 0.7201 - val_loss: 0.8760 - val_acc: 0.3665\n",
      "Epoch 86/100\n",
      "5299/5299 [==============================] - 1s 106us/step - loss: 0.5607 - acc: 0.7196 - val_loss: 0.9273 - val_acc: 0.3547\n",
      "Epoch 87/100\n",
      "5299/5299 [==============================] - 1s 97us/step - loss: 0.5600 - acc: 0.7220 - val_loss: 0.9286 - val_acc: 0.3581\n",
      "Epoch 88/100\n",
      "5299/5299 [==============================] - 1s 96us/step - loss: 0.5611 - acc: 0.7198 - val_loss: 0.9194 - val_acc: 0.3507\n",
      "Epoch 89/100\n",
      "5299/5299 [==============================] - 1s 105us/step - loss: 0.5613 - acc: 0.7194 - val_loss: 0.9321 - val_acc: 0.3479\n",
      "Epoch 90/100\n",
      "5299/5299 [==============================] - 0s 87us/step - loss: 0.5613 - acc: 0.7222 - val_loss: 0.9238 - val_acc: 0.3606\n",
      "Epoch 91/100\n",
      "5299/5299 [==============================] - 1s 102us/step - loss: 0.5596 - acc: 0.7222 - val_loss: 0.9628 - val_acc: 0.3278\n",
      "Epoch 92/100\n",
      "5299/5299 [==============================] - 1s 105us/step - loss: 0.5611 - acc: 0.7233 - val_loss: 0.8924 - val_acc: 0.3665\n",
      "Epoch 93/100\n",
      "5299/5299 [==============================] - 1s 97us/step - loss: 0.5623 - acc: 0.7198 - val_loss: 0.8661 - val_acc: 0.3895\n",
      "Epoch 94/100\n",
      "5299/5299 [==============================] - 1s 113us/step - loss: 0.5593 - acc: 0.7230 - val_loss: 0.9250 - val_acc: 0.3422\n",
      "Epoch 95/100\n",
      "5299/5299 [==============================] - 1s 109us/step - loss: 0.5615 - acc: 0.7160 - val_loss: 0.9052 - val_acc: 0.3620\n",
      "Epoch 96/100\n",
      "5299/5299 [==============================] - 0s 94us/step - loss: 0.5576 - acc: 0.7237 - val_loss: 0.9278 - val_acc: 0.3521\n",
      "Epoch 97/100\n",
      "5299/5299 [==============================] - 0s 84us/step - loss: 0.5615 - acc: 0.7209 - val_loss: 0.9258 - val_acc: 0.3564\n",
      "Epoch 98/100\n",
      "5299/5299 [==============================] - 0s 81us/step - loss: 0.5597 - acc: 0.7199 - val_loss: 0.8610 - val_acc: 0.3971\n",
      "Epoch 99/100\n",
      "5299/5299 [==============================] - 0s 94us/step - loss: 0.5619 - acc: 0.7160 - val_loss: 0.9226 - val_acc: 0.3586\n",
      "Epoch 100/100\n",
      "5299/5299 [==============================] - 1s 101us/step - loss: 0.5630 - acc: 0.7188 - val_loss: 0.9001 - val_acc: 0.3614\n"
     ]
    },
    {
     "data": {
      "text/plain": [
       "<keras.callbacks.History at 0x7f0e88d8c198>"
      ]
     },
     "execution_count": 152,
     "metadata": {},
     "output_type": "execute_result"
    }
   ],
   "source": [
    "# create model\n",
    "model_mlp = KerasClassifier(build_fn = create_model, epochs = epochs_input, batch_size = batch_size_input, validation_split=0.4)\n",
    "# Fit the model\n",
    "model_mlp.fit(X_train_res2, y_train_res2)"
   ]
  },
  {
   "cell_type": "code",
   "execution_count": 153,
   "metadata": {},
   "outputs": [
    {
     "name": "stdout",
     "output_type": "stream",
     "text": [
      "accuracy :0.722448003825006\n",
      "cohen_kappa :0.1803793489463833\n",
      "matrix :\n",
      "[[2755  212]\n",
      " [ 949  267]]\n"
     ]
    }
   ],
   "source": [
    "# Check accuracy on test set\n",
    "\n",
    "tf_accuracy = evaluate(model_mlp,X_val2,y_val2)"
   ]
  },
  {
   "cell_type": "code",
   "execution_count": null,
   "metadata": {},
   "outputs": [],
   "source": [
    "# import pickle\n",
    "import pickle\n",
    "################XGBoost model save\n",
    "# save XGB_smote model to disk\n",
    "respected_mytime1 = 'respected_mytime1.sav'\n",
    "pickle.dump(xgbclass1, open(respected_mytime1, 'wb'))\n",
    "\n",
    "################XGBoost model save\n",
    "# save XGB_smote model to disk\n",
    "respected_mytime2 = 'respected_mytime2.sav'\n",
    "pickle.dump(xgbclass2, open(respected_mytime2, 'wb'))\n",
    "\n",
    "################XGBoost model save\n",
    "# save XGB_smote model to disk\n",
    "respected_mytime2 = 'respected_mytime3.sav'\n",
    "pickle.dump(xgbclass2, open(respected_mytime2, 'wb'))"
   ]
  },
  {
   "cell_type": "code",
   "execution_count": null,
   "metadata": {},
   "outputs": [],
   "source": [
    "# import pickle\n",
    "import pickle\n",
    "################XGBoost model save\n",
    "# save XGB_smote model to disk\n",
    "xgbclass1 = pickle.load(open('respected_mytime1.sav', 'rb'))\n",
    "print(\"xgb1 loaded: \")# + str(result))\n",
    "\n",
    "################XGBoost model save\n",
    "# save XGB_smote model to disk\n",
    "xgbclass2 = pickle.load(open('respected_mytime2.sav', 'rb'))\n",
    "print(\"xgb2 loaded: \")# + str(result))\n",
    "\n",
    "################XGBoost model save\n",
    "# save XGB_smote model to disk\n",
    "xgbclass3 = pickle.load(open('respected_mytime3.sav', 'rb'))\n",
    "print(\"xgb3 loaded: \")# + str(result))"
   ]
  },
  {
   "cell_type": "code",
   "execution_count": null,
   "metadata": {},
   "outputs": [],
   "source": [
    "#xgb.best_estimator_"
   ]
  },
  {
   "cell_type": "code",
   "execution_count": null,
   "metadata": {},
   "outputs": [],
   "source": [
    "#pred = xgbclass.predict(final)"
   ]
  },
  {
   "cell_type": "code",
   "execution_count": null,
   "metadata": {},
   "outputs": [],
   "source": [
    "#pred = pd.DataFrame(pred,index=checkdata1['Respondent_Id'])\n",
    "#final_result=pd.concat([X,pred],axis=1)"
   ]
  },
  {
   "cell_type": "code",
   "execution_count": null,
   "metadata": {},
   "outputs": [],
   "source": [
    "def uncondition(rating):\n",
    "    if rating == 0:\n",
    "        return 'Excellent'\n",
    "    elif rating == 1:\n",
    "        return 'Very good'\n",
    "    elif rating == 2:\n",
    "        return 'Good' \n",
    "    elif rating == 3:\n",
    "        return 'Fair'\n",
    "    elif rating == 4:\n",
    "        return 'Poor'\n",
    "    else:\n",
    "        return \"missing\""
   ]
  },
  {
   "cell_type": "code",
   "execution_count": null,
   "metadata": {},
   "outputs": [],
   "source": [
    "#final_result.columns = ['Agent_Department_Code_MU','Support_level_4_VP','Support_level_3_Director','Support_level_2_Ops_Mgr',\n",
    "#                        'Support_level_1_Team_Mgr','Survey_Medium','word_count','char_count','numerics','upper','avg_word',\n",
    "#                        'stopwords','punc%','is_Excellent','is_Vgood','is_good','is_fair','is_poor','any_wait','prediction']"
   ]
  },
  {
   "cell_type": "code",
   "execution_count": null,
   "metadata": {},
   "outputs": [],
   "source": [
    "#final_result['prediction_verbose'] = final_result['prediction'].apply(lambda x: uncondition(x))"
   ]
  },
  {
   "cell_type": "code",
   "execution_count": null,
   "metadata": {},
   "outputs": [],
   "source": [
    "#final_result.to_csv(\"Had_knowledgeonehot.csv\")"
   ]
  },
  {
   "cell_type": "code",
   "execution_count": null,
   "metadata": {},
   "outputs": [],
   "source": [
    "#Scoring 1\n",
    "#'''\n",
    "pred1 = xgbclass1.predict_proba(X1)\n",
    "pred1 = pd.DataFrame(pred1,index=checkdatax['Respondent_Id'])\n",
    "pred1.columns = ['prediction0','prediction1']\n",
    "##final_result=pd.concat([X,pred],axis=1)\\\n",
    "#pred['prediction_verbose'] = pred['prediction'].apply(lambda x: uncondition(x))\n",
    "#pred1['prediction1'].to_csv(\"respectedmytime_noexcellent1.csv\")\n",
    "#'''"
   ]
  },
  {
   "cell_type": "code",
   "execution_count": null,
   "metadata": {},
   "outputs": [],
   "source": [
    "#Scoring 2\n",
    "#'''\n",
    "pred2 = xgbclass2.predict_proba(X2)\n",
    "pred2 = pd.DataFrame(pred2,index=checkdatax['Respondent_Id'])\n",
    "pred2.columns = ['prediction0','prediction1']\n",
    "##final_result=pd.concat([X,pred],axis=1)\\\n",
    "#pred['prediction_verbose'] = pred['prediction'].apply(lambda x: uncondition(x))\n",
    "#pred2['prediction1'].to_csv(\"respectedmytime_noexcellent2.csv\")\n",
    "#'''"
   ]
  },
  {
   "cell_type": "code",
   "execution_count": null,
   "metadata": {},
   "outputs": [],
   "source": [
    "#Scoring 3\n",
    "#'''\n",
    "pred3 = xgbclass3.predict_proba(X2)\n",
    "pred3 = pd.DataFrame(pred3,index=checkdatax['Respondent_Id'])\n",
    "pred3.columns = ['prediction0','prediction1']\n",
    "##final_result=pd.concat([X,pred],axis=1)\\\n",
    "#pred['prediction_verbose'] = pred['prediction'].apply(lambda x: uncondition(x))\n",
    "#pred3['prediction1'].to_csv(\"respectedmytime_noexcellent3.csv\")\n",
    "#'''"
   ]
  },
  {
   "cell_type": "code",
   "execution_count": null,
   "metadata": {},
   "outputs": [],
   "source": []
  }
 ],
 "metadata": {
  "kernelspec": {
   "display_name": "Python 3",
   "language": "python",
   "name": "python3"
  },
  "language_info": {
   "codemirror_mode": {
    "name": "ipython",
    "version": 3
   },
   "file_extension": ".py",
   "mimetype": "text/x-python",
   "name": "python",
   "nbconvert_exporter": "python",
   "pygments_lexer": "ipython3",
   "version": "3.6.4"
  }
 },
 "nbformat": 4,
 "nbformat_minor": 2
}
